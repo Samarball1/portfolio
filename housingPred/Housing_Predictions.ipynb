{
 "cells": [
  {
   "cell_type": "markdown",
   "metadata": {},
   "source": [
    "# Author: Samar Singh "
   ]
  },
  {
   "cell_type": "markdown",
   "metadata": {
    "nbgrader": {
     "grade": false,
     "grade_id": "cell-e0f9b2de18190d9d",
     "locked": true,
     "schema_version": 1,
     "solution": false
    }
   },
   "source": [
    "# Predicting Housing Prices in Cook County\n"
   ]
  },
  {
   "cell_type": "markdown",
   "metadata": {},
   "source": [
    "## Introduction/Overview\n",
    "\n",
    "After completing Exploratory Data Analysis (EDA), we will specify and fit a linear model to a few features of the housing data to predict house prices. Next, we will analyze the error of the model and brainstorm ways to improve the model's performance. Finally, we'll delve deeper into the implications of predictive modeling within the Cook County Assessor's Office (CCAO) case study, especially because statistical modeling is how the CCAO valuates properties. Given the history of racial discrimination in housing policy and property taxation in Cook County, consider the impacts of the modeling results as you work through this project, and think about what fairness might mean to property owners in Cook County.\n"
   ]
  },
  {
   "cell_type": "code",
   "execution_count": 12,
   "metadata": {
    "nbgrader": {
     "grade": false,
     "grade_id": "cell-62cfd21463535cac",
     "locked": true,
     "schema_version": 1,
     "solution": false
    }
   },
   "outputs": [],
   "source": [
    "import numpy as np\n",
    "\n",
    "import pandas as pd\n",
    "from pandas.api.types import CategoricalDtype\n",
    "\n",
    "%matplotlib inline\n",
    "import matplotlib.pyplot as plt\n",
    "import seaborn as sns\n",
    "from sklearn import linear_model as lm\n",
    "\n",
    "import warnings\n",
    "warnings.filterwarnings(\"ignore\")\n",
    "\n",
    "import zipfile\n",
    "import os\n",
    "\n",
    "from ds100_utils import *\n",
    "from feature_func import *\n",
    "\n",
    "# Plot settings\n",
    "plt.rcParams['figure.figsize'] = (12, 9)\n",
    "plt.rcParams['font.size'] = 12"
   ]
  },
  {
   "cell_type": "markdown",
   "metadata": {},
   "source": [
    "Let's load the training, validation, and test data."
   ]
  },
  {
   "cell_type": "code",
   "execution_count": 13,
   "metadata": {},
   "outputs": [],
   "source": [
    "with zipfile.ZipFile('cook_county_data.zip') as item:\n",
    "    item.extractall()"
   ]
  },
  {
   "cell_type": "markdown",
   "metadata": {},
   "source": [
    "This dataset is split into a training set, a validation set, and a test set. Importantly, the test set does not contain values for our target variable, `Sale Price`. In this project,will train a model on the training and validation sets and then use this model to predict the `Sale Price`s of the test set. In the cell below, we load the training and validation sets into the `DataFrame` `training_val_data` and the test set into the `DataFrame` `test_data`."
   ]
  },
  {
   "cell_type": "code",
   "execution_count": 14,
   "metadata": {
    "nbgrader": {
     "grade": false,
     "grade_id": "cell-e8fea30adc9d489b",
     "locked": true,
     "schema_version": 1,
     "solution": false
    }
   },
   "outputs": [],
   "source": [
    "training_val_data = pd.read_csv(\"cook_county_train_val.csv\", index_col='Unnamed: 0')\n",
    "test_data = pd.read_csv(\"cook_county_contest_test.csv\", index_col='Unnamed: 0')"
   ]
  },
  {
   "cell_type": "markdown",
   "metadata": {
    "nbgrader": {
     "grade": false,
     "grade_id": "cell-9d6d509b6e854e10",
     "locked": true,
     "schema_version": 1,
     "solution": false
    }
   },
   "source": [
    "As a good sanity check, we should at least verify that the shape of the data matches the description."
   ]
  },
  {
   "cell_type": "code",
   "execution_count": 15,
   "metadata": {
    "nbgrader": {
     "grade": false,
     "grade_id": "cell-c841a2de55691502",
     "locked": true,
     "schema_version": 1,
     "solution": false
    }
   },
   "outputs": [],
   "source": [
    "# 204792 observations and 62 features in training data\n",
    "assert training_val_data.shape == (204792, 62)\n",
    "# 55311 observations and 61 features in test data\n",
    "assert test_data.shape == (55311, 61)\n",
    "# Sale Price is provided in the training/validation data\n",
    "assert 'Sale Price' in training_val_data.columns.values\n",
    "# Sale Price is hidden in the test data\n",
    "assert 'Sale Price' not in test_data.columns.values"
   ]
  },
  {
   "cell_type": "markdown",
   "metadata": {
    "nbgrader": {
     "grade": false,
     "grade_id": "cell-ce9acc2f62c96e59",
     "locked": true,
     "schema_version": 1,
     "solution": false
    }
   },
   "source": [
    "Let's remind ourselves of the data available to us in the Cook County dataset. "
   ]
  },
  {
   "cell_type": "code",
   "execution_count": 16,
   "metadata": {
    "nbgrader": {
     "grade": false,
     "grade_id": "cell-4e60a7a0cda5eecf",
     "locked": true,
     "schema_version": 1,
     "solution": false
    }
   },
   "outputs": [
    {
     "data": {
      "text/plain": [
       "array(['PIN', 'Property Class', 'Neighborhood Code', 'Land Square Feet',\n",
       "       'Town Code', 'Apartments', 'Wall Material', 'Roof Material',\n",
       "       'Basement', 'Basement Finish', 'Central Heating', 'Other Heating',\n",
       "       'Central Air', 'Fireplaces', 'Attic Type', 'Attic Finish',\n",
       "       'Design Plan', 'Cathedral Ceiling', 'Construction Quality',\n",
       "       'Site Desirability', 'Garage 1 Size', 'Garage 1 Material',\n",
       "       'Garage 1 Attachment', 'Garage 1 Area', 'Garage 2 Size',\n",
       "       'Garage 2 Material', 'Garage 2 Attachment', 'Garage 2 Area',\n",
       "       'Porch', 'Other Improvements', 'Building Square Feet',\n",
       "       'Repair Condition', 'Multi Code', 'Number of Commercial Units',\n",
       "       'Estimate (Land)', 'Estimate (Building)', 'Deed No.', 'Sale Price',\n",
       "       'Longitude', 'Latitude', 'Census Tract',\n",
       "       'Multi Property Indicator', 'Modeling Group', 'Age', 'Use',\n",
       "       \"O'Hare Noise\", 'Floodplain', 'Road Proximity', 'Sale Year',\n",
       "       'Sale Quarter', 'Sale Half-Year', 'Sale Quarter of Year',\n",
       "       'Sale Month of Year', 'Sale Half of Year', 'Most Recent Sale',\n",
       "       'Age Decade', 'Pure Market Filter', 'Garage Indicator',\n",
       "       'Neigborhood Code (mapping)', 'Town and Neighborhood',\n",
       "       'Description', 'Lot Size'], dtype=object)"
      ]
     },
     "execution_count": 16,
     "metadata": {},
     "output_type": "execute_result"
    }
   ],
   "source": [
    "training_val_data.columns.values"
   ]
  },
  {
   "cell_type": "markdown",
   "metadata": {
    "deletable": false
   },
   "source": [
    "# Human Context and Ethics, How much is a house worth?\n",
    "\n",
    "listing  least three different parties (people or organizations) and state whether each one has an interest in seeing the housing price be low or high.**"
   ]
  },
  {
   "cell_type": "markdown",
   "metadata": {},
   "source": [
    "1.) Homebuyer - interested in seeking lower housing prices 2.) Homeseller - seeking higher housing prices 3.) Tax Collecting Gov Institutions - seeking higher housing prices to stimulate and collect higher inflow of taxes."
   ]
  },
  {
   "cell_type": "markdown",
   "metadata": {},
   "source": [
    "Things that strikes me as unfair in the context of CCAO where we understand that different segregated neighborhoods faced inaccurate home valuations. To expand further, lower income households (i.e neighborhoods with lower home value) were being faced with overvaluations of their properties which increased their effective tax rate, while wealthier neighborhoods with higher prices were under-valued. Proportionally speaking, their was a major unequal disconnect present between the effective tax rates from the two social classes/neighborhoods. Describes the CCAO housing crisis scenario perfectly as there was transpiring an unfair overvaluation and undervaluation of homes not only based on the features of the property itself, but additionally concerning Cook County socioeconomic divisions that ultimately steered each homeowner's, rich or poor effective tax rate discriminately. C can be considered less fair relative to the other options due to the effective tax rate reasoning and the targeted valuations.\r\n"
   ]
  },
  {
   "cell_type": "markdown",
   "metadata": {},
   "source": [
    "## The CCAO Dataset\n",
    "\n",
    "We will work with the dataset from the Cook County Assessor's Office (CCAO) in Illinois. This government institution determines property taxes across most of Chicago's metropolitan areas and nearby suburbs. In the United States, all property owners must pay property taxes, which are then used to fund public services, including education, road maintenance, and sanitation. These property tax assessments are based on property values estimated using statistical models considering multiple factors, such as real estate value and construction cost.\n",
    "\n",
    "However, this system is not without flaws. In late 2017, a lawsuit was filed against the office of Cook County Assessor Joseph Berrios for producing \"[racially discriminatory assessments and taxes](https://www.chicagotribune.com/politics/ct-cook-county-board-assessor-berrios-met-20170718-story.html).\" The lawsuit included claims that the assessor's office undervalued high-priced homes and overvalued low-priced homes, creating a visible divide along racial lines. Wealthy homeowners, who were typically white, [paid less in property taxes](https://fix8media-chicago.squarespace.com/bpnc-v-berrios-resource-page), whereas [working-class, non-white homeowners paid more](https://www.chicagotribune.com/news/breaking/ct-cook-county-assessor-berrios-sued-met-20171214-story.html).\n",
    "\n",
    "The Chicago Tribune's four-part series, \"[The Tax Divide](https://www.chicagotribune.com/investigations/ct-tax-divide-investigation-20180425-storygallery.html),\" delves into how this was uncovered. After \"compiling and analyzing more than 100 million property tax records from the years 2003 through 2015, along with thousands of pages of documents, then vetting the findings with top experts in the field,\" they discovered that \"residential assessments had been so far off the mark for so many years.\" "
   ]
  },
  {
   "cell_type": "markdown",
   "metadata": {
    "deletable": false
   },
   "source": [
    "### Central problems with the earlier property tax system in Cook County as reported by the Chicago Tribune? What were the primary causes of these problems? "
   ]
  },
  {
   "cell_type": "markdown",
   "metadata": {},
   "source": [
    "The central problem of the tax system implemented in Cook Country was the disproportionate effective tax rates across a racial divide of properties in Cook County. Digging deeper, the Assessor's Office possessed the authority to assess a property's value based on their statistical model and selected features/factors which skewed property valuations in favor of white, wealthier neighborhoods where higher priced homes were undervalued, while the converse effect occurred with lower priced homes - sparking a deep divide and inequality of effective tax rates paid. The tribune article touched on several key reasons that may have caused this divide such as the outdated mainframe computers used to compute the regressive models, lack of transparency caused by infrequent examinations, failure to accurately model after the 2008 housing crisis, and an overall ignorance to the tools used in the CCAO. The article exposed the high COD( Coefficient of Dispersion) of 31 that was primarily observed in townships (standard \"fair\" COD is considered to be 15). "
   ]
  },
  {
   "cell_type": "markdown",
   "metadata": {
    "deletable": false
   },
   "source": [
    "### Regressive, how did the property tax system in Cook County place a disproportionate tax burden on non-white property owners?"
   ]
  },
  {
   "cell_type": "markdown",
   "metadata": {},
   "source": [
    "CCAO overvaluing properties that were priced low, while undervaluing higher priced homes (regressivity) led to  granting the majority white property owners wealthy unsanctioned tax breaks, and inequality in tax bills that tortured low-income residents. Another culprit outside of regressivity is the lack of transparency in the CCAO and the notion of taxation without further explanation. Furthermore, lack of modern computing infastructure and poor statistical methods cause also play a role in disproportionate tax burdens on non-white property owners as those residing in low-priced neighborhoods are facing higher propotional effective tax rates to those in wealthier neighborhoods."
   ]
  },
  {
   "cell_type": "markdown",
   "metadata": {
    "deletable": false
   },
   "source": [
    "## Preparing Data\n",
    "\n",
    "\n",
    "Split the dataset into a training set and a validation set. We will use the training set to fit our model's parameters and the validation set to evaluate how well our model will perform on unseen data drawn from the same distribution. If we used all the data to fit our model, we would not have a way to estimate model performance on **unseen data** such as the test set in `cook_county_contest_test.csv`.\n",
    "\n",
    "In the cell below, complete the function `train_val_split` that splits `data` into two smaller `DataFrame`s named `train` and `validation`. Let `train` contain 80% of the data, and let `validation` contain the remaining 20%."
   ]
  },
  {
   "cell_type": "code",
   "execution_count": null,
   "metadata": {
    "tags": []
   },
   "outputs": [],
   "source": [
    "# This makes the train-validation split in this section reproducible across different runs \n",
    "# of the notebook. \n",
    "\n",
    "np.random.seed(1337)\n",
    "\n",
    "def train_val_split(data):\n",
    "    \"\"\" \n",
    "    Takes in a DataFrame `data` and randomly splits it into two smaller DataFrames \n",
    "    named `train` and `validation` with 80% and 20% of the data, respectively. \n",
    "    \"\"\"\n",
    "    \n",
    "    data_len = data.shape[0]\n",
    "    shuffled_indices = np.random.permutation(data_len)\n",
    "    train_indices, val_indices = shuffled_indices[0:int(data_len*.80)], shuffled_indices[int(\n",
    "        data_len*.80):data_len]\n",
    "    train = data.loc[train_indices,:]\n",
    "    validation = data.loc[val_indices, :]\n",
    "   \n",
    "    return train, validation\n",
    "train, validation = train_val_split(training_val_data)\n",
    "validation.shape"
   ]
  },
  {
   "cell_type": "markdown",
   "metadata": {},
   "source": [
    "\n",
    "\n",
    "## Fitting a Simple Model\n",
    "\n",
    "Let's fit our linear regression model using the ordinary least squares estimator! We will start with something simple by using only two features: the **number of bedrooms** in the household and the **log-transformed total area covered by the building** (in square feet). \n",
    "\n",
    "Consider the following expression for our first linear model that contains one of the features:\n",
    "\n",
    "$$\n",
    "\\text{Log Sale Price} = \\theta_0 + \\theta_1 \\cdot (\\text{Bedrooms})\n",
    "$$\n",
    "\n",
    "In parallel, we will also consider a second model that contains both features:\n",
    "\n",
    "$$\n",
    "\\text{Log Sale Price} = \\theta_0 + \\theta_1 \\cdot (\\text{Bedrooms}) + \\theta_2 \\cdot (\\text{Log Building Square Feet})\n",
    "$$"
   ]
  },
  {
   "cell_type": "markdown",
   "metadata": {},
   "source": [
    "<br>\n",
    "\n",
    "### Pipeline Function\n"
   ]
  },
  {
   "cell_type": "code",
   "execution_count": null,
   "metadata": {},
   "outputs": [],
   "source": [
    "from feature_func import *  \n",
    "\n",
    "\n",
    "\n",
    "def feature_engine_simple(data):\n",
    "    # Remove outliers\n",
    "    data = remove_outliers(data, 'Sale Price', lower=499)\n",
    "    # Create Log Sale Price column\n",
    "    data = log_transform(data, 'Sale Price')\n",
    "    # Create Bedroom column\n",
    "    data = add_total_bedrooms(data)\n",
    "    # Select X and Y from the full data\n",
    "    X = data[['Bedrooms']]\n",
    "    Y = data['Log Sale Price']\n",
    "    return X, Y\n",
    "\n",
    "# Reload the data\n",
    "full_data = pd.read_csv(\"cook_county_train.csv\")\n",
    "\n",
    "# Process the data using the pipeline for the first model.\n",
    "np.random.seed(1337)\n",
    "train_m1, valid_m1 = train_val_split(full_data)\n",
    "X_train_m1_simple, Y_train_m1_simple = feature_engine_simple(train_m1)\n",
    "X_valid_m1_simple, Y_valid_m1_simple = feature_engine_simple(valid_m1)\n",
    "\n",
    "# Take a look at the result\n",
    "display(X_train_m1_simple.head())\n",
    "display(Y_train_m1_simple.head())"
   ]
  },
  {
   "cell_type": "markdown",
   "metadata": {},
   "source": [
    "### `.pipe`\n",
    "\n",
    "Alternatively, we can build the pipeline using `pd.DataFrame.pipe` \n",
    "\n",
    "We can use this function with each of the tuples passed in through `pipeline_functions`."
   ]
  },
  {
   "cell_type": "code",
   "execution_count": null,
   "metadata": {},
   "outputs": [],
   "source": [
    "# Run this cell to define feature_engine_pipe; no further action is needed.\n",
    "def feature_engine_pipe(data, pipeline_functions, prediction_col):\n",
    "    \"\"\"Process the data for a guided model.\"\"\"\n",
    "    for function, arguments, keyword_arguments in pipeline_functions:\n",
    "        if keyword_arguments and (not arguments):\n",
    "            data = data.pipe(function, **keyword_arguments)\n",
    "        elif (not keyword_arguments) and (arguments):\n",
    "            data = data.pipe(function, *arguments)\n",
    "        else:\n",
    "            data = data.pipe(function)\n",
    "    X = data.drop(columns=[prediction_col])\n",
    "    Y = data.loc[:, prediction_col]\n",
    "    return X, Y"
   ]
  },
  {
   "cell_type": "markdown",
   "metadata": {},
   "source": [
    "\n",
    "## Validation/Training Data\n",
    "\n",
    "It is time to prepare the training and validation data for the two models we proposed above. Use the following two cells to reload a fresh dataset from scratch and run them through the following preprocessing steps using `feature_engine_pipe` for each model:\n",
    "\n",
    "- Perform a `train_val_split` on the original dataset, loaded as the `DataFrame` `full_data`. Let 80% of the set be training data, and 20% of the set be validation data. \n",
    "- For both the training and validation set,\n",
    "    1. Remove outliers in `Sale Price` so that we consider households with a price that is greater than 499 dollars (or equivalently, a price that is 500 dollars or greater). \n",
    "    2. Apply log transformations to the `Sale Price` and the `Building Square Feet` columns to create two new columns, `Log Sale Price` and `Log Building Square Feet`.\n",
    "    3. Extract the total number of bedrooms into a new column `Bedrooms` from the `Description` column.\n",
    "    4. Select the columns `Log Sale Price` and `Bedrooms` (and `Log Building Square Feet` if this is the second model). We have implemented the helper function `select_columns`.\n",
    "    5. Return the design matrix $\\mathbb{X}$ and the observed vector $\\mathbb{Y}$. Note that $\\mathbb{Y}$ refers to the transformed `Log Sale Price`, not the original `Sale Price`. \n",
    "$$\n",
    "\\text{Log Sale Price} = \\theta_0 + \\theta_1 \\cdot (\\text{Bedrooms})\n",
    "$$\n",
    "\n",
    "\n",
    "$$\n",
    "\\text{Log Sale Price} = \\theta_0 + \\theta_1 \\cdot (\\text{Bedrooms}) + \\theta_2 \\cdot (\\text{Log Building Square Feet})\n",
    "$$"
   ]
  },
  {
   "cell_type": "code",
   "execution_count": null,
   "metadata": {},
   "outputs": [],
   "source": [
    "# Reload the data\n",
    "full_data = pd.read_csv(\"cook_county_train.csv\")\n",
    "\n",
    "# Apply feature engineering to the data using the pipeline for the first model\n",
    "np.random.seed(1337)\n",
    "train_m1, valid_m1 = train_val_split(full_data)\n",
    "\n",
    "# Helper function\n",
    "def select_columns(data, *columns):\n",
    "    \"\"\"Select only columns passed as arguments.\"\"\"\n",
    "    return data.loc[:, columns]\n",
    "\n",
    "# Pipelines, a list of tuples\n",
    "m1_pipelines = [\n",
    "    (remove_outliers, None, {\n",
    "        'variable': 'Sale Price',\n",
    "        'lower': 499,\n",
    "    }),\n",
    "    (log_transform, None, {'col': 'Sale Price'}),\n",
    "    (add_total_bedrooms, None, None),\n",
    "    (select_columns, ['Log Sale Price', 'Bedrooms'], None)\n",
    "]\n",
    "\n",
    "X_train_m1, Y_train_m1 = feature_engine_pipe(train_m1, m1_pipelines, 'Log Sale Price')\n",
    "X_valid_m1, Y_valid_m1 = feature_engine_pipe(valid_m1, m1_pipelines, 'Log Sale Price')\n",
    "\n",
    "# Take a look at the result\n",
    "# It should be the same above as the result returned by feature_engine_simple\n",
    "display(X_train_m1.head())\n",
    "display(Y_train_m1.head())"
   ]
  },
  {
   "cell_type": "code",
   "execution_count": null,
   "metadata": {
    "tags": []
   },
   "outputs": [],
   "source": [
    "np.random.seed(1337)\n",
    "\n",
    "# Process the data using the pipeline for the second model\n",
    "train_m2, valid_m2 = train_val_split(full_data)\n",
    "\n",
    "m2_pipelines = [(remove_outliers, None, {'variable':'Sale Price', 'lower':499,}),\n",
    "                (log_transform, None, {'col': 'Sale Price'}),\n",
    "                (log_transform, None, {'col': 'Building Square Feet'}),\n",
    "                (add_total_bedrooms, None, None),\n",
    "                (select_columns, ['Log Sale Price', 'Bedrooms', 'Log Building Square Feet'], None)]\n",
    "\n",
    "X_train_m2, Y_train_m2 = feature_engine_pipe(train_m2, m2_pipelines, 'Log Sale Price')\n",
    "X_valid_m2, Y_valid_m2 = feature_engine_pipe(valid_m2, m2_pipelines, 'Log Sale Price')\n",
    "\n",
    "\n",
    "# Take a look at the result\n",
    "display(X_train_m2.head())\n",
    "display(Y_train_m2.head())"
   ]
  },
  {
   "cell_type": "markdown",
   "metadata": {},
   "source": [
    "<br>\n",
    "\n",
    "--- \n",
    "\n",
    "## Regression\n",
    "\n"
   ]
  },
  {
   "cell_type": "code",
   "execution_count": null,
   "metadata": {},
   "outputs": [],
   "source": [
    "linear_model_m1 = lm.LinearRegression(fit_intercept=True)\n",
    "linear_model_m2 = lm.LinearRegression(fit_intercept=True)"
   ]
  },
  {
   "cell_type": "code",
   "execution_count": null,
   "metadata": {
    "tags": []
   },
   "outputs": [],
   "source": [
    "# Fit the 1st model\n",
    "linear_model_m1.fit(X_train_m1, Y_train_m1)\n",
    "# Compute the fitted and predicted values of Log Sale Price for 1st model\n",
    "Y_fitted_m1 = linear_model_m1.predict(X_train_m1)\n",
    "Y_predicted_m1 = linear_model_m1.predict(X_valid_m1)\n",
    "\n",
    "# Fit the 2nd model\n",
    "linear_model_m2.fit(X_train_m2, Y_train_m2)\n",
    "# Compute the fitted and predicted values of Log Sale Price for 2nd model\n",
    "Y_fitted_m2 = linear_model_m2.predict(X_train_m2)\n",
    "Y_predicted_m2 = linear_model_m2.predict(X_valid_m2)"
   ]
  },
  {
   "cell_type": "markdown",
   "metadata": {},
   "source": [
    "\n",
    "\n",
    "## Evaluate Our Simple Model\n",
    "\n",
    "\n",
    "Let's now move into the analysis of our two models!"
   ]
  },
  {
   "cell_type": "code",
   "execution_count": null,
   "metadata": {},
   "outputs": [],
   "source": [
    "def rmse(predicted, actual):\n",
    "    \"\"\"\n",
    "    Calculates RMSE from actual and predicted values.\n",
    "    Input:\n",
    "      predicted (1D array): Vector of predicted/fitted values\n",
    "      actual (1D array): Vector of actual values\n",
    "    Output:\n",
    "      A float, the RMSE value.\n",
    "    \"\"\"\n",
    "    return np.sqrt(np.mean((actual - predicted)**2))"
   ]
  },
  {
   "cell_type": "markdown",
   "metadata": {
    "deletable": false
   },
   "source": [
    "\n",
    "## True\n",
    "\n",
    "One way of understanding a model's performance (and appropriateness) is through a plot of the residuals versus the observations.\n"
   ]
  },
  {
   "cell_type": "code",
   "execution_count": null,
   "metadata": {
    "nbgrader": {
     "grade": false,
     "grade_id": "cell-4d79f42d60b94fca",
     "locked": true,
     "schema_version": 1,
     "solution": false
    },
    "tags": []
   },
   "outputs": [],
   "source": [
    "plt.title(f'Model 2: RMSE Log Sale Price on the Validation Set is: {rmse(Y_valid_m2, Y_predicted_m2)} ')\n",
    "plt.scatter(x = Y_valid_m2 , y = (Y_valid_m2 - Y_predicted_m2) , alpha = .15, s = 5)\n",
    "plt.axhline(y = 0, color = 'red')\n",
    "plt.xlabel('Y Log Sale Price')\n",
    "plt.ylabel('Residual')\n",
    "plt.grid(which = 'both')"
   ]
  },
  {
   "cell_type": "markdown",
   "metadata": {},
   "source": [
    "# Build model!\n",
    "\n",
    "We will conduct feature engineering on our training data using the `feature_engine_final` function (we will define this in `q5d`), fit the model with this training data, and compute the training Root Mean Squared Error (RMSE). Then, we will process our test data with `feature_engine_final`, use the model to predict `Log Sale Price` for the test data, transform the predicted and original log values back into their original forms (by using `delog`), and compute the test RMSE.\n",
    "\n",
    "# GOAL:\n",
    "\n",
    "* Define a function to perform feature engineering and produce a design matrix for modeling.\n",
    "* Apply this feature engineering function to the training data and use it to train a model that can predict the `Log Sale Price` of houses.\n",
    "* Use this trained model to predict the `Log Sale Price`s of the test set. Remember that our test set does not contain the true `Sale Price` of each house –—  model is trying to guess them! "
   ]
  },
  {
   "cell_type": "code",
   "execution_count": null,
   "metadata": {},
   "outputs": [],
   "source": [
    "\n",
    "\n",
    "%reset -f                               \n",
    "\n",
    "import numpy as np\n",
    "import pandas as pd\n",
    "from pandas.api.types import CategoricalDtype\n",
    "\n",
    "%matplotlib inline\n",
    "import matplotlib.pyplot as plt\n",
    "import seaborn as sns\n",
    "from sklearn import linear_model as lm\n",
    "\n",
    "import warnings\n",
    "warnings.filterwarnings(\"ignore\")\n",
    "\n",
    "import zipfile\n",
    "import os\n",
    "\n",
    "from ds100_utils import *\n",
    "from feature_func import *\n",
    "\n",
    "from sklearn.preprocessing import OneHotEncoder\n",
    "from sklearn.linear_model import LinearRegression"
   ]
  },
  {
   "cell_type": "markdown",
   "metadata": {
    "deletable": false
   },
   "source": [
    "\n",
    "## Finding Potential Features\n"
   ]
  },
  {
   "cell_type": "markdown",
   "metadata": {},
   "source": [
    "Useful features in predicting housing prices: Land Square Feet, Building Square Feet, 'Property Class', \"O'Hare Noise\", 'Central Air','Repair Condition', 'Garage Indicator'"
   ]
  },
  {
   "cell_type": "markdown",
   "metadata": {
    "deletable": true,
    "tags": []
   },
   "source": [
    "\n",
    "\n",
    "## More EDA/key questions\n",
    "\n",
    "    \n",
    "* Plot the distribution of a variable. \n",
    "\n",
    "* scatter plot between a continuous feature and the outcome. Is there a relationship? Is there a transformation that may linearize the relationship?\n",
    "\n",
    "* Make a plot of a categorical/discrete feature and the outcome. Is there a relationship? How can we transform this categorical data into numerical features that can be useful for OLS?\n",
    "\n",
    "* Find the correlation coefficient between features and the outcome. Is there a strong relationship between the two? Can you find the correlation coefficient between different transformations of the feature and the outcome?\n",
    "\n"
   ]
  },
  {
   "cell_type": "code",
   "execution_count": 30,
   "metadata": {
    "scrolled": true
   },
   "outputs": [
    {
     "data": {
      "text/plain": [
       "Index(['Unnamed: 0', 'PIN', 'Property Class', 'Neighborhood Code',\n",
       "       'Land Square Feet', 'Town Code', 'Apartments', 'Wall Material',\n",
       "       'Roof Material', 'Basement', 'Basement Finish', 'Central Heating',\n",
       "       'Other Heating', 'Central Air', 'Fireplaces', 'Attic Type',\n",
       "       'Attic Finish', 'Design Plan', 'Cathedral Ceiling',\n",
       "       'Construction Quality', 'Site Desirability', 'Garage 1 Size',\n",
       "       'Garage 1 Material', 'Garage 1 Attachment', 'Garage 1 Area',\n",
       "       'Garage 2 Size', 'Garage 2 Material', 'Garage 2 Attachment',\n",
       "       'Garage 2 Area', 'Porch', 'Other Improvements', 'Building Square Feet',\n",
       "       'Repair Condition', 'Multi Code', 'Number of Commercial Units',\n",
       "       'Estimate (Land)', 'Estimate (Building)', 'Deed No.', 'Longitude',\n",
       "       'Latitude', 'Census Tract', 'Multi Property Indicator',\n",
       "       'Modeling Group', 'Age', 'Use', 'O'Hare Noise', 'Floodplain',\n",
       "       'Road Proximity', 'Sale Year', 'Sale Quarter', 'Sale Half-Year',\n",
       "       'Sale Quarter of Year', 'Sale Month of Year', 'Sale Half of Year',\n",
       "       'Most Recent Sale', 'Age Decade', 'Pure Market Filter',\n",
       "       'Garage Indicator', 'Neigborhood Code (mapping)',\n",
       "       'Town and Neighborhood', 'Description', 'Lot Size', 'Bedrooms',\n",
       "       'Log Land Square Feet'],\n",
       "      dtype='object')"
      ]
     },
     "execution_count": 30,
     "metadata": {},
     "output_type": "execute_result"
    }
   ],
   "source": [
    "#Setup\n",
    "full_data = pd.read_csv(\"cook_county_train.csv\")\n",
    "XX = full_data.copy()\n",
    "XX = remove_outliers(XX, 'Sale Price', lower = 499, upper = 3000000)\n",
    "sales = np.log(XX['Sale Price'])\n",
    "XX = XX.drop('Sale Price', axis = 1)\n",
    "XX = substitute_roof_material(XX)\n",
    "XX = add_total_bedrooms(XX)\n",
    "XX = log_transform(XX, 'Land Square Feet')\n",
    "XX.columns\n"
   ]
  },
  {
   "cell_type": "code",
   "execution_count": 31,
   "metadata": {
    "scrolled": true
   },
   "outputs": [
    {
     "name": "stdout",
     "output_type": "stream",
     "text": [
      "Unnamed: 0 unique values: 204792\n",
      "PIN unique values: 167191\n",
      "Property Class unique values: 9\n",
      "Neighborhood Code unique values: 193\n",
      "Land Square Feet unique values: 18605\n",
      "Town Code unique values: 38\n",
      "Apartments unique values: 3\n",
      "Wall Material unique values: 4\n",
      "Roof Material unique values: 6\n",
      "Basement unique values: 4\n",
      "Basement Finish unique values: 2\n",
      "Central Heating unique values: 3\n",
      "Other Heating unique values: 2\n",
      "Central Air unique values: 2\n",
      "Fireplaces unique values: 3\n",
      "Attic Type unique values: 3\n",
      "Attic Finish unique values: 3\n",
      "Design Plan unique values: 3\n",
      "Cathedral Ceiling unique values: 3\n",
      "Construction Quality unique values: 3\n",
      "Site Desirability unique values: 3\n",
      "Garage 1 Size unique values: 8\n",
      "Garage 1 Material unique values: 5\n",
      "Garage 1 Attachment unique values: 3\n",
      "Garage 1 Area unique values: 3\n",
      "Garage 2 Size unique values: 7\n",
      "Garage 2 Material unique values: 3\n",
      "Garage 2 Attachment unique values: 3\n",
      "Garage 2 Area unique values: 4\n",
      "Porch unique values: 3\n",
      "Other Improvements unique values: 1027\n",
      "Building Square Feet unique values: 5369\n",
      "Repair Condition unique values: 3\n",
      "Multi Code unique values: 7\n",
      "Number of Commercial Units unique values: 4\n",
      "Estimate (Land) unique values: 15843\n",
      "Estimate (Building) unique values: 51688\n",
      "Deed No. unique values: 204440\n",
      "Sale Price unique values: 14720\n",
      "Longitude unique values: 167191\n",
      "Latitude unique values: 167191\n",
      "Census Tract unique values: 1265\n",
      "Multi Property Indicator unique values: 2\n",
      "Modeling Group unique values: 1\n",
      "Age unique values: 166\n",
      "Use unique values: 1\n",
      "O'Hare Noise unique values: 2\n",
      "Floodplain unique values: 2\n",
      "Road Proximity unique values: 2\n",
      "Sale Year unique values: 7\n",
      "Sale Quarter unique values: 28\n",
      "Sale Half-Year unique values: 14\n",
      "Sale Quarter of Year unique values: 4\n",
      "Sale Month of Year unique values: 12\n",
      "Sale Half of Year unique values: 2\n",
      "Most Recent Sale unique values: 2\n",
      "Age Decade unique values: 166\n",
      "Pure Market Filter unique values: 2\n",
      "Garage Indicator unique values: 2\n",
      "Neigborhood Code (mapping) unique values: 193\n",
      "Town and Neighborhood unique values: 831\n",
      "Description unique values: 204724\n",
      "Lot Size unique values: 18605\n"
     ]
    }
   ],
   "source": [
    "for i in full_data.columns:\n",
    "    print(f'{i} unique values: {full_data[i].unique().shape[0]}')"
   ]
  },
  {
   "cell_type": "code",
   "execution_count": 32,
   "metadata": {
    "scrolled": true
   },
   "outputs": [
    {
     "name": "stdout",
     "output_type": "stream",
     "text": [
      "Property Class unique values: 9\n",
      "Apartments unique values: 3\n",
      "Wall Material unique values: 4\n",
      "Roof Material unique values: 6\n",
      "Basement unique values: 4\n",
      "Basement Finish unique values: 2\n",
      "Central Heating unique values: 3\n",
      "Other Heating unique values: 2\n",
      "Central Air unique values: 2\n",
      "Fireplaces unique values: 3\n",
      "Attic Type unique values: 3\n",
      "Attic Finish unique values: 3\n",
      "Design Plan unique values: 3\n",
      "Cathedral Ceiling unique values: 3\n",
      "Construction Quality unique values: 3\n",
      "Site Desirability unique values: 3\n",
      "Garage 1 Size unique values: 8\n",
      "Garage 1 Material unique values: 5\n",
      "Garage 1 Attachment unique values: 3\n",
      "Garage 1 Area unique values: 3\n",
      "Garage 2 Size unique values: 7\n",
      "Garage 2 Material unique values: 3\n",
      "Garage 2 Attachment unique values: 3\n",
      "Garage 2 Area unique values: 4\n",
      "Porch unique values: 3\n",
      "Repair Condition unique values: 3\n",
      "Multi Code unique values: 7\n",
      "Number of Commercial Units unique values: 4\n",
      "Multi Property Indicator unique values: 2\n",
      "Modeling Group unique values: 1\n",
      "Use unique values: 1\n",
      "O'Hare Noise unique values: 2\n",
      "Floodplain unique values: 2\n",
      "Road Proximity unique values: 2\n",
      "Sale Year unique values: 7\n",
      "Sale Quarter of Year unique values: 4\n",
      "Sale Half of Year unique values: 2\n",
      "Most Recent Sale unique values: 2\n",
      "Pure Market Filter unique values: 2\n",
      "Garage Indicator unique values: 2\n"
     ]
    }
   ],
   "source": [
    "#Reasonable columns to hot encode\n",
    "for i in full_data.columns:\n",
    "    if full_data[i].unique().shape[0] <= 10:\n",
    "        print(f'{i} unique values: {full_data[i].unique().shape[0]}')"
   ]
  },
  {
   "cell_type": "code",
   "execution_count": 33,
   "metadata": {
    "tags": []
   },
   "outputs": [
    {
     "name": "stdout",
     "output_type": "stream",
     "text": [
      "Land Square Feet mean: 7961.52875335642Correlation Coeff:0.12763594883001558\n",
      "Building Square Feet mean: 1620.4441460508297Correlation Coeff:0.5641742420415619\n",
      "Lot Size mean: 7961.52875335642Correlation Coeff:0.12763594883001558\n",
      "Bedrooms mean: 3.209745021668119Correlation Coeff:0.4226747199597078\n",
      "Age Decade mean: 6.482905010048553Correlation Coeff:-0.24865195401084347\n"
     ]
    }
   ],
   "source": [
    "arr = ['Land Square Feet', 'Building Square Feet', 'Lot Size', 'Bedrooms', 'Age Decade']\n",
    "for i in arr:\n",
    "    print(f\"{i} mean: {np.mean(XX[i])}Correlation Coeff:{np.corrcoef( XX[i], sales)[0][1]}\")"
   ]
  },
  {
   "cell_type": "code",
   "execution_count": 34,
   "metadata": {},
   "outputs": [
    {
     "data": {
      "text/plain": [
       "14.761360092079974"
      ]
     },
     "execution_count": 34,
     "metadata": {},
     "output_type": "execute_result"
    }
   ],
   "source": [
    "np.quantile(sales, .999)"
   ]
  },
  {
   "cell_type": "code",
   "execution_count": 35,
   "metadata": {},
   "outputs": [],
   "source": [
    "#RMSE: 378750.42170374584 try 1\n",
    "#\"O'Hare Noise\""
   ]
  },
  {
   "cell_type": "code",
   "execution_count": 36,
   "metadata": {
    "scrolled": true
   },
   "outputs": [
    {
     "data": {
      "text/plain": [
       "Index(['Land Square Feet', 'Building Square Feet', 'Property Class_202',\n",
       "       'Property Class_203', 'Property Class_204', 'Property Class_205',\n",
       "       'Property Class_206', 'Property Class_208', 'Property Class_209',\n",
       "       'Property Class_278', 'O'Hare Noise_1.0', 'Central Air_1.0',\n",
       "       'Garage Indicator_1.0', 'Bedrooms_1', 'Bedrooms_2', 'Bedrooms_3',\n",
       "       'Bedrooms_4', 'Bedrooms_5', 'Bedrooms_6', 'Bedrooms_7', 'Bedrooms_8',\n",
       "       'Bedrooms_10', 'Bedrooms_14', 'Roof Material_Other',\n",
       "       'Roof Material_Shake', 'Roof Material_Shingle/Asphalt',\n",
       "       'Roof Material_Slate', 'Roof Material_Tar&Gravel', 'Design Plan_0.0',\n",
       "       'Design Plan_2.0', 'Repair Condition_1.0', 'Repair Condition_2.0',\n",
       "       'Repair Condition_3.0', 'Garage 1 Size_0.0', 'Garage 1 Size_1.0',\n",
       "       'Garage 1 Size_2.0', 'Garage 1 Size_3.0', 'Garage 1 Size_4.0',\n",
       "       'Garage 1 Size_5.0', 'Garage 1 Size_7.0', 'bias'],\n",
       "      dtype='object')"
      ]
     },
     "metadata": {},
     "output_type": "display_data"
    },
    {
     "name": "stdout",
     "output_type": "stream",
     "text": [
      "one_hot_X: \n",
      "\t number of columns: 41\trank: 39\n",
      "RMSE: 363694.98612648476\n",
      "Index(['Land Square Feet', 'Building Square Feet', 'Property Class_202',\n",
      "       'Property Class_203', 'Property Class_204', 'Property Class_205',\n",
      "       'Property Class_206', 'Property Class_208', 'Property Class_209',\n",
      "       'Property Class_278', 'O'Hare Noise_1.0', 'Central Air_1.0',\n",
      "       'Garage Indicator_1.0', 'Bedrooms_1', 'Bedrooms_2', 'Bedrooms_3',\n",
      "       'Bedrooms_4', 'Bedrooms_5', 'Bedrooms_6', 'Bedrooms_7', 'Bedrooms_8',\n",
      "       'Bedrooms_10', 'Bedrooms_14', 'Roof Material_Other',\n",
      "       'Roof Material_Shake', 'Roof Material_Shingle/Asphalt',\n",
      "       'Roof Material_Slate', 'Roof Material_Tar&Gravel', 'Design Plan_0.0',\n",
      "       'Design Plan_2.0', 'Repair Condition_1.0', 'Repair Condition_2.0',\n",
      "       'Repair Condition_3.0', 'Garage 1 Size_0.0', 'Garage 1 Size_1.0',\n",
      "       'Garage 1 Size_2.0', 'Garage 1 Size_3.0', 'Garage 1 Size_4.0',\n",
      "       'Garage 1 Size_5.0', 'Garage 1 Size_7.0', 'bias'],\n",
      "      dtype='object')\n"
     ]
    }
   ],
   "source": [
    "\n",
    "#Test Econding\n",
    "def one_hot_encode_revised(data):\n",
    "    data_joinable = data[['Land Square Feet', 'Building Square Feet']]\n",
    "    non_numeric_1 = ['Property Class', \"O'Hare Noise\", 'Central Air', \n",
    "                     'Garage Indicator', 'Bedrooms', 'Roof Material', 'Design Plan', 'Repair Condition', 'Garage 1 Size']\n",
    "    encoder = OneHotEncoder()\n",
    "    encoder.fit(data[non_numeric_1])\n",
    "    encoded_data_1 = encoder.transform(data[non_numeric_1]).toarray()\n",
    "    new_frame = pd.DataFrame(data = encoded_data_1, columns = encoder.get_feature_names_out(), index = data.index)\n",
    "    #featured_frame = new_frame.drop(columns = non_numeric_1)\n",
    "    new_frame['bias'] = np.ones(len(new_frame), dtype = int)\n",
    "    feat = data_joinable.join(new_frame)\n",
    "    return feat.drop(columns =[\"O'Hare Noise_0.0\", 'Garage Indicator_0.0','Property Class_207', 'Bedrooms_9',\n",
    "                                   'Central Air_0.0', 'Roof Material_Tile',\n",
    "                               'Design Plan_1.0', 'Garage 1 Size_6.0' ])\n",
    "    \n",
    "\n",
    "\n",
    "one_hot_prop = one_hot_encode_revised(XX)\n",
    "display(one_hot_prop.columns)\n",
    "#Check rank\n",
    "print(\"one_hot_X: \\n\"\n",
    "      + \"\\t number of columns: \" + str(len(one_hot_prop.columns)) \\\n",
    "      + \"\\trank: \" + str(np.linalg.matrix_rank(one_hot_prop)))\n",
    "#Check Thetas\n",
    "ana = LinearRegression()\n",
    "ana.fit(one_hot_prop, sales)\n",
    "print('RMSE:',rmse(np.exp(sales),np.exp(ana.predict(one_hot_prop))))\n",
    "print(one_hot_prop.columns)"
   ]
  },
  {
   "cell_type": "code",
   "execution_count": 41,
   "metadata": {},
   "outputs": [
    {
     "name": "stdout",
     "output_type": "stream",
     "text": [
      "Min Error:4.649480769251908 Coeff: 0.13280891223033048\n"
     ]
    },
    {
     "data": {
      "image/png": "[encoded data removed]",
      "text/plain": [
       "<Figure size 1200x900 with 1 Axes>"
      ]
     },
     "metadata": {},
     "output_type": "display_data"
    }
   ],
   "source": [
    "testing = full_data.copy()\n",
    "testing['Log Total'] = np.log(testing['Land Square Feet'] + testing['Building Square Feet'])\n",
    "# testing.loc[testing['Estimate (Building)']<= 0] = meaner\n",
    "testing['Log Estimate (Building)'] = np.log(testing['Estimate (Building)'])\n",
    "from sklearn.pipeline import Pipeline\n",
    "from sklearn.preprocessing import PolynomialFeatures\n",
    "testing['Log Sale Price'] = np.log(testing['Sale Price'])\n",
    "def fit_model_dataset(degree, dataset):\n",
    "    pipelined_model = Pipeline([\n",
    "            ('polynomial_transformation', PolynomialFeatures(degree)),\n",
    "            ('linear_regression', LinearRegression())    \n",
    "        ])\n",
    "\n",
    "    pipelined_model.fit(np.log(dataset[['Lot Size']]), dataset[\"Log Sale Price\"])\n",
    "    return rmse(dataset['Log Sale Price'], pipelined_model.predict(np.log(dataset[['Lot Size']])))\n",
    "\n",
    "errors = [fit_model_dataset(degree, testing) for degree in range(0, 6,1)]\n",
    "#MSEs_and_k = pd.DataFrame({\"k\": range(0, 8), \"RMSE\": errors})\n",
    "\n",
    "plt.plot(range(0, 6), errors)\n",
    "plt.xlabel(\"Model Complexity (degree of polynomial)\")\n",
    "plt.ylabel(\"Training MSE\");\n",
    "coeff = np.corrcoef(np.log(testing['Lot Size']), testing['Log Sale Price'])[0][1]\n",
    "print(f'Min Error:{min(errors)} Coeff: {coeff}')\n",
    "#Log Total:\n",
    "#4.683511839934628: exponentiating by 3\n",
    "#4.638283896721328 logging total\n",
    "#Building:\n",
    "# 4.659622492893698 \n",
    "#4.620080909882658"
   ]
  },
  {
   "cell_type": "markdown",
   "metadata": {
    "deletable": false
   },
   "source": [
    "\n",
    "## Defining Helper Function or Helper Variables\n",
    "\n"
   ]
  },
  {
   "cell_type": "code",
   "execution_count": 42,
   "metadata": {
    "tags": []
   },
   "outputs": [],
   "source": [
    "\n",
    "#removed variables: Property Class, Garage Indicator\n",
    "def property_hot_encoder(data):\n",
    "    data_joinable = data[['Log Building Square Feet', 'Log Land Square Feet','Log Estimate (Building)', 'Lot Size', 'Log Estimate (Land)']]\n",
    "    non_numeric_1 = ['Garage 1 Size', 'Bedrooms']\n",
    "    encoder = OneHotEncoder()\n",
    "    encoder.fit(data[non_numeric_1])\n",
    "    encoded_data_1 = encoder.transform(data[non_numeric_1]).toarray()\n",
    "    new_frame = pd.DataFrame(data = encoded_data_1, columns = encoder.get_feature_names_out(), index = data.index)\n",
    "    #featured_frame = new_frame.drop(columns = non_numeric_1)\n",
    "    #new_frame['bias'] = np.ones(len(new_frame), dtype = int)\n",
    "    newer_frame = new_frame.join(data_joinable)\n",
    "    return newer_frame.drop(columns =['Garage 1 Size_6.0' , 'Bedrooms_7'])\n"
   ]
  },
  {
   "cell_type": "markdown",
   "metadata": {
    "deletable": false
   },
   "source": [
    "\n",
    "\n",
    "## Defining The Pipeline Function and Feature Engineering\n"
   ]
  },
  {
   "cell_type": "code",
   "execution_count": 43,
   "metadata": {
    "tags": []
   },
   "outputs": [
    {
     "name": "stdout",
     "output_type": "stream",
     "text": [
      "Current training RMSE: 156149.02516904383\n",
      "Check prediction \n"
     ]
    }
   ],
   "source": [
    "\n",
    "def feature_engine_final(data, is_test_set=False):\n",
    "    # Whenever you access 'Log Sale Price' or 'Sale Price', make sure to use the\n",
    "    # condition is_test_set like this:\n",
    "    if not is_test_set:\n",
    "        # Processing for the training set (i.e. not the test set)\n",
    "        # CAN involve references to sale price!\n",
    "        # CAN involve filtering certain rows or removing outliers\n",
    "        data['Log Sale Price'] = np.log(data['Sale Price'])\n",
    "        upperr = np.quantile(data['Sale Price'], .99)\n",
    "        data = remove_outliers(data, 'Sale Price', lower= 499, upper = upperr)\n",
    "        data = substitute_roof_material(data)\n",
    "        data['Log Total Area'] = np.log(data['Building Square Feet'] + data['Land Square Feet'])\n",
    "    else:\n",
    "        # Processing for the test set\n",
    "        # CANNOT involve references to sale price!\n",
    "        # CANNOT involve removing any rows\n",
    "        data= add_total_bedrooms(data)\n",
    "        data = substitute_roof_material(data)\n",
    "        data['Log Total Area'] = np.log(data['Building Square Feet'] +data['Land Square Feet'])\n",
    "\n",
    "        \n",
    "    # Processing for both test and training set\n",
    "    # CANNOT involve references to sale price!\n",
    "    # CANNOT involve removing any rows\n",
    "    data = log_transform(data, 'Building Square Feet')\n",
    "    data = log_transform(data, 'Land Square Feet')\n",
    "    data= add_total_bedrooms(data)\n",
    "    data.loc[data[\"Bedrooms\"] > 10] = np.mean(data[\"Bedrooms\"]).astype(int)\n",
    "    data['Log Total Area'] = np.log(data['Building Square Feet'] +data['Land Square Feet'])\n",
    "    data = substitute_roof_material(data)\n",
    "    data['Log Estimate (Building)'] = np.log(data['Estimate (Building)'] +.01)\n",
    "    data['Log Estimate (Land)'] = np.log(data['Estimate (Land)'] +.01)\n",
    "    data['Log Lot Size'] = np.log(data['Lot Size'])\n",
    "    data.loc[data['Garage 1 Size'] == 7] = 0\n",
    "    \n",
    "\n",
    "    #data = log_transform(data, 'Estimate (Building)')\n",
    "    \n",
    "    \n",
    "    # Return predictors (X) and response (Y) variables separately\n",
    "    if is_test_set:\n",
    "        # Predictors \n",
    "        #X =data[['Log Total Area', 'Log Estimate (Building)', 'Log Lot Size']]\n",
    "        X = property_hot_encoder(data)\n",
    "        return X\n",
    "    else:\n",
    "        # Predictors. Your X should not include Log Sale Price!\n",
    "        X = property_hot_encoder(data)\n",
    "        #X = data[['Log Total Area', 'Log Estimate (Building)', 'Lot Size', 'Log Estimate (Land)']]\n",
    "        # Response variable\n",
    "        Y = data['Log Sale Price']\n",
    "        \n",
    "        return X, Y\n",
    "\n",
    "check_rmse_threshold = run_linear_regression_test_optim(lm.LinearRegression(fit_intercept=True), feature_engine_final, 'cook_county_train.csv', None, False)\n",
    "print(\"Current training RMSE:\", check_rmse_threshold.loss)\n",
    "print(\"Check prediction \")"
   ]
  },
  {
   "cell_type": "markdown",
   "metadata": {
    "deletable": false
   },
   "source": [
    "## Fit and Evaluate the Model\n",
    "\n",
    "\n",
    "$$RMSE = \\sqrt{\\dfrac{\\sum_{\\text{houses in the set}}(\\text{actual price for house} - \\text{predicted price for house})^2}{\\text{number of houses}}}$$\n"
   ]
  },
  {
   "cell_type": "code",
   "execution_count": 44,
   "metadata": {
    "deletable": false,
    "editable": false
   },
   "outputs": [],
   "source": [
    "def rmse(predicted, actual):\n",
    "    \"\"\"\n",
    "    Calculates RMSE from actual and predicted values.\n",
    "    Input:\n",
    "      predicted (1D array): Vector of predicted/fitted values\n",
    "      actual (1D array): Vector of actual values\n",
    "    Output:\n",
    "      A float, the RMSE value.\n",
    "    \"\"\"\n",
    "    return np.sqrt(np.mean((actual - predicted)**2))"
   ]
  },
  {
   "cell_type": "code",
   "execution_count": 46,
   "metadata": {},
   "outputs": [],
   "source": [
    "from sklearn.model_selection import train_test_split\\\n",
    "# type(train_test_split)"
   ]
  },
  {
   "cell_type": "code",
   "execution_count": 49,
   "metadata": {
    "tags": []
   },
   "outputs": [
    {
     "data": {
      "text/plain": [
       "155617.72267275528"
      ]
     },
     "metadata": {},
     "output_type": "display_data"
    },
    {
     "data": {
      "text/plain": [
       "157936.88460074004"
      ]
     },
     "metadata": {},
     "output_type": "display_data"
    }
   ],
   "source": [
    "\n",
    "def train_val_split(data):\n",
    "    data_len = data.shape[0]\n",
    "    shuffled_indices = np.random.permutation(data_len)\n",
    "    train_indices, val_indices = shuffled_indices[0:int(data_len*.80)], shuffled_indices[int(\n",
    "        data_len*.80):data_len]\n",
    "    train = data.loc[train_indices,:]\n",
    "    validation = data.loc[val_indices, :]\n",
    "   \n",
    "    return train, validation \n",
    "from sklearn.linear_model import LinearRegression\n",
    "full_data = pd.read_csv(\"cook_county_train.csv\")\n",
    "X_Train_set, X_Val_set = train_val_split(full_data)\n",
    "X_train_simple, Y_train_simple = feature_engine_final(X_Train_set, is_test_set=False)\n",
    "X_val_simple, Y_val_simple = feature_engine_final(X_Val_set, is_test_set=False)\n",
    "model = LinearRegression(fit_intercept = True)\n",
    "model.fit(X_train_simple, Y_train_simple)\n",
    "Y_fitted_s = model.predict(X_train_simple)\n",
    "#Y_predicted_s= linear_model_m1.predict(X_valid_m1)\n",
    "num1 = rmse(np.exp(Y_fitted_s), np.exp(Y_train_simple))\n",
    "#Test Set\n",
    "model2 = LinearRegression(fit_intercept = True)\n",
    "model2.fit(X_val_simple, Y_val_simple)\n",
    "Y_fitted_s2 = model2.predict(X_val_simple)\n",
    "num2 = rmse(np.exp(Y_fitted_s2), np.exp(Y_val_simple))\n",
    "display(num1, num2)\n"
   ]
  },
  {
   "cell_type": "code",
   "execution_count": 58,
   "metadata": {
    "deletable": false
   },
   "outputs": [],
   "source": [
    "from datetime import datetime\n",
    "from IPython.display import display, HTML\n",
    "\n",
    "Y_test_pred = run_linear_regression_test(lm.LinearRegression(fit_intercept=True), feature_engine_final, None, 'cook_county_train.csv', 'cook_county_contest_test.csv', \n",
    "                                         is_test = True, is_ranking = False, return_predictions = True\n",
    "                                         )\n"
   ]
  },
  {
   "cell_type": "code",
   "execution_count": 59,
   "metadata": {},
   "outputs": [
    {
     "name": "stdout",
     "output_type": "stream",
     "text": [
      "Val error from train/validation split #1: 151724.52822292538\n",
      "Val error from train/validation split #2: 154510.6185019723\n",
      "Val error from train/validation split #3: 157414.8372024373\n",
      "Val error from train/validation split #4: 154631.59494555992\n",
      "Val error from train/validation split #5: 153660.63015450232\n",
      "Val error from train/validation split #6: 153236.08127052526\n",
      "Val error from train/validation split #7: 157641.83521592972\n"
     ]
    }
   ],
   "source": [
    "full_data = pd.read_csv(\"cook_county_train.csv\")\n",
    "X, Y = feature_engine_final(full_data, False)\n",
    "X_train, X_test, Y_train, Y_test = train_test_split(X, Y, \n",
    "                                                    test_size=0.2,  \n",
    "                                                    shuffle=True)\n",
    "\n",
    "for i in range(1, 8):\n",
    "    X_train_mini, X_val, Y_train_mini, Y_val = train_test_split(X_train, Y_train, test_size=0.2)\n",
    "    model = lm.LinearRegression()\n",
    "    model.fit(X_train_mini, Y_train_mini)\n",
    "    y_hat = model.predict(X_val)\n",
    "    print(f\"Val error from train/validation split #{i}: {rmse(np.exp(y_hat), np.exp(Y_val))}\")"
   ]
  },
  {
   "cell_type": "markdown",
   "metadata": {},
   "source": [
    "Congratulations on finishing your prediction model for home sale prices in Cook County! In the following section, we'll delve deeper into the implications of predictive modeling within the CCAO case study, especially because statistical modeling is how the CCAO valuates properties. \n",
    "\n",
    "Refer to [Lecture 15](https://ds100.org/sp24/lecture/lec15/) if you're having trouble getting started!"
   ]
  },
  {
   "cell_type": "markdown",
   "metadata": {},
   "source": [
    "## Exploring RMSE\n",
    "\n",
    "Let's delve a bit deeper into what RMSE means in the context of predicting house prices. We will go through different ways of visualizing the performance of the model you created and see how that ties into questions about property taxes. To this end, we'll create the `preds_df` `DataFrame`."
   ]
  },
  {
   "cell_type": "code",
   "execution_count": 52,
   "metadata": {},
   "outputs": [],
   "source": [
    "# Run the cell below; no further action is needed\n",
    "train_df = pd.read_csv('cook_county_train.csv')\n",
    "X, Y_true = feature_engine_final(train_df)\n",
    "model = lm.LinearRegression(fit_intercept=True)\n",
    "model.fit(X, Y_true)\n",
    "Y_pred = model.predict(X)"
   ]
  },
  {
   "cell_type": "code",
   "execution_count": 53,
   "metadata": {},
   "outputs": [
    {
     "data": {
      "text/html": [
       "<div>\n",
       "<style scoped>\n",
       "    .dataframe tbody tr th:only-of-type {\n",
       "        vertical-align: middle;\n",
       "    }\n",
       "\n",
       "    .dataframe tbody tr th {\n",
       "        vertical-align: top;\n",
       "    }\n",
       "\n",
       "    .dataframe thead th {\n",
       "        text-align: right;\n",
       "    }\n",
       "</style>\n",
       "<table border=\"1\" class=\"dataframe\">\n",
       "  <thead>\n",
       "    <tr style=\"text-align: right;\">\n",
       "      <th></th>\n",
       "      <th>True Log Sale Price</th>\n",
       "      <th>Predicted Log Sale Price</th>\n",
       "      <th>True Sale Price</th>\n",
       "      <th>Predicted Sale Price</th>\n",
       "    </tr>\n",
       "  </thead>\n",
       "  <tbody>\n",
       "    <tr>\n",
       "      <th>1</th>\n",
       "      <td>12.560244</td>\n",
       "      <td>12.095974</td>\n",
       "      <td>285000.0</td>\n",
       "      <td>179149.083686</td>\n",
       "    </tr>\n",
       "    <tr>\n",
       "      <th>2</th>\n",
       "      <td>9.998798</td>\n",
       "      <td>11.514816</td>\n",
       "      <td>22000.0</td>\n",
       "      <td>100189.226522</td>\n",
       "    </tr>\n",
       "    <tr>\n",
       "      <th>3</th>\n",
       "      <td>12.323856</td>\n",
       "      <td>11.862731</td>\n",
       "      <td>225000.0</td>\n",
       "      <td>141879.214737</td>\n",
       "    </tr>\n",
       "    <tr>\n",
       "      <th>4</th>\n",
       "      <td>10.025705</td>\n",
       "      <td>11.235748</td>\n",
       "      <td>22600.0</td>\n",
       "      <td>75791.980605</td>\n",
       "    </tr>\n",
       "    <tr>\n",
       "      <th>6</th>\n",
       "      <td>11.512925</td>\n",
       "      <td>12.104083</td>\n",
       "      <td>100000.0</td>\n",
       "      <td>180607.830538</td>\n",
       "    </tr>\n",
       "  </tbody>\n",
       "</table>\n",
       "</div>"
      ],
      "text/plain": [
       "   True Log Sale Price  Predicted Log Sale Price  True Sale Price  \\\n",
       "1            12.560244                 12.095974         285000.0   \n",
       "2             9.998798                 11.514816          22000.0   \n",
       "3            12.323856                 11.862731         225000.0   \n",
       "4            10.025705                 11.235748          22600.0   \n",
       "6            11.512925                 12.104083         100000.0   \n",
       "\n",
       "   Predicted Sale Price  \n",
       "1         179149.083686  \n",
       "2         100189.226522  \n",
       "3         141879.214737  \n",
       "4          75791.980605  \n",
       "6         180607.830538  "
      ]
     },
     "execution_count": 53,
     "metadata": {},
     "output_type": "execute_result"
    }
   ],
   "source": [
    "preds_df = pd.DataFrame({'True Log Sale Price' : Y_true, 'Predicted Log Sale Price' : Y_pred, \n",
    "                         'True Sale Price' : np.e**Y_true, 'Predicted Sale Price' : np.e**Y_pred})\n",
    "preds_df.head()"
   ]
  },
  {
   "cell_type": "markdown",
   "metadata": {
    "deletable": false
   },
   "source": [
    "<br>\n",
    "\n",
    "---\n",
    "### Examine on below and above median threshold"
   ]
  },
  {
   "cell_type": "markdown",
   "metadata": {
    "deletable": false
   },
   "source": [
    "Let's examine how our model performs on two halves of our data: `cheap_df` which contains the rows of `preds_df` with prices below or equal to the median sale price, and `expensive_df` which has rows of `preds_df` with true sale prices above the median.  "
   ]
  },
  {
   "cell_type": "code",
   "execution_count": 54,
   "metadata": {
    "deletable": false,
    "editable": false
   },
   "outputs": [
    {
     "name": "stdout",
     "output_type": "stream",
     "text": [
      "\n",
      "The lower interval contains houses with true sale price $1.0 to $219696.0\n",
      "The higher interval contains houses with true sale price $219696.0 to $1468864.0\n",
      "\n"
     ]
    }
   ],
   "source": [
    "# Run the cell below to obtain the two subsets of data; no further action is needed.\n",
    "min_Y_true, max_Y_true = np.round(np.min(Y_true), 1) , np.round(np.max(Y_true), 1)\n",
    "median_Y_true = np.round(np.median(Y_true), 1)\n",
    "cheap_df = preds_df[(preds_df['True Log Sale Price'] >= min_Y_true) & (preds_df['True Log Sale Price'] <= median_Y_true)]\n",
    "expensive_df = preds_df[(preds_df['True Log Sale Price'] > median_Y_true) & (preds_df['True Log Sale Price'] <= max_Y_true)]\n",
    "\n",
    "print(f'\\nThe lower interval contains houses with true sale price ${np.round(np.e**min_Y_true)} to ${np.round(np.e**median_Y_true)}')\n",
    "print(f'The higher interval contains houses with true sale price ${np.round(np.e**median_Y_true)} to ${np.round(np.e**max_Y_true)}\\n')"
   ]
  },
  {
   "cell_type": "markdown",
   "metadata": {
    "deletable": true
   },
   "source": [
    "**RMSE of the model's predictions of `Sale Price` on each subset separately**, and assigned  values of `rmse_cheap` and `rmse_expensive` respectively."
   ]
  },
  {
   "cell_type": "code",
   "execution_count": 55,
   "metadata": {
    "tags": []
   },
   "outputs": [
    {
     "name": "stdout",
     "output_type": "stream",
     "text": [
      "The RMSE for properties with log sale prices in the interval (0.0, 12.3) is 88651.0\n",
      "The RMSE for properties with log sale prices in the interval (12.3, 14.2) is 204328.0\n",
      "\n",
      "The percentage of overestimated values for properties with log sale prices in the interval (0.0, 12.3) is 59.03%\n",
      "The percentage of overestimated values for properties with log sale prices in the interval (12.3, 14.2) is 21.76%\n"
     ]
    }
   ],
   "source": [
    "rmse_cheap = rmse(cheap_df['Predicted Sale Price'], cheap_df['True Sale Price'])\n",
    "rmse_expensive = rmse(expensive_df['Predicted Sale Price'], expensive_df['True Sale Price'])\n",
    "#COmpute overestimations\n",
    "prop_overest_cheap = (cheap_df.loc[(cheap_df['True Sale Price'] - cheap_df['Predicted Sale Price']) < 0].shape[0])/len(cheap_df)\n",
    "prop_overest_expensive = (expensive_df.loc[(expensive_df['True Sale Price'] - expensive_df['Predicted Sale Price']) < 0].shape[0])/len(expensive_df)\n",
    "\n",
    "print(f\"The RMSE for properties with log sale prices in the interval {(min_Y_true, median_Y_true)} is {np.round(rmse_cheap)}\")\n",
    "print(f\"The RMSE for properties with log sale prices in the interval {(median_Y_true, max_Y_true)} is {np.round(rmse_expensive)}\\n\")\n",
    "print(f\"The percentage of overestimated values for properties with log sale prices in the interval {(min_Y_true, median_Y_true)} is {np.round(100 * prop_overest_cheap, 2)}%\")\n",
    "print(f\"The percentage of overestimated values for properties with log sale prices in the interval {(median_Y_true, max_Y_true)} is {np.round(100 * prop_overest_expensive, 2)}%\")"
   ]
  },
  {
   "cell_type": "markdown",
   "metadata": {
    "deletable": false
   },
   "source": [
    "\n",
    "### Fine Grained Approach RMSE and Overestimation\n",
    "\n",
    " Let's try and take a more fine-grained approach to understand how RMSE and proportion of houses overestimated vary across different intervals of `Log Sale Price`. `rmse_interval` and `prop_overest_interval`  allow us to compute the appropriate values for any given interval. "
   ]
  },
  {
   "cell_type": "code",
   "execution_count": 56,
   "metadata": {
    "tags": []
   },
   "outputs": [],
   "source": [
    "def rmse_interval(df, start, end):\n",
    "    '''\n",
    "    Given a design matrix X and response vector Y, computes the RMSE for a subset of values \n",
    "    wherein the corresponding Log Sale Price lies in the interval [start, end].\n",
    "\n",
    "    Input: \n",
    "    df : pandas DataFrame with columns 'True Log Sale Price', \n",
    "        'Predicted Log Sale Price', 'True Sale Price', 'Predicted Sale Price'\n",
    "    start : A float specifying the start of the interval (inclusive)\n",
    "    end : A float specifying the end of the interval (inclusive)\n",
    "    '''\n",
    "\n",
    "    subset_df = df[(df['True Log Sale Price'] >= start) & (df['True Log Sale Price'] <= end)]\n",
    "\n",
    "    rmse_subset = rmse(subset_df['Predicted Sale Price'], subset_df['True Sale Price'])\n",
    "    return rmse_subset\n",
    "    \n",
    "def prop_overest_interval(df, start, end):\n",
    "    '''\n",
    "    Given a DataFrame df, computes prop_overest for a subset of values \n",
    "    wherein the corresponding Log Sale Price lies in the interval [start, end].\n",
    "\n",
    "    Input: \n",
    "    df : pandas DataFrame with columns 'True Log Sale Price', \n",
    "        'Predicted Log Sale Price', 'True Sale Price', 'Predicted Sale Price'\n",
    "    start : A float specifying the start of the interval (inclusive)\n",
    "    end : A float specifying the end of the interval (inclusive)\n",
    "    '''\n",
    "    \n",
    "    subset_df = df[(df['True Log Sale Price'] >= start) & (df['True Log Sale Price'] <= end)]\n",
    "\n",
    "    if subset_df.shape[0] == 0:\n",
    "        return -1\n",
    "\n",
    "    prop_subset = (subset_df.loc[(subset_df['True Sale Price'] - subset_df['Predicted Sale Price']) < 0].shape[0])/len(subset_df)\n",
    "    return prop_subset"
   ]
  },
  {
   "cell_type": "markdown",
   "metadata": {
    "deletable": true
   },
   "source": [
    "\n",
    "### Visuals! (RMSE Edition)"
   ]
  },
  {
   "cell_type": "code",
   "execution_count": 57,
   "metadata": {
    "deletable": false,
    "editable": false
   },
   "outputs": [
    {
     "data": {
      "image/png": "[encoded data removed]",
      "text/plain": [
       "<Figure size 800x500 with 2 Axes>"
      ]
     },
     "metadata": {},
     "output_type": "display_data"
    }
   ],
   "source": [
    "# RMSE plot\n",
    "plt.figure(figsize = (8,5))\n",
    "plt.subplot(1, 2, 1) \n",
    "rmses = []\n",
    "for i in np.arange(8, 14, 0.5):\n",
    "    rmses.append(rmse_interval(preds_df, i, i + 0.5))\n",
    "plt.bar(x = np.arange(8.25, 14.25, 0.5), height = rmses, edgecolor = 'black', width = 0.5)\n",
    "plt.title('RMSE Over Different Intervals\\n of Log Sale Price', fontsize = 10)\n",
    "plt.xlabel('Log Sale Price')\n",
    "plt.yticks(fontsize = 10)\n",
    "plt.xticks(fontsize = 10)\n",
    "plt.ylabel('RMSE')\n",
    "\n",
    "# Overestimation plot  \n",
    "plt.subplot(1, 2, 2)\n",
    "props = []\n",
    "for i in np.arange(8, 14, 0.5):\n",
    "    props.append(prop_overest_interval(preds_df, i, i + 0.5) * 100) \n",
    "plt.bar(x = np.arange(8.25, 14.25, 0.5), height = props, edgecolor = 'black', width = 0.5)\n",
    "plt.title('Percentage of House Values Overestimated \\nover different intervals of Log Sale Price', fontsize = 10)\n",
    "plt.xlabel('Log Sale Price')\n",
    "plt.yticks(fontsize = 10)\n",
    "plt.xticks(fontsize = 10)\n",
    "plt.ylabel('Percentage of House Values\\n that were Overestimated (%)')\n",
    "\n",
    "plt.tight_layout()\n",
    "plt.show()"
   ]
  },
  {
   "cell_type": "markdown",
   "metadata": {},
   "source": [
    "Our empirical visual derived on the right aligns closely with the description of Scenario where: \"An assessment process that systematically overvalues inexpensive properties and undervalues expensive properties. \" as we see a clear overestimation divide between proportions of house values overestimated for those with lower Log Sale Prices. We discussed earlier that a key driver of the regressive taxation was the prevalence of overstimation of housing prices amongst those in lower income and lower priced neighborhoods. Thus, our visual on the right supports the notion that lower priced nighborhoods were consistently being overvalued which translates to increased proportional tax burden relative to the welathier. Additionally the visual on the right helps support the idea of the fairness divide amongst wealthy and lower income neighborhoods being present as we observe a drastic shift in height of proportional overestimation of properties."
   ]
  },
  {
   "cell_type": "markdown",
   "metadata": {
    "deletable": false
   },
   "source": [
    "\n",
    "\n",
    "## Evaluating the Model in Context (Reflection)\n",
    "\n"
   ]
  },
  {
   "cell_type": "markdown",
   "metadata": {},
   "source": [
    "In the cases of the residual being negative (assuming True minus Predicted difference) reveals an overestimation occuring for a single property prediction, while positive values indicate undervalued predictions. For an individual homeowner this might reveal how exactly certain income groups were treated with the given statistical model applied in the CCAO. In other words, it can reveal how lower income neighborhoods experienced the evaluations in an unfair manner as they resulted in higher proportions of overestimations relative to wealthier neighborhoods. This helps allude to the fact that welathier neighborhoods had the estimations in their favor with lower proportions of overstimations and higher estimations of undervaluation."
   ]
  },
  {
   "cell_type": "markdown",
   "metadata": {
    "deletable": false
   },
   "source": [
    "\n",
    "In the case of the Cook County Assessor’s Office, Chief Data Officer Rob Ross states that fair property tax rates are contingent on whether property values are assessed accurately —— that they’re valued at what they’re worth, relative to properties with similar characteristics. This implies that having a more accurate model results in fairer assessments. The goal of the property assessment process for the CCAO, then, is to be as accurate as possible. \n",
    "\n",
    "When the use of algorithms and statistical modeling has real-world consequences, we often refer to the idea of fairness as a measurement of how socially responsible our work is. Fairness is incredibly multifaceted: Is a fair model one that minimizes loss - one that generates accurate results? Is it one that utilizes \"unbiased\" data? Or is fairness a broader goal that takes historical contexts into account?\n",
    "\n",
    "These approaches to fairness are not mutually exclusive. If we look beyond error functions and technical measures of accuracy, we'd not only consider _individual_ cases of fairness but also what fairness —— and justice —— means to marginalized communities on a broader scale. We'd ask: What does it mean when homes in predominantly Black and Hispanic communities in Cook County are consistently overvalued, resulting in proportionally higher property taxes? When the white neighborhoods in Cook County are consistently undervalued, resulting in proportionally lower property taxes? \n",
    "\n",
    "Having \"accurate\" predictions doesn't necessarily address larger historical trends and inequities, and fairness in property assessments in taxes works beyond the CCAO's valuation model. Disassociating accurate predictions from a fair system is vital to approaching justice at multiple levels. Take Evanston, IL —— a suburb in Cook County —— as an example of housing equity beyond just improving a property valuation model: their City Council members [recently approved reparations for African American residents](https://www.usnews.com/news/health-news/articles/2021-03-23/chicago-suburb-approves-government-reparations-for-black-residents).\n"
   ]
  },
  {
   "cell_type": "markdown",
   "metadata": {
    "deletable": false
   },
   "source": [
    "\n",
    "## Reflection (Fairness)"
   ]
  },
  {
   "cell_type": "markdown",
   "metadata": {},
   "source": [
    "Our model displayed a low RMSE for lower income neighborhoods, however that did not necessarily translate to fair property assessments as we also observed a far higher proportional overestimation of properties in lower income neighborhoods which has further implications on the fairness of the system. Our RMSE, which is recorded in Sale Price Units does not capture the dynamic change (or magnitude if you may) relative to one's sale price. Lower Priced homes are inherently bound to experience lower RMSE values because of the dominant role of higher home prices(wealthy neighborhoods) within the dataset and can lead conclusions to a misleading direction (i.e a 50,000 residual in a property truly priced at 100,000 would results in a huge overestimation or underestimation based on the sign of the difference. May not seem like a magnitudal difference for million dollar homes). Thus, it is important for visuals such as the proportional distribution of overestimated properties to be visualized as they display characteristics key to deem a model fair. \n",
    "\n",
    "Therefore, I believe an appropriate and fair result of model predictions should not display drastic shifts in proportional overestimations across different income groups and should picture a relatvely leveled distribution. Furthermore, the rmse values as they indicate overall dispersion of the differences, should be standardized in some way that reveals proportional differences based on the income group and should also be leveled in such format once standardized. Fair treatment is contingent upon such models acting in a manner that doesn't implicate favoring effects over to a certain income group by giving far-reaching estimations that translate to declined tax burdens (for wealthy individual). Within the contexts of making a model fair for tax assessment lies on the proportional overestimaton of lower income neighbordhoods vs proportional underestimation of higher income individuals. These values and its disparity can reveal unfair treatment, thus creating a model that can mitigate these proportional differences and preserve a low rmse across all group may direct a model in a \"fairer\" path. "
   ]
  },
  {
   "cell_type": "markdown",
   "metadata": {},
   "source": [
    " "
   ]
  }
 ],
 "metadata": {
  "celltoolbar": "Create Assignment",
  "kernelspec": {
   "display_name": "Python 3 (ipykernel)",
   "language": "python",
   "name": "python3"
  },
  "language_info": {
   "codemirror_mode": {
    "name": "ipython",
    "version": 3
   },
   "file_extension": ".py",
   "mimetype": "text/x-python",
   "name": "python",
   "nbconvert_exporter": "python",
   "pygments_lexer": "ipython3",
   "version": "3.11.10"
  },
  "otter": {
   "OK_FORMAT": true,
   "require_no_pdf_confirmation": true,
   "tests": {
    "q1c": {
     "name": "q1c",
     "points": 1,
     "suites": [
      {
       "cases": [
        {
         "code": ">>> q1c.lower() in ['a', 'b', 'c']\nTrue",
         "hidden": false,
         "locked": false
        }
       ],
       "scored": true,
       "setup": "",
       "teardown": "",
       "type": "doctest"
      }
     ]
    },
    "q2": {
     "name": "q2",
     "points": 2,
     "suites": [
      {
       "cases": [
        {
         "code": ">>> train.shape == (163833, 62)\nTrue",
         "hidden": false,
         "locked": false
        },
        {
         "code": ">>> validation.shape == (40959, 62)\nTrue",
         "hidden": false,
         "locked": false
        },
        {
         "code": ">>> np.isclose(train['Sale Price'].mean(), 244939.22668204817, atol=0.1)\nTrue",
         "hidden": false,
         "locked": false
        },
        {
         "code": ">>> np.allclose(validation.index[-5:], [153946, 117415, 9448, 188605, 3223])\nTrue",
         "hidden": false,
         "locked": false
        },
        {
         "code": ">>> np.isclose(validation['Sale Price'].mean(), 246066.1821089382, atol=0.1)\nTrue",
         "hidden": false,
         "locked": false
        }
       ],
       "scored": true,
       "setup": "",
       "teardown": "",
       "type": "doctest"
      }
     ]
    },
    "q3a": {
     "name": "q3a",
     "points": 2,
     "suites": [
      {
       "cases": [
        {
         "code": ">>> (q3a in ['>=', '=', '<=']) == True\nTrue",
         "hidden": false,
         "locked": false
        },
        {
         "code": ">>> q3a == '>='\nTrue",
         "hidden": false,
         "locked": false
        }
       ],
       "scored": true,
       "setup": "",
       "teardown": "",
       "type": "doctest"
      }
     ]
    },
    "q3b": {
     "name": "q3b",
     "points": 3,
     "suites": [
      {
       "cases": [
        {
         "code": ">>> isinstance(X_train_m1, pd.core.frame.DataFrame) and isinstance(Y_train_m1, pd.core.series.Series) and isinstance(X_valid_m1, pd.core.frame.DataFrame) and isinstance(Y_valid_m1, pd.core.series.Series) and isinstance(X_train_m2, pd.core.frame.DataFrame) and isinstance(Y_train_m2, pd.core.series.Series) and isinstance(X_valid_m2, pd.core.frame.DataFrame) and isinstance(Y_valid_m2, pd.core.series.Series)\nTrue",
         "hidden": false,
         "locked": false
        },
        {
         "code": ">>> assert len(m2_pipelines) == 5\n>>> assert log_transform in set([p[0] for p in m2_pipelines])\n",
         "hidden": false,
         "locked": false
        }
       ],
       "scored": true,
       "setup": "",
       "teardown": "",
       "type": "doctest"
      }
     ]
    },
    "q3c": {
     "name": "q3c",
     "points": 2,
     "suites": [
      {
       "cases": [
        {
         "code": ">>> np.isclose(Y_fitted_m1.max(), 17.528601849438104, atol=0.0001) == True\nTrue",
         "hidden": false,
         "locked": false
        },
        {
         "code": ">>> np.isclose(Y_fitted_m2.max(), 15.614096224439168, atol=0.0001) == True\nTrue",
         "hidden": false,
         "locked": false
        },
        {
         "code": ">>> np.isclose(Y_predicted_m1.max(), 15.540922864181525, atol=0.0001) == True\nTrue",
         "hidden": false,
         "locked": false
        },
        {
         "code": ">>> np.isclose(Y_predicted_m2.max(), 15.02563963305767, atol=0.0001) == True\nTrue",
         "hidden": false,
         "locked": false
        }
       ],
       "scored": true,
       "setup": "",
       "teardown": "",
       "type": "doctest"
      }
     ]
    },
    "q4b": {
     "name": "q4b",
     "points": 1,
     "suites": [
      {
       "cases": [
        {
         "code": ">>> q4b.lower() in ['regressive', 'fair', 'progressive']\nTrue",
         "hidden": false,
         "locked": false
        }
       ],
       "scored": true,
       "setup": "",
       "teardown": "",
       "type": "doctest"
      }
     ]
    },
    "q5d": {
     "name": "q5d",
     "points": 3,
     "suites": [
      {
       "cases": [
        {
         "code": ">>> check_rmse_threshold(200000)\nTrue",
         "hidden": false,
         "locked": false
        },
        {
         "code": ">>> check_rmse_threshold(240000)\nTrue",
         "hidden": false,
         "locked": false
        },
        {
         "code": ">>> check_rmse_threshold(280000)\nTrue",
         "hidden": false,
         "locked": false
        },
        {
         "code": ">>> check_rmse_threshold.signature == (feature_engine_final, 'cook_county_train.csv', None)\nTrue",
         "hidden": false,
         "locked": false
        }
       ],
       "scored": true,
       "setup": "",
       "teardown": "",
       "type": "doctest"
      }
     ]
    },
    "q6a": {
     "name": "q6a",
     "points": 1,
     "suites": [
      {
       "cases": [
        {
         "code": ">>> rmse_cheap >= 0\nTrue",
         "hidden": false,
         "locked": false
        },
        {
         "code": ">>> rmse_expensive >= 0\nTrue",
         "hidden": false,
         "locked": false
        },
        {
         "code": ">>> 0 <= prop_overest_cheap <= 1\nTrue",
         "hidden": false,
         "locked": false
        },
        {
         "code": ">>> 0 <= prop_overest_expensive <= 1\nTrue",
         "hidden": false,
         "locked": false
        }
       ],
       "scored": true,
       "setup": "",
       "teardown": "",
       "type": "doctest"
      }
     ]
    },
    "q6b": {
     "name": "q6b",
     "points": 2,
     "suites": [
      {
       "cases": [
        {
         "code": ">>> prop_overest_interval(preds_df, 10, 14) >= 0 and prop_overest_interval(preds_df, 10, 14) <= 1\nTrue",
         "hidden": false,
         "locked": false
        },
        {
         "code": ">>> rmse_interval(preds_df, 10, 14) < 1000000000.0 and rmse_interval(preds_df, 10, 14) > 0\nTrue",
         "hidden": false,
         "locked": false
        }
       ],
       "scored": true,
       "setup": "",
       "teardown": "",
       "type": "doctest"
      }
     ]
    }
   }
  }
 },
 "nbformat": 4,
 "nbformat_minor": 4
}
