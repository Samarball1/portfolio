{
 "cells": [
  {
   "cell_type": "markdown",
   "metadata": {
    "nbgrader": {
     "grade": false,
     "grade_id": "p2",
     "locked": true,
     "schema_version": 2,
     "solution": false
    }
   },
   "source": [
    "\n",
    "## Approach/Potential Outline:\n",
    "\n",
    "1. Finding better features based on the email text. Some example features are:\n",
    "    1. Number of characters in the subject/body\n",
    "    1. Number of words in the subject/body\n",
    "    1. Use of punctuation (e.g., how many '!'s were there?)\n",
    "    1. Number/percentage of capital letters \n",
    "    1. Whether the email is a reply to an earlier email or a forwarded email\n",
    "1. Finding better words to use as features. Which words are the best at distinguishing emails? This requires digging into the email text itself. Alternatively, identify misclassified emails and see which relevant words are missing in the model.\n",
    "1. Reducing dimensionality and/or multicollinearity. few methods to achieve this:\n",
    "    1. Implement PCA.\n",
    "    1. Interpret the model coefficients. Note that a feature will be more valuable in classification if its coefficient has a larger **absolute** value. If the coefficient has a lower **absolute** value, the feature likely isn't valuable in classifying emails.\n",
    "1. Better data processing. For example, many emails contain HTML as well as text.  Extracting the text from the HTML to help  find better words. Or can match HTML tags themselves, or even some combination of the two.\n",
    "1. Model selection. Adjust the parameters of the model (e.g. the penalty type, the regularization parameter, or any arguments in `LogisticRegression`) to achieve higher accuracy.  Should be using cross-validation for feature and model selection! Otherwise, it will likely overfit to the training data.\n",
    "    1. Implementing L1 regularization. The [documentation](https://scikit-learn.org/stable/modules/generated/sklearn.linear_model.LogisticRegression.html) for `LogisticRegression` may be helpful here. \n",
    "    1. imported `GridSearchCV`and use sklearn's `GridSearchCV` ([documentation](https://scikit-learn.org/stable/modules/generated/sklearn.model_selection.GridSearchCV.html)) class to perform cross-validation. \n",
    "\n",
    "\n",
    "**Note 1:** use the **validation data** to evaluate the model and get a better sense of how it will perform on the test set. However,  overfiting to in the validation set if it try to optimize the validation accuracy too much. Alternatively, can perform cross-validation on the entire training set."
   ]
  },
  {
   "cell_type": "code",
   "execution_count": 36,
   "metadata": {
    "ExecuteTime": {
     "end_time": "2019-04-03T20:17:41.341673Z",
     "start_time": "2019-04-03T20:17:41.330307Z"
    },
    "nbgrader": {
     "grade": false,
     "grade_id": "imports",
     "locked": true,
     "schema_version": 2,
     "solution": false
    }
   },
   "outputs": [],
   "source": [
    "import numpy as np\n",
    "import pandas as pd\n",
    "import sys\n",
    "\n",
    "import matplotlib.pyplot as plt\n",
    "%matplotlib inline\n",
    "\n",
    "import seaborn as sns\n",
    "sns.set(style = \"whitegrid\", \n",
    "        color_codes = True,\n",
    "        font_scale = 1.5)\n",
    "\n",
    "from datetime import datetime\n",
    "from IPython.display import display, HTML"
   ]
  },
  {
   "cell_type": "markdown",
   "metadata": {
    "nbgrader": {
     "grade": false,
     "grade_id": "loading",
     "locked": true,
     "schema_version": 2,
     "solution": false
    }
   },
   "source": [
    "## Loading and Cleaning Data\n"
   ]
  },
  {
   "cell_type": "code",
   "execution_count": 37,
   "metadata": {},
   "outputs": [],
   "source": [
    "import zipfile\n",
    "with zipfile.ZipFile('spam_ham_data.zip') as item:\n",
    "    item.extractall()"
   ]
  },
  {
   "cell_type": "code",
   "execution_count": 38,
   "metadata": {},
   "outputs": [
    {
     "data": {
      "text/html": [
       "<div>\n",
       "<style scoped>\n",
       "    .dataframe tbody tr th:only-of-type {\n",
       "        vertical-align: middle;\n",
       "    }\n",
       "\n",
       "    .dataframe tbody tr th {\n",
       "        vertical-align: top;\n",
       "    }\n",
       "\n",
       "    .dataframe thead th {\n",
       "        text-align: right;\n",
       "    }\n",
       "</style>\n",
       "<table border=\"1\" class=\"dataframe\">\n",
       "  <thead>\n",
       "    <tr style=\"text-align: right;\">\n",
       "      <th></th>\n",
       "      <th>id</th>\n",
       "      <th>subject</th>\n",
       "      <th>email</th>\n",
       "      <th>spam</th>\n",
       "    </tr>\n",
       "  </thead>\n",
       "  <tbody>\n",
       "    <tr>\n",
       "      <th>0</th>\n",
       "      <td>0</td>\n",
       "      <td>Subject: A&amp;L Daily to be auctioned in bankrupt...</td>\n",
       "      <td>url: http://boingboing.net/#85534171\\n date: n...</td>\n",
       "      <td>0</td>\n",
       "    </tr>\n",
       "    <tr>\n",
       "      <th>1</th>\n",
       "      <td>1</td>\n",
       "      <td>Subject: Wired: \"Stronger ties between ISPs an...</td>\n",
       "      <td>url: http://scriptingnews.userland.com/backiss...</td>\n",
       "      <td>0</td>\n",
       "    </tr>\n",
       "    <tr>\n",
       "      <th>2</th>\n",
       "      <td>2</td>\n",
       "      <td>Subject: It's just too small                  ...</td>\n",
       "      <td>&lt;html&gt;\\n &lt;head&gt;\\n &lt;/head&gt;\\n &lt;body&gt;\\n &lt;font siz...</td>\n",
       "      <td>1</td>\n",
       "    </tr>\n",
       "    <tr>\n",
       "      <th>3</th>\n",
       "      <td>3</td>\n",
       "      <td>Subject: liberal defnitions\\n</td>\n",
       "      <td>depends on how much over spending vs. how much...</td>\n",
       "      <td>0</td>\n",
       "    </tr>\n",
       "    <tr>\n",
       "      <th>4</th>\n",
       "      <td>4</td>\n",
       "      <td>Subject: RE: [ILUG] Newbie seeks advice - Suse...</td>\n",
       "      <td>hehe sorry but if you hit caps lock twice the ...</td>\n",
       "      <td>0</td>\n",
       "    </tr>\n",
       "  </tbody>\n",
       "</table>\n",
       "</div>"
      ],
      "text/plain": [
       "   id                                            subject  \\\n",
       "0   0  Subject: A&L Daily to be auctioned in bankrupt...   \n",
       "1   1  Subject: Wired: \"Stronger ties between ISPs an...   \n",
       "2   2  Subject: It's just too small                  ...   \n",
       "3   3                      Subject: liberal defnitions\\n   \n",
       "4   4  Subject: RE: [ILUG] Newbie seeks advice - Suse...   \n",
       "\n",
       "                                               email  spam  \n",
       "0  url: http://boingboing.net/#85534171\\n date: n...     0  \n",
       "1  url: http://scriptingnews.userland.com/backiss...     0  \n",
       "2  <html>\\n <head>\\n </head>\\n <body>\\n <font siz...     1  \n",
       "3  depends on how much over spending vs. how much...     0  \n",
       "4  hehe sorry but if you hit caps lock twice the ...     0  "
      ]
     },
     "execution_count": 38,
     "metadata": {},
     "output_type": "execute_result"
    }
   ],
   "source": [
    "original_training_data = pd.read_csv('train.csv')\n",
    "test = pd.read_csv('test.csv')\n",
    "\n",
    "# Convert the emails to lowercase as the first step of text processing.\n",
    "original_training_data['email'] = original_training_data['email'].str.lower()\n",
    "test['email'] = test['email'].str.lower()\n",
    "\n",
    "original_training_data.head()"
   ]
  },
  {
   "cell_type": "code",
   "execution_count": 39,
   "metadata": {
    "ExecuteTime": {
     "end_time": "2019-04-03T20:17:42.203231Z",
     "start_time": "2019-04-03T20:17:42.185104Z"
    },
    "nbgrader": {
     "grade": false,
     "grade_id": "cell-b1fb39d9b651ca1b",
     "locked": false,
     "schema_version": 2,
     "solution": true
    }
   },
   "outputs": [
    {
     "name": "stdout",
     "output_type": "stream",
     "text": [
      "Before imputation:\n",
      "id         0\n",
      "subject    6\n",
      "email      0\n",
      "spam       0\n",
      "dtype: int64\n",
      "------------\n",
      "After imputation:\n",
      "id         0\n",
      "subject    0\n",
      "email      0\n",
      "spam       0\n",
      "dtype: int64\n"
     ]
    }
   ],
   "source": [
    "# Fill any missing or NAN values.\n",
    "print('Before imputation:')\n",
    "print(original_training_data.isnull().sum())\n",
    "original_training_data = original_training_data.fillna('')\n",
    "print('------------')\n",
    "print('After imputation:')\n",
    "print(original_training_data.isnull().sum())"
   ]
  },
  {
   "cell_type": "markdown",
   "metadata": {},
   "source": [
    "## Training/Validation Split\n"
   ]
  },
  {
   "cell_type": "code",
   "execution_count": 40,
   "metadata": {
    "ExecuteTime": {
     "end_time": "2019-04-03T20:17:42.317970Z",
     "start_time": "2019-04-03T20:17:42.294532Z"
    },
    "nbgrader": {
     "grade": false,
     "grade_id": "cell-873194ed3e686dfb",
     "locked": true,
     "schema_version": 2,
     "solution": false
    }
   },
   "outputs": [],
   "source": [
    "# This creates a 90/10 train-validation split on our labeled data.\n",
    "from sklearn.model_selection import train_test_split\n",
    "train, val = train_test_split(original_training_data, test_size = 0.1, random_state = 42)\n",
    "\n",
    "# We must do this in order to preserve the ordering of emails to labels for words_in_texts.\n",
    "train = train.reset_index(drop = True)"
   ]
  },
  {
   "cell_type": "markdown",
   "metadata": {
    "nbgrader": {
     "grade": false,
     "grade_id": "feat-eng",
     "locked": true,
     "schema_version": 2,
     "solution": false
    }
   },
   "source": [
    "## Feature Engineering\n"
   ]
  },
  {
   "cell_type": "code",
   "execution_count": 41,
   "metadata": {},
   "outputs": [
    {
     "data": {
      "text/plain": [
       "array([[1, 0, 0],\n",
       "       [1, 0, 1]])"
      ]
     },
     "execution_count": 41,
     "metadata": {},
     "output_type": "execute_result"
    }
   ],
   "source": [
    "from projB2_utils import words_in_texts\n",
    "\n",
    "words_in_texts(['hello', 'bye', 'world'], pd.Series(['hello', 'hello worldhello']))"
   ]
  },
  {
   "cell_type": "markdown",
   "metadata": {
    "nbgrader": {
     "grade": false,
     "grade_id": "classification",
     "locked": true,
     "schema_version": 2,
     "solution": false
    }
   },
   "source": [
    "## EDA and Basic Classification\n"
   ]
  },
  {
   "cell_type": "code",
   "execution_count": 42,
   "metadata": {
    "ExecuteTime": {
     "end_time": "2019-04-03T20:17:43.726012Z",
     "start_time": "2019-04-03T20:17:43.498088Z"
    },
    "nbgrader": {
     "grade": false,
     "grade_id": "q4-answer",
     "locked": false,
     "schema_version": 2,
     "solution": true
    },
    "tags": [
     "student"
    ]
   },
   "outputs": [
    {
     "data": {
      "text/plain": [
       "(array([[0, 0, 0, 0, 0],\n",
       "        [0, 0, 0, 0, 0],\n",
       "        [0, 0, 0, 0, 0],\n",
       "        [0, 0, 0, 0, 0],\n",
       "        [0, 0, 0, 1, 0]]),\n",
       " array([0, 0, 0, 0, 0]))"
      ]
     },
     "execution_count": 42,
     "metadata": {},
     "output_type": "execute_result"
    }
   ],
   "source": [
    "some_words = ['drug', 'bank', 'prescription', 'memo', 'private']\n",
    "\n",
    "X_train = words_in_texts(some_words, train['email'])\n",
    "Y_train = np.array(train['spam'])\n",
    "\n",
    "X_train[:5], Y_train[:5]"
   ]
  },
  {
   "cell_type": "code",
   "execution_count": 43,
   "metadata": {
    "ExecuteTime": {
     "end_time": "2019-04-03T20:17:44.593918Z",
     "start_time": "2019-04-03T20:17:43.783872Z"
    },
    "nbgrader": {
     "grade": false,
     "grade_id": "q5-answer",
     "locked": false,
     "schema_version": 2,
     "solution": true
    },
    "tags": [
     "student"
    ]
   },
   "outputs": [
    {
     "name": "stdout",
     "output_type": "stream",
     "text": [
      "Training Accuracy:  0.7576201251164648\n"
     ]
    }
   ],
   "source": [
    "from sklearn.linear_model import LogisticRegression\n",
    "\n",
    "simple_model = LogisticRegression()\n",
    "simple_model.fit(X_train, Y_train)\n",
    "\n",
    "training_accuracy = simple_model.score(X_train, Y_train)\n",
    "print(\"Training Accuracy: \", training_accuracy)"
   ]
  },
  {
   "cell_type": "markdown",
   "metadata": {},
   "source": [
    "## Evaluating Classifiers"
   ]
  },
  {
   "cell_type": "markdown",
   "metadata": {},
   "source": [
    "\n",
    "Presumably, the classifier will be used for **filtering**, or preventing messages labeled `spam` from reaching someone's inbox. There are two kinds of errors we can make:\n",
    "- **False positive (FP)**: A ham email gets flagged as spam and filtered out of the inbox.\n",
    "- **False negative (FN)**: A spam email gets mislabeled as ham and ends up in the inbox.\n",
    "\n",
    "To be clear, we label spam emails as 1 and ham emails as 0. These definitions depend both on the true labels and the predicted labels. False positives and false negatives may be of differing importance, leading us to consider more ways of evaluating a classifier in addition to overall accuracy:\n",
    "\n",
    "\n",
    "<center>\n",
    "<img alt=\"precision_recall\" src=\"precision_recall.png\" width=\"600px;\" />\n",
    "</center>\n",
    "\n",
    "Note that a True Positive (TP) is a spam email that is classified as spam, and a True Negative (TN) is a ham email that is classified as ham."
   ]
  },
  {
   "cell_type": "code",
   "execution_count": 44,
   "metadata": {
    "tags": []
   },
   "outputs": [
    {
     "data": {
      "text/plain": [
       "[Text(0.5, 1.0, 'Features Pairwise Correlations Heatmap')]"
      ]
     },
     "metadata": {},
     "output_type": "display_data"
    },
    {
     "data": {
      "image/png": "[encoded data removed]",
      "text/plain": [
       "<Figure size 640x480 with 2 Axes>"
      ]
     },
     "metadata": {},
     "output_type": "display_data"
    }
   ],
   "source": [
    "#Visual of each email's count of characters, numbers, symbols, etc...\n",
    "#Finding better features based on the email text. Some example features are:\n",
    "#Number of characters in the subject/body\n",
    "#Number of words in the subject/body\n",
    "#Use of punctuation (e.g., how many '!'s were there?)\n",
    "#Number/percentage of capital letters\n",
    "#Whether the email is a reply to an earlier email or a forwarded email\n",
    "words = ['border=', '<br>', '</tr>', '<font', 'arial', 'face=','body','please','<head>','<html>', '<b>', '<table', '<div'] \n",
    "X_train_vis = words_in_texts(words, train['email'])\n",
    "X_df = pd.DataFrame(columns = words)\n",
    "for i, row in enumerate(X_train_vis):\n",
    "    X_df.loc[i] = row\n",
    "X_df['count'] = train['email'].str.count('!')\n",
    "X_df['Y'] = train['spam']\n",
    "display(sns.heatmap(data = np.round(X_df.corr(), 2), annot = True, annot_kws = {'size':7}).set(title='Features Pairwise Correlations Heatmap'))"
   ]
  },
  {
   "cell_type": "code",
   "execution_count": 45,
   "metadata": {},
   "outputs": [
    {
     "data": {
      "text/plain": [
       "Text(0, 0.5, 'Average Count of !')"
      ]
     },
     "execution_count": 45,
     "metadata": {},
     "output_type": "execute_result"
    },
    {
     "data": {
      "image/png": "[encoded data removed]",
      "text/plain": [
       "<Figure size 640x480 with 1 Axes>"
      ]
     },
     "metadata": {},
     "output_type": "display_data"
    }
   ],
   "source": [
    "bar = train['email'].str.count('!').groupby(train['spam']).mean().to_frame().reset_index()\n",
    "bar = bar.replace({0:'Ham', 1:'Spam'})\n",
    "sns.barplot(data = bar,x = 'spam', y = 'email')\n",
    "plt.xlabel('Type of Email')\n",
    "plt.ylabel('Average Count of !')"
   ]
  },
  {
   "cell_type": "markdown",
   "metadata": {},
   "source": [
    "From the heatmap plotted above we can observe that common html tags are associated not only with other html tags but also with determining our response variable 'spam'. The second barplot plots the count of exclamations in each ham and spam email texts, proving that exclamation points are on average more prevalent within spam emails than ham. "
   ]
  },
  {
   "cell_type": "markdown",
   "metadata": {
    "deletable": true,
    "editable": true
   },
   "source": [
    "\n",
    "\n",
    "<br/>\n",
    "<hr style=\"border: 1px solid #fdb515;\" />\n",
    "\n",
    "# Building Own Model!\n",
    "\n"
   ]
  },
  {
   "cell_type": "code",
   "execution_count": 46,
   "metadata": {},
   "outputs": [
    {
     "data": {
      "text/html": [
       "<div>\n",
       "<style scoped>\n",
       "    .dataframe tbody tr th:only-of-type {\n",
       "        vertical-align: middle;\n",
       "    }\n",
       "\n",
       "    .dataframe tbody tr th {\n",
       "        vertical-align: top;\n",
       "    }\n",
       "\n",
       "    .dataframe thead th {\n",
       "        text-align: right;\n",
       "    }\n",
       "</style>\n",
       "<table border=\"1\" class=\"dataframe\">\n",
       "  <thead>\n",
       "    <tr style=\"text-align: right;\">\n",
       "      <th></th>\n",
       "      <th>id</th>\n",
       "      <th>subject</th>\n",
       "      <th>email</th>\n",
       "      <th>spam</th>\n",
       "    </tr>\n",
       "  </thead>\n",
       "  <tbody>\n",
       "    <tr>\n",
       "      <th>133</th>\n",
       "      <td>7486</td>\n",
       "      <td>Subject: []ε ޾ƺ\\n</td>\n",
       "      <td>&lt;!-- saved from url=3d(0022)http://internet.e-...</td>\n",
       "      <td>1</td>\n",
       "    </tr>\n",
       "    <tr>\n",
       "      <th>134</th>\n",
       "      <td>4126</td>\n",
       "      <td>Subject: ****Already own a satellite?  Need a ...</td>\n",
       "      <td>recieve all channels on your satellite system!...</td>\n",
       "      <td>1</td>\n",
       "    </tr>\n",
       "    <tr>\n",
       "      <th>138</th>\n",
       "      <td>1087</td>\n",
       "      <td>Subject: FREE Cell Phone + $50 Cash Back!\\n</td>\n",
       "      <td>&lt;html&gt;&lt;head&gt;&lt;title&gt;free motorola cell phone wi...</td>\n",
       "      <td>1</td>\n",
       "    </tr>\n",
       "    <tr>\n",
       "      <th>144</th>\n",
       "      <td>3303</td>\n",
       "      <td>Subject: Thanksgiving Sale\\n</td>\n",
       "      <td>\\n this is a multi-part message in mime format...</td>\n",
       "      <td>1</td>\n",
       "    </tr>\n",
       "    <tr>\n",
       "      <th>145</th>\n",
       "      <td>17</td>\n",
       "      <td>Subject: National Charity Suffering Since 9/11\\n</td>\n",
       "      <td>&lt;body bgcolor=#ffffff&gt;\\n &lt;div&gt;&lt;font face=arial...</td>\n",
       "      <td>1</td>\n",
       "    </tr>\n",
       "  </tbody>\n",
       "</table>\n",
       "</div>"
      ],
      "text/plain": [
       "       id                                            subject  \\\n",
       "133  7486                                  Subject: []ε ޾ƺ\\n   \n",
       "134  4126  Subject: ****Already own a satellite?  Need a ...   \n",
       "138  1087        Subject: FREE Cell Phone + $50 Cash Back!\\n   \n",
       "144  3303                       Subject: Thanksgiving Sale\\n   \n",
       "145    17   Subject: National Charity Suffering Since 9/11\\n   \n",
       "\n",
       "                                                 email  spam  \n",
       "133  <!-- saved from url=3d(0022)http://internet.e-...     1  \n",
       "134  recieve all channels on your satellite system!...     1  \n",
       "138  <html><head><title>free motorola cell phone wi...     1  \n",
       "144  \\n this is a multi-part message in mime format...     1  \n",
       "145  <body bgcolor=#ffffff>\\n <div><font face=arial...     1  "
      ]
     },
     "execution_count": 46,
     "metadata": {},
     "output_type": "execute_result"
    }
   ],
   "source": [
    "train[train['spam'] == 1][40:60].head()"
   ]
  },
  {
   "cell_type": "code",
   "execution_count": 47,
   "metadata": {
    "deletable": false
   },
   "outputs": [],
   "source": [
    "# import libraries\n",
    "# You may use any of these to create features.\n",
    "from sklearn.preprocessing import OneHotEncoder\n",
    "from sklearn.linear_model import LogisticRegression\n",
    "from sklearn.metrics import accuracy_score, roc_curve, confusion_matrix\n",
    "from sklearn.model_selection import GridSearchCV\n",
    "from sklearn.decomposition import PCA\n",
    "import re\n",
    "from collections import Counter"
   ]
  },
  {
   "cell_type": "code",
   "execution_count": 48,
   "metadata": {},
   "outputs": [
    {
     "name": "stdout",
     "output_type": "stream",
     "text": [
      "Ham Replies Prop:  0.9912152269399708\n",
      "Spam Replies Prop:  0.008784773060029283\n"
     ]
    }
   ],
   "source": [
    "print('Ham Replies Prop: ', train.loc[(train['subject'].str.contains('Re:')) & train['spam'] == 0,:].count()[1]/train.shape[0])\n",
    "print('Spam Replies Prop: ', train.loc[(train['subject'].str.contains('Re:')) & train['spam'] == 1,:].count()[1]/train.shape[0])"
   ]
  },
  {
   "cell_type": "code",
   "execution_count": 49,
   "metadata": {},
   "outputs": [
    {
     "data": {
      "text/plain": [
       "0.16631139763467886"
      ]
     },
     "execution_count": 49,
     "metadata": {},
     "output_type": "execute_result"
    }
   ],
   "source": [
    "X_df = train.copy()\n",
    "#train['email'].str.count(r'/?[2]').groupby(train['spam']).mean().to_frame()\n",
    "#X_df['has reply'] = train['subject'].str.contains(r'Subject:\\s(Re:)\\s', regex= True)\n",
    "X_df['X_prop'] = (X_df['subject'].str.count(r'[A-Z]')/(X_df['subject'].str.strip(' ').str.len()))\n",
    "X_df\n",
    "np.mean(X_df[X_df['spam'] ==True]['X_prop'])"
   ]
  },
  {
   "cell_type": "code",
   "execution_count": 50,
   "metadata": {
    "tags": []
   },
   "outputs": [
    {
     "data": {
      "text/html": [
       "<style>#sk-container-id-2 {color: black;background-color: white;}#sk-container-id-2 pre{padding: 0;}#sk-container-id-2 div.sk-toggleable {background-color: white;}#sk-container-id-2 label.sk-toggleable__label {cursor: pointer;display: block;width: 100%;margin-bottom: 0;padding: 0.3em;box-sizing: border-box;text-align: center;}#sk-container-id-2 label.sk-toggleable__label-arrow:before {content: \"▸\";float: left;margin-right: 0.25em;color: #696969;}#sk-container-id-2 label.sk-toggleable__label-arrow:hover:before {color: black;}#sk-container-id-2 div.sk-estimator:hover label.sk-toggleable__label-arrow:before {color: black;}#sk-container-id-2 div.sk-toggleable__content {max-height: 0;max-width: 0;overflow: hidden;text-align: left;background-color: #f0f8ff;}#sk-container-id-2 div.sk-toggleable__content pre {margin: 0.2em;color: black;border-radius: 0.25em;background-color: #f0f8ff;}#sk-container-id-2 input.sk-toggleable__control:checked~div.sk-toggleable__content {max-height: 200px;max-width: 100%;overflow: auto;}#sk-container-id-2 input.sk-toggleable__control:checked~label.sk-toggleable__label-arrow:before {content: \"▾\";}#sk-container-id-2 div.sk-estimator input.sk-toggleable__control:checked~label.sk-toggleable__label {background-color: #d4ebff;}#sk-container-id-2 div.sk-label input.sk-toggleable__control:checked~label.sk-toggleable__label {background-color: #d4ebff;}#sk-container-id-2 input.sk-hidden--visually {border: 0;clip: rect(1px 1px 1px 1px);clip: rect(1px, 1px, 1px, 1px);height: 1px;margin: -1px;overflow: hidden;padding: 0;position: absolute;width: 1px;}#sk-container-id-2 div.sk-estimator {font-family: monospace;background-color: #f0f8ff;border: 1px dotted black;border-radius: 0.25em;box-sizing: border-box;margin-bottom: 0.5em;}#sk-container-id-2 div.sk-estimator:hover {background-color: #d4ebff;}#sk-container-id-2 div.sk-parallel-item::after {content: \"\";width: 100%;border-bottom: 1px solid gray;flex-grow: 1;}#sk-container-id-2 div.sk-label:hover label.sk-toggleable__label {background-color: #d4ebff;}#sk-container-id-2 div.sk-serial::before {content: \"\";position: absolute;border-left: 1px solid gray;box-sizing: border-box;top: 0;bottom: 0;left: 50%;z-index: 0;}#sk-container-id-2 div.sk-serial {display: flex;flex-direction: column;align-items: center;background-color: white;padding-right: 0.2em;padding-left: 0.2em;position: relative;}#sk-container-id-2 div.sk-item {position: relative;z-index: 1;}#sk-container-id-2 div.sk-parallel {display: flex;align-items: stretch;justify-content: center;background-color: white;position: relative;}#sk-container-id-2 div.sk-item::before, #sk-container-id-2 div.sk-parallel-item::before {content: \"\";position: absolute;border-left: 1px solid gray;box-sizing: border-box;top: 0;bottom: 0;left: 50%;z-index: -1;}#sk-container-id-2 div.sk-parallel-item {display: flex;flex-direction: column;z-index: 1;position: relative;background-color: white;}#sk-container-id-2 div.sk-parallel-item:first-child::after {align-self: flex-end;width: 50%;}#sk-container-id-2 div.sk-parallel-item:last-child::after {align-self: flex-start;width: 50%;}#sk-container-id-2 div.sk-parallel-item:only-child::after {width: 0;}#sk-container-id-2 div.sk-dashed-wrapped {border: 1px dashed gray;margin: 0 0.4em 0.5em 0.4em;box-sizing: border-box;padding-bottom: 0.4em;background-color: white;}#sk-container-id-2 div.sk-label label {font-family: monospace;font-weight: bold;display: inline-block;line-height: 1.2em;}#sk-container-id-2 div.sk-label-container {text-align: center;}#sk-container-id-2 div.sk-container {/* jupyter's `normalize.less` sets `[hidden] { display: none; }` but bootstrap.min.css set `[hidden] { display: none !important; }` so we also need the `!important` here to be able to override the default hidden behavior on the sphinx rendered scikit-learn.org. See: https://github.com/scikit-learn/scikit-learn/issues/21755 */display: inline-block !important;position: relative;}#sk-container-id-2 div.sk-text-repr-fallback {display: none;}</style><div id=\"sk-container-id-2\" class=\"sk-top-container\"><div class=\"sk-text-repr-fallback\"><pre>LogisticRegression(penalty=&#x27;l1&#x27;, solver=&#x27;liblinear&#x27;)</pre><b>In a Jupyter environment, please rerun this cell to show the HTML representation or trust the notebook. <br />On GitHub, the HTML representation is unable to render, please try loading this page with nbviewer.org.</b></div><div class=\"sk-container\" hidden><div class=\"sk-item\"><div class=\"sk-estimator sk-toggleable\"><input class=\"sk-toggleable__control sk-hidden--visually\" id=\"sk-estimator-id-2\" type=\"checkbox\" checked><label for=\"sk-estimator-id-2\" class=\"sk-toggleable__label sk-toggleable__label-arrow\">LogisticRegression</label><div class=\"sk-toggleable__content\"><pre>LogisticRegression(penalty=&#x27;l1&#x27;, solver=&#x27;liblinear&#x27;)</pre></div></div></div></div></div>"
      ],
      "text/plain": [
       "LogisticRegression(penalty='l1', solver='liblinear')"
      ]
     },
     "execution_count": 50,
     "metadata": {},
     "output_type": "execute_result"
    }
   ],
   "source": [
    "# Define  processing function, processed data, and model here. \n",
    "# You may find it helpful to look through the rest of the questions first!\n",
    "def feature_process(df):\n",
    "    words = ['border=', '<br>', '</tr>', '<font','arial', 'face=','body','please','<head>','<html>', '<b>',  '<table','<div',\n",
    "         '<p', 'sans-serif', 'free', 'cash', \n",
    "             'offer', 'business', 'verdana', '<option', 'address', 'need', 'money', 'credit card', '<center', 'align=', 'emailing list',\n",
    "            'urgent', 'dear', 'congratulation', 'dollar', 'confidential', 'drug']\n",
    "    X = words_in_texts(words, df['email'])\n",
    "    X_reg = pd.DataFrame(X,columns = words)\n",
    "    #for i, row in enumerate(X):\n",
    "        #X_reg.loc[i] = row\n",
    "## Add additional Features below this \n",
    "    X_reg['net_sub'] =  df['subject'].str.findall(r'[!=&;$%#\"]').str.len().fillna(0)\n",
    "    X_reg['net_email'] =  df['email'].str.findall(r'[!=&;$#<]').str.len().fillna(0)\n",
    "    X_reg['multi_dashes'] =  df['email'].str.findall(r'/-{3,}').str.len().fillna(0)\n",
    "    X_reg['repeating_chars'] =  df['email'].str.findall(r'/[a-z]{5,}').str.len().fillna(0)\n",
    "    X_reg['text_text'] = df['email'].str.split(' ').str.len()/df['email'].str.len().fillna(0)\n",
    "    X_reg['text_subject'] = df['subject'].str.split(' ').str.len().fillna(0)\n",
    "    X_reg['Is Reply'] = df['subject'].str.contains(r'\\Subject: Re:', regex= True).fillna(0)\n",
    "    avg = np.mean((df['subject'].str.count(r'[A-Z]')/df['subject'].str.len())**2)\n",
    "    #X_reg['Capital'] = ((df['subject'].str.count(r'[A-Z]')/df['subject'].str.strip(' ').str.len())**2).fillna(avg)\n",
    "    X_reg['shouting'] = ((df['subject'].str.count(r'[A-Z]')/df['subject'].str.strip(' ').str.len())**2).fillna(avg)\n",
    "    #X_reg['Capital'] = df['Capital'].fillna(np.mean(X_reg['Capital']))\n",
    "    sub_list = ['please', 'address', 'money', 'time', 'free', '$', 'email', 'credit card', ' need', 'information', '#', 'asap', 'assistance',\n",
    "               '\"', 'urgent', 'need', 'cash', 'congrats', 'congratulation']\n",
    "    X_sub = words_in_texts(sub_list, df['subject'].str.lower())\n",
    "    X_sub_df = pd.DataFrame(X_sub, columns =sub_list)\n",
    "    #for i, row in enumerate(X_sub):\n",
    "    #    X_sub_df.loc[i] = row\n",
    "    #return X_reg.merge(X_sub_df)\n",
    "    return X_reg.merge(X_sub_df, left_index=True, right_index=True, how='left').fillna(0)\n",
    "#-----------------------\n",
    " \n",
    "X_reg = feature_process(train)\n",
    "simple = LogisticRegression(penalty = 'l1', solver = 'liblinear')\n",
    "X_reg['Y'] = train['spam']\n",
    "simple.fit(X_reg.iloc[:,:X_reg.shape[1]-1], X_reg['Y'])"
   ]
  },
  {
   "cell_type": "code",
   "execution_count": 62,
   "metadata": {},
   "outputs": [],
   "source": [
    "import warnings\n",
    "\n",
    "# Ignore all warnings\n",
    "warnings.filterwarnings('ignore')\n",
    "\n",
    "# To ignore specific warnings, e.g., ConvergenceWarning\n",
    "from sklearn.exceptions import ConvergenceWarning\n",
    "warnings.filterwarnings('ignore', category=ConvergenceWarning)"
   ]
  },
  {
   "cell_type": "code",
   "execution_count": 63,
   "metadata": {
    "scrolled": true
   },
   "outputs": [
    {
     "data": {
      "text/plain": [
       "{'mean_fit_time': array([0.002246  , 0.17111087, 0.01595397, 0.78244791]),\n",
       " 'std_fit_time': array([0.000787  , 0.06369757, 0.02645998, 0.01798326]),\n",
       " 'mean_score_time': array([0.        , 0.00426412, 0.        , 0.00430465]),\n",
       " 'std_score_time': array([0.00000000e+00, 2.78523519e-05, 0.00000000e+00, 1.78273019e-04]),\n",
       " 'param_solver': masked_array(data=['lbfgs', 'liblinear', 'newton-cg', 'saga'],\n",
       "              mask=[False, False, False, False],\n",
       "        fill_value='?',\n",
       "             dtype=object),\n",
       " 'params': [{'solver': 'lbfgs'},\n",
       "  {'solver': 'liblinear'},\n",
       "  {'solver': 'newton-cg'},\n",
       "  {'solver': 'saga'}],\n",
       " 'split0_test_score': array([       nan, 0.92348636,        nan, 0.80705256]),\n",
       " 'split1_test_score': array([       nan, 0.92880905,        nan, 0.79574185]),\n",
       " 'split2_test_score': array([       nan, 0.90818363,        nan, 0.80239521]),\n",
       " 'split3_test_score': array([       nan, 0.92010652,        nan, 0.80159787]),\n",
       " 'split4_test_score': array([       nan, 0.91011984,        nan, 0.7976032 ]),\n",
       " 'mean_test_score': array([       nan, 0.91814108,        nan, 0.80087814]),\n",
       " 'std_test_score': array([       nan, 0.0078706 ,        nan, 0.00395094]),\n",
       " 'rank_test_score': array([3, 1, 3, 2], dtype=int32)}"
      ]
     },
     "execution_count": 63,
     "metadata": {},
     "output_type": "execute_result"
    }
   ],
   "source": [
    "parameters = {'solver':['lbfgs', 'liblinear', 'newton-cg', 'saga']}\n",
    "grid = GridSearchCV(estimator=simple, param_grid=parameters)\n",
    "grid_result = grid.fit(X_reg.iloc[:,:(X_reg.shape[1]-1)], X_reg['Y'])\n",
    "grid_result.cv_results_ "
   ]
  },
  {
   "cell_type": "code",
   "execution_count": 64,
   "metadata": {
    "tags": []
   },
   "outputs": [
    {
     "data": {
      "text/plain": [
       "0.9241315053906562"
      ]
     },
     "execution_count": 64,
     "metadata": {},
     "output_type": "execute_result"
    }
   ],
   "source": [
    "train_predictions = simple.predict(feature_process(train))\n",
    "\n",
    "# Print  training accuracy. \n",
    "training_accuracy = np.mean(train_predictions == train[\"spam\"])\n",
    "training_accuracy"
   ]
  },
  {
   "cell_type": "markdown",
   "metadata": {
    "deletable": true,
    "editable": true
   },
   "source": [
    "\n",
    "## Test Predictions on Test Set (Unlabeled)"
   ]
  },
  {
   "cell_type": "code",
   "execution_count": 65,
   "metadata": {},
   "outputs": [
    {
     "data": {
      "text/html": [
       "<div>\n",
       "<style scoped>\n",
       "    .dataframe tbody tr th:only-of-type {\n",
       "        vertical-align: middle;\n",
       "    }\n",
       "\n",
       "    .dataframe tbody tr th {\n",
       "        vertical-align: top;\n",
       "    }\n",
       "\n",
       "    .dataframe thead th {\n",
       "        text-align: right;\n",
       "    }\n",
       "</style>\n",
       "<table border=\"1\" class=\"dataframe\">\n",
       "  <thead>\n",
       "    <tr style=\"text-align: right;\">\n",
       "      <th></th>\n",
       "      <th>id</th>\n",
       "      <th>subject</th>\n",
       "      <th>email</th>\n",
       "    </tr>\n",
       "  </thead>\n",
       "  <tbody>\n",
       "    <tr>\n",
       "      <th>0</th>\n",
       "      <td>7657</td>\n",
       "      <td>Subject: Patch to enable/disable log\\n</td>\n",
       "      <td>while i was playing with the past issues, it a...</td>\n",
       "    </tr>\n",
       "    <tr>\n",
       "      <th>1</th>\n",
       "      <td>6911</td>\n",
       "      <td>Subject: When an engineer flaps his wings\\n</td>\n",
       "      <td>url: http://diveintomark.org/archives/2002/10/...</td>\n",
       "    </tr>\n",
       "    <tr>\n",
       "      <th>2</th>\n",
       "      <td>6074</td>\n",
       "      <td>Subject: Re: [Razor-users] razor plugins for m...</td>\n",
       "      <td>no, please post a link!\\n \\n fox\\n ----- origi...</td>\n",
       "    </tr>\n",
       "    <tr>\n",
       "      <th>3</th>\n",
       "      <td>4376</td>\n",
       "      <td>Subject: NYTimes.com Article: Stop Those Press...</td>\n",
       "      <td>this article from nytimes.com \\n has been sent...</td>\n",
       "    </tr>\n",
       "    <tr>\n",
       "      <th>4</th>\n",
       "      <td>5766</td>\n",
       "      <td>Subject: What's facing FBI's new CIO? (Tech Up...</td>\n",
       "      <td>&lt;html&gt;\\n &lt;head&gt;\\n &lt;title&gt;tech update today&lt;/ti...</td>\n",
       "    </tr>\n",
       "    <tr>\n",
       "      <th>...</th>\n",
       "      <td>...</td>\n",
       "      <td>...</td>\n",
       "      <td>...</td>\n",
       "    </tr>\n",
       "    <tr>\n",
       "      <th>7508</th>\n",
       "      <td>5734</td>\n",
       "      <td>Subject: [Spambayes] understanding high false ...</td>\n",
       "      <td>&gt;&gt;&gt;&gt;&gt; \"tp\" == tim peters &lt;tim.one@comcast.net&gt;...</td>\n",
       "    </tr>\n",
       "    <tr>\n",
       "      <th>7509</th>\n",
       "      <td>5191</td>\n",
       "      <td>Subject: Reach millions on the internet!!\\n</td>\n",
       "      <td>\\n dear consumers, increase your business sale...</td>\n",
       "    </tr>\n",
       "    <tr>\n",
       "      <th>7510</th>\n",
       "      <td>5390</td>\n",
       "      <td>Subject: Facts about sex.\\n</td>\n",
       "      <td>\\n forwarded-by: flower\\n \\n did you know that...</td>\n",
       "    </tr>\n",
       "    <tr>\n",
       "      <th>7511</th>\n",
       "      <td>860</td>\n",
       "      <td>Subject: Re: Zoot apt/openssh &amp; new DVD playin...</td>\n",
       "      <td>on tue, oct 08, 2002 at 04:36:13pm +0200, matt...</td>\n",
       "    </tr>\n",
       "    <tr>\n",
       "      <th>7512</th>\n",
       "      <td>7270</td>\n",
       "      <td>Subject: Re: Internet radio - example from a c...</td>\n",
       "      <td>chris haun wrote:\\n &gt; \\n &gt; we would need someo...</td>\n",
       "    </tr>\n",
       "  </tbody>\n",
       "</table>\n",
       "<p>7513 rows × 3 columns</p>\n",
       "</div>"
      ],
      "text/plain": [
       "        id                                            subject  \\\n",
       "0     7657             Subject: Patch to enable/disable log\\n   \n",
       "1     6911        Subject: When an engineer flaps his wings\\n   \n",
       "2     6074  Subject: Re: [Razor-users] razor plugins for m...   \n",
       "3     4376  Subject: NYTimes.com Article: Stop Those Press...   \n",
       "4     5766  Subject: What's facing FBI's new CIO? (Tech Up...   \n",
       "...    ...                                                ...   \n",
       "7508  5734  Subject: [Spambayes] understanding high false ...   \n",
       "7509  5191        Subject: Reach millions on the internet!!\\n   \n",
       "7510  5390                        Subject: Facts about sex.\\n   \n",
       "7511   860  Subject: Re: Zoot apt/openssh & new DVD playin...   \n",
       "7512  7270  Subject: Re: Internet radio - example from a c...   \n",
       "\n",
       "                                                  email  \n",
       "0     while i was playing with the past issues, it a...  \n",
       "1     url: http://diveintomark.org/archives/2002/10/...  \n",
       "2     no, please post a link!\\n \\n fox\\n ----- origi...  \n",
       "3     this article from nytimes.com \\n has been sent...  \n",
       "4     <html>\\n <head>\\n <title>tech update today</ti...  \n",
       "...                                                 ...  \n",
       "7508  >>>>> \"tp\" == tim peters <tim.one@comcast.net>...  \n",
       "7509  \\n dear consumers, increase your business sale...  \n",
       "7510  \\n forwarded-by: flower\\n \\n did you know that...  \n",
       "7511  on tue, oct 08, 2002 at 04:36:13pm +0200, matt...  \n",
       "7512  chris haun wrote:\\n > \\n > we would need someo...  \n",
       "\n",
       "[7513 rows x 3 columns]"
      ]
     },
     "execution_count": 65,
     "metadata": {},
     "output_type": "execute_result"
    }
   ],
   "source": [
    "train.iloc[:,:3]"
   ]
  },
  {
   "cell_type": "code",
   "execution_count": 66,
   "metadata": {},
   "outputs": [
    {
     "data": {
      "text/plain": [
       "0.8471774193548387"
      ]
     },
     "execution_count": 66,
     "metadata": {},
     "output_type": "execute_result"
    }
   ],
   "source": [
    "from sklearn.model_selection import train_test_split\n",
    "X_train, X_test, y_train, y_test = train_test_split(train.iloc[:,:3], train['spam'], test_size = .33,\n",
    "                                                            random_state = 42)\n",
    "test_predictions = simple.predict(feature_process(X_test))\n",
    "np.mean(test_predictions == y_test)"
   ]
  },
  {
   "cell_type": "code",
   "execution_count": 67,
   "metadata": {
    "tags": []
   },
   "outputs": [],
   "source": [
    "test_predictions = simple.predict(feature_process(test))\n",
    "# np.mean(test_predictions == test['spam'])"
   ]
  },
  {
   "cell_type": "code",
   "execution_count": 68,
   "metadata": {},
   "outputs": [
    {
     "name": "stdout",
     "output_type": "stream",
     "text": [
      "Created a CSV file: submission_20241118_000602.csv.\n"
     ]
    },
    {
     "data": {
      "text/html": [
       "Download test prediction <a href='submission_20241118_000602.csv' download>here</a>."
      ],
      "text/plain": [
       "<IPython.core.display.HTML object>"
      ]
     },
     "metadata": {},
     "output_type": "display_data"
    }
   ],
   "source": [
    "# Assuming that the predictions on the test set are stored in a 1-dimensional array called\n",
    "# test_predictions. \n",
    "submission_df = pd.DataFrame({\n",
    "    \"Id\": test['id'], \n",
    "    \"Class\": test_predictions,\n",
    "}, columns=['Id', 'Class'])\n",
    "timestamp = datetime.now().strftime(\"%Y%m%d_%H%M%S\")\n",
    "filename = \"submission_{}.csv\".format(timestamp)\n",
    "submission_df.to_csv(filename, index=False)\n",
    "\n",
    "print('Created a CSV file: {}.'.format(\"submission_{}.csv\".format(timestamp)))\n",
    "display(HTML(\"Download test prediction <a href='\" + filename + \"' download>here</a>.\"))"
   ]
  },
  {
   "cell_type": "markdown",
   "metadata": {
    "deletable": true,
    "editable": true
   },
   "source": [
    "<!-- BEGIN QUESTION -->\n",
    "\n",
    "<br>\n",
    "\n",
    "---\n",
    "\n",
    "# Analysis/ Key Takeaways\n",
    "\n",
    "\n",
    "1. How did better features worked for the  model?\n",
    "2. What worked and didnt?\n",
    "3. Surprising findings?"
   ]
  },
  {
   "cell_type": "markdown",
   "metadata": {},
   "source": [
    "1.) My model progressively reduced its error and increased its accuracy as I implemented more general html tags that I found are common in programming along with perfroming EDA such as counting the unique values of each word/tag split by spaces and sentence ending characters (.!,:, etc..). From this EDA and filtering for spam email I was able to gain a good understadning of what sort of words/tags spam emails tend to contain outside of commonly used words that overlap both types of emails such as 'the', 'of'. The heat map derived above also provided a good sense to how these different words would perform in our model as we were able to consoliate pairwise correlations which inicated that the html tags correlated highly with not only each other but with the our response variable too ('spam'). Taking the suggestions offered above I also performed regex parsing to count characters such as !,#,-,&,= as I found these to common amongst spam emails, especially groups of them which signaled my capture groups being multiples of these aggregated counts. Additionally, I applied our words_in_texts function to the subject column and merged that to act as another set of features (although it did not contribute much). Furthermore, I added a column that distinguished reply emails emails versus regular emails. Lastly, the behavior of different characters was key to allude spam emails, thus I computed the ratio of capital letters versus total characters and found that spam emails contained higher ratios than ham emails (i.e spam emails and subjects tended to be more in a \"shouting\" tone). All in all, the key features that mitigated overlap and helped with interpretibility of the model was the incorportation of excessive symbols and html tags in the model as it was highly correlated with accurately distinguishing.\n",
    "\n",
    "2.) Commonly used overlapping words tended to disprupt the accuracy, thus calling for adjustments and removals of my words list by steering away from commonly used vocabulary. Adding the < against the html tags helped ensure we were indeed targeting the html commands prevalent amongst spam emails. I was initially for looping an enumerated matrix into a data frame which took a long execution time, thus I adjusted and was able to input the matrix directly into a df as entries with the corresponding columns without perfromance errors. The regression would fail when Nan values were encountered during the feature process, thus ensuring the Na values were imputed was a major step. \n",
    "\n",
    "3.) I was surprised at the excessive use of symbols and html commands used in spam emails. Additionally I realized the majority of replied emails were practically regular ham emails and were almost never replies. Upon computing the feature of the ratio of upper case letters versus all letters in the subject columns, I was intrigued to find that raising the value by 2 improved the accuracy of the model. On a final note of this feature, the feature contribution was significantly more notable than if I had not computed the ratio and simply processed the sole count. "
   ]
  },
  {
   "cell_type": "markdown",
   "metadata": {
    "deletable": true,
    "editable": true
   },
   "source": [
    "\n",
    "# Prediction Performance Evaluation with ROC Curve\n",
    "\n",
    "In most cases, we won't be able to get 0 false positives and 0 false negatives, so we have to compromise. For example, in the case of cancer screenings, false negatives are comparatively worse than false positives — a false negative means that a patient might not discover that they have cancer until it's too late. In contrast, a patient can receive another screening for a false positive.\n",
    "\n",
    "Recall that logistic regression calculates the probability that an example belongs to a particular class. To classify an example, we say that an email is spam if our classifier gives it $\\ge 0.5$ probability of being spam. However, **we can adjust that cutoff threshold**. We can say that an email is spam only if our classifier gives it $\\ge 0.7$ probability of being spam, for example.\n"
   ]
  },
  {
   "cell_type": "code",
   "execution_count": 69,
   "metadata": {},
   "outputs": [],
   "source": [
    "train1 = feature_process(train)"
   ]
  },
  {
   "cell_type": "code",
   "execution_count": 70,
   "metadata": {},
   "outputs": [
    {
     "data": {
      "image/png": "[encoded data removed]",
      "text/plain": [
       "<Figure size 640x480 with 1 Axes>"
      ]
     },
     "metadata": {},
     "output_type": "display_data"
    }
   ],
   "source": [
    "fpr, tpr, t = roc_curve(train['spam'], simple.predict_proba(train1)[:,1])\n",
    "plt.plot(fpr, tpr)\n",
    "plt.plot(fpr, fpr, label = 'Random Classifier', linestyle = 'dashed')\n",
    "plt.xlabel(\"FPR\")\n",
    "plt.ylabel(\"TPR\")\n",
    "plt.title('ROC Curve on Training Data')\n",
    "plt.text(0.52, 0.5, '<---------Random Classifier', size = 10)\n",
    "plt.scatter(0,1)\n",
    "plt.text(-.05, .95, 'Perfect Classifier', size = 10)\n",
    "\n",
    "plt.show();"
   ]
  },
  {
   "cell_type": "markdown",
   "metadata": {},
   "source": [
    "### Assessing Example "
   ]
  },
  {
   "cell_type": "code",
   "execution_count": 71,
   "metadata": {},
   "outputs": [
    {
     "name": "stdout",
     "output_type": "stream",
     "text": [
      "spam: 0\n",
      "\n",
      "email:\n",
      "this is a multi part message in mime format.\n",
      " \n",
      " --_nextpart_1_bvfoditvghtocxfdvjnkcuwblfv\n",
      " content-type: text/plain; charset=\"us-ascii\"\n",
      " content-transfer-encoding: 7bit\n",
      " \n",
      " ........... with our telecoms partner bumblebee !\n",
      " \n",
      " don't get ripped off by expensive hotel, payphone and mobile charges. \n",
      " save, save, save on international calls with ryanair's phone partner. \n",
      " ************************************************************************\n",
      " *********\n",
      " \n",
      " you'll save up to 70% on international phone calls when you use our \n",
      " online phone card.  you can use the card from any phone in any country \n",
      " you visit and you won't have to worry about high phone charges \n",
      " when you call home or the office.\n",
      " \n",
      " buying a card couldn't be easier and it's totally secure.  simply go to\n",
      " http://www.bumblebeecommunications.com/lowcostcalls/  \n",
      "  to avail of this special offer for ryanair customers.\n",
      " \n",
      " it's another great deal from ryanair and our online phone \n",
      " partner, bumblebee communications. \n",
      " \n",
      "  \n",
      " \n",
      " \n",
      " \n",
      " \n",
      " \n",
      " \n",
      " \n",
      " =====================================================================\n",
      " \n",
      " e-mail disclaimer\n",
      " \n",
      " this e-mail and any files and attachments transmitted with it \n",
      " are confidential and may be legally privileged. they are intended \n",
      " solely for the use of the intended recipient.  any views and \n",
      " opinions expressed are those of the individual author/sender \n",
      " and are not necessarily shared or endorsed by ryanair holdings plc \n",
      " or any associated or related company. in particular e-mail \n",
      " transmissions are not binding for the purposes of forming \n",
      " a contract to sell airline seats, directly or via promotions, \n",
      " and do not form a contractual obligation of any type.   \n",
      " such contracts can only be formed in writing by post or fax, \n",
      " duly signed by a senior company executive, subject to approval \n",
      " by the board of directors.\n",
      " \n",
      " the content of this e-mail or any file or attachment transmitted \n",
      " with it may have been changed or altered without the consent \n",
      " of the author.  if you are not the intended recipient of this e-mail, \n",
      " you are hereby notified that any review, dissemination, disclosure, \n",
      " alteration, printing, circulation or transmission of, or any \n",
      " action taken or omitted in reliance on this e-mail or any file \n",
      " or attachment transmitted with it is prohibited and may be unlawful.\n",
      " \n",
      " if you have received this e-mail in error \n",
      " please notify ryanair holdings plc by emailing postmaster@ryanair.ie\n",
      " or contact ryanair holdings plc, dublin airport, co dublin, ireland.  \n",
      " \n",
      " --_nextpart_1_bvfoditvghtocxfdvjnkcuwblfv\n",
      " content-type: application/ms-tnef\n",
      " content-transfer-encoding: base64\n",
      " \n",
      " ej8+ijuqaqaqcaaeaaaaaaabaaeaaqeqbgaiaaaa5aqaaaaaaadoaaeigacagaaaaelqts5nawny\n",
      " b3nvznqgtwfpbc5ob3rladeiaq2abaacaaaaagacaaeegaeajwaaafnhdmugdxagdg8gnzalig9u\n",
      " igludgvybmf0aw9uywwgy2fsbhmhacgnaqwaawaoaaaa0gciab4aeqaqadqabqbzaqeggamadgaa\n",
      " anihcaaeabeakga0aauacwebcyabaceaaaaxnundqzu1m0zcnjvgotrcodjbote2nji0qjy5odi2\n",
      " naagbwedkayayagaadeaaaalaaiaaqaaaamajgaaaaaaawa2aaaaaabaadkaohxzserqwgeead0a\n",
      " aqaaaaeaaaaaaaaaagfhaaeaaaayaaaayz11czthpsa7cd1sewfuywlyo2w9q0hpvk1bsuwxltay\n",
      " mdgzmde2ndi1mlotnty1ngaaab4acaabaaaajwaaafnhdmugdxagdg8gnzalig9uigludgvybmf0\n",
      " aw9uywwgy2fsbhmhaaacaxeaaqaaabyaaaabwlbesgnvr3xmdo5jp7lazao6pgd8aaaeabomaqaa\n",
      " aawaaabdb3lszswgu2vhbgaeab0oaqaaaccaaabtyxzlihvwihrvidcwjsbvbibpbnrlcm5hdglv\n",
      " bmfsignhbgxziqaaagejeaeaaac7agaatwiaalseaabmwkz1tpw4mgmacgbyy3bnmti14jidq3rl\n",
      " eavbaqmb908kgakka+mcagnocsbz8gv0mcahewkad/mauh8evghvb7irxq5raweqxzl3bgagwxhf\n",
      " mwrgemks2xht2wjvcfc7gl8omdurwgxgzmmauasjawqznhfqc6yuic4dmcad8hroinuiysaosgwf\n",
      " kw0eiaqxzhrueyfcdqbqhwbiuqngicekogqecobeaibqxcc5mgvazxewib0fexajgb6qasagynku\n",
      " ia7aimaagxygcghvzr7hlb9hexajsb+wipcacckabgbiaxagcbdiifcgcx4wikrtqvzfjaa/jlge\n",
      " kaogc4aosasgyxteaqigb0aluadabaqghlpsunkacatwcigsh1eky/sfdsxwkitplf8tby5/l0od\n",
      " ikpzcgahkiiqihnhcsobdxae0g8gnzaujsdfkeuodwgj8cb5vwhgmfarib6tikqcigwlgo8qmtpf\n",
      " cyaemcaxeshha6d3nqiecdauiansjkei8cru1wuaolmfohucmhii8cckvttcdgqahmakoztcdyf2\n",
      " 7xdwi4eymtvqcjohaaaiypk8qwlnhoaztsv0jeu0d/8ociohb4aekb7bn/eioq3grguuikof8hkl\n",
      " ggckohm4fdnrbgqhhsbqiwbh/wcqeyeksh5gkzqymagqkjc7ivarigmiceegnwbtb3bbc1ai8gcy\n",
      " qdixaajacja6ly93r1auyiagfr8hbtnwdean8yxahyevprhqdwwgc3qocy83ap8gpdiimcalcamg\n",
      " iqa30qqa+zggimbjbzeikhmhahafwh8pjsvqnqaymaeaerbbo0l/rjuaccpaniafwanbj/ag/wea\n",
      " kee4c0zmjlieojxrikt/h3ukab/4cfbisyxlskugqgtwx1drfvigab4anrabaaaasaaaadxemtng\n",
      " n0mwntq3rdcxrjrdqtqwnzmyn0e4mjuxmzywmde5q0e5q0bdse9wtufjtdeuy2hvlmnvcnaucnlh\n",
      " bmfpci5jb20+aamagbd/////cwdyeaeaaaafapmqaqaaafoaaabtageadgblacaadqbwacaadabv\n",
      " acaanwawacuamga1acaabwbuacaaaqbuahqazqbyag4ayqb0agkabwbuageabaagagmayqbsagwa\n",
      " cwahac4arqbnaewaaaaaaasa9haaaaaaqaahmn0zcuheumibqaaimjpeduheumibawdep59oaaad\n",
      " ape/cqqaab4a+d8baaaadaaaaenvewxllcbtzwfuaaib+t8baaaaxqaaaaaaaadcp0diweiqgrs5\n",
      " caarl+gcaqaaaaaaaaavtz1swufoqulsl09vpuzjulnuiefetulosvnuukfusvzfiedst1vql0no\n",
      " pvjfq0lqsuvovfmvq049q09ztevtaaaaab4a+j8baaaafqaaafn5c3rlbsbbzg1pbmlzdhjhdg9y\n",
      " aaaaaaib+z8baaaahgaaaaaaaadcp0diweiqgrs5caarl+gcaqaaaaaaaaauaaaaawazqaaaaaad\n",
      " abpaaaaaab4ameabaaaabwaaaenpwuxfuwaahgaxqaeaaaahaaaaq09ztevtaaaeadhaaqaaaaca\n",
      " aabdt1lmrvmaab4aouabaaaaagaaac4aaaadaalzaqaaaasawieiiayaaaaaamaaaaaaaabgaaaa\n",
      " aa6faaaaaaaaawbwgqggbgaaaaaawaaaaaaaaeyaaaaauouaafmuaqaeahgbccagaaaaaadaaaaa\n",
      " aaaargaaaabuhqaaaqaaaauaaaaxmc4waaaaaamauieiiayaaaaaamaaaaaaaabgaaaaaagfaaaa\n",
      " aaaaqac6gqggbgaaaaaawaaaaaaaaeyaaaaayiuaaaaaaaaaaaaacwc9gqggbgaaaaaawaaaaaaa\n",
      " aeyaaaaaa4uaaaaaaaadamebccagaaaaaadaaaaaaaaargaaaaaqhqaaaaaaaamazoeiiayaaaaa\n",
      " amaaaaaaaabgaaaaabifaaaaaaaacwdlgqggbgaaaaaawaaaaaaaaeyaaaaabouaaaaaaaalaomb\n",
      " ccagaaaaaadaaaaaaaaargaaaacchqaaaaaaaasakqaaaaaacwajaaaaaaadaayqhr1s2qmabxb/\n",
      " agaaawaqeasaaaadabeqaqaaab4acbabaaaazqaaafdjvehpvvjuruxfq09nu1bbulrorvjcvu1c\n",
      " tevcruvet05ur0vuuklquevet0zgqllfwfbftlnjvkvit1rftcxqqvlqse9orufore1pqklmruni\n",
      " qvjhrvntqvzflfnbvkusu0eaaaaaagf/aaeaaabiaaaapeqxm0y3qza1nddenzfgnenbnda3mzi3\n",
      " qtgynteznjawmtldqtldqenit1znqulmms5jag8uy29ycc5yewfuywlylmnvbt4aeoq=\n",
      " \n",
      " \n",
      " --_nextpart_1_bvfoditvghtocxfdvjnkcuwblfv\n",
      " content-type: text/plain; charset=\"us-ascii\"\n",
      " content-description: footer\n",
      " \n",
      " ---\n",
      " you are currently subscribed to customers as: zzzz-ryanair@example.com\n",
      " to unsubscribe send a blank email to leave-customers-949326k@mail.ryanairmail.com\n",
      " \n",
      " --_nextpart_1_bvfoditvghtocxfdvjnkcuwblfv--\n",
      " \n",
      " \n",
      "\n"
     ]
    }
   ],
   "source": [
    "# Assessing Example\n",
    "print(\"spam: \" + str(train.loc[1092][\"spam\"]))\n",
    "print(\"\\nemail:\\n\" + train.loc[1092][\"email\"])"
   ]
  },
  {
   "cell_type": "markdown",
   "metadata": {
    "deletable": true,
    "editable": true
   },
   "source": [
    "\n",
    "\n",
    "### Evaluating Examples emails from above "
   ]
  },
  {
   "cell_type": "markdown",
   "metadata": {},
   "source": [
    "My classificaton would classify the email as spam due to multiple characteristics that align with what my model was interested in. This email from RyanAir, an airline provider seems to be a promotional email to gain customers on their different credit card branch of business. The email seems to contain multiple repeating use cases of symbols (i.e = and *) along with excessive repeating letters towards the end of the email which are all key indicators of spam emails. One may disagree with my argument when considering this passenger may be traveling abroad to international waters and may find this specific email vital to their foreign plans to secure a line for communication carrying mutual benefits from their airline provider. One may also argue that the user opted in for these intentionally and thus would like to be prompted with such promotions."
   ]
  },
  {
   "cell_type": "markdown",
   "metadata": {},
   "source": [
    "Before making concrete conclusions, it is pivotal to trace back the tabular data itself and the methods used to retrieve the emails as many of our preliminary assumptions are at risk of being violated conditional on the methods used. For example, in the case of data retrieval and processing of the email if symbols, html tags or letter cases were misinterpreted, then these errors can falsely disguise truly ham emails as spam. \n",
    "\n",
    "When assessing the ambiguity of initial classifications of our training  emails (deemed as true values of our response variable) we are relying that the \"users\" used their best judgement to classify the email, thus opening doors to ambiguity within the true identity of the email. This alludes to the question if those labeled as spam in our training were truthfully ham, but mislabeled by \"users\" in the preliminary stages as spam due to some organizing reason for example and thus given such assignment. Therefore, ambiguity and the origins of the training data are important and reveal that False Positives are worth investigating."
   ]
  },
  {
   "cell_type": "markdown",
   "metadata": {
    "deletable": true,
    "editable": true
   },
   "source": [
    "#### Examine how a particular feature influences how an email is classified. "
   ]
  },
  {
   "cell_type": "code",
   "execution_count": 72,
   "metadata": {
    "deletable": false,
    "editable": false
   },
   "outputs": [],
   "source": [
    "# Simple model introduced at the start of this notebook. Just pay attention to the features.\n",
    "some_words = ['drug', 'bank', 'prescription', 'memo', 'private']\n",
    "\n",
    "X_train = words_in_texts(some_words, train['email'])\n",
    "Y_train = np.array(train['spam'])\n",
    "\n",
    "simple_model = LogisticRegression()\n",
    "simple_model.fit(X_train, Y_train);"
   ]
  },
  {
   "cell_type": "markdown",
   "metadata": {
    "deletable": false,
    "editable": true
   },
   "source": [
    "Steps: Pick an email from the training set and assign its index to `email_idx`. Then, find **one** feature used in `simple_model` such that **removing** it changes how that email is classified. Assign this feature to  `feature_to_remove`."
   ]
  },
  {
   "cell_type": "code",
   "execution_count": 73,
   "metadata": {
    "tags": []
   },
   "outputs": [
    {
     "data": {
      "text/html": [
       "<div>\n",
       "<style scoped>\n",
       "    .dataframe tbody tr th:only-of-type {\n",
       "        vertical-align: middle;\n",
       "    }\n",
       "\n",
       "    .dataframe tbody tr th {\n",
       "        vertical-align: top;\n",
       "    }\n",
       "\n",
       "    .dataframe thead th {\n",
       "        text-align: right;\n",
       "    }\n",
       "</style>\n",
       "<table border=\"1\" class=\"dataframe\">\n",
       "  <thead>\n",
       "    <tr style=\"text-align: right;\">\n",
       "      <th></th>\n",
       "      <th>id</th>\n",
       "      <th>subject</th>\n",
       "      <th>email</th>\n",
       "      <th>spam</th>\n",
       "      <th>drug</th>\n",
       "      <th>bank</th>\n",
       "      <th>prescription</th>\n",
       "      <th>memo</th>\n",
       "      <th>private</th>\n",
       "    </tr>\n",
       "  </thead>\n",
       "  <tbody>\n",
       "    <tr>\n",
       "      <th>4125</th>\n",
       "      <td>5274</td>\n",
       "      <td>Subject: Free Excerpt;  Baby Makers, Loser Cho...</td>\n",
       "      <td>\\n                          foreword\\n \\n afte...</td>\n",
       "      <td>1</td>\n",
       "      <td>7</td>\n",
       "      <td>0</td>\n",
       "      <td>0</td>\n",
       "      <td>0</td>\n",
       "      <td>0</td>\n",
       "    </tr>\n",
       "    <tr>\n",
       "      <th>5619</th>\n",
       "      <td>36</td>\n",
       "      <td>Subject: Hey look at this, I can't believe how...</td>\n",
       "      <td>\\n educate yourself about everything you ever ...</td>\n",
       "      <td>1</td>\n",
       "      <td>6</td>\n",
       "      <td>1</td>\n",
       "      <td>0</td>\n",
       "      <td>0</td>\n",
       "      <td>1</td>\n",
       "    </tr>\n",
       "    <tr>\n",
       "      <th>5084</th>\n",
       "      <td>4114</td>\n",
       "      <td>Subject: Legal herb, anytime\\n</td>\n",
       "      <td>****************************\\n now open seven ...</td>\n",
       "      <td>1</td>\n",
       "      <td>4</td>\n",
       "      <td>0</td>\n",
       "      <td>2</td>\n",
       "      <td>0</td>\n",
       "      <td>0</td>\n",
       "    </tr>\n",
       "    <tr>\n",
       "      <th>5612</th>\n",
       "      <td>6785</td>\n",
       "      <td>Subject: Legal herb, anytime\\n</td>\n",
       "      <td>****************************\\n now open seven ...</td>\n",
       "      <td>1</td>\n",
       "      <td>4</td>\n",
       "      <td>0</td>\n",
       "      <td>2</td>\n",
       "      <td>0</td>\n",
       "      <td>0</td>\n",
       "    </tr>\n",
       "    <tr>\n",
       "      <th>7211</th>\n",
       "      <td>3446</td>\n",
       "      <td>Subject: NEW Pot Substitute!\\n</td>\n",
       "      <td>&gt;from the ethnobotanical herbalists who brough...</td>\n",
       "      <td>1</td>\n",
       "      <td>4</td>\n",
       "      <td>0</td>\n",
       "      <td>2</td>\n",
       "      <td>0</td>\n",
       "      <td>0</td>\n",
       "    </tr>\n",
       "  </tbody>\n",
       "</table>\n",
       "</div>"
      ],
      "text/plain": [
       "        id                                            subject  \\\n",
       "4125  5274  Subject: Free Excerpt;  Baby Makers, Loser Cho...   \n",
       "5619    36  Subject: Hey look at this, I can't believe how...   \n",
       "5084  4114                     Subject: Legal herb, anytime\\n   \n",
       "5612  6785                     Subject: Legal herb, anytime\\n   \n",
       "7211  3446                     Subject: NEW Pot Substitute!\\n   \n",
       "\n",
       "                                                  email  spam  drug  bank  \\\n",
       "4125  \\n                          foreword\\n \\n afte...     1     7     0   \n",
       "5619  \\n educate yourself about everything you ever ...     1     6     1   \n",
       "5084  ****************************\\n now open seven ...     1     4     0   \n",
       "5612  ****************************\\n now open seven ...     1     4     0   \n",
       "7211  >from the ethnobotanical herbalists who brough...     1     4     0   \n",
       "\n",
       "      prescription  memo  private  \n",
       "4125             0     0        0  \n",
       "5619             0     0        1  \n",
       "5084             2     0        0  \n",
       "5612             2     0        0  \n",
       "7211             2     0        0  "
      ]
     },
     "metadata": {},
     "output_type": "display_data"
    },
    {
     "data": {
      "text/html": [
       "<div>\n",
       "<style scoped>\n",
       "    .dataframe tbody tr th:only-of-type {\n",
       "        vertical-align: middle;\n",
       "    }\n",
       "\n",
       "    .dataframe tbody tr th {\n",
       "        vertical-align: top;\n",
       "    }\n",
       "\n",
       "    .dataframe thead th {\n",
       "        text-align: right;\n",
       "    }\n",
       "</style>\n",
       "<table border=\"1\" class=\"dataframe\">\n",
       "  <thead>\n",
       "    <tr style=\"text-align: right;\">\n",
       "      <th></th>\n",
       "      <th>id</th>\n",
       "      <th>subject</th>\n",
       "      <th>email</th>\n",
       "      <th>spam</th>\n",
       "      <th>drug</th>\n",
       "      <th>bank</th>\n",
       "      <th>prescription</th>\n",
       "      <th>memo</th>\n",
       "      <th>private</th>\n",
       "    </tr>\n",
       "  </thead>\n",
       "  <tbody>\n",
       "    <tr>\n",
       "      <th>5925</th>\n",
       "      <td>3798</td>\n",
       "      <td>Subject: URGENT REPLY.\\n</td>\n",
       "      <td>mr.ronard tony\\n wema bank plc. \\n lagos/niger...</td>\n",
       "      <td>1</td>\n",
       "      <td>0</td>\n",
       "      <td>9</td>\n",
       "      <td>0</td>\n",
       "      <td>0</td>\n",
       "      <td>4</td>\n",
       "    </tr>\n",
       "    <tr>\n",
       "      <th>2347</th>\n",
       "      <td>941</td>\n",
       "      <td>Subject: Next of kin needed?\\n</td>\n",
       "      <td>dear sir,\\n \\n my name is mr. obi w, the manag...</td>\n",
       "      <td>1</td>\n",
       "      <td>0</td>\n",
       "      <td>7</td>\n",
       "      <td>0</td>\n",
       "      <td>0</td>\n",
       "      <td>1</td>\n",
       "    </tr>\n",
       "    <tr>\n",
       "      <th>2688</th>\n",
       "      <td>1222</td>\n",
       "      <td>Subject: [ILUG] BUSINESS\\n</td>\n",
       "      <td>central bank of nigeria\\n foreign remittance d...</td>\n",
       "      <td>1</td>\n",
       "      <td>0</td>\n",
       "      <td>6</td>\n",
       "      <td>0</td>\n",
       "      <td>0</td>\n",
       "      <td>2</td>\n",
       "    </tr>\n",
       "    <tr>\n",
       "      <th>1338</th>\n",
       "      <td>347</td>\n",
       "      <td>Subject: FW: Make Money Fast And Legal! As See...</td>\n",
       "      <td>the ultimate way to work from home \\n the best...</td>\n",
       "      <td>1</td>\n",
       "      <td>0</td>\n",
       "      <td>6</td>\n",
       "      <td>0</td>\n",
       "      <td>0</td>\n",
       "      <td>0</td>\n",
       "    </tr>\n",
       "    <tr>\n",
       "      <th>4948</th>\n",
       "      <td>1249</td>\n",
       "      <td>Subject: BUSINESS PARTNERSHIP(URGENT/CONFIDENT...</td>\n",
       "      <td>mr.vincent nnaji,\\n  standard trust bank ltd,\\...</td>\n",
       "      <td>1</td>\n",
       "      <td>0</td>\n",
       "      <td>6</td>\n",
       "      <td>0</td>\n",
       "      <td>0</td>\n",
       "      <td>2</td>\n",
       "    </tr>\n",
       "  </tbody>\n",
       "</table>\n",
       "</div>"
      ],
      "text/plain": [
       "        id                                            subject  \\\n",
       "5925  3798                           Subject: URGENT REPLY.\\n   \n",
       "2347   941                     Subject: Next of kin needed?\\n   \n",
       "2688  1222                         Subject: [ILUG] BUSINESS\\n   \n",
       "1338   347  Subject: FW: Make Money Fast And Legal! As See...   \n",
       "4948  1249  Subject: BUSINESS PARTNERSHIP(URGENT/CONFIDENT...   \n",
       "\n",
       "                                                  email  spam  drug  bank  \\\n",
       "5925  mr.ronard tony\\n wema bank plc. \\n lagos/niger...     1     0     9   \n",
       "2347  dear sir,\\n \\n my name is mr. obi w, the manag...     1     0     7   \n",
       "2688  central bank of nigeria\\n foreign remittance d...     1     0     6   \n",
       "1338  the ultimate way to work from home \\n the best...     1     0     6   \n",
       "4948  mr.vincent nnaji,\\n  standard trust bank ltd,\\...     1     0     6   \n",
       "\n",
       "      prescription  memo  private  \n",
       "5925             0     0        4  \n",
       "2347             0     0        1  \n",
       "2688             0     0        2  \n",
       "1338             0     0        0  \n",
       "4948             0     0        2  "
      ]
     },
     "metadata": {},
     "output_type": "display_data"
    },
    {
     "data": {
      "text/html": [
       "<div>\n",
       "<style scoped>\n",
       "    .dataframe tbody tr th:only-of-type {\n",
       "        vertical-align: middle;\n",
       "    }\n",
       "\n",
       "    .dataframe tbody tr th {\n",
       "        vertical-align: top;\n",
       "    }\n",
       "\n",
       "    .dataframe thead th {\n",
       "        text-align: right;\n",
       "    }\n",
       "</style>\n",
       "<table border=\"1\" class=\"dataframe\">\n",
       "  <thead>\n",
       "    <tr style=\"text-align: right;\">\n",
       "      <th></th>\n",
       "      <th>id</th>\n",
       "      <th>subject</th>\n",
       "      <th>email</th>\n",
       "      <th>spam</th>\n",
       "      <th>drug</th>\n",
       "      <th>bank</th>\n",
       "      <th>prescription</th>\n",
       "      <th>memo</th>\n",
       "      <th>private</th>\n",
       "    </tr>\n",
       "  </thead>\n",
       "  <tbody>\n",
       "    <tr>\n",
       "      <th>7296</th>\n",
       "      <td>1802</td>\n",
       "      <td>Subject: The only medically proven way to lose...</td>\n",
       "      <td>below is the result of your feedback form.  it...</td>\n",
       "      <td>1</td>\n",
       "      <td>1</td>\n",
       "      <td>0</td>\n",
       "      <td>3</td>\n",
       "      <td>0</td>\n",
       "      <td>0</td>\n",
       "    </tr>\n",
       "    <tr>\n",
       "      <th>4481</th>\n",
       "      <td>5036</td>\n",
       "      <td>Subject: Faeries\\n</td>\n",
       "      <td>uncommon exotic pleasure botanicals!\\n \\n feel...</td>\n",
       "      <td>1</td>\n",
       "      <td>3</td>\n",
       "      <td>0</td>\n",
       "      <td>3</td>\n",
       "      <td>0</td>\n",
       "      <td>0</td>\n",
       "    </tr>\n",
       "    <tr>\n",
       "      <th>6132</th>\n",
       "      <td>1645</td>\n",
       "      <td>Subject: Faeries\\n</td>\n",
       "      <td>uncommon exotic pleasure botanicals!\\n \\n feel...</td>\n",
       "      <td>1</td>\n",
       "      <td>3</td>\n",
       "      <td>0</td>\n",
       "      <td>3</td>\n",
       "      <td>0</td>\n",
       "      <td>0</td>\n",
       "    </tr>\n",
       "    <tr>\n",
       "      <th>4626</th>\n",
       "      <td>3839</td>\n",
       "      <td>Subject: Have You Never Been Mellow?\\n</td>\n",
       "      <td>\\n greetings &amp; blessings to you!\\n \\n offering...</td>\n",
       "      <td>1</td>\n",
       "      <td>0</td>\n",
       "      <td>0</td>\n",
       "      <td>3</td>\n",
       "      <td>0</td>\n",
       "      <td>0</td>\n",
       "    </tr>\n",
       "    <tr>\n",
       "      <th>478</th>\n",
       "      <td>5425</td>\n",
       "      <td>Subject: Online Doctors will fill your Viagra ...</td>\n",
       "      <td>your sex drive should never be second on the l...</td>\n",
       "      <td>1</td>\n",
       "      <td>1</td>\n",
       "      <td>0</td>\n",
       "      <td>2</td>\n",
       "      <td>0</td>\n",
       "      <td>0</td>\n",
       "    </tr>\n",
       "  </tbody>\n",
       "</table>\n",
       "</div>"
      ],
      "text/plain": [
       "        id                                            subject  \\\n",
       "7296  1802  Subject: The only medically proven way to lose...   \n",
       "4481  5036                                 Subject: Faeries\\n   \n",
       "6132  1645                                 Subject: Faeries\\n   \n",
       "4626  3839             Subject: Have You Never Been Mellow?\\n   \n",
       "478   5425  Subject: Online Doctors will fill your Viagra ...   \n",
       "\n",
       "                                                  email  spam  drug  bank  \\\n",
       "7296  below is the result of your feedback form.  it...     1     1     0   \n",
       "4481  uncommon exotic pleasure botanicals!\\n \\n feel...     1     3     0   \n",
       "6132  uncommon exotic pleasure botanicals!\\n \\n feel...     1     3     0   \n",
       "4626  \\n greetings & blessings to you!\\n \\n offering...     1     0     0   \n",
       "478   your sex drive should never be second on the l...     1     1     0   \n",
       "\n",
       "      prescription  memo  private  \n",
       "7296             3     0        0  \n",
       "4481             3     0        0  \n",
       "6132             3     0        0  \n",
       "4626             3     0        0  \n",
       "478              2     0        0  "
      ]
     },
     "metadata": {},
     "output_type": "display_data"
    },
    {
     "data": {
      "text/html": [
       "<div>\n",
       "<style scoped>\n",
       "    .dataframe tbody tr th:only-of-type {\n",
       "        vertical-align: middle;\n",
       "    }\n",
       "\n",
       "    .dataframe tbody tr th {\n",
       "        vertical-align: top;\n",
       "    }\n",
       "\n",
       "    .dataframe thead th {\n",
       "        text-align: right;\n",
       "    }\n",
       "</style>\n",
       "<table border=\"1\" class=\"dataframe\">\n",
       "  <thead>\n",
       "    <tr style=\"text-align: right;\">\n",
       "      <th></th>\n",
       "      <th>id</th>\n",
       "      <th>subject</th>\n",
       "      <th>email</th>\n",
       "      <th>spam</th>\n",
       "      <th>drug</th>\n",
       "      <th>bank</th>\n",
       "      <th>prescription</th>\n",
       "      <th>memo</th>\n",
       "      <th>private</th>\n",
       "    </tr>\n",
       "  </thead>\n",
       "  <tbody>\n",
       "    <tr>\n",
       "      <th>5116</th>\n",
       "      <td>6749</td>\n",
       "      <td>Subject: windows tips\\n</td>\n",
       "      <td>\\n \\n are you having trouble with your compute...</td>\n",
       "      <td>1</td>\n",
       "      <td>0</td>\n",
       "      <td>0</td>\n",
       "      <td>0</td>\n",
       "      <td>2</td>\n",
       "      <td>0</td>\n",
       "    </tr>\n",
       "    <tr>\n",
       "      <th>927</th>\n",
       "      <td>7234</td>\n",
       "      <td>Subject: [ILUG] ASSISTANCE\\n</td>\n",
       "      <td>from: col. michael bundu. \\n democratic republ...</td>\n",
       "      <td>1</td>\n",
       "      <td>0</td>\n",
       "      <td>0</td>\n",
       "      <td>0</td>\n",
       "      <td>1</td>\n",
       "      <td>2</td>\n",
       "    </tr>\n",
       "    <tr>\n",
       "      <th>7371</th>\n",
       "      <td>3304</td>\n",
       "      <td>Subject: Ultimate HGH: Make you look and feel ...</td>\n",
       "      <td>as seen on nbc, cbs, cnn, and even oprah! the ...</td>\n",
       "      <td>1</td>\n",
       "      <td>0</td>\n",
       "      <td>0</td>\n",
       "      <td>0</td>\n",
       "      <td>1</td>\n",
       "      <td>0</td>\n",
       "    </tr>\n",
       "    <tr>\n",
       "      <th>5686</th>\n",
       "      <td>5703</td>\n",
       "      <td>Subject: A youthful and slim summer in 2002\\n</td>\n",
       "      <td>as seen on nbc, cbs, cnn, and even oprah! the ...</td>\n",
       "      <td>1</td>\n",
       "      <td>0</td>\n",
       "      <td>0</td>\n",
       "      <td>0</td>\n",
       "      <td>1</td>\n",
       "      <td>0</td>\n",
       "    </tr>\n",
       "    <tr>\n",
       "      <th>2001</th>\n",
       "      <td>2519</td>\n",
       "      <td>Subject: Hgh: safe and effective release of yo...</td>\n",
       "      <td>as seen on nbc, cbs, cnn, and even oprah! the ...</td>\n",
       "      <td>1</td>\n",
       "      <td>0</td>\n",
       "      <td>0</td>\n",
       "      <td>0</td>\n",
       "      <td>1</td>\n",
       "      <td>0</td>\n",
       "    </tr>\n",
       "  </tbody>\n",
       "</table>\n",
       "</div>"
      ],
      "text/plain": [
       "        id                                            subject  \\\n",
       "5116  6749                            Subject: windows tips\\n   \n",
       "927   7234                       Subject: [ILUG] ASSISTANCE\\n   \n",
       "7371  3304  Subject: Ultimate HGH: Make you look and feel ...   \n",
       "5686  5703      Subject: A youthful and slim summer in 2002\\n   \n",
       "2001  2519  Subject: Hgh: safe and effective release of yo...   \n",
       "\n",
       "                                                  email  spam  drug  bank  \\\n",
       "5116  \\n \\n are you having trouble with your compute...     1     0     0   \n",
       "927   from: col. michael bundu. \\n democratic republ...     1     0     0   \n",
       "7371  as seen on nbc, cbs, cnn, and even oprah! the ...     1     0     0   \n",
       "5686  as seen on nbc, cbs, cnn, and even oprah! the ...     1     0     0   \n",
       "2001  as seen on nbc, cbs, cnn, and even oprah! the ...     1     0     0   \n",
       "\n",
       "      prescription  memo  private  \n",
       "5116             0     2        0  \n",
       "927              0     1        2  \n",
       "7371             0     1        0  \n",
       "5686             0     1        0  \n",
       "2001             0     1        0  "
      ]
     },
     "metadata": {},
     "output_type": "display_data"
    },
    {
     "data": {
      "text/html": [
       "<div>\n",
       "<style scoped>\n",
       "    .dataframe tbody tr th:only-of-type {\n",
       "        vertical-align: middle;\n",
       "    }\n",
       "\n",
       "    .dataframe tbody tr th {\n",
       "        vertical-align: top;\n",
       "    }\n",
       "\n",
       "    .dataframe thead th {\n",
       "        text-align: right;\n",
       "    }\n",
       "</style>\n",
       "<table border=\"1\" class=\"dataframe\">\n",
       "  <thead>\n",
       "    <tr style=\"text-align: right;\">\n",
       "      <th></th>\n",
       "      <th>id</th>\n",
       "      <th>subject</th>\n",
       "      <th>email</th>\n",
       "      <th>spam</th>\n",
       "      <th>drug</th>\n",
       "      <th>bank</th>\n",
       "      <th>prescription</th>\n",
       "      <th>memo</th>\n",
       "      <th>private</th>\n",
       "    </tr>\n",
       "  </thead>\n",
       "  <tbody>\n",
       "    <tr>\n",
       "      <th>5925</th>\n",
       "      <td>3798</td>\n",
       "      <td>Subject: URGENT REPLY.\\n</td>\n",
       "      <td>mr.ronard tony\\n wema bank plc. \\n lagos/niger...</td>\n",
       "      <td>1</td>\n",
       "      <td>0</td>\n",
       "      <td>9</td>\n",
       "      <td>0</td>\n",
       "      <td>0</td>\n",
       "      <td>4</td>\n",
       "    </tr>\n",
       "    <tr>\n",
       "      <th>6896</th>\n",
       "      <td>2786</td>\n",
       "      <td>Subject: [ILUG-Social] urgent assistance\\n</td>\n",
       "      <td>attn:\\n \\n i am edward mulete jr. the son of m...</td>\n",
       "      <td>1</td>\n",
       "      <td>0</td>\n",
       "      <td>0</td>\n",
       "      <td>0</td>\n",
       "      <td>0</td>\n",
       "      <td>2</td>\n",
       "    </tr>\n",
       "    <tr>\n",
       "      <th>4948</th>\n",
       "      <td>1249</td>\n",
       "      <td>Subject: BUSINESS PARTNERSHIP(URGENT/CONFIDENT...</td>\n",
       "      <td>mr.vincent nnaji,\\n  standard trust bank ltd,\\...</td>\n",
       "      <td>1</td>\n",
       "      <td>0</td>\n",
       "      <td>6</td>\n",
       "      <td>0</td>\n",
       "      <td>0</td>\n",
       "      <td>2</td>\n",
       "    </tr>\n",
       "    <tr>\n",
       "      <th>5042</th>\n",
       "      <td>3364</td>\n",
       "      <td>Subject: Assistance requested(Please Read).\\n</td>\n",
       "      <td>dear sir/ma, \\n i am hajiya maryam abacha, wif...</td>\n",
       "      <td>1</td>\n",
       "      <td>0</td>\n",
       "      <td>2</td>\n",
       "      <td>0</td>\n",
       "      <td>0</td>\n",
       "      <td>2</td>\n",
       "    </tr>\n",
       "    <tr>\n",
       "      <th>3100</th>\n",
       "      <td>3366</td>\n",
       "      <td>Subject: **urgent assistance**\\n</td>\n",
       "      <td>5, meridian east\\n leicester le3 2wz \\n leices...</td>\n",
       "      <td>1</td>\n",
       "      <td>0</td>\n",
       "      <td>0</td>\n",
       "      <td>0</td>\n",
       "      <td>0</td>\n",
       "      <td>2</td>\n",
       "    </tr>\n",
       "  </tbody>\n",
       "</table>\n",
       "</div>"
      ],
      "text/plain": [
       "        id                                            subject  \\\n",
       "5925  3798                           Subject: URGENT REPLY.\\n   \n",
       "6896  2786         Subject: [ILUG-Social] urgent assistance\\n   \n",
       "4948  1249  Subject: BUSINESS PARTNERSHIP(URGENT/CONFIDENT...   \n",
       "5042  3364      Subject: Assistance requested(Please Read).\\n   \n",
       "3100  3366                   Subject: **urgent assistance**\\n   \n",
       "\n",
       "                                                  email  spam  drug  bank  \\\n",
       "5925  mr.ronard tony\\n wema bank plc. \\n lagos/niger...     1     0     9   \n",
       "6896  attn:\\n \\n i am edward mulete jr. the son of m...     1     0     0   \n",
       "4948  mr.vincent nnaji,\\n  standard trust bank ltd,\\...     1     0     6   \n",
       "5042  dear sir/ma, \\n i am hajiya maryam abacha, wif...     1     0     2   \n",
       "3100  5, meridian east\\n leicester le3 2wz \\n leices...     1     0     0   \n",
       "\n",
       "      prescription  memo  private  \n",
       "5925             0     0        4  \n",
       "6896             0     0        2  \n",
       "4948             0     0        2  \n",
       "5042             0     0        2  \n",
       "3100             0     0        2  "
      ]
     },
     "metadata": {},
     "output_type": "display_data"
    }
   ],
   "source": [
    "scratch = train.copy()\n",
    "for word in some_words:\n",
    "    scratch[word] = scratch['email'].str.count(word)\n",
    "for i in some_words:\n",
    "    display(scratch[scratch['spam'] == 1][~scratch['email'].str.contains('html')].sort_values(by = i, ascending= False).head(5))\n",
    "#select id: 5274"
   ]
  },
  {
   "cell_type": "code",
   "execution_count": 74,
   "metadata": {
    "scrolled": true,
    "tags": []
   },
   "outputs": [
    {
     "name": "stdout",
     "output_type": "stream",
     "text": [
      "\n",
      "Predicted probability of being spam: 55.57%\n",
      "\n",
      "Email:\n",
      "the ultimate way to work from home \n",
      " the best money making system of all!! \n",
      " as seen on national tv \n",
      " as seen on 20/20 and many other credible references. this is not a scam. \n",
      " i hope this is ok that i send you this. if you aren't interested, just \n",
      " simply delete it. \n",
      " read this message if you are like me and want more than your lousy \n",
      " weekly paycheck. make more in a few months than last year at work. \n",
      " believe it, work it. \n",
      " this really works, don't make the same mistake i made. i deleted this \n",
      " 4-5 times before finally giving it a try. within 2 weeks the orders \n",
      " (money) \n",
      " started coming in just like the plan below said it would. give it a \n",
      " try!! \n",
      " you will be glad you did. \n",
      " thanks and good luck! you won't need luck, just keep reading. don't \n",
      " delete this!!! \n",
      " ------------------------------------------------------ \n",
      " first read about how a 15 year old made $71,000. see below.... \n",
      " as seen on national tv: this is the media report. \n",
      " parents of 15 - year old - find $71,000 cash hidden \n",
      " in his closet! \n",
      " does this headline look familiar? of course it does. \n",
      " you most likely have just seen this story recently \n",
      " featured on a major nightly news program (usa). \n",
      " and reported elsewhere in the world (including my neck \n",
      " of the woods - new zealand). his mother was cleaning \n",
      " and putting laundry away when she came across a large \n",
      " brown paper bag that was suspiciously buried beneath \n",
      " some clothes and a skateboard in the back of her \n",
      " 15-year-old sons closet. \n",
      " nothing could have prepared her for the shock she got \n",
      " when she opened the bag and found it was full of cash. \n",
      " five-dollar bills, twenties, fifties and hundreds - \n",
      " all neatly rubber-banded in labeled piles. \n",
      " \"my first thought was that he had robbed a bank\", \n",
      " says the 41-year-old woman, \"there was over $71,000 \n",
      " dollars in that bag -- that's more than my husband \n",
      " earns in a year\". \n",
      " the woman immediately called her husband at the \n",
      " car-dealership where he worked to tell him what she \n",
      " had discovered. he came home right away and they \n",
      " drove together to the boys school and picked him up. \n",
      " little did they suspect that where the money came from \n",
      " was more shocking than actually finding it in \n",
      " the closet. \n",
      " as it turns out, the boy had been sending out, via \n",
      " e-mail, a type of \"report\" to e-mail addresses that he \n",
      " obtained off the internet. everyday after school for \n",
      " the past 2 months, he had been doing this right on his \n",
      " computer in his bedroom. \n",
      " \"i just got the e-mail one day and i figured what the \n",
      " heck, i put my name on it like the instructions said \n",
      " and i started sending it out\", says the clever \n",
      " 15-year-old. \n",
      " the e-mail letter listed 5 addresses and contained \n",
      " instructions to send one $5 dollar bill to each person \n",
      " on the list, then delete the address at the top and \n",
      " move the others addresses down, and finally to add \n",
      " your name to the top of the list. \n",
      " the letter goes on to state that you would receive \n",
      " several thousand dollars in five-dollar bills within 2 \n",
      " weeks if you sent out the letter with your \n",
      " name at the top of the 5-address list. \"i get junk \n",
      " e-mail all the time, and really did not think it was \n",
      " going to work\", the boy continues. \n",
      " within the first few days of sending out the e-mail, \n",
      " the post office box that his parents had gotten him \n",
      " for his video-game magazine subscriptions began to \n",
      " fill up with not magazines, but envelopes containing \n",
      " $5 bills. \n",
      " \"about a week later i rode [my bike] down to the post \n",
      " office and my box had 1 magazine and about 300 \n",
      " envelops stuffed in it. there was also a yellow slip \n",
      " that said i had to go up to the [post office] counter. \n",
      " i thought i was in trouble or something (laughs)\". he \n",
      " goes on, \"i went up to the counter and they had a \n",
      " whole box of more mail for me. i had to ride back \n",
      " home and empty out my backpack because i could not \n",
      " carry it all\". \n",
      " over the next few weeks, the boy continued sending \n",
      " out the e-mail. \"the money just kept coming in and i \n",
      " just kept sorting it and stashing it in the closet, \n",
      " barely had time for my homework\". he had also \n",
      " been riding his bike to several of the banks in his \n",
      " area and exchanging the $5 bills for twenties, fifties \n",
      " and hundreds. \n",
      " \"i didn't want the banks to get suspicious so i kept \n",
      " riding to different banks with like five thousand at a \n",
      " time in my backpack. i would usually tell the lady at \n",
      " the bank counter that my dad had sent me in to \n",
      " exchange the money and he was outside waiting for me. \n",
      " one time the lady gave me a really strange look and \n",
      " told me that she would not be able to do it for me and \n",
      " my dad would have to come in and do it, but i just \n",
      " rode to the next bank down the street (laughs).\" \n",
      " surprisingly, the boy did not have any reason to be \n",
      " afraid. the reporting news team examined and \n",
      " investigated the so-called \"chain-letter\" the boy was \n",
      " sending out and found that it was not a chain-letter \n",
      " at all. in fact, it was completely legal according to \n",
      " us postal and lottery laws, title 18, section 1302 and \n",
      " 1341, or title 18, section 3005 in the us code, also \n",
      " in the code of federal regulations, volume 16, \n",
      " sections 255 and 436, which state a product or service \n",
      " must be exchanged for money received. \n",
      " every five-dollar bill that he received contained a \n",
      " little note that read, \"please send me report number \n",
      " xyx\".this simple note made the letter legal because he \n",
      " was exchanging a service (a report on how-to) for a \n",
      " five-dollar fee. \n",
      " [this is the end of the media release. if you would \n",
      " like to understand how the system works and get your \n",
      " $71,000 - please continue reading. what appears below \n",
      " is what the 15 year old was sending out on the net - \n",
      " you can use it too - just follow the simple \n",
      " instructions]. \n",
      " thanks to the computer age and the internet ! \n",
      " ================================================== \n",
      " you will make over half million dollars every 4 to 5 months from your \n",
      " home!! \n",
      " before you say ''bull'', please read the following. this is the \n",
      " letter you have been hearing about on the news lately. due to the \n",
      " popularity of this letter on the internet, a national weekly news \n",
      " program \n",
      " recently devoted an entire show to the investigation of this program \n",
      " described below, to see if it really can make people money. the show \n",
      " also \n",
      " investigated whether or not the program was legal. \n",
      " their findings proved once and for all that there are ''absolutely no \n",
      " laws prohibiting the participation in the program and if people can -follow \n",
      " the simple instructions, they are bound to make some mega bucks with only \n",
      " $25 out of pocket cost''. \n",
      " due to the recent increase of popularity & respect this \n",
      " program has \n",
      " attained, it is currently working better than ever. \n",
      " this is what one had to say: '' thanks to this profitable opportunity. \n",
      " i was approached many times before but each time i passed on it. i am so \n",
      " glad i finally joined just to see what one could expect in return for \n",
      " the minimal effort and money required. to my astonishment, i received \n",
      " total \n",
      " $610,470.00 in 21 weeks, with money still coming in''. \n",
      " pam hedland, fort lee, new jersey. \n",
      " =========================================================\n",
      " =======here is \n",
      " another testimonial: ''' this program has been around for a \n",
      " long time but i never believed in it. but one day when i received this \n",
      " again in the mail i decided to gamble my $25 on it. i followed the \n",
      " simple instructions and wallaa ..... 3 weeks later the money started to \n",
      " come \n",
      " in. first month i only made $240.00 but the next 2 months after that \n",
      " made a total of $290,000.00. so far, in the past 8 months by re-entering \n",
      " the \n",
      " program, i have made over $710,000.00 and i am playing it again. the \n",
      " key to success in this program is to follow the simple steps and not change \n",
      " anything.'' more testimonials later but first: \n",
      " ===== print this now for your future reference ======== \n",
      " $$$$$$$$$$$$$$$$$$$$$$$$$$$$$$$$$$$$$$$$$$$$$$$$$$$$$$$$$$$$$$$$\n",
      " $$$$$$$$ \n",
      " if you would like to make at least $500,000 every 4 to 5 months easily \n",
      " and comfortably, please read the following...then read it again and \n",
      " again!!! \n",
      " $$$$$$$$$$$$$$$$$$$$$$$$$$$$$$$$$$$$$$$$$$$$$$$$$$$$$$$$$$$$$$$$\n",
      " $$$$$$$$ \n",
      " follow the simple instruction below and your financial \n",
      " dreams will come \n",
      " true, guaranteed! \n",
      " instructions: \n",
      " ================order all 5 reports shown on the list below \n",
      " ================= \n",
      " for each report, send $5 cash, the name & number of the report \n",
      " you are ordering and your e-mail address to the person whose \n",
      " name appears on that list next to the report. make sure your return \n",
      " address is on your envelope top left corner in case of any mail \n",
      " problems. \n",
      " === when you place your order, make sure you order each of the 5 \n",
      " reports. \n",
      " you will need all 5 reports so that you can save them on your computer \n",
      " and resell them. your total cost $5 x 5=$25.00. \n",
      " within a few days you will receive, via e-mail, each of the 5 reports \n",
      " from these 5 different individuals. save them on your computer so they will \n",
      " be accessible for you to send to the 1,000's of people who will order them \n",
      " from you. also make a floppy of these reports and keep it on your desk \n",
      " in case something happens to your computer. \n",
      " important - do not alter the names of the people who are listed \n",
      " next to each report, or their sequence on the list, in any way other \n",
      " than what is instructed below in step '' 1 through 6 '' or you will \n",
      " loose out on majority of your profits. once you understand the way this \n",
      " works, you will also see how it does not work if you change it. remember, \n",
      " this \n",
      " method has been tested, and if you alter, it will not work !!! people \n",
      " have tried to put their friends/relatives names on all five thinking they \n",
      " could get all the money. but it does not work this way. believe us, we all \n",
      " have tried to be greedy and then nothing happened. so do not try to change \n",
      " anything other than what is instructed. because if you do, it will not \n",
      " work for you. \n",
      " remember, honesty reaps the reward!!! \n",
      " 1.... after you have ordered all 5 reports, take this advertisement \n",
      " and remove the name & address of the person in report #5. \n",
      " this person has made it through the cycle and is no doubt counting \n",
      " their fortune. \n",
      " 2.... move the name & address in report # 4 down to report # 5. \n",
      " 3.... move the name & address in report # 3 down to report # 4. \n",
      " 4.... move the name & address in report # 2 down to report # 3. \n",
      " 5.... move the name & address in report # 1 down to report # 2 \n",
      " 6.... insert your name & address in the report # 1 position. \n",
      " please make sure you copy every name & address accurately! \n",
      " =========================================================\n",
      " ======= \n",
      " **** take this entire letter, with the modified list of names, and save it \n",
      " on your computer. do not make any other changes. \n",
      " save this on a disk as well just in case you loose any data. to assist \n",
      " you with marketing your business on the internet, the 5 reports you \n",
      " purchase will provide you with invaluable marketing information which \n",
      " includes how to send bulk e-mails legally, where to find thousands of \n",
      " free \n",
      " classified ads and much more. there are 2 primary methods to get this \n",
      " venture going: \n",
      " method # 1: by sending bulk e-mail legally \n",
      " =========================================================\n",
      " ======= \n",
      " let's say that you decide to start small, just to see how it goes, and \n",
      " we will assume you and those involved send out only 5,000 e-mails each. \n",
      " let's also assume that the mailing receive only a 0.2% response (the \n",
      " response \n",
      " could be much better but lets just say it is only 0.2%. also many \n",
      " people will send out hundreds of thousands e-mails instead of only 5,000 \n",
      " each).continuing with this example, you send out only 5,000 e-mails. \n",
      " with a 0.2% response, that is only 10 orders for report # 1 \n",
      " those 10 people responded by sending out 5,000 e-mail each for a total \n",
      " of 50,000. \n",
      " out of those 50,000 e-mails only 0.2% responded with orders. that's=100 \n",
      " people responded and ordered report # 2. \n",
      " those 100 people mail out 5,000 e-mails each for a total of 500,000 \n",
      " e-mails. the 0.2% response to that is 1000 orders for report # 3. \n",
      " those 1000 people send out 5,000 e-mails each for a total of 5 \n",
      " million e-mails sent out. the 0.2% response to that is 10,000 orders \n",
      " for report! # 4. whose 10,000 people send out 5,000 e-mails each for a \n",
      " total of \n",
      " 50,000,000 (50 million) e-mails. the 0.2% response to that is 100,000 \n",
      " orders for \n",
      " report # 5 that's 100,000 orders times $5 each=$500,000.00 (half \n",
      " million). \n",
      " your total income in this example is: 1..... $50 + 2..... $500 \n",
      " + 3.....$5,000 + 4..... $50,000 + 5..... $500,000 ........ grand \n",
      " total=$555,550.00 \n",
      " numbers do not lie. get a pencil & paper and figure out the \n",
      " worst possibleresponses and no matter how you \n",
      " calculate it, you will still \n",
      " make a lot of money ! \n",
      " =========================================================\n",
      " ======= \n",
      " remember friend, this is assuming only 10 people ordering \n",
      " out \n",
      " of 5,000 you mailed to. dare to think for a moment what would happen if \n",
      " everyone or half or even one 4th of those people mailed 100,000e-mails \n",
      " each or more? there are over 150 million people on the internet worldwide \n",
      " and counting. believe me, many people will do just that, and more! \n",
      " method # 2 : by placing free ads on the internet \n",
      " =========================================================\n",
      " ======= \n",
      " advertising on the net is very very inexpensive and there are \n",
      " hundreds of free places to advertise. placing a lot of free ads on the \n",
      " internet will easily get a larger response. we strongly suggest you \n",
      " start with method # 1and add method # 2 as you go along. for every $5 you \n",
      " receive, all you must do is e-mail them the report they ordered. that's \n",
      " it. always provide \n",
      " same day service on all orders. \n",
      " this will guarantee that the e-mail they send out, with your \n",
      " name and address on it, will be prompt because they can not advertise \n",
      " until they receive the report. \n",
      " ===================available reports \n",
      " ========================== \n",
      " order each report by its number & name only. notes: always \n",
      " send \n",
      " $5 cash (u.s. currency) for each report. checks not accepted. make sure \n",
      " the cash is concealed by wrapping it in at least 2 sheets of paper. on \n",
      " one of those sheets of paper, write the number & the name of the report you \n",
      " are ordering, \n",
      " your e-mail address and your name and postal address. \n",
      " place your order for these reports now : \n",
      " =========================================================\n",
      " ======= \n",
      " report #1 \"the insider's guide to advertising for free on the net\" \n",
      " order report #1 from: \n",
      " k.palludan \n",
      " 9550 summersweet ct. \n",
      " las vegas, nevada 89123 \n",
      " usa \n",
      " ________________________________________________________________\n",
      " ______ \n",
      " report #2 \"'the insider's guide to sending bulk e-mail on the net' \n",
      " order report #2 from: \n",
      " kris estes \n",
      " 3055 casey drive #203 \n",
      " las vegas, nevada 89120 \n",
      " ________________________________________________________________\n",
      " ______ \n",
      " report #3 \"'secret to multilevel marketing on the net\" \n",
      " order report #3 from : \n",
      " p. clement \n",
      " 601 st-malo est \n",
      " ile bizard, quebec h9c2p2 \n",
      " canada \n",
      " ________________________________________________________________\n",
      " ______ \n",
      " report #4 \"'how to become a millionaire utilizing mlm and the net\" \n",
      " order report #4 from: \n",
      " david carpenter \n",
      " 13 dutch lane \n",
      " hazlet, new jersey 07732 \n",
      " usa \n",
      " ________________________________________________________________\n",
      " _____ \n",
      " report #5 \"'how to send out one million e-mails for free\" \n",
      " order report #5 from: \n",
      " s. lasley \n",
      " 4230 edgewood circle \n",
      " idaho falls, idaho 83406 \n",
      " usa \n",
      " ________________________________________________________________\n",
      " _____ \n",
      " $$$$$$$$$$$$$$$$$$$$$ your success guidelines \n",
      " $$$$$$$$$$$$$$$$$$$$$ \n",
      " follow these guidelines to guarantee your success: \n",
      " === if you do not receive at least 10 orders for report #1 within 2 \n",
      " weeks, continue sending e-mails until you do. \n",
      " === after you have received 10 orders, 2 to 3 weeks after that you \n",
      " should receive 100 orders or more for report # 2. if you did not, continue \n",
      " advertising or sending e-mails until you do. \n",
      " === once you have received 100 or more orders for report # 2, you can \n",
      " relax, because the system is already working for you, and the cash will \n",
      " continue to roll in ! this is important to remember: every time your \n",
      " name \n",
      " is moved down on the list, you are placed in front of a different report. \n",
      " you can keep track of your progress by watching which report \n",
      " people are ordering from you. if you want to generate more income \n",
      " send \n",
      " another batch of e-mails and start the whole process \n",
      " again. there is no \n",
      " limit to the income you can generate from this business !!! \n",
      " =========================================================\n",
      " ======= \n",
      " following is a note from the originator of this program: \n",
      " you have just received information that can give you financial freedom \n",
      " for the rest of your life, with no risk and just a little bit of effort. \n",
      " you can make more money in the next few weeks and months than you have \n",
      " ever imagined. follow the program exactly as instructed. do not change \n",
      " it \n",
      " in \n",
      " any way. it works exceedingly well as it is now. \n",
      " remember to e-mail a copy of this exciting report after you have put \n",
      " your name and address in report #1 and moved others to #2 ...........# 5 \n",
      " as \n",
      " instructed above. one of the people you send this to may send out \n",
      " 100,000 or more e-mails and your name will be on every one of them. \n",
      " remember \n",
      " though, the more you send out the more potential customers! you will \n",
      " reach. so \n",
      " my friend, i have given you the ideas, information, materials and \n",
      " opportunity to become financially independent. it is up to you now ! \n",
      " ====================== more \n",
      " testimonials====================== \n",
      " '' my name is mitchell. my wife, jody and i live in chicago. i am an \n",
      " accountant with a major u.s. corporation and i make pretty good \n",
      " money. when i received this program i grumbled to jody about receiving \n",
      " ''junk mail''. i made fun of the whole thing, spouting my knowledge of \n",
      " the population and percentages involved. i ''knew'' it wouldn't work. jody \n",
      " totally ignored my supposed intelligence and few days later she jumped in \n",
      " with \n",
      " both feet. i made merciless fun of her, and was ready to lay the old \n",
      " ''i told you so'' on her when the thing didn't work. well, the laugh was \n",
      " on me! \n",
      " within 3 weeks she had received 50 responses. within the next 45 days she \n",
      " had \n",
      " received total $ 147,200.00 ........... all cash! i was shocked. ! i have \n",
      " joined \n",
      " jody in her ''hobby''. \n",
      " mitchell wolf m.d., chicago, illinois \n",
      " =========================================================\n",
      " ======= '' not \n",
      " being the gambling type, it took me several weeks to make up my \n",
      " mind to participate in this plan. but conservative that i am, i decided \n",
      " that the initial investment was so little that there was just no way that \n",
      " i \n",
      " wouldn't get enough orders to at least get my money back''. '' i was \n",
      " surprised \n",
      " when i found my medium size post office box crammed with orders. i made \n",
      " $319,210.00 in the first 12 weeks. the nice thing about this deal is \n",
      " that it does not matter where people live. there simply isn't a better \n",
      " investment \n",
      " with a faster return and so big''. \n",
      " dan sondstrom, alberta, canada \n",
      " =========================================================\n",
      " ======= '' i had \n",
      " received this program before. i deleted it, but later i \n",
      " wondered if i should have given it a try. of course, i had no idea who \n",
      " to contact ! to get another copy, so i had to wait until i was e-mailed \n",
      " again by someone else.........11 months passed then it luckily came \n",
      " again.....i did not delete this one! i made more than $490,000 on my \n",
      " first try and all the money came within 22 weeks''. \n",
      " susan de suza, new york, n.y. \n",
      " =========================================================\n",
      " ====== \n",
      " '' it really is a great opportunity to make relatively easy money with \n",
      " little cost to you. i followed the simple instructions carefully and \n",
      " within 10 days the money started to come in. my first month i made \n",
      " $20,560.00 and by the end of third month my total cash count was $ \n",
      " 362,840.00. life is beautiful, thanx to internet''. \n",
      " fred dellaca, westport, new zealand \n",
      " =========================================================\n",
      " =======order \n",
      " your reports today and get started on your road to \n",
      " financial freedom ! \n",
      " =========================================================\n",
      " ======= \n",
      " if you have any questions of the legality of this program, contact the \n",
      " office of associate director for marketing practices, federal trade \n",
      " commission, bureau of consumer protection, washington, d.c. \n",
      " =========================================================\n",
      " ======= \n",
      " there is no need to respond to this e-mail if you do not \n",
      " wish to receive \n",
      " further correspondence. this is a onetime e-mail. \n",
      " good luck! \n",
      " \n",
      " \n",
      " \n",
      "\n"
     ]
    }
   ],
   "source": [
    "email_idx = 1338\n",
    "\n",
    "prob_spam = simple_model.predict_proba(X_train)[:, 1]\n",
    "initial_prob = prob_spam[email_idx]\n",
    "initial_class = \"spam\" if np.round(initial_prob) else \"ham\"\n",
    "print(f\"\\nPredicted probability of being spam: {np.round(initial_prob*100, 2)}%\")\n",
    "print(\"\\nEmail:\\n\" + train.loc[email_idx][\"email\"])"
   ]
  },
  {
   "cell_type": "code",
   "execution_count": 75,
   "metadata": {
    "tags": []
   },
   "outputs": [
    {
     "name": "stdout",
     "output_type": "stream",
     "text": [
      "Initially classified as spam (Probability: 55.57%)\n",
      "Now classified as ham (Probability: 24.33%)\n"
     ]
    }
   ],
   "source": [
    "feature_to_remove = 'bank'\n",
    "\n",
    "changed_words = some_words.copy()\n",
    "changed_words.remove(feature_to_remove)\n",
    "\n",
    "changed_model = LogisticRegression()\n",
    "X_changed = words_in_texts(changed_words, train['email'])\n",
    "y = train['spam']\n",
    "changed_model.fit(X_changed, y)\n",
    "changed_prob = changed_model.predict_proba(X_changed[[email_idx]])[:,1][0]\n",
    "changed_class = \"spam\" if np.round(changed_prob) else \"ham\"\n",
    "\n",
    "print(f\"Initially classified as {initial_class} (Probability: {np.round(initial_prob*100, 2)}%)\")\n",
    "print(f\"Now classified as {changed_class} (Probability: {np.round(changed_prob*100, 2)}%)\")"
   ]
  },
  {
   "cell_type": "markdown",
   "metadata": {
    "deletable": false
   },
   "source": [
    "\n",
    "#### How feature changed how the email that was classified."
   ]
  },
  {
   "cell_type": "markdown",
   "metadata": {},
   "source": [
    "After iterating through each word and counting its occurence in each email text, I drilled down on those emails that were dependent on a specific feature word that classified it as spam and removed that word, in this case being 'bank' for the 1338th indexed email. Prior to the removal of the feature, I found that this email was at a borderline probability to being classified as ham at 55%. Considering that 'bank' was the only word that aligned the text to the words list in occurrence counts, the removal of 'bank' would shift the classification below 50% (default cutoff in the logisitc regression) and shift from spam to ham. "
   ]
  },
  {
   "cell_type": "markdown",
   "metadata": {
    "deletable": true,
    "editable": true
   },
   "source": [
    "\n",
    "#### Interpretability"
   ]
  },
  {
   "cell_type": "markdown",
   "metadata": {},
   "source": [
    "Assuming the large number of word features contained in the new model prove to be more prevalent in one classification and minimze overlap, then I would expect this new model to more interpetable than simple_model as the model will now have higher confidence and probability in classifying the emails as it will be able to leverage the potential combinations and reduce dependencies on single words in the simple_model. For example, there was a high likelihood that overlap and high number of False Positives would appear in simple_model in the contexts of dealing with ham emails circulating in the finance or health industry (hence the word selection being drug, bank, prescription, etc...)."
   ]
  },
  {
   "cell_type": "markdown",
   "metadata": {},
   "source": [
    "When dealing with a classification model working with hate speech, the inevitable obstacles such as diverse idioms, differing languages/phrases, misinterpration when truly raising awareness and circulation of images/memes all pose challenges in classifying hate speech. Content that would fall under such category at an amatuer level would be widely used deragatory terms tied with sensitive global conflicts, race/ethnicity, gender, etc. Tokenizing such combinations would pinpoint essential hate speeches that would be essential to remove and classify as hate speech. It is also key to contian versatility to generalize to all languages involved to accurately apply a classification tailored for a language. "
   ]
  },
  {
   "cell_type": "markdown",
   "metadata": {
    "deletable": true,
    "editable": true
   },
   "source": [
    "\n",
    "### Stakes of Misclassification\n"
   ]
  },
  {
   "cell_type": "markdown",
   "metadata": {},
   "source": [
    "Misclassifying posts on social media can have implications on the company's image and stance towards the respective type of post removed. Further misinfomration on the platform and its stakeholders can be stunted. A false positive in this context would be a truly respective/guideline abiding post classified as hate speech, while a false negative could be a truly hate speech containing post that bypassed the classificationt test and is classified as an email that meets platform guidelines. Such issues are common amongst social media platforms and are ongoing tasks for the major players as it leads users to attack the integrity of the platform and question what it allows or restricts (i.e X contantly changing its guidelines after change in leadership). "
   ]
  },
  {
   "cell_type": "markdown",
   "metadata": {
    "deletable": false
   },
   "source": [
    "\n",
    "### Relevance of having Interpretable Model?\n"
   ]
  },
  {
   "cell_type": "markdown",
   "metadata": {},
   "source": [
    "Having an interpretable model is pivotal to meeting social images and allowing a fair/equitable platform to all types of users that invites opinions. Thus having a model that is widely resilient against varying circumstances is important. Although the usefulness and perception of the interpretibility of the model can be skewed short term due to sudden rise in global tensions/ or rise in some form of category above that the model hasn't been trained on would signal to the developers to adjust their models to offer consieration in its classification for the repsective domain. Failing to meet such conflicts can threaten the integrity of the models and the platform itself."
   ]
  },
  {
   "cell_type": "markdown",
   "metadata": {},
   "source": [
    " "
   ]
  }
 ],
 "metadata": {
  "kernelspec": {
   "display_name": "Python 3 (ipykernel)",
   "language": "python",
   "name": "python3"
  },
  "language_info": {
   "codemirror_mode": {
    "name": "ipython",
    "version": 3
   },
   "file_extension": ".py",
   "mimetype": "text/x-python",
   "name": "python",
   "nbconvert_exporter": "python",
   "pygments_lexer": "ipython3",
   "version": "3.11.10"
  },
  "otter": {
   "OK_FORMAT": true,
   "require_no_pdf_confirmation": true,
   "tests": {
    "q3a": {
     "name": "q3a",
     "points": 5,
     "suites": [
      {
       "cases": [
        {
         "code": ">>> assert 'sklearn.feature_extraction.text' not in sys.modules.keys()\n>>> training_accuracy >= 0.7\nTrue",
         "hidden": false,
         "locked": false,
         "points": 1.5
        },
        {
         "code": ">>> assert 'sklearn.feature_extraction.text' not in sys.modules.keys()\n>>> training_accuracy >= 0.8\nTrue",
         "hidden": false,
         "locked": false,
         "points": 1.5
        },
        {
         "code": ">>> assert 'sklearn.feature_extraction.text' not in sys.modules.keys()\n>>> training_accuracy >= 0.85\nTrue",
         "hidden": false,
         "locked": false,
         "points": 2
        }
       ],
       "scored": true,
       "setup": "",
       "teardown": "",
       "type": "doctest"
      }
     ]
    },
    "q3b": {
     "name": "q3b",
     "points": 0,
     "suites": [
      {
       "cases": [
        {
         "code": ">>> assert 'sklearn.feature_extraction.text' not in sys.modules.keys()\n>>> isinstance(test_predictions, np.ndarray)\nTrue",
         "hidden": false,
         "locked": false
        },
        {
         "code": ">>> assert 'sklearn.feature_extraction.text' not in sys.modules.keys()\n>>> np.array_equal(np.unique(test_predictions), np.array([0, 1]))\nTrue",
         "hidden": false,
         "locked": false
        },
        {
         "code": ">>> assert 'sklearn.feature_extraction.text' not in sys.modules.keys()\n>>> len(test_predictions) == 1000\nTrue",
         "hidden": false,
         "locked": false
        }
       ],
       "scored": true,
       "setup": "",
       "teardown": "",
       "type": "doctest"
      }
     ]
    },
    "q7ai": {
     "name": "q7ai",
     "points": 1,
     "suites": [
      {
       "cases": [
        {
         "code": ">>> assert simple_model.n_features_in_ == changed_model.n_features_in_ + 1\n",
         "hidden": false,
         "locked": false
        },
        {
         "code": ">>> assert changed_class != initial_class\n",
         "hidden": false,
         "locked": false
        }
       ],
       "scored": true,
       "setup": "",
       "teardown": "",
       "type": "doctest"
      }
     ]
    }
   }
  }
 },
 "nbformat": 4,
 "nbformat_minor": 4
}
