{
 "cells": [
  {
   "cell_type": "markdown",
   "id": "44cb3410-c24f-4c86-8ef7-2f89a495c6db",
   "metadata": {},
   "source": [
    "# Imports"
   ]
  },
  {
   "cell_type": "code",
   "execution_count": 85,
   "id": "3ce40c04-9fbf-4010-aae3-fbcc08179b32",
   "metadata": {},
   "outputs": [],
   "source": [
    "import kagglehub \n",
    "import pandas as pd\n",
    "import numpy as np\n",
    "import os\n",
    "import zipfile"
   ]
  },
  {
   "cell_type": "code",
   "execution_count": 86,
   "id": "350d2e81-5462-4a4f-89ac-b7314888d956",
   "metadata": {},
   "outputs": [],
   "source": [
    "import pandas as pd\n",
    "import plotly.express as px\n",
    "import ipywidgets as widgets\n",
    "from IPython.display import display"
   ]
  },
  {
   "cell_type": "markdown",
   "id": "9b6f0d03-5b5d-4845-82c3-0b3a93fb6f03",
   "metadata": {},
   "source": [
    "# Loading CSV from Kaggle API "
   ]
  },
  {
   "cell_type": "code",
   "execution_count": 197,
   "id": "0cd286e5-3afd-4454-96d3-a26f30cb2e14",
   "metadata": {},
   "outputs": [
    {
     "name": "stdout",
     "output_type": "stream",
     "text": [
      "Path to dataset files: /Users/samarsingh/.cache/kagglehub/datasets/justinas/nba-players-data/versions/5\n"
     ]
    }
   ],
   "source": [
    "\n",
    "# Download latest version\n",
    "path = kagglehub.dataset_download(\"justinas/nba-players-data\")\n",
    "print(\"Path to dataset files:\", path)"
   ]
  },
  {
   "cell_type": "code",
   "execution_count": 198,
   "id": "40c2d590-1324-420c-8160-95433b8af77a",
   "metadata": {},
   "outputs": [
    {
     "name": "stdout",
     "output_type": "stream",
     "text": [
      "Files in the dataset directory: ['all_seasons.csv']\n"
     ]
    }
   ],
   "source": [
    "# List all files in the directory to find the specific file\n",
    "files = os.listdir(path) #--> ['file name']\n",
    "print(\"Files in the dataset directory:\", files)\n",
    "\n",
    "# Assuming you want to read a CSV file, find the relevant file and load it\n",
    "csv_file_path = os.path.join(path, files[0])  # Replace with the actual filename\n",
    "df = pd.read_csv(csv_file_path)\n",
    "df.head()\n",
    "%config InlineBackend.print_rows = 5\n"
   ]
  },
  {
   "cell_type": "code",
   "execution_count": 199,
   "id": "8f3a7b97-d30d-4afa-8c1c-ecd2b08ccd18",
   "metadata": {
    "scrolled": true
   },
   "outputs": [],
   "source": [
    "b = False\n",
    "for i in df.index:\n",
    "    if (i != df.iloc[i, 0]):\n",
    "        print(i)\n",
    "        break\n",
    "    b = True\n",
    "if b==True:\n",
    "    df.drop(df.columns[0], axis = 1, inplace = True)"
   ]
  },
  {
   "cell_type": "code",
   "execution_count": 200,
   "id": "59b1b9e2-7791-4dde-8ba9-574d00fef369",
   "metadata": {},
   "outputs": [],
   "source": [
    "df['college'].fillna('Untraditional', inplace = True)"
   ]
  },
  {
   "cell_type": "code",
   "execution_count": 201,
   "id": "1816cb1f-00f0-4611-8219-58f4684fcedf",
   "metadata": {},
   "outputs": [],
   "source": [
    "nba_top10 = df.copy()\n",
    "#storing highest colleges having largest number of draftees   \n",
    "arr_10 = nba_top10.groupby('college').agg({'age':'count'}).sort_values('age', ascending = False).head(25).index.to_numpy()"
   ]
  },
  {
   "cell_type": "code",
   "execution_count": 202,
   "id": "9006507e-e0d8-4a56-9728-0dd67eae1332",
   "metadata": {},
   "outputs": [],
   "source": [
    "nba_top10 = nba_top10[nba_top10['college'].apply(lambda x: x in arr_10)]"
   ]
  },
  {
   "cell_type": "code",
   "execution_count": 203,
   "id": "6c8275ec-3034-4118-a8bc-2516797aa5de",
   "metadata": {},
   "outputs": [
    {
     "data": {
      "text/plain": [
       "Index(['pts', 'reb', 'ast', 'net_rating', 'oreb_pct', 'dreb_pct', 'usg_pct',\n",
       "       'ts_pct', 'ast_pct', 'season'],\n",
       "      dtype='object')"
      ]
     },
     "execution_count": 203,
     "metadata": {},
     "output_type": "execute_result"
    }
   ],
   "source": [
    "nba_top10.columns[11: 21]"
   ]
  },
  {
   "cell_type": "code",
   "execution_count": 204,
   "id": "0b0331dc-4819-42c4-ab1e-c99d27fa6b86",
   "metadata": {},
   "outputs": [
    {
     "data": {
      "application/vnd.jupyter.widget-view+json": {
       "model_id": "40b50a5b14c2481ab30a457d28127ef7",
       "version_major": 2,
       "version_minor": 0
      },
      "text/plain": [
       "Dropdown(description='Stat:', options=('pts', 'reb', 'ast', 'net_rating', 'oreb_pct', 'dreb_pct', 'usg_pct', '…"
      ]
     },
     "execution_count": 204,
     "metadata": {},
     "output_type": "execute_result"
    }
   ],
   "source": [
    "category_dropdown = widgets.Dropdown(\n",
    "    options=nba_top10['college'].unique(),\n",
    "    description='College:',\n",
    "    value='UCLA'\n",
    ")\n",
    "#columns containing stats located from index 11 --> 21 (options for stats in our dropdown)\n",
    "stats_dropdown = widgets.Dropdown(\n",
    "    options=nba_top10.columns[11: 21],\n",
    "    description='Stat:',\n",
    "    value='pts'\n",
    ")\n",
    "stats_dropdown #example"
   ]
  },
  {
   "cell_type": "code",
   "execution_count": 205,
   "id": "d719fd2f-80db-48a3-9471-e570f89d3030",
   "metadata": {},
   "outputs": [
    {
     "name": "stdout",
     "output_type": "stream",
     "text": [
      "2015\n",
      "2015\n",
      "2015\n",
      "2010\n",
      "2015\n",
      "2010\n",
      "2010\n",
      "2020\n",
      "2020\n",
      "2015\n",
      "2010\n",
      "2020\n",
      "2010\n",
      "2005\n",
      "2005\n",
      "2005\n",
      "2005\n",
      "2005\n",
      "2000\n",
      "2000\n",
      "2000\n",
      "2000\n",
      "2000\n",
      "1995\n",
      "1995\n",
      "1995\n",
      "1995\n"
     ]
    }
   ],
   "source": [
    "#confirm approach to round any year down to a divisor of 5\n",
    "for i in nba_top10['season'].value_counts().index:\n",
    "    print((int(i.split('-')[0])//5)*5)"
   ]
  },
  {
   "cell_type": "code",
   "execution_count": 206,
   "id": "cf17bd51-6e04-4b33-9e4a-07d693f3e577",
   "metadata": {},
   "outputs": [],
   "source": [
    "#roudning player's year down into 5 year buckets\n",
    "def fiveYear(szn):\n",
    "    return (int(szn.split('-')[0])//5)*5"
   ]
  },
  {
   "cell_type": "code",
   "execution_count": 207,
   "id": "6342d245-c67a-4c71-944d-449dba099b01",
   "metadata": {},
   "outputs": [],
   "source": [
    "nba_top10['5Year'] = nba_top10['season'].apply(lambda x: fiveYear(x))"
   ]
  },
  {
   "cell_type": "code",
   "execution_count": 208,
   "id": "d5d55f56-1d82-4f03-9a99-573f964380b8",
   "metadata": {},
   "outputs": [
    {
     "data": {
      "text/plain": [
       "Index(['player_name', 'team_abbreviation', 'age', 'player_height',\n",
       "       'player_weight', 'college', 'country', 'draft_year', 'draft_round',\n",
       "       'draft_number', 'gp', 'pts', 'reb', 'ast', 'net_rating', 'oreb_pct',\n",
       "       'dreb_pct', 'usg_pct', 'ts_pct', 'ast_pct', 'season', '5Year'],\n",
       "      dtype='object')"
      ]
     },
     "execution_count": 208,
     "metadata": {},
     "output_type": "execute_result"
    }
   ],
   "source": [
    "nba_top10.columns"
   ]
  },
  {
   "cell_type": "code",
   "execution_count": 209,
   "id": "cb49ad5a-a9fa-42e5-a5e4-7c682780e88b",
   "metadata": {},
   "outputs": [
    {
     "data": {
      "text/html": [
       "<div>\n",
       "<style scoped>\n",
       "    .dataframe tbody tr th:only-of-type {\n",
       "        vertical-align: middle;\n",
       "    }\n",
       "\n",
       "    .dataframe tbody tr th {\n",
       "        vertical-align: top;\n",
       "    }\n",
       "\n",
       "    .dataframe thead th {\n",
       "        text-align: right;\n",
       "    }\n",
       "</style>\n",
       "<table border=\"1\" class=\"dataframe\">\n",
       "  <thead>\n",
       "    <tr style=\"text-align: right;\">\n",
       "      <th></th>\n",
       "      <th>5Year</th>\n",
       "      <th>pts</th>\n",
       "    </tr>\n",
       "  </thead>\n",
       "  <tbody>\n",
       "    <tr>\n",
       "      <th>0</th>\n",
       "      <td>1995</td>\n",
       "      <td>6.634615</td>\n",
       "    </tr>\n",
       "    <tr>\n",
       "      <th>1</th>\n",
       "      <td>2000</td>\n",
       "      <td>9.665714</td>\n",
       "    </tr>\n",
       "    <tr>\n",
       "      <th>2</th>\n",
       "      <td>2005</td>\n",
       "      <td>7.887500</td>\n",
       "    </tr>\n",
       "    <tr>\n",
       "      <th>3</th>\n",
       "      <td>2010</td>\n",
       "      <td>7.119118</td>\n",
       "    </tr>\n",
       "    <tr>\n",
       "      <th>4</th>\n",
       "      <td>2015</td>\n",
       "      <td>8.847297</td>\n",
       "    </tr>\n",
       "    <tr>\n",
       "      <th>5</th>\n",
       "      <td>2020</td>\n",
       "      <td>10.357895</td>\n",
       "    </tr>\n",
       "  </tbody>\n",
       "</table>\n",
       "</div>"
      ],
      "text/plain": [
       "   5Year        pts\n",
       "0   1995   6.634615\n",
       "1   2000   9.665714\n",
       "2   2005   7.887500\n",
       "3   2010   7.119118\n",
       "4   2015   8.847297\n",
       "5   2020  10.357895"
      ]
     },
     "execution_count": 209,
     "metadata": {},
     "output_type": "execute_result"
    }
   ],
   "source": [
    "nba_top10[nba_top10['college'] == 'Kansas'].groupby('5Year', as_index=False)['pts'].mean()"
   ]
  },
  {
   "cell_type": "markdown",
   "id": "47af007e-6438-40e1-bc8f-432c665449d4",
   "metadata": {},
   "source": [
    "# Create column that has years in league during a respective season"
   ]
  },
  {
   "cell_type": "code",
   "execution_count": 210,
   "id": "54486a78-2cda-40ed-9539-04b49bbb28f2",
   "metadata": {},
   "outputs": [
    {
     "name": "stdout",
     "output_type": "stream",
     "text": [
      "1996\n",
      "1996\n",
      "1996\n",
      "1996\n",
      "1996\n",
      "1996\n",
      "1996\n",
      "1996\n",
      "1996\n",
      "1996\n"
     ]
    },
    {
     "data": {
      "text/plain": [
       "(6751,)"
      ]
     },
     "execution_count": 210,
     "metadata": {},
     "output_type": "execute_result"
    }
   ],
   "source": [
    "#type of column is unorthodox and must be processed unconvetnionally as:\n",
    "# nba_top10['season'].str.split('-')[0] refuses to extract first column of the matrix\n",
    "#shape of matrix is currently [m, none]?\n",
    "j = 0\n",
    "for i in nba_top10['season'].str.split('-'):\n",
    "    \n",
    "    print(i[0])\n",
    "    j+=1\n",
    "    if j==10:\n",
    "        break\n",
    "\n",
    "# above currectly extracts first year in the season\n",
    "arr = []\n",
    "split = nba_top10['season'].str.split('-')\n",
    "for i in split:\n",
    "    arr.append(int(i[0]))\n",
    "\n",
    "np.array(arr).shape"
   ]
  },
  {
   "cell_type": "code",
   "execution_count": 211,
   "id": "bd08a395-3e20-4218-a17e-7a6bf1cab752",
   "metadata": {},
   "outputs": [
    {
     "data": {
      "text/plain": [
       "True"
      ]
     },
     "execution_count": 211,
     "metadata": {},
     "output_type": "execute_result"
    }
   ],
   "source": [
    "len(arr) == len(nba_top10['draft_year'])"
   ]
  },
  {
   "cell_type": "code",
   "execution_count": 212,
   "id": "65075098-5167-4b13-ba33-a4088dbd9d09",
   "metadata": {},
   "outputs": [
    {
     "data": {
      "text/plain": [
       "draft_year\n",
       "Undrafted    750\n",
       "2003         303\n",
       "Name: count, dtype: int64"
      ]
     },
     "execution_count": 212,
     "metadata": {},
     "output_type": "execute_result"
    }
   ],
   "source": [
    "# those who were undracted or had unconventional route to the nba (i.e --> notable names Luka Doncic, Wemby must be undrafted_\n",
    "# and thus have NA values under draft_year --> replace these null val and represent them as 0\n",
    "nba_top10['draft_year'].value_counts().head(2)"
   ]
  },
  {
   "cell_type": "code",
   "execution_count": 213,
   "id": "28c246fe-c0be-45ae-84a8-80031c645ec9",
   "metadata": {},
   "outputs": [
    {
     "data": {
      "text/html": [
       "<div>\n",
       "<style scoped>\n",
       "    .dataframe tbody tr th:only-of-type {\n",
       "        vertical-align: middle;\n",
       "    }\n",
       "\n",
       "    .dataframe tbody tr th {\n",
       "        vertical-align: top;\n",
       "    }\n",
       "\n",
       "    .dataframe thead th {\n",
       "        text-align: right;\n",
       "    }\n",
       "</style>\n",
       "<table border=\"1\" class=\"dataframe\">\n",
       "  <thead>\n",
       "    <tr style=\"text-align: right;\">\n",
       "      <th></th>\n",
       "      <th>player_name</th>\n",
       "      <th>team_abbreviation</th>\n",
       "      <th>age</th>\n",
       "      <th>player_height</th>\n",
       "      <th>player_weight</th>\n",
       "      <th>college</th>\n",
       "      <th>country</th>\n",
       "      <th>draft_year</th>\n",
       "      <th>draft_round</th>\n",
       "      <th>draft_number</th>\n",
       "      <th>...</th>\n",
       "      <th>ast</th>\n",
       "      <th>net_rating</th>\n",
       "      <th>oreb_pct</th>\n",
       "      <th>dreb_pct</th>\n",
       "      <th>usg_pct</th>\n",
       "      <th>ts_pct</th>\n",
       "      <th>ast_pct</th>\n",
       "      <th>season</th>\n",
       "      <th>5Year</th>\n",
       "      <th>start_season</th>\n",
       "    </tr>\n",
       "  </thead>\n",
       "  <tbody>\n",
       "    <tr>\n",
       "      <th>88</th>\n",
       "      <td>Jaren Jackson</td>\n",
       "      <td>WAS</td>\n",
       "      <td>29.0</td>\n",
       "      <td>198.12</td>\n",
       "      <td>95.254320</td>\n",
       "      <td>Georgetown</td>\n",
       "      <td>USA</td>\n",
       "      <td>0</td>\n",
       "      <td>Undrafted</td>\n",
       "      <td>Undrafted</td>\n",
       "      <td>...</td>\n",
       "      <td>0.9</td>\n",
       "      <td>1.7</td>\n",
       "      <td>0.030</td>\n",
       "      <td>0.104</td>\n",
       "      <td>0.167</td>\n",
       "      <td>0.520</td>\n",
       "      <td>0.090</td>\n",
       "      <td>1996-97</td>\n",
       "      <td>1995</td>\n",
       "      <td>1996</td>\n",
       "    </tr>\n",
       "    <tr>\n",
       "      <th>165</th>\n",
       "      <td>Duane Ferrell</td>\n",
       "      <td>IND</td>\n",
       "      <td>32.0</td>\n",
       "      <td>200.66</td>\n",
       "      <td>97.522280</td>\n",
       "      <td>Georgia Tech</td>\n",
       "      <td>USA</td>\n",
       "      <td>0</td>\n",
       "      <td>Undrafted</td>\n",
       "      <td>Undrafted</td>\n",
       "      <td>...</td>\n",
       "      <td>1.1</td>\n",
       "      <td>2.3</td>\n",
       "      <td>0.066</td>\n",
       "      <td>0.091</td>\n",
       "      <td>0.181</td>\n",
       "      <td>0.521</td>\n",
       "      <td>0.100</td>\n",
       "      <td>1996-97</td>\n",
       "      <td>1995</td>\n",
       "      <td>1996</td>\n",
       "    </tr>\n",
       "    <tr>\n",
       "      <th>176</th>\n",
       "      <td>Darrick Martin</td>\n",
       "      <td>LAC</td>\n",
       "      <td>26.0</td>\n",
       "      <td>180.34</td>\n",
       "      <td>77.110640</td>\n",
       "      <td>UCLA</td>\n",
       "      <td>USA</td>\n",
       "      <td>0</td>\n",
       "      <td>Undrafted</td>\n",
       "      <td>Undrafted</td>\n",
       "      <td>...</td>\n",
       "      <td>4.1</td>\n",
       "      <td>-4.5</td>\n",
       "      <td>0.016</td>\n",
       "      <td>0.060</td>\n",
       "      <td>0.232</td>\n",
       "      <td>0.539</td>\n",
       "      <td>0.292</td>\n",
       "      <td>1996-97</td>\n",
       "      <td>1995</td>\n",
       "      <td>1996</td>\n",
       "    </tr>\n",
       "    <tr>\n",
       "      <th>197</th>\n",
       "      <td>Keith Askins</td>\n",
       "      <td>MIA</td>\n",
       "      <td>29.0</td>\n",
       "      <td>203.20</td>\n",
       "      <td>101.604608</td>\n",
       "      <td>Alabama</td>\n",
       "      <td>USA</td>\n",
       "      <td>0</td>\n",
       "      <td>Undrafted</td>\n",
       "      <td>Undrafted</td>\n",
       "      <td>...</td>\n",
       "      <td>1.0</td>\n",
       "      <td>6.1</td>\n",
       "      <td>0.059</td>\n",
       "      <td>0.127</td>\n",
       "      <td>0.108</td>\n",
       "      <td>0.557</td>\n",
       "      <td>0.068</td>\n",
       "      <td>1996-97</td>\n",
       "      <td>1995</td>\n",
       "      <td>1996</td>\n",
       "    </tr>\n",
       "    <tr>\n",
       "      <th>199</th>\n",
       "      <td>Scott Williams</td>\n",
       "      <td>PHI</td>\n",
       "      <td>29.0</td>\n",
       "      <td>208.28</td>\n",
       "      <td>104.326160</td>\n",
       "      <td>North Carolina</td>\n",
       "      <td>USA</td>\n",
       "      <td>0</td>\n",
       "      <td>Undrafted</td>\n",
       "      <td>Undrafted</td>\n",
       "      <td>...</td>\n",
       "      <td>0.7</td>\n",
       "      <td>-4.6</td>\n",
       "      <td>0.126</td>\n",
       "      <td>0.205</td>\n",
       "      <td>0.127</td>\n",
       "      <td>0.529</td>\n",
       "      <td>0.049</td>\n",
       "      <td>1996-97</td>\n",
       "      <td>1995</td>\n",
       "      <td>1996</td>\n",
       "    </tr>\n",
       "    <tr>\n",
       "      <th>...</th>\n",
       "      <td>...</td>\n",
       "      <td>...</td>\n",
       "      <td>...</td>\n",
       "      <td>...</td>\n",
       "      <td>...</td>\n",
       "      <td>...</td>\n",
       "      <td>...</td>\n",
       "      <td>...</td>\n",
       "      <td>...</td>\n",
       "      <td>...</td>\n",
       "      <td>...</td>\n",
       "      <td>...</td>\n",
       "      <td>...</td>\n",
       "      <td>...</td>\n",
       "      <td>...</td>\n",
       "      <td>...</td>\n",
       "      <td>...</td>\n",
       "      <td>...</td>\n",
       "      <td>...</td>\n",
       "      <td>...</td>\n",
       "      <td>...</td>\n",
       "    </tr>\n",
       "    <tr>\n",
       "      <th>12795</th>\n",
       "      <td>Jack White</td>\n",
       "      <td>DEN</td>\n",
       "      <td>25.0</td>\n",
       "      <td>200.66</td>\n",
       "      <td>102.058200</td>\n",
       "      <td>Duke</td>\n",
       "      <td>Australia</td>\n",
       "      <td>0</td>\n",
       "      <td>Undrafted</td>\n",
       "      <td>Undrafted</td>\n",
       "      <td>...</td>\n",
       "      <td>0.2</td>\n",
       "      <td>-14.1</td>\n",
       "      <td>0.086</td>\n",
       "      <td>0.177</td>\n",
       "      <td>0.133</td>\n",
       "      <td>0.517</td>\n",
       "      <td>0.093</td>\n",
       "      <td>2022-23</td>\n",
       "      <td>2020</td>\n",
       "      <td>2022</td>\n",
       "    </tr>\n",
       "    <tr>\n",
       "      <th>12809</th>\n",
       "      <td>Jose Alvarado</td>\n",
       "      <td>NOP</td>\n",
       "      <td>25.0</td>\n",
       "      <td>182.88</td>\n",
       "      <td>81.192968</td>\n",
       "      <td>Georgia Tech</td>\n",
       "      <td>USA</td>\n",
       "      <td>0</td>\n",
       "      <td>Undrafted</td>\n",
       "      <td>Undrafted</td>\n",
       "      <td>...</td>\n",
       "      <td>3.0</td>\n",
       "      <td>3.7</td>\n",
       "      <td>0.022</td>\n",
       "      <td>0.087</td>\n",
       "      <td>0.191</td>\n",
       "      <td>0.525</td>\n",
       "      <td>0.199</td>\n",
       "      <td>2022-23</td>\n",
       "      <td>2020</td>\n",
       "      <td>2022</td>\n",
       "    </tr>\n",
       "    <tr>\n",
       "      <th>12818</th>\n",
       "      <td>Johnny Juzang</td>\n",
       "      <td>UTA</td>\n",
       "      <td>22.0</td>\n",
       "      <td>198.12</td>\n",
       "      <td>94.800728</td>\n",
       "      <td>UCLA</td>\n",
       "      <td>USA</td>\n",
       "      <td>0</td>\n",
       "      <td>Undrafted</td>\n",
       "      <td>Undrafted</td>\n",
       "      <td>...</td>\n",
       "      <td>0.4</td>\n",
       "      <td>-17.7</td>\n",
       "      <td>0.029</td>\n",
       "      <td>0.122</td>\n",
       "      <td>0.187</td>\n",
       "      <td>0.411</td>\n",
       "      <td>0.051</td>\n",
       "      <td>2022-23</td>\n",
       "      <td>2020</td>\n",
       "      <td>2022</td>\n",
       "    </tr>\n",
       "    <tr>\n",
       "      <th>12837</th>\n",
       "      <td>Joe Ingles</td>\n",
       "      <td>MIL</td>\n",
       "      <td>35.0</td>\n",
       "      <td>205.74</td>\n",
       "      <td>99.790240</td>\n",
       "      <td>Untraditional</td>\n",
       "      <td>Australia</td>\n",
       "      <td>0</td>\n",
       "      <td>Undrafted</td>\n",
       "      <td>Undrafted</td>\n",
       "      <td>...</td>\n",
       "      <td>3.3</td>\n",
       "      <td>2.5</td>\n",
       "      <td>0.012</td>\n",
       "      <td>0.102</td>\n",
       "      <td>0.122</td>\n",
       "      <td>0.616</td>\n",
       "      <td>0.181</td>\n",
       "      <td>2022-23</td>\n",
       "      <td>2020</td>\n",
       "      <td>2022</td>\n",
       "    </tr>\n",
       "    <tr>\n",
       "      <th>12843</th>\n",
       "      <td>JaMychal Green</td>\n",
       "      <td>GSW</td>\n",
       "      <td>33.0</td>\n",
       "      <td>205.74</td>\n",
       "      <td>102.965384</td>\n",
       "      <td>Alabama</td>\n",
       "      <td>USA</td>\n",
       "      <td>0</td>\n",
       "      <td>Undrafted</td>\n",
       "      <td>Undrafted</td>\n",
       "      <td>...</td>\n",
       "      <td>0.9</td>\n",
       "      <td>-8.2</td>\n",
       "      <td>0.087</td>\n",
       "      <td>0.164</td>\n",
       "      <td>0.169</td>\n",
       "      <td>0.650</td>\n",
       "      <td>0.094</td>\n",
       "      <td>2022-23</td>\n",
       "      <td>2020</td>\n",
       "      <td>2022</td>\n",
       "    </tr>\n",
       "  </tbody>\n",
       "</table>\n",
       "<p>750 rows × 23 columns</p>\n",
       "</div>"
      ],
      "text/plain": [
       "          player_name team_abbreviation   age  player_height  player_weight  \\\n",
       "88      Jaren Jackson               WAS  29.0         198.12      95.254320   \n",
       "165     Duane Ferrell               IND  32.0         200.66      97.522280   \n",
       "176    Darrick Martin               LAC  26.0         180.34      77.110640   \n",
       "197      Keith Askins               MIA  29.0         203.20     101.604608   \n",
       "199    Scott Williams               PHI  29.0         208.28     104.326160   \n",
       "...               ...               ...   ...            ...            ...   \n",
       "12795      Jack White               DEN  25.0         200.66     102.058200   \n",
       "12809   Jose Alvarado               NOP  25.0         182.88      81.192968   \n",
       "12818   Johnny Juzang               UTA  22.0         198.12      94.800728   \n",
       "12837      Joe Ingles               MIL  35.0         205.74      99.790240   \n",
       "12843  JaMychal Green               GSW  33.0         205.74     102.965384   \n",
       "\n",
       "              college    country draft_year draft_round draft_number  ...  \\\n",
       "88         Georgetown        USA          0   Undrafted    Undrafted  ...   \n",
       "165      Georgia Tech        USA          0   Undrafted    Undrafted  ...   \n",
       "176              UCLA        USA          0   Undrafted    Undrafted  ...   \n",
       "197           Alabama        USA          0   Undrafted    Undrafted  ...   \n",
       "199    North Carolina        USA          0   Undrafted    Undrafted  ...   \n",
       "...               ...        ...        ...         ...          ...  ...   \n",
       "12795            Duke  Australia          0   Undrafted    Undrafted  ...   \n",
       "12809    Georgia Tech        USA          0   Undrafted    Undrafted  ...   \n",
       "12818            UCLA        USA          0   Undrafted    Undrafted  ...   \n",
       "12837   Untraditional  Australia          0   Undrafted    Undrafted  ...   \n",
       "12843         Alabama        USA          0   Undrafted    Undrafted  ...   \n",
       "\n",
       "       ast  net_rating  oreb_pct  dreb_pct  usg_pct  ts_pct  ast_pct   season  \\\n",
       "88     0.9         1.7     0.030     0.104    0.167   0.520    0.090  1996-97   \n",
       "165    1.1         2.3     0.066     0.091    0.181   0.521    0.100  1996-97   \n",
       "176    4.1        -4.5     0.016     0.060    0.232   0.539    0.292  1996-97   \n",
       "197    1.0         6.1     0.059     0.127    0.108   0.557    0.068  1996-97   \n",
       "199    0.7        -4.6     0.126     0.205    0.127   0.529    0.049  1996-97   \n",
       "...    ...         ...       ...       ...      ...     ...      ...      ...   \n",
       "12795  0.2       -14.1     0.086     0.177    0.133   0.517    0.093  2022-23   \n",
       "12809  3.0         3.7     0.022     0.087    0.191   0.525    0.199  2022-23   \n",
       "12818  0.4       -17.7     0.029     0.122    0.187   0.411    0.051  2022-23   \n",
       "12837  3.3         2.5     0.012     0.102    0.122   0.616    0.181  2022-23   \n",
       "12843  0.9        -8.2     0.087     0.164    0.169   0.650    0.094  2022-23   \n",
       "\n",
       "       5Year  start_season  \n",
       "88      1995          1996  \n",
       "165     1995          1996  \n",
       "176     1995          1996  \n",
       "197     1995          1996  \n",
       "199     1995          1996  \n",
       "...      ...           ...  \n",
       "12795   2020          2022  \n",
       "12809   2020          2022  \n",
       "12818   2020          2022  \n",
       "12837   2020          2022  \n",
       "12843   2020          2022  \n",
       "\n",
       "[750 rows x 23 columns]"
      ]
     },
     "execution_count": 213,
     "metadata": {},
     "output_type": "execute_result"
    }
   ],
   "source": [
    "nba_top10['draft_year'].replace('Undrafted', None, inplace=True)\n",
    "nba_top10['draft_year'].fillna(0, inplace = True)\n",
    "nba_top10['start_season'] = arr\n",
    "#undrafted players can now be filtered numerically:\n",
    "nba_top10[nba_top10['draft_year'] == 0]"
   ]
  },
  {
   "cell_type": "code",
   "execution_count": 214,
   "id": "be83caef-e143-4bff-bb87-b42d8c0c8b6c",
   "metadata": {},
   "outputs": [
    {
     "data": {
      "text/plain": [
       "player_name          True\n",
       "team_abbreviation    True\n",
       "age                  True\n",
       "player_height        True\n",
       "player_weight        True\n",
       "college              True\n",
       "country              True\n",
       "draft_year           True\n",
       "draft_round          True\n",
       "draft_number         True\n",
       "gp                   True\n",
       "pts                  True\n",
       "reb                  True\n",
       "ast                  True\n",
       "net_rating           True\n",
       "oreb_pct             True\n",
       "dreb_pct             True\n",
       "usg_pct              True\n",
       "ts_pct               True\n",
       "ast_pct              True\n",
       "season               True\n",
       "5Year                True\n",
       "start_season         True\n",
       "dtype: bool"
      ]
     },
     "execution_count": 214,
     "metadata": {},
     "output_type": "execute_result"
    }
   ],
   "source": [
    "nba_top10.isnull().sum() == 0 #confirm no outstanding null vals"
   ]
  },
  {
   "cell_type": "code",
   "execution_count": 215,
   "id": "13314a8a-eedc-4111-a56b-f6b5043d9066",
   "metadata": {},
   "outputs": [
    {
     "data": {
      "text/plain": [
       "Index(['player_name', 'team_abbreviation', 'age', 'player_height',\n",
       "       'player_weight', 'college', 'country', 'draft_year', 'draft_round',\n",
       "       'draft_number', 'gp', 'pts', 'reb', 'ast', 'net_rating', 'oreb_pct',\n",
       "       'dreb_pct', 'usg_pct', 'ts_pct', 'ast_pct', 'season', '5Year',\n",
       "       'start_season'],\n",
       "      dtype='object')"
      ]
     },
     "execution_count": 215,
     "metadata": {},
     "output_type": "execute_result"
    }
   ],
   "source": [
    "nba_top10.columns"
   ]
  },
  {
   "cell_type": "code",
   "execution_count": 216,
   "id": "ab57dd0a-9752-48e4-942d-d9bba8814c80",
   "metadata": {},
   "outputs": [
    {
     "name": "stdout",
     "output_type": "stream",
     "text": [
      "258 unique undrafted players in top 10 schools\n"
     ]
    }
   ],
   "source": [
    "#Clean draft years for undrafted players, this confirms non-digit values are uniquely only undrafted, locate and replace undrafted\n",
    "#groups by each undrafted player and pulls their minimum start season to find the year they played first nba game\n",
    "nba_top10[nba_top10['draft_year'].astype(str).str.isdigit() == False]['draft_year'].value_counts()\n",
    "mapped = nba_top10[nba_top10['draft_year']==0].groupby('player_name').agg(min)['start_season']\n",
    "print(f'{mapped.shape[0]} unique undrafted players in top 10 schools')"
   ]
  },
  {
   "cell_type": "code",
   "execution_count": 217,
   "id": "a7f0689c-3ac9-4896-9059-17fdafff275a",
   "metadata": {},
   "outputs": [
    {
     "data": {
      "text/html": [
       "<div>\n",
       "<style scoped>\n",
       "    .dataframe tbody tr th:only-of-type {\n",
       "        vertical-align: middle;\n",
       "    }\n",
       "\n",
       "    .dataframe tbody tr th {\n",
       "        vertical-align: top;\n",
       "    }\n",
       "\n",
       "    .dataframe thead th {\n",
       "        text-align: right;\n",
       "    }\n",
       "</style>\n",
       "<table border=\"1\" class=\"dataframe\">\n",
       "  <thead>\n",
       "    <tr style=\"text-align: right;\">\n",
       "      <th></th>\n",
       "      <th>player_name</th>\n",
       "      <th>team_abbreviation</th>\n",
       "      <th>age</th>\n",
       "      <th>player_height</th>\n",
       "      <th>player_weight</th>\n",
       "      <th>college</th>\n",
       "      <th>country</th>\n",
       "      <th>draft_year</th>\n",
       "      <th>draft_round</th>\n",
       "      <th>draft_number</th>\n",
       "      <th>...</th>\n",
       "      <th>ast</th>\n",
       "      <th>net_rating</th>\n",
       "      <th>oreb_pct</th>\n",
       "      <th>dreb_pct</th>\n",
       "      <th>usg_pct</th>\n",
       "      <th>ts_pct</th>\n",
       "      <th>ast_pct</th>\n",
       "      <th>season</th>\n",
       "      <th>5Year</th>\n",
       "      <th>start_season</th>\n",
       "    </tr>\n",
       "  </thead>\n",
       "  <tbody>\n",
       "    <tr>\n",
       "      <th>88</th>\n",
       "      <td>Jaren Jackson</td>\n",
       "      <td>WAS</td>\n",
       "      <td>29.0</td>\n",
       "      <td>198.12</td>\n",
       "      <td>95.254320</td>\n",
       "      <td>Georgetown</td>\n",
       "      <td>USA</td>\n",
       "      <td>0</td>\n",
       "      <td>Undrafted</td>\n",
       "      <td>Undrafted</td>\n",
       "      <td>...</td>\n",
       "      <td>0.9</td>\n",
       "      <td>1.7</td>\n",
       "      <td>0.030</td>\n",
       "      <td>0.104</td>\n",
       "      <td>0.167</td>\n",
       "      <td>0.520</td>\n",
       "      <td>0.090</td>\n",
       "      <td>1996-97</td>\n",
       "      <td>1995</td>\n",
       "      <td>1996</td>\n",
       "    </tr>\n",
       "    <tr>\n",
       "      <th>165</th>\n",
       "      <td>Duane Ferrell</td>\n",
       "      <td>IND</td>\n",
       "      <td>32.0</td>\n",
       "      <td>200.66</td>\n",
       "      <td>97.522280</td>\n",
       "      <td>Georgia Tech</td>\n",
       "      <td>USA</td>\n",
       "      <td>0</td>\n",
       "      <td>Undrafted</td>\n",
       "      <td>Undrafted</td>\n",
       "      <td>...</td>\n",
       "      <td>1.1</td>\n",
       "      <td>2.3</td>\n",
       "      <td>0.066</td>\n",
       "      <td>0.091</td>\n",
       "      <td>0.181</td>\n",
       "      <td>0.521</td>\n",
       "      <td>0.100</td>\n",
       "      <td>1996-97</td>\n",
       "      <td>1995</td>\n",
       "      <td>1996</td>\n",
       "    </tr>\n",
       "    <tr>\n",
       "      <th>176</th>\n",
       "      <td>Darrick Martin</td>\n",
       "      <td>LAC</td>\n",
       "      <td>26.0</td>\n",
       "      <td>180.34</td>\n",
       "      <td>77.110640</td>\n",
       "      <td>UCLA</td>\n",
       "      <td>USA</td>\n",
       "      <td>0</td>\n",
       "      <td>Undrafted</td>\n",
       "      <td>Undrafted</td>\n",
       "      <td>...</td>\n",
       "      <td>4.1</td>\n",
       "      <td>-4.5</td>\n",
       "      <td>0.016</td>\n",
       "      <td>0.060</td>\n",
       "      <td>0.232</td>\n",
       "      <td>0.539</td>\n",
       "      <td>0.292</td>\n",
       "      <td>1996-97</td>\n",
       "      <td>1995</td>\n",
       "      <td>1996</td>\n",
       "    </tr>\n",
       "    <tr>\n",
       "      <th>197</th>\n",
       "      <td>Keith Askins</td>\n",
       "      <td>MIA</td>\n",
       "      <td>29.0</td>\n",
       "      <td>203.20</td>\n",
       "      <td>101.604608</td>\n",
       "      <td>Alabama</td>\n",
       "      <td>USA</td>\n",
       "      <td>0</td>\n",
       "      <td>Undrafted</td>\n",
       "      <td>Undrafted</td>\n",
       "      <td>...</td>\n",
       "      <td>1.0</td>\n",
       "      <td>6.1</td>\n",
       "      <td>0.059</td>\n",
       "      <td>0.127</td>\n",
       "      <td>0.108</td>\n",
       "      <td>0.557</td>\n",
       "      <td>0.068</td>\n",
       "      <td>1996-97</td>\n",
       "      <td>1995</td>\n",
       "      <td>1996</td>\n",
       "    </tr>\n",
       "    <tr>\n",
       "      <th>199</th>\n",
       "      <td>Scott Williams</td>\n",
       "      <td>PHI</td>\n",
       "      <td>29.0</td>\n",
       "      <td>208.28</td>\n",
       "      <td>104.326160</td>\n",
       "      <td>North Carolina</td>\n",
       "      <td>USA</td>\n",
       "      <td>0</td>\n",
       "      <td>Undrafted</td>\n",
       "      <td>Undrafted</td>\n",
       "      <td>...</td>\n",
       "      <td>0.7</td>\n",
       "      <td>-4.6</td>\n",
       "      <td>0.126</td>\n",
       "      <td>0.205</td>\n",
       "      <td>0.127</td>\n",
       "      <td>0.529</td>\n",
       "      <td>0.049</td>\n",
       "      <td>1996-97</td>\n",
       "      <td>1995</td>\n",
       "      <td>1996</td>\n",
       "    </tr>\n",
       "    <tr>\n",
       "      <th>...</th>\n",
       "      <td>...</td>\n",
       "      <td>...</td>\n",
       "      <td>...</td>\n",
       "      <td>...</td>\n",
       "      <td>...</td>\n",
       "      <td>...</td>\n",
       "      <td>...</td>\n",
       "      <td>...</td>\n",
       "      <td>...</td>\n",
       "      <td>...</td>\n",
       "      <td>...</td>\n",
       "      <td>...</td>\n",
       "      <td>...</td>\n",
       "      <td>...</td>\n",
       "      <td>...</td>\n",
       "      <td>...</td>\n",
       "      <td>...</td>\n",
       "      <td>...</td>\n",
       "      <td>...</td>\n",
       "      <td>...</td>\n",
       "      <td>...</td>\n",
       "    </tr>\n",
       "    <tr>\n",
       "      <th>12795</th>\n",
       "      <td>Jack White</td>\n",
       "      <td>DEN</td>\n",
       "      <td>25.0</td>\n",
       "      <td>200.66</td>\n",
       "      <td>102.058200</td>\n",
       "      <td>Duke</td>\n",
       "      <td>Australia</td>\n",
       "      <td>0</td>\n",
       "      <td>Undrafted</td>\n",
       "      <td>Undrafted</td>\n",
       "      <td>...</td>\n",
       "      <td>0.2</td>\n",
       "      <td>-14.1</td>\n",
       "      <td>0.086</td>\n",
       "      <td>0.177</td>\n",
       "      <td>0.133</td>\n",
       "      <td>0.517</td>\n",
       "      <td>0.093</td>\n",
       "      <td>2022-23</td>\n",
       "      <td>2020</td>\n",
       "      <td>2022</td>\n",
       "    </tr>\n",
       "    <tr>\n",
       "      <th>12809</th>\n",
       "      <td>Jose Alvarado</td>\n",
       "      <td>NOP</td>\n",
       "      <td>25.0</td>\n",
       "      <td>182.88</td>\n",
       "      <td>81.192968</td>\n",
       "      <td>Georgia Tech</td>\n",
       "      <td>USA</td>\n",
       "      <td>0</td>\n",
       "      <td>Undrafted</td>\n",
       "      <td>Undrafted</td>\n",
       "      <td>...</td>\n",
       "      <td>3.0</td>\n",
       "      <td>3.7</td>\n",
       "      <td>0.022</td>\n",
       "      <td>0.087</td>\n",
       "      <td>0.191</td>\n",
       "      <td>0.525</td>\n",
       "      <td>0.199</td>\n",
       "      <td>2022-23</td>\n",
       "      <td>2020</td>\n",
       "      <td>2022</td>\n",
       "    </tr>\n",
       "    <tr>\n",
       "      <th>12818</th>\n",
       "      <td>Johnny Juzang</td>\n",
       "      <td>UTA</td>\n",
       "      <td>22.0</td>\n",
       "      <td>198.12</td>\n",
       "      <td>94.800728</td>\n",
       "      <td>UCLA</td>\n",
       "      <td>USA</td>\n",
       "      <td>0</td>\n",
       "      <td>Undrafted</td>\n",
       "      <td>Undrafted</td>\n",
       "      <td>...</td>\n",
       "      <td>0.4</td>\n",
       "      <td>-17.7</td>\n",
       "      <td>0.029</td>\n",
       "      <td>0.122</td>\n",
       "      <td>0.187</td>\n",
       "      <td>0.411</td>\n",
       "      <td>0.051</td>\n",
       "      <td>2022-23</td>\n",
       "      <td>2020</td>\n",
       "      <td>2022</td>\n",
       "    </tr>\n",
       "    <tr>\n",
       "      <th>12837</th>\n",
       "      <td>Joe Ingles</td>\n",
       "      <td>MIL</td>\n",
       "      <td>35.0</td>\n",
       "      <td>205.74</td>\n",
       "      <td>99.790240</td>\n",
       "      <td>Untraditional</td>\n",
       "      <td>Australia</td>\n",
       "      <td>0</td>\n",
       "      <td>Undrafted</td>\n",
       "      <td>Undrafted</td>\n",
       "      <td>...</td>\n",
       "      <td>3.3</td>\n",
       "      <td>2.5</td>\n",
       "      <td>0.012</td>\n",
       "      <td>0.102</td>\n",
       "      <td>0.122</td>\n",
       "      <td>0.616</td>\n",
       "      <td>0.181</td>\n",
       "      <td>2022-23</td>\n",
       "      <td>2020</td>\n",
       "      <td>2022</td>\n",
       "    </tr>\n",
       "    <tr>\n",
       "      <th>12843</th>\n",
       "      <td>JaMychal Green</td>\n",
       "      <td>GSW</td>\n",
       "      <td>33.0</td>\n",
       "      <td>205.74</td>\n",
       "      <td>102.965384</td>\n",
       "      <td>Alabama</td>\n",
       "      <td>USA</td>\n",
       "      <td>0</td>\n",
       "      <td>Undrafted</td>\n",
       "      <td>Undrafted</td>\n",
       "      <td>...</td>\n",
       "      <td>0.9</td>\n",
       "      <td>-8.2</td>\n",
       "      <td>0.087</td>\n",
       "      <td>0.164</td>\n",
       "      <td>0.169</td>\n",
       "      <td>0.650</td>\n",
       "      <td>0.094</td>\n",
       "      <td>2022-23</td>\n",
       "      <td>2020</td>\n",
       "      <td>2022</td>\n",
       "    </tr>\n",
       "  </tbody>\n",
       "</table>\n",
       "<p>750 rows × 23 columns</p>\n",
       "</div>"
      ],
      "text/plain": [
       "          player_name team_abbreviation   age  player_height  player_weight  \\\n",
       "88      Jaren Jackson               WAS  29.0         198.12      95.254320   \n",
       "165     Duane Ferrell               IND  32.0         200.66      97.522280   \n",
       "176    Darrick Martin               LAC  26.0         180.34      77.110640   \n",
       "197      Keith Askins               MIA  29.0         203.20     101.604608   \n",
       "199    Scott Williams               PHI  29.0         208.28     104.326160   \n",
       "...               ...               ...   ...            ...            ...   \n",
       "12795      Jack White               DEN  25.0         200.66     102.058200   \n",
       "12809   Jose Alvarado               NOP  25.0         182.88      81.192968   \n",
       "12818   Johnny Juzang               UTA  22.0         198.12      94.800728   \n",
       "12837      Joe Ingles               MIL  35.0         205.74      99.790240   \n",
       "12843  JaMychal Green               GSW  33.0         205.74     102.965384   \n",
       "\n",
       "              college    country draft_year draft_round draft_number  ...  \\\n",
       "88         Georgetown        USA          0   Undrafted    Undrafted  ...   \n",
       "165      Georgia Tech        USA          0   Undrafted    Undrafted  ...   \n",
       "176              UCLA        USA          0   Undrafted    Undrafted  ...   \n",
       "197           Alabama        USA          0   Undrafted    Undrafted  ...   \n",
       "199    North Carolina        USA          0   Undrafted    Undrafted  ...   \n",
       "...               ...        ...        ...         ...          ...  ...   \n",
       "12795            Duke  Australia          0   Undrafted    Undrafted  ...   \n",
       "12809    Georgia Tech        USA          0   Undrafted    Undrafted  ...   \n",
       "12818            UCLA        USA          0   Undrafted    Undrafted  ...   \n",
       "12837   Untraditional  Australia          0   Undrafted    Undrafted  ...   \n",
       "12843         Alabama        USA          0   Undrafted    Undrafted  ...   \n",
       "\n",
       "       ast  net_rating  oreb_pct  dreb_pct  usg_pct  ts_pct  ast_pct   season  \\\n",
       "88     0.9         1.7     0.030     0.104    0.167   0.520    0.090  1996-97   \n",
       "165    1.1         2.3     0.066     0.091    0.181   0.521    0.100  1996-97   \n",
       "176    4.1        -4.5     0.016     0.060    0.232   0.539    0.292  1996-97   \n",
       "197    1.0         6.1     0.059     0.127    0.108   0.557    0.068  1996-97   \n",
       "199    0.7        -4.6     0.126     0.205    0.127   0.529    0.049  1996-97   \n",
       "...    ...         ...       ...       ...      ...     ...      ...      ...   \n",
       "12795  0.2       -14.1     0.086     0.177    0.133   0.517    0.093  2022-23   \n",
       "12809  3.0         3.7     0.022     0.087    0.191   0.525    0.199  2022-23   \n",
       "12818  0.4       -17.7     0.029     0.122    0.187   0.411    0.051  2022-23   \n",
       "12837  3.3         2.5     0.012     0.102    0.122   0.616    0.181  2022-23   \n",
       "12843  0.9        -8.2     0.087     0.164    0.169   0.650    0.094  2022-23   \n",
       "\n",
       "       5Year  start_season  \n",
       "88      1995          1996  \n",
       "165     1995          1996  \n",
       "176     1995          1996  \n",
       "197     1995          1996  \n",
       "199     1995          1996  \n",
       "...      ...           ...  \n",
       "12795   2020          2022  \n",
       "12809   2020          2022  \n",
       "12818   2020          2022  \n",
       "12837   2020          2022  \n",
       "12843   2020          2022  \n",
       "\n",
       "[750 rows x 23 columns]"
      ]
     },
     "execution_count": 217,
     "metadata": {},
     "output_type": "execute_result"
    }
   ],
   "source": [
    "nba_top10[nba_top10['draft_year'] == 0]"
   ]
  },
  {
   "cell_type": "code",
   "execution_count": 218,
   "id": "d6f7811f-a030-451e-88c8-a8090be79199",
   "metadata": {
    "scrolled": true
   },
   "outputs": [
    {
     "data": {
      "text/plain": [
       "draft_year\n",
       "2005    375\n",
       "2003    332\n",
       "2008    311\n",
       "2001    307\n",
       "1996    307\n",
       "2004    284\n",
       "1998    265\n",
       "2006    262\n",
       "2014    255\n",
       "2009    253\n",
       "2012    231\n",
       "2002    230\n",
       "2011    225\n",
       "2013    224\n",
       "2000    217\n",
       "2007    210\n",
       "2010    202\n",
       "2015    189\n",
       "2017    189\n",
       "2016    188\n",
       "1995    187\n",
       "1999    184\n",
       "1997    173\n",
       "2018    172\n",
       "2019    132\n",
       "1992    122\n",
       "1994    111\n",
       "2020    106\n",
       "1993     91\n",
       "2021     69\n",
       "1991     65\n",
       "1989     63\n",
       "1990     56\n",
       "2022     40\n",
       "1988     37\n",
       "1987     33\n",
       "1984     19\n",
       "1986     16\n",
       "1985     12\n",
       "1981      5\n",
       "1983      1\n",
       "1982      1\n",
       "Name: count, dtype: int64"
      ]
     },
     "execution_count": 218,
     "metadata": {},
     "output_type": "execute_result"
    }
   ],
   "source": [
    "#use series of uniwue undrafted players and their start season to map onto reald df and update their start season\n",
    "#maps based on our index which in ther nace --> access player names and map year values onto draft_year of undrafted\n",
    "nba_top10.loc[nba_top10['draft_year'] == 0, 'draft_year'] = nba_top10['player_name'].map(mapped)\n",
    "#convert in case floats are present\n",
    "nba_top10['draft_year'] = nba_top10['draft_year'].astype(int)\n",
    "\n",
    "# nba_top10[(nba_top10['draft_round'] == 'Undrafted')] #confirms all have been now mapped\n",
    "\n",
    "nba_top10['draft_year'].value_counts()\n",
    "#check if mapped correctly (i.e ensuring no non-year values in col \n",
    "\n",
    "# nba_top10[nba_top10['draft_year'].isna()].apply(lambda"
   ]
  },
  {
   "cell_type": "markdown",
   "id": "7a5bb946-13f3-4b6e-855a-f38479e71dd6",
   "metadata": {},
   "source": [
    "# CORRECTION NEEEDED HERE"
   ]
  },
  {
   "cell_type": "code",
   "execution_count": 219,
   "id": "bfa74804-10a0-4368-ae83-37ef2bfdd050",
   "metadata": {},
   "outputs": [],
   "source": [
    "\n",
    "nba_top10['yearInLeague'] = nba_top10['start_season'] - nba_top10['draft_year']"
   ]
  },
  {
   "cell_type": "code",
   "execution_count": 220,
   "id": "79f5705b-41b0-4eb8-9f0d-b5c595be7ee0",
   "metadata": {},
   "outputs": [],
   "source": [
    "#rookie seasons\n",
    "def rookieSeason(name):\n",
    "    return nba_top10[(nba_top10['yearsLeague'] == 0) & (nba_top10['player_name'].str.contains(name))]\n",
    "rookies = nba_top10[nba_top10['yearInLeague'] == 0]"
   ]
  },
  {
   "cell_type": "code",
   "execution_count": 221,
   "id": "de47a7ce-9788-4081-abef-275c67040d9e",
   "metadata": {},
   "outputs": [
    {
     "name": "stdout",
     "output_type": "stream",
     "text": [
      "-5\n"
     ]
    }
   ],
   "source": [
    "best_player = rookies[nba_top10['college'] == 'UCLA'].sort_values('pts', ascending = False).reset_index()\n",
    "best_year = best_player.iloc[0, list(rookies.columns).index('net_rating')+1].astype(int)\n",
    "print(best_year)"
   ]
  },
  {
   "cell_type": "code",
   "execution_count": 222,
   "id": "63c9bcae-9fcd-4f39-ab43-b18cf2c0e899",
   "metadata": {},
   "outputs": [],
   "source": [
    "from plotly.subplots import make_subplots\n",
    "import plotly.graph_objects as go\n",
    "\n",
    "def outputPrint(category, stat):\n",
    "    filtered = rookies[nba_top10['college'] == category].groupby('5Year', as_index=False)[stat].mean()\n",
    "    timeY = rookies[rookies['college'] == category].groupby('start_season', as_index=False)[stat].mean()\n",
    "    avg_stat = rookies[rookies['college'] == category][stat].mean()\n",
    "    figure1 = px.bar(filtered, x = '5Year', y = stat, title=f'{category} School Average Rookie Points')\n",
    "    figure2 = px.line(timeY, x = 'start_season', y = stat)\n",
    "    #average stat for the selected school\n",
    "    figure2.add_hline(y = avg_stat, line_dash = 'dot', annotation_text= category + ' average ' + stat + ': ' + str(np.round(avg_stat, 2)), \n",
    "              annotation_position=\"bottom right\")\n",
    "    #best player in the selected dropdowns\n",
    "    best_player = rookies[nba_top10['college'] == category].sort_values(stat, ascending = False).reset_index()\n",
    "    name = best_player.iloc[0, 1]\n",
    "    best_stat = best_player.iloc[0, list(rookies.columns).index(stat)+1].astype(int)\n",
    "    name = name + ' best ' + stat +' :' +  str(best_stat)\n",
    "    best_year = best_player.iloc[0, list(rookies.columns).index('draft_year')+1].astype(int)\n",
    "    # print(best_player.shape)\n",
    "    figure2.add_hline(y = avg_stat, line_dash = 'dot', annotation_text= category + ' average ' + stat + ': ' + str(np.round(avg_stat, 2)), \n",
    "              annotation_position=\"bottom right\")\n",
    "\n",
    "    figure2.add_vline(x=best_year, line_dash = 'dot', annotation_text = name, annotation_position = \"top right\")\n",
    "\n",
    "    \n",
    "    # print(f'School Being Described: {category}')\n",
    "    figure1.show()\n",
    "    figure2.update_layout(xaxis=dict(range=[1995, 2025]))\n",
    "    figure2.show()\n",
    "\n"
   ]
  },
  {
   "cell_type": "code",
   "execution_count": 223,
   "id": "3851865d-2e51-41a1-8e96-cb80a94378ad",
   "metadata": {},
   "outputs": [
    {
     "data": {
      "application/vnd.jupyter.widget-view+json": {
       "model_id": "99f9d15128df44ee85b2890771f44742",
       "version_major": 2,
       "version_minor": 0
      },
      "text/plain": [
       "interactive(children=(Dropdown(description='College:', index=2, options=('Louisiana State', 'North Carolina', …"
      ]
     },
     "execution_count": 223,
     "metadata": {},
     "output_type": "execute_result"
    }
   ],
   "source": [
    "import warnings\n",
    "warnings.filterwarnings(\"ignore\")\n",
    "\n",
    "widgets.interactive(outputPrint, category=category_dropdown, stat = stats_dropdown)\n"
   ]
  },
  {
   "cell_type": "markdown",
   "id": "7dad21ce-9076-401c-a844-aa8834525da1",
   "metadata": {},
   "source": [
    "# US College Athletes vs Nontraditional Athletes drafted into NBA Trends\n",
    "#### Nontraditional defined as players direct from high school, overseas, G-League, etc."
   ]
  },
  {
   "cell_type": "code",
   "execution_count": 246,
   "id": "39641b96-0c47-4ed5-bd98-d7dc678cfb5e",
   "metadata": {},
   "outputs": [
    {
     "data": {
      "text/html": [
       "<div>\n",
       "<style scoped>\n",
       "    .dataframe tbody tr th:only-of-type {\n",
       "        vertical-align: middle;\n",
       "    }\n",
       "\n",
       "    .dataframe tbody tr th {\n",
       "        vertical-align: top;\n",
       "    }\n",
       "\n",
       "    .dataframe thead th {\n",
       "        text-align: right;\n",
       "    }\n",
       "</style>\n",
       "<table border=\"1\" class=\"dataframe\">\n",
       "  <thead>\n",
       "    <tr style=\"text-align: right;\">\n",
       "      <th></th>\n",
       "      <th>player_name</th>\n",
       "      <th>team_abbreviation</th>\n",
       "      <th>age</th>\n",
       "      <th>player_height</th>\n",
       "      <th>player_weight</th>\n",
       "      <th>college</th>\n",
       "      <th>country</th>\n",
       "      <th>draft_year</th>\n",
       "      <th>draft_round</th>\n",
       "      <th>draft_number</th>\n",
       "      <th>...</th>\n",
       "      <th>pts</th>\n",
       "      <th>reb</th>\n",
       "      <th>ast</th>\n",
       "      <th>net_rating</th>\n",
       "      <th>oreb_pct</th>\n",
       "      <th>dreb_pct</th>\n",
       "      <th>usg_pct</th>\n",
       "      <th>ts_pct</th>\n",
       "      <th>ast_pct</th>\n",
       "      <th>season</th>\n",
       "    </tr>\n",
       "  </thead>\n",
       "  <tbody>\n",
       "    <tr>\n",
       "      <th>10605</th>\n",
       "      <td>Luka Doncic</td>\n",
       "      <td>DAL</td>\n",
       "      <td>20.0</td>\n",
       "      <td>200.66</td>\n",
       "      <td>98.883056</td>\n",
       "      <td>Untraditional</td>\n",
       "      <td>Slovenia</td>\n",
       "      <td>2018</td>\n",
       "      <td>1</td>\n",
       "      <td>3</td>\n",
       "      <td>...</td>\n",
       "      <td>21.2</td>\n",
       "      <td>7.8</td>\n",
       "      <td>6.0</td>\n",
       "      <td>-3.1</td>\n",
       "      <td>0.036</td>\n",
       "      <td>0.198</td>\n",
       "      <td>0.296</td>\n",
       "      <td>0.545</td>\n",
       "      <td>0.317</td>\n",
       "      <td>2018-19</td>\n",
       "    </tr>\n",
       "    <tr>\n",
       "      <th>11092</th>\n",
       "      <td>Luka Doncic</td>\n",
       "      <td>DAL</td>\n",
       "      <td>21.0</td>\n",
       "      <td>200.66</td>\n",
       "      <td>104.326160</td>\n",
       "      <td>Untraditional</td>\n",
       "      <td>Slovenia</td>\n",
       "      <td>2018</td>\n",
       "      <td>1</td>\n",
       "      <td>3</td>\n",
       "      <td>...</td>\n",
       "      <td>28.8</td>\n",
       "      <td>9.4</td>\n",
       "      <td>8.8</td>\n",
       "      <td>5.3</td>\n",
       "      <td>0.036</td>\n",
       "      <td>0.224</td>\n",
       "      <td>0.355</td>\n",
       "      <td>0.585</td>\n",
       "      <td>0.454</td>\n",
       "      <td>2019-20</td>\n",
       "    </tr>\n",
       "    <tr>\n",
       "      <th>11670</th>\n",
       "      <td>Luka Doncic</td>\n",
       "      <td>DAL</td>\n",
       "      <td>22.0</td>\n",
       "      <td>200.66</td>\n",
       "      <td>104.326160</td>\n",
       "      <td>Untraditional</td>\n",
       "      <td>Slovenia</td>\n",
       "      <td>2018</td>\n",
       "      <td>1</td>\n",
       "      <td>3</td>\n",
       "      <td>...</td>\n",
       "      <td>27.7</td>\n",
       "      <td>8.0</td>\n",
       "      <td>8.6</td>\n",
       "      <td>3.9</td>\n",
       "      <td>0.024</td>\n",
       "      <td>0.202</td>\n",
       "      <td>0.350</td>\n",
       "      <td>0.587</td>\n",
       "      <td>0.425</td>\n",
       "      <td>2020-21</td>\n",
       "    </tr>\n",
       "    <tr>\n",
       "      <th>12099</th>\n",
       "      <td>Luka Doncic</td>\n",
       "      <td>DAL</td>\n",
       "      <td>23.0</td>\n",
       "      <td>200.66</td>\n",
       "      <td>104.326160</td>\n",
       "      <td>Untraditional</td>\n",
       "      <td>Slovenia</td>\n",
       "      <td>2018</td>\n",
       "      <td>1</td>\n",
       "      <td>3</td>\n",
       "      <td>...</td>\n",
       "      <td>28.4</td>\n",
       "      <td>9.1</td>\n",
       "      <td>8.7</td>\n",
       "      <td>3.5</td>\n",
       "      <td>0.025</td>\n",
       "      <td>0.230</td>\n",
       "      <td>0.368</td>\n",
       "      <td>0.571</td>\n",
       "      <td>0.458</td>\n",
       "      <td>2021-22</td>\n",
       "    </tr>\n",
       "    <tr>\n",
       "      <th>12740</th>\n",
       "      <td>Luka Doncic</td>\n",
       "      <td>DAL</td>\n",
       "      <td>24.0</td>\n",
       "      <td>200.66</td>\n",
       "      <td>104.326160</td>\n",
       "      <td>Untraditional</td>\n",
       "      <td>Slovenia</td>\n",
       "      <td>2018</td>\n",
       "      <td>1</td>\n",
       "      <td>3</td>\n",
       "      <td>...</td>\n",
       "      <td>32.4</td>\n",
       "      <td>8.6</td>\n",
       "      <td>8.0</td>\n",
       "      <td>2.1</td>\n",
       "      <td>0.024</td>\n",
       "      <td>0.224</td>\n",
       "      <td>0.368</td>\n",
       "      <td>0.609</td>\n",
       "      <td>0.408</td>\n",
       "      <td>2022-23</td>\n",
       "    </tr>\n",
       "  </tbody>\n",
       "</table>\n",
       "<p>5 rows × 21 columns</p>\n",
       "</div>"
      ],
      "text/plain": [
       "       player_name team_abbreviation   age  player_height  player_weight  \\\n",
       "10605  Luka Doncic               DAL  20.0         200.66      98.883056   \n",
       "11092  Luka Doncic               DAL  21.0         200.66     104.326160   \n",
       "11670  Luka Doncic               DAL  22.0         200.66     104.326160   \n",
       "12099  Luka Doncic               DAL  23.0         200.66     104.326160   \n",
       "12740  Luka Doncic               DAL  24.0         200.66     104.326160   \n",
       "\n",
       "             college   country draft_year draft_round draft_number  ...   pts  \\\n",
       "10605  Untraditional  Slovenia       2018           1            3  ...  21.2   \n",
       "11092  Untraditional  Slovenia       2018           1            3  ...  28.8   \n",
       "11670  Untraditional  Slovenia       2018           1            3  ...  27.7   \n",
       "12099  Untraditional  Slovenia       2018           1            3  ...  28.4   \n",
       "12740  Untraditional  Slovenia       2018           1            3  ...  32.4   \n",
       "\n",
       "       reb  ast  net_rating  oreb_pct  dreb_pct  usg_pct  ts_pct  ast_pct  \\\n",
       "10605  7.8  6.0        -3.1     0.036     0.198    0.296   0.545    0.317   \n",
       "11092  9.4  8.8         5.3     0.036     0.224    0.355   0.585    0.454   \n",
       "11670  8.0  8.6         3.9     0.024     0.202    0.350   0.587    0.425   \n",
       "12099  9.1  8.7         3.5     0.025     0.230    0.368   0.571    0.458   \n",
       "12740  8.6  8.0         2.1     0.024     0.224    0.368   0.609    0.408   \n",
       "\n",
       "        season  \n",
       "10605  2018-19  \n",
       "11092  2019-20  \n",
       "11670  2020-21  \n",
       "12099  2021-22  \n",
       "12740  2022-23  \n",
       "\n",
       "[5 rows x 21 columns]"
      ]
     },
     "execution_count": 246,
     "metadata": {},
     "output_type": "execute_result"
    }
   ],
   "source": [
    "df[df['player_name'] == 'Luka Doncic']"
   ]
  },
  {
   "cell_type": "code",
   "execution_count": 258,
   "id": "1616794a-6698-47da-8e7c-7b2895ff58ce",
   "metadata": {},
   "outputs": [
    {
     "data": {
      "text/plain": [
       "(361, 1)"
      ]
     },
     "execution_count": 258,
     "metadata": {},
     "output_type": "execute_result"
    }
   ],
   "source": [
    "df['draft_year'].replace('Undrafted', 0, inplace=True)\n",
    "lol = df[df['college'].astype(str) == 'Untraditional'].groupby('player_name').agg({'pts':'mean'}).sort_values('pts', ascending = False)\n",
    "lol.shape"
   ]
  },
  {
   "cell_type": "code",
   "execution_count": 259,
   "id": "bb08e750-90e8-4d91-9629-1ae9d4f36e6a",
   "metadata": {},
   "outputs": [
    {
     "data": {
      "text/html": [
       "<div>\n",
       "<style scoped>\n",
       "    .dataframe tbody tr th:only-of-type {\n",
       "        vertical-align: middle;\n",
       "    }\n",
       "\n",
       "    .dataframe tbody tr th {\n",
       "        vertical-align: top;\n",
       "    }\n",
       "\n",
       "    .dataframe thead th {\n",
       "        text-align: right;\n",
       "    }\n",
       "</style>\n",
       "<table border=\"1\" class=\"dataframe\">\n",
       "  <thead>\n",
       "    <tr style=\"text-align: right;\">\n",
       "      <th></th>\n",
       "      <th>pts</th>\n",
       "    </tr>\n",
       "    <tr>\n",
       "      <th>player_name</th>\n",
       "      <th></th>\n",
       "    </tr>\n",
       "  </thead>\n",
       "  <tbody>\n",
       "    <tr>\n",
       "      <th>Luka Doncic</th>\n",
       "      <td>27.70</td>\n",
       "    </tr>\n",
       "    <tr>\n",
       "      <th>LeBron James</th>\n",
       "      <td>27.20</td>\n",
       "    </tr>\n",
       "    <tr>\n",
       "      <th>Kobe Bryant</th>\n",
       "      <td>24.20</td>\n",
       "    </tr>\n",
       "    <tr>\n",
       "      <th>Giannis Antetokounmpo</th>\n",
       "      <td>23.25</td>\n",
       "    </tr>\n",
       "    <tr>\n",
       "      <th>Nikola Jokic</th>\n",
       "      <td>20.40</td>\n",
       "    </tr>\n",
       "  </tbody>\n",
       "</table>\n",
       "</div>"
      ],
      "text/plain": [
       "                         pts\n",
       "player_name                 \n",
       "Luka Doncic            27.70\n",
       "LeBron James           27.20\n",
       "Kobe Bryant            24.20\n",
       "Giannis Antetokounmpo  23.25\n",
       "Nikola Jokic           20.40"
      ]
     },
     "execution_count": 259,
     "metadata": {},
     "output_type": "execute_result"
    }
   ],
   "source": [
    "lol.head()"
   ]
  },
  {
   "cell_type": "code",
   "execution_count": 280,
   "id": "d69fc178-e967-44b8-a585-559461309903",
   "metadata": {},
   "outputs": [
    {
     "data": {
      "application/vnd.plotly.v1+json": {
       "config": {
        "plotlyServerURL": "https://plot.ly"
       },
       "data": [
        {
         "hovertemplate": "season=%{x}<br>0=%{y}<extra></extra>",
         "legendgroup": "",
         "line": {
          "color": "#636efa",
          "dash": "solid"
         },
         "marker": {
          "symbol": "circle"
         },
         "mode": "lines",
         "name": "",
         "orientation": "v",
         "showlegend": false,
         "type": "scatter",
         "x": [
          1996,
          1997,
          1998,
          1999,
          2000,
          2001,
          2002,
          2003,
          2004,
          2005,
          2006,
          2007,
          2008,
          2009,
          2010,
          2011,
          2012,
          2013,
          2014,
          2015,
          2016,
          2017,
          2018,
          2019,
          2020,
          2021,
          2022
         ],
         "xaxis": "x",
         "y": [
          0.036281179138321996,
          0.029612756264236904,
          0.04783599088838269,
          0.04794520547945205,
          0.06575963718820861,
          0.08636363636363636,
          0.12149532710280374,
          0.14027149321266968,
          0.16594827586206898,
          0.185589519650655,
          0.18340611353711792,
          0.18403547671840353,
          0.18651685393258427,
          0.19230769230769232,
          0.18805309734513273,
          0.17154811715481172,
          0.18550106609808104,
          0.17427385892116182,
          0.17276422764227642,
          0.18067226890756302,
          0.18724279835390947,
          0.18333333333333332,
          0.21320754716981133,
          0.14177693761814744,
          0.14629629629629629,
          0.12231404958677686,
          0.12059369202226346
         ],
         "yaxis": "y"
        }
       ],
       "layout": {
        "autosize": true,
        "legend": {
         "tracegroupgap": 0
        },
        "template": {
         "data": {
          "bar": [
           {
            "error_x": {
             "color": "#2a3f5f"
            },
            "error_y": {
             "color": "#2a3f5f"
            },
            "marker": {
             "line": {
              "color": "#E5ECF6",
              "width": 0.5
             },
             "pattern": {
              "fillmode": "overlay",
              "size": 10,
              "solidity": 0.2
             }
            },
            "type": "bar"
           }
          ],
          "barpolar": [
           {
            "marker": {
             "line": {
              "color": "#E5ECF6",
              "width": 0.5
             },
             "pattern": {
              "fillmode": "overlay",
              "size": 10,
              "solidity": 0.2
             }
            },
            "type": "barpolar"
           }
          ],
          "carpet": [
           {
            "aaxis": {
             "endlinecolor": "#2a3f5f",
             "gridcolor": "white",
             "linecolor": "white",
             "minorgridcolor": "white",
             "startlinecolor": "#2a3f5f"
            },
            "baxis": {
             "endlinecolor": "#2a3f5f",
             "gridcolor": "white",
             "linecolor": "white",
             "minorgridcolor": "white",
             "startlinecolor": "#2a3f5f"
            },
            "type": "carpet"
           }
          ],
          "choropleth": [
           {
            "colorbar": {
             "outlinewidth": 0,
             "ticks": ""
            },
            "type": "choropleth"
           }
          ],
          "contour": [
           {
            "colorbar": {
             "outlinewidth": 0,
             "ticks": ""
            },
            "colorscale": [
             [
              0,
              "#0d0887"
             ],
             [
              0.1111111111111111,
              "#46039f"
             ],
             [
              0.2222222222222222,
              "#7201a8"
             ],
             [
              0.3333333333333333,
              "#9c179e"
             ],
             [
              0.4444444444444444,
              "#bd3786"
             ],
             [
              0.5555555555555556,
              "#d8576b"
             ],
             [
              0.6666666666666666,
              "#ed7953"
             ],
             [
              0.7777777777777778,
              "#fb9f3a"
             ],
             [
              0.8888888888888888,
              "#fdca26"
             ],
             [
              1,
              "#f0f921"
             ]
            ],
            "type": "contour"
           }
          ],
          "contourcarpet": [
           {
            "colorbar": {
             "outlinewidth": 0,
             "ticks": ""
            },
            "type": "contourcarpet"
           }
          ],
          "heatmap": [
           {
            "colorbar": {
             "outlinewidth": 0,
             "ticks": ""
            },
            "colorscale": [
             [
              0,
              "#0d0887"
             ],
             [
              0.1111111111111111,
              "#46039f"
             ],
             [
              0.2222222222222222,
              "#7201a8"
             ],
             [
              0.3333333333333333,
              "#9c179e"
             ],
             [
              0.4444444444444444,
              "#bd3786"
             ],
             [
              0.5555555555555556,
              "#d8576b"
             ],
             [
              0.6666666666666666,
              "#ed7953"
             ],
             [
              0.7777777777777778,
              "#fb9f3a"
             ],
             [
              0.8888888888888888,
              "#fdca26"
             ],
             [
              1,
              "#f0f921"
             ]
            ],
            "type": "heatmap"
           }
          ],
          "heatmapgl": [
           {
            "colorbar": {
             "outlinewidth": 0,
             "ticks": ""
            },
            "colorscale": [
             [
              0,
              "#0d0887"
             ],
             [
              0.1111111111111111,
              "#46039f"
             ],
             [
              0.2222222222222222,
              "#7201a8"
             ],
             [
              0.3333333333333333,
              "#9c179e"
             ],
             [
              0.4444444444444444,
              "#bd3786"
             ],
             [
              0.5555555555555556,
              "#d8576b"
             ],
             [
              0.6666666666666666,
              "#ed7953"
             ],
             [
              0.7777777777777778,
              "#fb9f3a"
             ],
             [
              0.8888888888888888,
              "#fdca26"
             ],
             [
              1,
              "#f0f921"
             ]
            ],
            "type": "heatmapgl"
           }
          ],
          "histogram": [
           {
            "marker": {
             "pattern": {
              "fillmode": "overlay",
              "size": 10,
              "solidity": 0.2
             }
            },
            "type": "histogram"
           }
          ],
          "histogram2d": [
           {
            "colorbar": {
             "outlinewidth": 0,
             "ticks": ""
            },
            "colorscale": [
             [
              0,
              "#0d0887"
             ],
             [
              0.1111111111111111,
              "#46039f"
             ],
             [
              0.2222222222222222,
              "#7201a8"
             ],
             [
              0.3333333333333333,
              "#9c179e"
             ],
             [
              0.4444444444444444,
              "#bd3786"
             ],
             [
              0.5555555555555556,
              "#d8576b"
             ],
             [
              0.6666666666666666,
              "#ed7953"
             ],
             [
              0.7777777777777778,
              "#fb9f3a"
             ],
             [
              0.8888888888888888,
              "#fdca26"
             ],
             [
              1,
              "#f0f921"
             ]
            ],
            "type": "histogram2d"
           }
          ],
          "histogram2dcontour": [
           {
            "colorbar": {
             "outlinewidth": 0,
             "ticks": ""
            },
            "colorscale": [
             [
              0,
              "#0d0887"
             ],
             [
              0.1111111111111111,
              "#46039f"
             ],
             [
              0.2222222222222222,
              "#7201a8"
             ],
             [
              0.3333333333333333,
              "#9c179e"
             ],
             [
              0.4444444444444444,
              "#bd3786"
             ],
             [
              0.5555555555555556,
              "#d8576b"
             ],
             [
              0.6666666666666666,
              "#ed7953"
             ],
             [
              0.7777777777777778,
              "#fb9f3a"
             ],
             [
              0.8888888888888888,
              "#fdca26"
             ],
             [
              1,
              "#f0f921"
             ]
            ],
            "type": "histogram2dcontour"
           }
          ],
          "mesh3d": [
           {
            "colorbar": {
             "outlinewidth": 0,
             "ticks": ""
            },
            "type": "mesh3d"
           }
          ],
          "parcoords": [
           {
            "line": {
             "colorbar": {
              "outlinewidth": 0,
              "ticks": ""
             }
            },
            "type": "parcoords"
           }
          ],
          "pie": [
           {
            "automargin": true,
            "type": "pie"
           }
          ],
          "scatter": [
           {
            "fillpattern": {
             "fillmode": "overlay",
             "size": 10,
             "solidity": 0.2
            },
            "type": "scatter"
           }
          ],
          "scatter3d": [
           {
            "line": {
             "colorbar": {
              "outlinewidth": 0,
              "ticks": ""
             }
            },
            "marker": {
             "colorbar": {
              "outlinewidth": 0,
              "ticks": ""
             }
            },
            "type": "scatter3d"
           }
          ],
          "scattercarpet": [
           {
            "marker": {
             "colorbar": {
              "outlinewidth": 0,
              "ticks": ""
             }
            },
            "type": "scattercarpet"
           }
          ],
          "scattergeo": [
           {
            "marker": {
             "colorbar": {
              "outlinewidth": 0,
              "ticks": ""
             }
            },
            "type": "scattergeo"
           }
          ],
          "scattergl": [
           {
            "marker": {
             "colorbar": {
              "outlinewidth": 0,
              "ticks": ""
             }
            },
            "type": "scattergl"
           }
          ],
          "scattermapbox": [
           {
            "marker": {
             "colorbar": {
              "outlinewidth": 0,
              "ticks": ""
             }
            },
            "type": "scattermapbox"
           }
          ],
          "scatterpolar": [
           {
            "marker": {
             "colorbar": {
              "outlinewidth": 0,
              "ticks": ""
             }
            },
            "type": "scatterpolar"
           }
          ],
          "scatterpolargl": [
           {
            "marker": {
             "colorbar": {
              "outlinewidth": 0,
              "ticks": ""
             }
            },
            "type": "scatterpolargl"
           }
          ],
          "scatterternary": [
           {
            "marker": {
             "colorbar": {
              "outlinewidth": 0,
              "ticks": ""
             }
            },
            "type": "scatterternary"
           }
          ],
          "surface": [
           {
            "colorbar": {
             "outlinewidth": 0,
             "ticks": ""
            },
            "colorscale": [
             [
              0,
              "#0d0887"
             ],
             [
              0.1111111111111111,
              "#46039f"
             ],
             [
              0.2222222222222222,
              "#7201a8"
             ],
             [
              0.3333333333333333,
              "#9c179e"
             ],
             [
              0.4444444444444444,
              "#bd3786"
             ],
             [
              0.5555555555555556,
              "#d8576b"
             ],
             [
              0.6666666666666666,
              "#ed7953"
             ],
             [
              0.7777777777777778,
              "#fb9f3a"
             ],
             [
              0.8888888888888888,
              "#fdca26"
             ],
             [
              1,
              "#f0f921"
             ]
            ],
            "type": "surface"
           }
          ],
          "table": [
           {
            "cells": {
             "fill": {
              "color": "#EBF0F8"
             },
             "line": {
              "color": "white"
             }
            },
            "header": {
             "fill": {
              "color": "#C8D4E3"
             },
             "line": {
              "color": "white"
             }
            },
            "type": "table"
           }
          ]
         },
         "layout": {
          "annotationdefaults": {
           "arrowcolor": "#2a3f5f",
           "arrowhead": 0,
           "arrowwidth": 1
          },
          "autotypenumbers": "strict",
          "coloraxis": {
           "colorbar": {
            "outlinewidth": 0,
            "ticks": ""
           }
          },
          "colorscale": {
           "diverging": [
            [
             0,
             "#8e0152"
            ],
            [
             0.1,
             "#c51b7d"
            ],
            [
             0.2,
             "#de77ae"
            ],
            [
             0.3,
             "#f1b6da"
            ],
            [
             0.4,
             "#fde0ef"
            ],
            [
             0.5,
             "#f7f7f7"
            ],
            [
             0.6,
             "#e6f5d0"
            ],
            [
             0.7,
             "#b8e186"
            ],
            [
             0.8,
             "#7fbc41"
            ],
            [
             0.9,
             "#4d9221"
            ],
            [
             1,
             "#276419"
            ]
           ],
           "sequential": [
            [
             0,
             "#0d0887"
            ],
            [
             0.1111111111111111,
             "#46039f"
            ],
            [
             0.2222222222222222,
             "#7201a8"
            ],
            [
             0.3333333333333333,
             "#9c179e"
            ],
            [
             0.4444444444444444,
             "#bd3786"
            ],
            [
             0.5555555555555556,
             "#d8576b"
            ],
            [
             0.6666666666666666,
             "#ed7953"
            ],
            [
             0.7777777777777778,
             "#fb9f3a"
            ],
            [
             0.8888888888888888,
             "#fdca26"
            ],
            [
             1,
             "#f0f921"
            ]
           ],
           "sequentialminus": [
            [
             0,
             "#0d0887"
            ],
            [
             0.1111111111111111,
             "#46039f"
            ],
            [
             0.2222222222222222,
             "#7201a8"
            ],
            [
             0.3333333333333333,
             "#9c179e"
            ],
            [
             0.4444444444444444,
             "#bd3786"
            ],
            [
             0.5555555555555556,
             "#d8576b"
            ],
            [
             0.6666666666666666,
             "#ed7953"
            ],
            [
             0.7777777777777778,
             "#fb9f3a"
            ],
            [
             0.8888888888888888,
             "#fdca26"
            ],
            [
             1,
             "#f0f921"
            ]
           ]
          },
          "colorway": [
           "#636efa",
           "#EF553B",
           "#00cc96",
           "#ab63fa",
           "#FFA15A",
           "#19d3f3",
           "#FF6692",
           "#B6E880",
           "#FF97FF",
           "#FECB52"
          ],
          "font": {
           "color": "#2a3f5f"
          },
          "geo": {
           "bgcolor": "white",
           "lakecolor": "white",
           "landcolor": "#E5ECF6",
           "showlakes": true,
           "showland": true,
           "subunitcolor": "white"
          },
          "hoverlabel": {
           "align": "left"
          },
          "hovermode": "closest",
          "mapbox": {
           "style": "light"
          },
          "paper_bgcolor": "white",
          "plot_bgcolor": "#E5ECF6",
          "polar": {
           "angularaxis": {
            "gridcolor": "white",
            "linecolor": "white",
            "ticks": ""
           },
           "bgcolor": "#E5ECF6",
           "radialaxis": {
            "gridcolor": "white",
            "linecolor": "white",
            "ticks": ""
           }
          },
          "scene": {
           "xaxis": {
            "backgroundcolor": "#E5ECF6",
            "gridcolor": "white",
            "gridwidth": 2,
            "linecolor": "white",
            "showbackground": true,
            "ticks": "",
            "zerolinecolor": "white"
           },
           "yaxis": {
            "backgroundcolor": "#E5ECF6",
            "gridcolor": "white",
            "gridwidth": 2,
            "linecolor": "white",
            "showbackground": true,
            "ticks": "",
            "zerolinecolor": "white"
           },
           "zaxis": {
            "backgroundcolor": "#E5ECF6",
            "gridcolor": "white",
            "gridwidth": 2,
            "linecolor": "white",
            "showbackground": true,
            "ticks": "",
            "zerolinecolor": "white"
           }
          },
          "shapedefaults": {
           "line": {
            "color": "#2a3f5f"
           }
          },
          "ternary": {
           "aaxis": {
            "gridcolor": "white",
            "linecolor": "white",
            "ticks": ""
           },
           "baxis": {
            "gridcolor": "white",
            "linecolor": "white",
            "ticks": ""
           },
           "bgcolor": "#E5ECF6",
           "caxis": {
            "gridcolor": "white",
            "linecolor": "white",
            "ticks": ""
           }
          },
          "title": {
           "x": 0.05
          },
          "xaxis": {
           "automargin": true,
           "gridcolor": "white",
           "linecolor": "white",
           "ticks": "",
           "title": {
            "standoff": 15
           },
           "zerolinecolor": "white",
           "zerolinewidth": 2
          },
          "yaxis": {
           "automargin": true,
           "gridcolor": "white",
           "linecolor": "white",
           "ticks": "",
           "title": {
            "standoff": 15
           },
           "zerolinecolor": "white",
           "zerolinewidth": 2
          }
         }
        },
        "title": {
         "text": "Ratio of Nontraditional vs. College Draftees"
        },
        "xaxis": {
         "anchor": "y",
         "domain": [
          0,
          1
         ],
         "range": [
          1995,
          2023
         ],
         "title": {
          "text": "season"
         },
         "type": "linear"
        },
        "yaxis": {
         "anchor": "x",
         "autorange": true,
         "domain": [
          0,
          1
         ],
         "range": [
          0.01941304565837166,
          0.22340725777567658
         ],
         "title": {
          "text": "Ratio"
         },
         "type": "linear"
        }
       }
      },
      "image/png": "[encoded data removed]",
      "text/html": [
       "<div>                            <div id=\"cb251041-21de-4f73-9fbc-53219072e696\" class=\"plotly-graph-div\" style=\"height:525px; width:100%;\"></div>            <script type=\"text/javascript\">                require([\"plotly\"], function(Plotly) {                    window.PLOTLYENV=window.PLOTLYENV || {};                                    if (document.getElementById(\"cb251041-21de-4f73-9fbc-53219072e696\")) {                    Plotly.newPlot(                        \"cb251041-21de-4f73-9fbc-53219072e696\",                        [{\"hovertemplate\":\"season=%{x}\\u003cbr\\u003e0=%{y}\\u003cextra\\u003e\\u003c\\u002fextra\\u003e\",\"legendgroup\":\"\",\"line\":{\"color\":\"#636efa\",\"dash\":\"solid\"},\"marker\":{\"symbol\":\"circle\"},\"mode\":\"lines\",\"name\":\"\",\"orientation\":\"v\",\"showlegend\":false,\"x\":[1996,1997,1998,1999,2000,2001,2002,2003,2004,2005,2006,2007,2008,2009,2010,2011,2012,2013,2014,2015,2016,2017,2018,2019,2020,2021,2022],\"xaxis\":\"x\",\"y\":[0.036281179138321996,0.029612756264236904,0.04783599088838269,0.04794520547945205,0.06575963718820861,0.08636363636363636,0.12149532710280374,0.14027149321266968,0.16594827586206898,0.185589519650655,0.18340611353711792,0.18403547671840353,0.18651685393258427,0.19230769230769232,0.18805309734513273,0.17154811715481172,0.18550106609808104,0.17427385892116182,0.17276422764227642,0.18067226890756302,0.18724279835390947,0.18333333333333332,0.21320754716981133,0.14177693761814744,0.14629629629629629,0.12231404958677686,0.12059369202226346],\"yaxis\":\"y\",\"type\":\"scatter\"}],                        {\"template\":{\"data\":{\"histogram2dcontour\":[{\"type\":\"histogram2dcontour\",\"colorbar\":{\"outlinewidth\":0,\"ticks\":\"\"},\"colorscale\":[[0.0,\"#0d0887\"],[0.1111111111111111,\"#46039f\"],[0.2222222222222222,\"#7201a8\"],[0.3333333333333333,\"#9c179e\"],[0.4444444444444444,\"#bd3786\"],[0.5555555555555556,\"#d8576b\"],[0.6666666666666666,\"#ed7953\"],[0.7777777777777778,\"#fb9f3a\"],[0.8888888888888888,\"#fdca26\"],[1.0,\"#f0f921\"]]}],\"choropleth\":[{\"type\":\"choropleth\",\"colorbar\":{\"outlinewidth\":0,\"ticks\":\"\"}}],\"histogram2d\":[{\"type\":\"histogram2d\",\"colorbar\":{\"outlinewidth\":0,\"ticks\":\"\"},\"colorscale\":[[0.0,\"#0d0887\"],[0.1111111111111111,\"#46039f\"],[0.2222222222222222,\"#7201a8\"],[0.3333333333333333,\"#9c179e\"],[0.4444444444444444,\"#bd3786\"],[0.5555555555555556,\"#d8576b\"],[0.6666666666666666,\"#ed7953\"],[0.7777777777777778,\"#fb9f3a\"],[0.8888888888888888,\"#fdca26\"],[1.0,\"#f0f921\"]]}],\"heatmap\":[{\"type\":\"heatmap\",\"colorbar\":{\"outlinewidth\":0,\"ticks\":\"\"},\"colorscale\":[[0.0,\"#0d0887\"],[0.1111111111111111,\"#46039f\"],[0.2222222222222222,\"#7201a8\"],[0.3333333333333333,\"#9c179e\"],[0.4444444444444444,\"#bd3786\"],[0.5555555555555556,\"#d8576b\"],[0.6666666666666666,\"#ed7953\"],[0.7777777777777778,\"#fb9f3a\"],[0.8888888888888888,\"#fdca26\"],[1.0,\"#f0f921\"]]}],\"heatmapgl\":[{\"type\":\"heatmapgl\",\"colorbar\":{\"outlinewidth\":0,\"ticks\":\"\"},\"colorscale\":[[0.0,\"#0d0887\"],[0.1111111111111111,\"#46039f\"],[0.2222222222222222,\"#7201a8\"],[0.3333333333333333,\"#9c179e\"],[0.4444444444444444,\"#bd3786\"],[0.5555555555555556,\"#d8576b\"],[0.6666666666666666,\"#ed7953\"],[0.7777777777777778,\"#fb9f3a\"],[0.8888888888888888,\"#fdca26\"],[1.0,\"#f0f921\"]]}],\"contourcarpet\":[{\"type\":\"contourcarpet\",\"colorbar\":{\"outlinewidth\":0,\"ticks\":\"\"}}],\"contour\":[{\"type\":\"contour\",\"colorbar\":{\"outlinewidth\":0,\"ticks\":\"\"},\"colorscale\":[[0.0,\"#0d0887\"],[0.1111111111111111,\"#46039f\"],[0.2222222222222222,\"#7201a8\"],[0.3333333333333333,\"#9c179e\"],[0.4444444444444444,\"#bd3786\"],[0.5555555555555556,\"#d8576b\"],[0.6666666666666666,\"#ed7953\"],[0.7777777777777778,\"#fb9f3a\"],[0.8888888888888888,\"#fdca26\"],[1.0,\"#f0f921\"]]}],\"surface\":[{\"type\":\"surface\",\"colorbar\":{\"outlinewidth\":0,\"ticks\":\"\"},\"colorscale\":[[0.0,\"#0d0887\"],[0.1111111111111111,\"#46039f\"],[0.2222222222222222,\"#7201a8\"],[0.3333333333333333,\"#9c179e\"],[0.4444444444444444,\"#bd3786\"],[0.5555555555555556,\"#d8576b\"],[0.6666666666666666,\"#ed7953\"],[0.7777777777777778,\"#fb9f3a\"],[0.8888888888888888,\"#fdca26\"],[1.0,\"#f0f921\"]]}],\"mesh3d\":[{\"type\":\"mesh3d\",\"colorbar\":{\"outlinewidth\":0,\"ticks\":\"\"}}],\"scatter\":[{\"fillpattern\":{\"fillmode\":\"overlay\",\"size\":10,\"solidity\":0.2},\"type\":\"scatter\"}],\"parcoords\":[{\"type\":\"parcoords\",\"line\":{\"colorbar\":{\"outlinewidth\":0,\"ticks\":\"\"}}}],\"scatterpolargl\":[{\"type\":\"scatterpolargl\",\"marker\":{\"colorbar\":{\"outlinewidth\":0,\"ticks\":\"\"}}}],\"bar\":[{\"error_x\":{\"color\":\"#2a3f5f\"},\"error_y\":{\"color\":\"#2a3f5f\"},\"marker\":{\"line\":{\"color\":\"#E5ECF6\",\"width\":0.5},\"pattern\":{\"fillmode\":\"overlay\",\"size\":10,\"solidity\":0.2}},\"type\":\"bar\"}],\"scattergeo\":[{\"type\":\"scattergeo\",\"marker\":{\"colorbar\":{\"outlinewidth\":0,\"ticks\":\"\"}}}],\"scatterpolar\":[{\"type\":\"scatterpolar\",\"marker\":{\"colorbar\":{\"outlinewidth\":0,\"ticks\":\"\"}}}],\"histogram\":[{\"marker\":{\"pattern\":{\"fillmode\":\"overlay\",\"size\":10,\"solidity\":0.2}},\"type\":\"histogram\"}],\"scattergl\":[{\"type\":\"scattergl\",\"marker\":{\"colorbar\":{\"outlinewidth\":0,\"ticks\":\"\"}}}],\"scatter3d\":[{\"type\":\"scatter3d\",\"line\":{\"colorbar\":{\"outlinewidth\":0,\"ticks\":\"\"}},\"marker\":{\"colorbar\":{\"outlinewidth\":0,\"ticks\":\"\"}}}],\"scattermapbox\":[{\"type\":\"scattermapbox\",\"marker\":{\"colorbar\":{\"outlinewidth\":0,\"ticks\":\"\"}}}],\"scatterternary\":[{\"type\":\"scatterternary\",\"marker\":{\"colorbar\":{\"outlinewidth\":0,\"ticks\":\"\"}}}],\"scattercarpet\":[{\"type\":\"scattercarpet\",\"marker\":{\"colorbar\":{\"outlinewidth\":0,\"ticks\":\"\"}}}],\"carpet\":[{\"aaxis\":{\"endlinecolor\":\"#2a3f5f\",\"gridcolor\":\"white\",\"linecolor\":\"white\",\"minorgridcolor\":\"white\",\"startlinecolor\":\"#2a3f5f\"},\"baxis\":{\"endlinecolor\":\"#2a3f5f\",\"gridcolor\":\"white\",\"linecolor\":\"white\",\"minorgridcolor\":\"white\",\"startlinecolor\":\"#2a3f5f\"},\"type\":\"carpet\"}],\"table\":[{\"cells\":{\"fill\":{\"color\":\"#EBF0F8\"},\"line\":{\"color\":\"white\"}},\"header\":{\"fill\":{\"color\":\"#C8D4E3\"},\"line\":{\"color\":\"white\"}},\"type\":\"table\"}],\"barpolar\":[{\"marker\":{\"line\":{\"color\":\"#E5ECF6\",\"width\":0.5},\"pattern\":{\"fillmode\":\"overlay\",\"size\":10,\"solidity\":0.2}},\"type\":\"barpolar\"}],\"pie\":[{\"automargin\":true,\"type\":\"pie\"}]},\"layout\":{\"autotypenumbers\":\"strict\",\"colorway\":[\"#636efa\",\"#EF553B\",\"#00cc96\",\"#ab63fa\",\"#FFA15A\",\"#19d3f3\",\"#FF6692\",\"#B6E880\",\"#FF97FF\",\"#FECB52\"],\"font\":{\"color\":\"#2a3f5f\"},\"hovermode\":\"closest\",\"hoverlabel\":{\"align\":\"left\"},\"paper_bgcolor\":\"white\",\"plot_bgcolor\":\"#E5ECF6\",\"polar\":{\"bgcolor\":\"#E5ECF6\",\"angularaxis\":{\"gridcolor\":\"white\",\"linecolor\":\"white\",\"ticks\":\"\"},\"radialaxis\":{\"gridcolor\":\"white\",\"linecolor\":\"white\",\"ticks\":\"\"}},\"ternary\":{\"bgcolor\":\"#E5ECF6\",\"aaxis\":{\"gridcolor\":\"white\",\"linecolor\":\"white\",\"ticks\":\"\"},\"baxis\":{\"gridcolor\":\"white\",\"linecolor\":\"white\",\"ticks\":\"\"},\"caxis\":{\"gridcolor\":\"white\",\"linecolor\":\"white\",\"ticks\":\"\"}},\"coloraxis\":{\"colorbar\":{\"outlinewidth\":0,\"ticks\":\"\"}},\"colorscale\":{\"sequential\":[[0.0,\"#0d0887\"],[0.1111111111111111,\"#46039f\"],[0.2222222222222222,\"#7201a8\"],[0.3333333333333333,\"#9c179e\"],[0.4444444444444444,\"#bd3786\"],[0.5555555555555556,\"#d8576b\"],[0.6666666666666666,\"#ed7953\"],[0.7777777777777778,\"#fb9f3a\"],[0.8888888888888888,\"#fdca26\"],[1.0,\"#f0f921\"]],\"sequentialminus\":[[0.0,\"#0d0887\"],[0.1111111111111111,\"#46039f\"],[0.2222222222222222,\"#7201a8\"],[0.3333333333333333,\"#9c179e\"],[0.4444444444444444,\"#bd3786\"],[0.5555555555555556,\"#d8576b\"],[0.6666666666666666,\"#ed7953\"],[0.7777777777777778,\"#fb9f3a\"],[0.8888888888888888,\"#fdca26\"],[1.0,\"#f0f921\"]],\"diverging\":[[0,\"#8e0152\"],[0.1,\"#c51b7d\"],[0.2,\"#de77ae\"],[0.3,\"#f1b6da\"],[0.4,\"#fde0ef\"],[0.5,\"#f7f7f7\"],[0.6,\"#e6f5d0\"],[0.7,\"#b8e186\"],[0.8,\"#7fbc41\"],[0.9,\"#4d9221\"],[1,\"#276419\"]]},\"xaxis\":{\"gridcolor\":\"white\",\"linecolor\":\"white\",\"ticks\":\"\",\"title\":{\"standoff\":15},\"zerolinecolor\":\"white\",\"automargin\":true,\"zerolinewidth\":2},\"yaxis\":{\"gridcolor\":\"white\",\"linecolor\":\"white\",\"ticks\":\"\",\"title\":{\"standoff\":15},\"zerolinecolor\":\"white\",\"automargin\":true,\"zerolinewidth\":2},\"scene\":{\"xaxis\":{\"backgroundcolor\":\"#E5ECF6\",\"gridcolor\":\"white\",\"linecolor\":\"white\",\"showbackground\":true,\"ticks\":\"\",\"zerolinecolor\":\"white\",\"gridwidth\":2},\"yaxis\":{\"backgroundcolor\":\"#E5ECF6\",\"gridcolor\":\"white\",\"linecolor\":\"white\",\"showbackground\":true,\"ticks\":\"\",\"zerolinecolor\":\"white\",\"gridwidth\":2},\"zaxis\":{\"backgroundcolor\":\"#E5ECF6\",\"gridcolor\":\"white\",\"linecolor\":\"white\",\"showbackground\":true,\"ticks\":\"\",\"zerolinecolor\":\"white\",\"gridwidth\":2}},\"shapedefaults\":{\"line\":{\"color\":\"#2a3f5f\"}},\"annotationdefaults\":{\"arrowcolor\":\"#2a3f5f\",\"arrowhead\":0,\"arrowwidth\":1},\"geo\":{\"bgcolor\":\"white\",\"landcolor\":\"#E5ECF6\",\"subunitcolor\":\"white\",\"showland\":true,\"showlakes\":true,\"lakecolor\":\"white\"},\"title\":{\"x\":0.05},\"mapbox\":{\"style\":\"light\"}}},\"xaxis\":{\"anchor\":\"y\",\"domain\":[0.0,1.0],\"title\":{\"text\":\"season\"},\"range\":[1995,2023]},\"yaxis\":{\"anchor\":\"x\",\"domain\":[0.0,1.0],\"title\":{\"text\":\"Ratio\"}},\"legend\":{\"tracegroupgap\":0},\"title\":{\"text\":\"Ratio of Nontraditional vs. College Draftees\"}},                        {\"responsive\": true}                    ).then(function(){\n",
       "                            \n",
       "var gd = document.getElementById('cb251041-21de-4f73-9fbc-53219072e696');\n",
       "var x = new MutationObserver(function (mutations, observer) {{\n",
       "        var display = window.getComputedStyle(gd).display;\n",
       "        if (!display || display === 'none') {{\n",
       "            console.log([gd, 'removed!']);\n",
       "            Plotly.purge(gd);\n",
       "            observer.disconnect();\n",
       "        }}\n",
       "}});\n",
       "\n",
       "// Listen for the removal of the full notebook cells\n",
       "var notebookContainer = gd.closest('#notebook-container');\n",
       "if (notebookContainer) {{\n",
       "    x.observe(notebookContainer, {childList: true});\n",
       "}}\n",
       "\n",
       "// Listen for the clearing of the current output cell\n",
       "var outputEl = gd.closest('.output');\n",
       "if (outputEl) {{\n",
       "    x.observe(outputEl, {childList: true});\n",
       "}}\n",
       "\n",
       "                        })                };                });            </script>        </div>"
      ]
     },
     "metadata": {},
     "output_type": "display_data"
    }
   ],
   "source": [
    "#ratio of overseas players over total players per year currently active in nba over time\n",
    "ratio = []\n",
    "\n",
    "trend = df.groupby('season').apply(lambda x: x[x['college'] == 'Untraditional'].shape[0]/x.shape[0]).reset_index()\n",
    "\n",
    "arr = []\n",
    "split = trend['season'].str.split('-')\n",
    "for i in split:\n",
    "    arr.append(int(i[0]))\n",
    "trend['season'] = arr\n",
    "# trend['season'].apply(lambda x: fiveYear(x))\n",
    "\n",
    "fig = px.line(data_frame=trend, x='season', y=0, title=\"Ratio of Nontraditional vs. College Draftees\")\n",
    "fig.update_layout(xaxis=dict(range=[1995, 2023]), yaxis_title = 'Ratio')\n",
    "fig.show()\n"
   ]
  },
  {
   "cell_type": "markdown",
   "id": "afd37627-dd99-420f-9906-ac99754d2347",
   "metadata": {},
   "source": [
    "# Average Change in weight over Career of nba players"
   ]
  },
  {
   "cell_type": "code",
   "execution_count": 294,
   "id": "5b10a28d-24a8-4c44-a230-14194c921ffd",
   "metadata": {},
   "outputs": [
    {
     "data": {
      "text/html": [
       "<div>\n",
       "<style scoped>\n",
       "    .dataframe tbody tr th:only-of-type {\n",
       "        vertical-align: middle;\n",
       "    }\n",
       "\n",
       "    .dataframe tbody tr th {\n",
       "        vertical-align: top;\n",
       "    }\n",
       "\n",
       "    .dataframe thead th {\n",
       "        text-align: right;\n",
       "    }\n",
       "</style>\n",
       "<table border=\"1\" class=\"dataframe\">\n",
       "  <thead>\n",
       "    <tr style=\"text-align: right;\">\n",
       "      <th></th>\n",
       "      <th>player_name</th>\n",
       "      <th>team_abbreviation</th>\n",
       "      <th>age</th>\n",
       "      <th>player_height</th>\n",
       "      <th>player_weight</th>\n",
       "      <th>college</th>\n",
       "      <th>country</th>\n",
       "      <th>draft_year</th>\n",
       "      <th>draft_round</th>\n",
       "      <th>draft_number</th>\n",
       "      <th>...</th>\n",
       "      <th>ast</th>\n",
       "      <th>net_rating</th>\n",
       "      <th>oreb_pct</th>\n",
       "      <th>dreb_pct</th>\n",
       "      <th>usg_pct</th>\n",
       "      <th>ts_pct</th>\n",
       "      <th>ast_pct</th>\n",
       "      <th>season</th>\n",
       "      <th>start</th>\n",
       "      <th>yearsInLeague</th>\n",
       "    </tr>\n",
       "  </thead>\n",
       "  <tbody>\n",
       "    <tr>\n",
       "      <th>0</th>\n",
       "      <td>Randy Livingston</td>\n",
       "      <td>HOU</td>\n",
       "      <td>22.0</td>\n",
       "      <td>193.04</td>\n",
       "      <td>94.800728</td>\n",
       "      <td>Louisiana State</td>\n",
       "      <td>USA</td>\n",
       "      <td>1996</td>\n",
       "      <td>2</td>\n",
       "      <td>42</td>\n",
       "      <td>...</td>\n",
       "      <td>2.4</td>\n",
       "      <td>0.3</td>\n",
       "      <td>0.042</td>\n",
       "      <td>0.071</td>\n",
       "      <td>0.169</td>\n",
       "      <td>0.487</td>\n",
       "      <td>0.248</td>\n",
       "      <td>1996-97</td>\n",
       "      <td>1996</td>\n",
       "      <td>0</td>\n",
       "    </tr>\n",
       "    <tr>\n",
       "      <th>1</th>\n",
       "      <td>Gaylon Nickerson</td>\n",
       "      <td>WAS</td>\n",
       "      <td>28.0</td>\n",
       "      <td>190.50</td>\n",
       "      <td>86.182480</td>\n",
       "      <td>Northwestern Oklahoma</td>\n",
       "      <td>USA</td>\n",
       "      <td>1994</td>\n",
       "      <td>2</td>\n",
       "      <td>34</td>\n",
       "      <td>...</td>\n",
       "      <td>0.3</td>\n",
       "      <td>8.9</td>\n",
       "      <td>0.030</td>\n",
       "      <td>0.111</td>\n",
       "      <td>0.174</td>\n",
       "      <td>0.497</td>\n",
       "      <td>0.043</td>\n",
       "      <td>1996-97</td>\n",
       "      <td>1996</td>\n",
       "      <td>2</td>\n",
       "    </tr>\n",
       "    <tr>\n",
       "      <th>2</th>\n",
       "      <td>George Lynch</td>\n",
       "      <td>VAN</td>\n",
       "      <td>26.0</td>\n",
       "      <td>203.20</td>\n",
       "      <td>103.418976</td>\n",
       "      <td>North Carolina</td>\n",
       "      <td>USA</td>\n",
       "      <td>1993</td>\n",
       "      <td>1</td>\n",
       "      <td>12</td>\n",
       "      <td>...</td>\n",
       "      <td>1.9</td>\n",
       "      <td>-8.2</td>\n",
       "      <td>0.106</td>\n",
       "      <td>0.185</td>\n",
       "      <td>0.175</td>\n",
       "      <td>0.512</td>\n",
       "      <td>0.125</td>\n",
       "      <td>1996-97</td>\n",
       "      <td>1996</td>\n",
       "      <td>3</td>\n",
       "    </tr>\n",
       "    <tr>\n",
       "      <th>3</th>\n",
       "      <td>George McCloud</td>\n",
       "      <td>LAL</td>\n",
       "      <td>30.0</td>\n",
       "      <td>203.20</td>\n",
       "      <td>102.058200</td>\n",
       "      <td>Florida State</td>\n",
       "      <td>USA</td>\n",
       "      <td>1989</td>\n",
       "      <td>1</td>\n",
       "      <td>7</td>\n",
       "      <td>...</td>\n",
       "      <td>1.7</td>\n",
       "      <td>-2.7</td>\n",
       "      <td>0.027</td>\n",
       "      <td>0.111</td>\n",
       "      <td>0.206</td>\n",
       "      <td>0.527</td>\n",
       "      <td>0.125</td>\n",
       "      <td>1996-97</td>\n",
       "      <td>1996</td>\n",
       "      <td>7</td>\n",
       "    </tr>\n",
       "    <tr>\n",
       "      <th>4</th>\n",
       "      <td>George Zidek</td>\n",
       "      <td>DEN</td>\n",
       "      <td>23.0</td>\n",
       "      <td>213.36</td>\n",
       "      <td>119.748288</td>\n",
       "      <td>UCLA</td>\n",
       "      <td>USA</td>\n",
       "      <td>1995</td>\n",
       "      <td>1</td>\n",
       "      <td>22</td>\n",
       "      <td>...</td>\n",
       "      <td>0.3</td>\n",
       "      <td>-14.1</td>\n",
       "      <td>0.102</td>\n",
       "      <td>0.169</td>\n",
       "      <td>0.195</td>\n",
       "      <td>0.500</td>\n",
       "      <td>0.064</td>\n",
       "      <td>1996-97</td>\n",
       "      <td>1996</td>\n",
       "      <td>1</td>\n",
       "    </tr>\n",
       "    <tr>\n",
       "      <th>...</th>\n",
       "      <td>...</td>\n",
       "      <td>...</td>\n",
       "      <td>...</td>\n",
       "      <td>...</td>\n",
       "      <td>...</td>\n",
       "      <td>...</td>\n",
       "      <td>...</td>\n",
       "      <td>...</td>\n",
       "      <td>...</td>\n",
       "      <td>...</td>\n",
       "      <td>...</td>\n",
       "      <td>...</td>\n",
       "      <td>...</td>\n",
       "      <td>...</td>\n",
       "      <td>...</td>\n",
       "      <td>...</td>\n",
       "      <td>...</td>\n",
       "      <td>...</td>\n",
       "      <td>...</td>\n",
       "      <td>...</td>\n",
       "      <td>...</td>\n",
       "    </tr>\n",
       "    <tr>\n",
       "      <th>12839</th>\n",
       "      <td>Joel Embiid</td>\n",
       "      <td>PHI</td>\n",
       "      <td>29.0</td>\n",
       "      <td>213.36</td>\n",
       "      <td>127.005760</td>\n",
       "      <td>Kansas</td>\n",
       "      <td>Cameroon</td>\n",
       "      <td>2014</td>\n",
       "      <td>1</td>\n",
       "      <td>3</td>\n",
       "      <td>...</td>\n",
       "      <td>4.2</td>\n",
       "      <td>8.8</td>\n",
       "      <td>0.057</td>\n",
       "      <td>0.243</td>\n",
       "      <td>0.370</td>\n",
       "      <td>0.655</td>\n",
       "      <td>0.233</td>\n",
       "      <td>2022-23</td>\n",
       "      <td>2022</td>\n",
       "      <td>8</td>\n",
       "    </tr>\n",
       "    <tr>\n",
       "      <th>12840</th>\n",
       "      <td>John Butler Jr.</td>\n",
       "      <td>POR</td>\n",
       "      <td>20.0</td>\n",
       "      <td>213.36</td>\n",
       "      <td>86.182480</td>\n",
       "      <td>Florida State</td>\n",
       "      <td>USA</td>\n",
       "      <td>0</td>\n",
       "      <td>Undrafted</td>\n",
       "      <td>Undrafted</td>\n",
       "      <td>...</td>\n",
       "      <td>0.6</td>\n",
       "      <td>-16.1</td>\n",
       "      <td>0.012</td>\n",
       "      <td>0.065</td>\n",
       "      <td>0.102</td>\n",
       "      <td>0.411</td>\n",
       "      <td>0.066</td>\n",
       "      <td>2022-23</td>\n",
       "      <td>2022</td>\n",
       "      <td>2022</td>\n",
       "    </tr>\n",
       "    <tr>\n",
       "      <th>12841</th>\n",
       "      <td>John Collins</td>\n",
       "      <td>ATL</td>\n",
       "      <td>25.0</td>\n",
       "      <td>205.74</td>\n",
       "      <td>102.511792</td>\n",
       "      <td>Wake Forest</td>\n",
       "      <td>USA</td>\n",
       "      <td>2017</td>\n",
       "      <td>1</td>\n",
       "      <td>19</td>\n",
       "      <td>...</td>\n",
       "      <td>1.2</td>\n",
       "      <td>-0.2</td>\n",
       "      <td>0.035</td>\n",
       "      <td>0.180</td>\n",
       "      <td>0.168</td>\n",
       "      <td>0.593</td>\n",
       "      <td>0.052</td>\n",
       "      <td>2022-23</td>\n",
       "      <td>2022</td>\n",
       "      <td>5</td>\n",
       "    </tr>\n",
       "    <tr>\n",
       "      <th>12842</th>\n",
       "      <td>Jericho Sims</td>\n",
       "      <td>NYK</td>\n",
       "      <td>24.0</td>\n",
       "      <td>208.28</td>\n",
       "      <td>113.398000</td>\n",
       "      <td>Texas</td>\n",
       "      <td>USA</td>\n",
       "      <td>2021</td>\n",
       "      <td>2</td>\n",
       "      <td>58</td>\n",
       "      <td>...</td>\n",
       "      <td>0.5</td>\n",
       "      <td>-6.7</td>\n",
       "      <td>0.117</td>\n",
       "      <td>0.175</td>\n",
       "      <td>0.074</td>\n",
       "      <td>0.780</td>\n",
       "      <td>0.044</td>\n",
       "      <td>2022-23</td>\n",
       "      <td>2022</td>\n",
       "      <td>1</td>\n",
       "    </tr>\n",
       "    <tr>\n",
       "      <th>12843</th>\n",
       "      <td>JaMychal Green</td>\n",
       "      <td>GSW</td>\n",
       "      <td>33.0</td>\n",
       "      <td>205.74</td>\n",
       "      <td>102.965384</td>\n",
       "      <td>Alabama</td>\n",
       "      <td>USA</td>\n",
       "      <td>0</td>\n",
       "      <td>Undrafted</td>\n",
       "      <td>Undrafted</td>\n",
       "      <td>...</td>\n",
       "      <td>0.9</td>\n",
       "      <td>-8.2</td>\n",
       "      <td>0.087</td>\n",
       "      <td>0.164</td>\n",
       "      <td>0.169</td>\n",
       "      <td>0.650</td>\n",
       "      <td>0.094</td>\n",
       "      <td>2022-23</td>\n",
       "      <td>2022</td>\n",
       "      <td>2022</td>\n",
       "    </tr>\n",
       "  </tbody>\n",
       "</table>\n",
       "<p>12844 rows × 23 columns</p>\n",
       "</div>"
      ],
      "text/plain": [
       "            player_name team_abbreviation   age  player_height  player_weight  \\\n",
       "0      Randy Livingston               HOU  22.0         193.04      94.800728   \n",
       "1      Gaylon Nickerson               WAS  28.0         190.50      86.182480   \n",
       "2          George Lynch               VAN  26.0         203.20     103.418976   \n",
       "3        George McCloud               LAL  30.0         203.20     102.058200   \n",
       "4          George Zidek               DEN  23.0         213.36     119.748288   \n",
       "...                 ...               ...   ...            ...            ...   \n",
       "12839       Joel Embiid               PHI  29.0         213.36     127.005760   \n",
       "12840   John Butler Jr.               POR  20.0         213.36      86.182480   \n",
       "12841      John Collins               ATL  25.0         205.74     102.511792   \n",
       "12842      Jericho Sims               NYK  24.0         208.28     113.398000   \n",
       "12843    JaMychal Green               GSW  33.0         205.74     102.965384   \n",
       "\n",
       "                     college   country draft_year draft_round draft_number  \\\n",
       "0            Louisiana State       USA       1996           2           42   \n",
       "1      Northwestern Oklahoma       USA       1994           2           34   \n",
       "2             North Carolina       USA       1993           1           12   \n",
       "3              Florida State       USA       1989           1            7   \n",
       "4                       UCLA       USA       1995           1           22   \n",
       "...                      ...       ...        ...         ...          ...   \n",
       "12839                 Kansas  Cameroon       2014           1            3   \n",
       "12840          Florida State       USA          0   Undrafted    Undrafted   \n",
       "12841            Wake Forest       USA       2017           1           19   \n",
       "12842                  Texas       USA       2021           2           58   \n",
       "12843                Alabama       USA          0   Undrafted    Undrafted   \n",
       "\n",
       "       ...  ast  net_rating  oreb_pct  dreb_pct  usg_pct  ts_pct  ast_pct  \\\n",
       "0      ...  2.4         0.3     0.042     0.071    0.169   0.487    0.248   \n",
       "1      ...  0.3         8.9     0.030     0.111    0.174   0.497    0.043   \n",
       "2      ...  1.9        -8.2     0.106     0.185    0.175   0.512    0.125   \n",
       "3      ...  1.7        -2.7     0.027     0.111    0.206   0.527    0.125   \n",
       "4      ...  0.3       -14.1     0.102     0.169    0.195   0.500    0.064   \n",
       "...    ...  ...         ...       ...       ...      ...     ...      ...   \n",
       "12839  ...  4.2         8.8     0.057     0.243    0.370   0.655    0.233   \n",
       "12840  ...  0.6       -16.1     0.012     0.065    0.102   0.411    0.066   \n",
       "12841  ...  1.2        -0.2     0.035     0.180    0.168   0.593    0.052   \n",
       "12842  ...  0.5        -6.7     0.117     0.175    0.074   0.780    0.044   \n",
       "12843  ...  0.9        -8.2     0.087     0.164    0.169   0.650    0.094   \n",
       "\n",
       "        season  start  yearsInLeague  \n",
       "0      1996-97   1996              0  \n",
       "1      1996-97   1996              2  \n",
       "2      1996-97   1996              3  \n",
       "3      1996-97   1996              7  \n",
       "4      1996-97   1996              1  \n",
       "...        ...    ...            ...  \n",
       "12839  2022-23   2022              8  \n",
       "12840  2022-23   2022           2022  \n",
       "12841  2022-23   2022              5  \n",
       "12842  2022-23   2022              1  \n",
       "12843  2022-23   2022           2022  \n",
       "\n",
       "[12844 rows x 23 columns]"
      ]
     },
     "execution_count": 294,
     "metadata": {},
     "output_type": "execute_result"
    }
   ],
   "source": [
    "#gather the weight at start of career and end of career and compute differesce, need years in league col\n",
    "arr = []\n",
    "split = df['season'].str.split('-')\n",
    "for i in split:\n",
    "    arr.append(int(i[0]))\n",
    "df['start'] = np.array(arr).astype(int)\n",
    "df['yearsInLeague'] = arr - np.array(df['draft_year']).astype(int)\n"
   ]
  },
  {
   "cell_type": "code",
   "execution_count": 330,
   "id": "c55fb9f4-cfc7-4981-8b4e-c0e98040918a",
   "metadata": {},
   "outputs": [
    {
     "data": {
      "application/vnd.plotly.v1+json": {
       "config": {
        "plotlyServerURL": "https://plot.ly"
       },
       "data": [
        {
         "alignmentgroup": "True",
         "bingroup": "x",
         "hovertemplate": "weight_difference=%{x}<br>count=%{y}<extra></extra>",
         "legendgroup": "",
         "marker": {
          "color": "#636efa",
          "pattern": {
           "shape": ""
          }
         },
         "name": "",
         "offsetgroup": "",
         "orientation": "v",
         "showlegend": false,
         "type": "histogram",
         "x": [
          0,
          0,
          0,
          0,
          0,
          0,
          0,
          6.350287999999992,
          0,
          6.803880000000007,
          0,
          0,
          0,
          0,
          0,
          0,
          0,
          0,
          0,
          0,
          0,
          0,
          3.175144000000003,
          0,
          0,
          0,
          0,
          0,
          0,
          9.071840000000009,
          0,
          0,
          -3.6287359999999893,
          0,
          0,
          0,
          6.803879999999992,
          -2.267959999999988,
          6.803879999999992,
          6.803880000000007,
          2.267960000000002,
          0,
          0,
          0,
          0,
          5.443103999999991,
          0,
          0,
          0,
          0,
          2.267960000000002,
          9.071840000000009,
          0,
          0,
          0,
          0,
          0,
          0,
          -2.267960000000002,
          0,
          0,
          0,
          -4.535920000000004,
          0,
          12.700575999999998,
          0,
          0,
          0,
          0,
          0.9071839999999867,
          0,
          0,
          0,
          0,
          0,
          0,
          2.267960000000002,
          0,
          0,
          0,
          4.535920000000004,
          0,
          0,
          0,
          0,
          0,
          13.607759999999999,
          13.607759999999999,
          0,
          11.339799999999997,
          0,
          0,
          0,
          4.08232799999999,
          0,
          3.6287359999999893,
          0,
          -1.3607760000000013,
          0,
          0,
          -2.267960000000002,
          0,
          0,
          0,
          6.803880000000007,
          4.535920000000004,
          0,
          0,
          0,
          0,
          0,
          0,
          0,
          0,
          -0.9071840000000009,
          4.53591999999999,
          0,
          0,
          0,
          -1.8143679999999875,
          0,
          0,
          5.443104000000005,
          0,
          0,
          -10.886207999999996,
          0,
          6.350287999999992,
          0,
          14.968536,
          0,
          0,
          0,
          0,
          2.267960000000002,
          0,
          0,
          0,
          0,
          -2.267959999999988,
          0,
          6.803879999999992,
          0,
          0,
          0,
          0,
          9.525431999999995,
          2.267959999999988,
          0,
          0,
          0,
          4.535920000000004,
          0,
          0,
          0,
          0,
          0,
          0,
          0,
          3.175144000000003,
          0,
          0,
          0,
          0,
          -2.267959999999988,
          0,
          0,
          -2.267959999999988,
          0,
          0,
          0,
          0,
          0,
          2.267960000000002,
          9.071839999999995,
          0,
          0,
          0,
          0,
          0,
          0,
          0,
          0,
          0,
          0,
          0.9071839999999867,
          0,
          2.267959999999988,
          2.267960000000002,
          0,
          0,
          0,
          0,
          0,
          0,
          0,
          0,
          2.267960000000002,
          0,
          -2.267960000000002,
          0,
          0,
          0,
          0,
          0,
          0,
          0,
          4.535920000000004,
          0,
          0,
          0,
          0,
          0,
          0,
          0,
          0,
          0,
          0,
          0,
          0,
          0,
          0,
          9.071839999999995,
          0,
          0,
          0,
          0,
          0,
          0,
          0,
          0,
          15.875720000000001,
          0,
          -4.082328000000004,
          0,
          0,
          0,
          0,
          13.607759999999999,
          0,
          0,
          -1.3607760000000013,
          4.53591999999999,
          0,
          0,
          0,
          0,
          0,
          2.7215520000000026,
          0,
          0.45359200000000044,
          -3.175144000000003,
          0,
          -8.164656000000008,
          6.803879999999992,
          0,
          0,
          0,
          -1.3607760000000013,
          0,
          0,
          0,
          0,
          -3.175144000000003,
          0,
          -2.267959999999988,
          7.257471999999993,
          0,
          0,
          0,
          0,
          -2.267960000000002,
          0,
          0,
          0,
          0,
          0,
          0,
          9.979023999999995,
          0,
          0,
          0,
          5.8966959999999915,
          0,
          18.143680000000003,
          0,
          0,
          0,
          0,
          -0.45359199999998623,
          0,
          0,
          0,
          0,
          0,
          0,
          2.7215520000000026,
          0,
          0,
          0,
          0,
          0,
          -4.535920000000004,
          4.53591999999999,
          0,
          0,
          3.6287360000000035,
          0,
          0,
          0,
          4.535920000000004,
          -4.989512000000005,
          -0.45359200000000044,
          0,
          0,
          0,
          0,
          0,
          -0.9071840000000009,
          0,
          0.9071840000000009,
          0,
          0,
          0,
          0,
          0,
          0,
          -9.979023999999995,
          0,
          0,
          8.164656000000008,
          4.989512000000005,
          0,
          0,
          0,
          0,
          0,
          0,
          0,
          0,
          0,
          0,
          0,
          0,
          4.535920000000004,
          0,
          0,
          0,
          0,
          5.896696000000006,
          1.3607760000000013,
          3.175144000000003,
          0,
          0,
          0,
          -2.267960000000002,
          0,
          0,
          0,
          0,
          0,
          22.679599999999994,
          0,
          0,
          -3.6287360000000035,
          0,
          -4.08232799999999,
          0,
          3.6287360000000035,
          0,
          -0.45359200000000044,
          0,
          0,
          0,
          0,
          0,
          0,
          0,
          0,
          11.339799999999997,
          0,
          0,
          0,
          0,
          0,
          0,
          0,
          4.535920000000004,
          0,
          0,
          2.267960000000002,
          0,
          0,
          0,
          0,
          6.803880000000007,
          0,
          0,
          -1.3607760000000013,
          0,
          0,
          6.803879999999992,
          0,
          0,
          0,
          0,
          0,
          0,
          0,
          0,
          -6.350288000000006,
          0,
          0,
          -0.9071840000000009,
          0,
          0,
          0,
          0,
          6.350288000000006,
          0,
          0,
          0,
          0,
          0,
          0,
          0,
          0,
          0,
          0,
          0,
          0,
          -4.53591999999999,
          0,
          0,
          0,
          7.257471999999993,
          0,
          0,
          0,
          0,
          0,
          3.6287360000000035,
          0,
          0,
          0,
          0,
          0,
          1.3607760000000013,
          0,
          3.175144000000003,
          0,
          0,
          0,
          0,
          0,
          0,
          0,
          6.803880000000007,
          0,
          0,
          0,
          6.803879999999992,
          0,
          0,
          0,
          -3.175144000000003,
          0,
          0,
          0,
          0,
          11.339799999999997,
          -0.9071840000000009,
          1.3607760000000013,
          0,
          -2.267960000000002,
          0,
          0,
          0,
          -0.45359200000000044,
          0,
          0,
          2.267960000000002,
          6.803879999999992,
          0,
          0,
          0,
          0,
          0,
          0,
          0,
          0,
          0,
          5.89669600000002,
          0,
          0,
          0,
          0,
          2.267960000000002,
          0,
          0,
          0,
          0,
          0,
          0,
          0,
          -4.535920000000004,
          0,
          0,
          0,
          0,
          0,
          0,
          0,
          0,
          4.535920000000004,
          0,
          0,
          0,
          0,
          0,
          0,
          4.989512000000005,
          0,
          0,
          -2.7215520000000026,
          2.267959999999988,
          0,
          0,
          10.886207999999996,
          0,
          0,
          0,
          0,
          3.6287359999999893,
          0,
          0,
          0,
          14.968536,
          -4.535920000000004,
          2.267960000000002,
          0,
          0,
          13.607759999999999,
          0,
          0,
          4.535920000000004,
          0,
          0,
          0,
          6.803879999999992,
          0,
          0,
          0,
          0,
          0,
          0,
          0,
          0,
          -1.8143680000000018,
          0,
          0,
          0,
          0,
          0,
          0,
          0,
          0,
          0,
          4.53591999999999,
          0,
          0,
          0,
          0,
          -1.8143680000000018,
          0,
          4.53591999999999,
          -1.8143680000000018,
          0,
          6.803880000000007,
          0,
          0,
          0,
          2.267960000000002,
          0,
          0,
          0,
          0,
          0,
          1.3607760000000013,
          0,
          -9.071839999999995,
          3.6287359999999893,
          0,
          0,
          0,
          0,
          0,
          0,
          -9.52543200000001,
          0,
          4.53591999999999,
          0,
          0,
          -2.267960000000002,
          0,
          0,
          0,
          0,
          0,
          0,
          0,
          0,
          1.8143680000000018,
          0,
          4.535920000000004,
          3.6287360000000035,
          0,
          4.082328000000004,
          0,
          4.535920000000004,
          0,
          0,
          0,
          0,
          0,
          -4.535920000000004,
          0,
          2.721552000000017,
          0,
          0,
          0,
          0,
          8.618248000000008,
          0,
          0,
          4.535920000000004,
          0,
          0,
          -0.45359200000000044,
          0,
          0,
          0,
          0,
          3.175144000000003,
          0,
          0,
          6.803880000000007,
          0,
          0,
          0,
          0,
          0,
          0,
          0,
          0,
          0,
          0,
          0,
          0,
          4.535920000000004,
          0,
          0,
          0,
          0,
          -10.432616000000024,
          -1.3607760000000013,
          0,
          0,
          0,
          0,
          2.267960000000002,
          0,
          2.267960000000002,
          0,
          -1.3607760000000013,
          -2.267959999999988,
          0,
          3.6287359999999893,
          0,
          6.803880000000007,
          0,
          0,
          0,
          0,
          0,
          0,
          0,
          0,
          0,
          0,
          0,
          0,
          0,
          0,
          0,
          0,
          0,
          0,
          0,
          0,
          0,
          0,
          0,
          0,
          -2.267960000000002,
          0,
          -4.535920000000004,
          0,
          0,
          0,
          0,
          10.886207999999996,
          0,
          0,
          0,
          0,
          9.071839999999995,
          0,
          0,
          0,
          0,
          0,
          0,
          0,
          0,
          0,
          0,
          0,
          0,
          6.803880000000007,
          0,
          3.6287360000000035,
          0,
          0,
          4.08232799999999,
          0,
          0,
          0,
          4.082328000000004,
          0,
          4.082328000000004,
          1.3607760000000013,
          0,
          0,
          0,
          0,
          0,
          0,
          0.9071840000000009,
          4.535920000000004,
          0,
          0,
          0,
          4.535920000000004,
          3.6287360000000035,
          0.45359200000000044,
          0,
          0,
          0,
          0,
          0,
          0,
          4.535920000000004,
          0,
          0,
          0,
          0,
          0,
          0,
          0,
          0,
          0,
          -2.7215520000000026,
          0,
          0,
          1.3607760000000013,
          0,
          0,
          -7.7110640000000075,
          0,
          8.618247999999994,
          0,
          -3.175144000000003,
          0,
          0,
          0,
          0,
          0,
          0,
          0,
          0,
          0,
          0,
          0,
          0,
          0,
          0,
          0,
          0,
          0,
          0,
          0,
          0,
          0,
          0,
          0,
          0,
          0,
          0,
          0,
          0,
          2.267960000000002,
          0,
          6.803879999999992,
          0,
          0,
          0,
          0,
          0,
          0,
          0,
          4.535920000000004,
          4.535920000000004,
          0,
          9.071839999999995,
          0,
          0,
          0,
          0,
          4.535920000000004,
          3.175143999999989,
          0,
          0,
          0,
          3.175144000000003,
          0,
          0,
          0,
          0,
          0,
          0,
          0,
          0,
          0,
          0,
          0,
          0,
          0,
          0,
          0,
          0,
          0,
          0,
          0,
          0,
          0,
          0,
          0,
          0,
          0,
          0,
          0,
          0,
          3.6287360000000035,
          0,
          0,
          0,
          0,
          0,
          0,
          0,
          0,
          0,
          2.267960000000002,
          0,
          0,
          2.267960000000002,
          0,
          0,
          0,
          0,
          17.23649599999999,
          0,
          10.886207999999996,
          0,
          9.979023999999995,
          0,
          0,
          0,
          0,
          4.535920000000004,
          0,
          8.164655999999994,
          4.53591999999999,
          0,
          0,
          0,
          0,
          0,
          0,
          0,
          0,
          0,
          0,
          0,
          0,
          0,
          0,
          0,
          0,
          0,
          0,
          0,
          0,
          2.7215520000000026,
          0,
          0,
          0,
          0,
          0,
          0,
          0,
          0,
          0,
          1.8143680000000018,
          0,
          0,
          0,
          6.803879999999992,
          0,
          0,
          -1.8143680000000018,
          0,
          13.607759999999999,
          0,
          0,
          0,
          0,
          -2.267959999999988,
          0,
          0,
          6.803880000000007,
          0,
          0,
          0,
          0,
          0,
          0,
          0,
          0,
          0,
          0,
          0,
          0,
          0,
          0,
          0,
          0,
          0,
          -5.443104000000005,
          0,
          -2.267960000000002,
          0,
          -3.6287360000000035,
          0,
          0,
          0,
          0,
          0,
          0,
          0,
          0,
          5.443104000000005,
          0,
          0,
          0,
          0,
          0,
          0,
          0,
          0,
          0,
          0,
          0,
          0,
          0,
          0,
          0,
          0,
          0,
          0,
          0,
          0,
          0,
          0,
          0,
          0,
          0,
          0,
          0,
          0,
          0,
          4.535920000000004,
          0,
          0,
          0,
          0,
          0,
          0,
          0,
          14.968536,
          0,
          0,
          2.267959999999988,
          0,
          0,
          0,
          0,
          0,
          0,
          0,
          0,
          0,
          0,
          0,
          0,
          0,
          0,
          0,
          0,
          0,
          0,
          0,
          0,
          -2.267959999999988,
          0,
          0,
          0,
          -0.45359200000000044,
          2.2679600000000164,
          4.535920000000004,
          6.803879999999992,
          0,
          0,
          0,
          0,
          0,
          0,
          0,
          0,
          0,
          0,
          0,
          0,
          0,
          2.267960000000002,
          -3.175144000000003,
          0,
          0,
          0,
          3.6287359999999893,
          0,
          0,
          0,
          0,
          0,
          0,
          0,
          0,
          -0.9071840000000009,
          0,
          0,
          0,
          0,
          0,
          0,
          -2.267959999999988,
          1.3607760000000013,
          0,
          0,
          0,
          0.9071840000000009,
          0,
          0,
          0,
          0,
          0,
          0,
          6.803879999999992,
          0,
          0,
          0,
          0,
          0,
          0,
          7.711063999999993,
          0,
          0.9071840000000009,
          0,
          0,
          0,
          5.443104000000005,
          0,
          4.535920000000004,
          0,
          0,
          0,
          0,
          0,
          0,
          0,
          0,
          -3.6287360000000035,
          0,
          0,
          0,
          4.08232799999999,
          0,
          -0.9071840000000009,
          0,
          -1.3607760000000013,
          0,
          3.6287360000000035,
          0,
          0,
          0,
          -2.267960000000002,
          -0.45359200000001465,
          0.9071840000000009,
          0,
          0,
          0,
          0,
          0,
          2.267960000000002,
          0,
          0,
          5.8966959999999915,
          0,
          -4.535920000000004,
          0,
          0,
          0,
          0,
          0,
          0,
          0,
          0,
          0,
          0,
          0,
          -0.9071840000000009,
          0,
          0,
          0,
          0,
          0,
          2.267960000000002,
          0,
          0,
          0,
          4.53591999999999,
          0,
          0,
          0,
          5.443103999999991,
          0,
          0,
          0,
          0,
          0,
          0,
          6.803880000000007,
          0,
          -2.267960000000002,
          0,
          0,
          0,
          0,
          0,
          0,
          0,
          -0.9071840000000009,
          1.8143680000000018,
          0,
          0,
          0,
          0,
          0,
          -4.535920000000004,
          1.3607760000000013,
          0,
          0,
          13.154167999999999,
          0,
          0,
          0,
          0,
          0,
          -6.803879999999992,
          0,
          0,
          12.700575999999998,
          0,
          0,
          0,
          0,
          0,
          0,
          0,
          1.8143680000000018,
          0,
          0,
          0,
          4.535920000000004,
          0,
          0,
          0,
          0,
          0,
          0,
          0.9071840000000009,
          0,
          0,
          0,
          0,
          0,
          0,
          -2.267960000000002,
          0,
          6.803880000000007,
          0,
          0,
          0,
          0,
          0,
          2.267960000000002,
          0,
          0,
          0,
          0,
          0,
          -4.535920000000004,
          3.175143999999989,
          2.267960000000002,
          0,
          0,
          0,
          0,
          0,
          0,
          -4.082328000000004,
          0,
          0,
          -0.45359200000000044,
          0,
          0,
          0,
          0,
          0,
          0,
          0,
          0,
          0,
          0,
          6.803880000000007,
          0,
          0,
          0,
          0,
          0,
          0,
          -3.6287360000000035,
          0,
          0,
          0,
          0,
          0,
          0,
          0,
          0,
          12.700575999999998,
          0,
          9.071839999999995,
          0,
          0,
          0,
          0,
          0,
          0,
          -3.6287360000000035,
          0,
          4.082328000000004,
          0,
          0,
          0,
          0,
          0,
          2.267960000000002,
          0,
          0,
          0,
          0,
          0,
          0,
          0,
          0,
          0,
          0,
          0,
          0,
          0,
          0,
          0,
          -2.267959999999988,
          0,
          0,
          0,
          4.989511999999991,
          0,
          0,
          0,
          0,
          0,
          0,
          0,
          3.175144000000003,
          0,
          0,
          0,
          0.45359200000000044,
          0,
          0,
          0,
          0,
          0,
          0,
          11.339800000000011,
          0,
          0.45359200000000044,
          0,
          -7.257472000000007,
          0,
          0,
          0,
          0,
          0,
          4.53591999999999,
          0,
          0,
          5.443104000000005,
          0,
          1.3607760000000013,
          0,
          0,
          0,
          0,
          0,
          4.53591999999999,
          0,
          0,
          2.267960000000002,
          0,
          0,
          0,
          0,
          -1.3607760000000013,
          4.535920000000019,
          0,
          0,
          0,
          0,
          0,
          0,
          0,
          0,
          0,
          0,
          0,
          1.8143680000000018,
          0,
          0,
          0,
          0,
          0,
          0,
          0,
          0,
          0,
          0,
          0,
          0,
          0,
          0,
          0,
          0,
          0,
          11.339799999999997,
          0,
          0,
          0,
          0,
          0,
          0.9071840000000009,
          -0.9071840000000009,
          9.071839999999995,
          0,
          0,
          0,
          0,
          0,
          2.267960000000002,
          0,
          -4.53591999999999,
          0,
          -3.6287360000000035,
          0,
          0,
          -2.721551999999974,
          0,
          -6.803880000000007,
          0,
          0,
          -0.45359200000000044,
          -2.267960000000002,
          0,
          0.45359200000000044,
          0,
          0,
          2.7215519999999884,
          0,
          0,
          0,
          11.339800000000011,
          0,
          0,
          0,
          0,
          3.6287360000000035,
          0,
          0,
          0,
          -4.082328000000004,
          6.350288000000006,
          0,
          0,
          0,
          0,
          0,
          1.3607760000000013,
          0,
          0,
          0,
          0.9071840000000009,
          0.9071840000000009,
          0,
          0,
          0,
          3.175144000000003,
          0,
          0,
          0,
          0,
          0,
          0,
          0,
          0,
          0,
          0,
          6.803879999999992,
          5.443103999999991,
          0,
          0,
          0,
          -9.071840000000009,
          0,
          0,
          0,
          0,
          0,
          0,
          0,
          0,
          21.31882400000002,
          0,
          0,
          0,
          0,
          0,
          0.9071839999999867,
          0.45359200000000044,
          9.525431999999995,
          4.53591999999999,
          0,
          0,
          0,
          1.8143680000000018,
          -3.6287359999999893,
          2.267960000000002,
          0,
          0,
          0,
          4.535920000000004,
          0,
          0,
          0,
          0,
          0,
          0,
          2.267959999999988,
          0.9071840000000009,
          0,
          -3.6287360000000035,
          0,
          0,
          0,
          0,
          0,
          6.803879999999992,
          0,
          0,
          -2.267960000000002,
          0,
          0,
          4.535920000000004,
          4.53591999999999,
          15.875720000000001,
          0,
          0,
          0,
          0,
          0,
          4.53591999999999,
          8.164656000000022,
          0,
          0,
          0,
          0,
          0,
          0,
          0,
          0,
          -4.989511999999991,
          0,
          0,
          0,
          0,
          0,
          0,
          0,
          0,
          0,
          -0.45359200000000044,
          0,
          0,
          0,
          6.350288000000006,
          6.803879999999992,
          -2.7215520000000026,
          0,
          0,
          0,
          0,
          0,
          0,
          0,
          0,
          0,
          0,
          0,
          0,
          0,
          0,
          5.443104000000005,
          0,
          0,
          0,
          -2.7215520000000026,
          0,
          2.7215520000000026,
          0,
          0,
          0,
          0,
          0,
          7.7110640000000075,
          0,
          0,
          0,
          0,
          0,
          0,
          15.875719999999987,
          0,
          0,
          0,
          0,
          6.350288000000006,
          0,
          0,
          0,
          0,
          0,
          0,
          -4.082328000000004,
          0,
          0,
          0,
          0,
          2.267960000000002,
          0,
          0,
          0,
          0,
          0,
          0,
          0,
          0,
          0,
          0,
          0,
          0,
          12.700575999999998,
          2.267960000000002,
          0,
          9.071840000000009,
          0,
          0,
          -0.9071840000000009,
          0,
          0,
          0,
          0,
          0,
          0,
          0,
          0,
          0,
          0,
          0,
          0,
          0,
          0,
          0,
          0,
          0.9071840000000009,
          0,
          0,
          0,
          0,
          0,
          0,
          0,
          0,
          0,
          0,
          0,
          6.803879999999992,
          0,
          0,
          0,
          0,
          0,
          0,
          4.082328000000004,
          0,
          0,
          0,
          0,
          0,
          0,
          0,
          0,
          3.175143999999989,
          0,
          -0.45359200000000044,
          4.535920000000004,
          0,
          9.071839999999995,
          0,
          0,
          0,
          0,
          0.45359200000000044,
          3.175144000000003,
          0,
          8.618247999999994,
          2.267960000000002,
          0,
          0,
          0,
          0,
          0,
          0,
          0,
          0,
          0,
          -0.45359200000000044,
          0,
          0,
          0,
          0,
          0,
          0,
          0,
          0,
          0,
          0,
          0,
          0,
          4.53591999999999,
          0,
          2.267960000000002,
          0,
          0,
          0,
          0,
          0,
          0,
          0,
          6.803879999999992,
          0,
          0,
          7.257472000000007,
          6.803880000000007,
          0,
          0,
          -4.53591999999999,
          8.164655999999994,
          0,
          2.267960000000002,
          0,
          0,
          0,
          0,
          0,
          0,
          0,
          0,
          0,
          0,
          0,
          0.45359200000000044,
          0,
          0.45359200000000044,
          0.9071840000000009,
          0,
          0,
          4.535920000000004,
          0,
          0,
          2.267959999999988,
          0,
          -0.45359200000000044,
          0,
          2.267960000000002,
          0,
          -2.267959999999988,
          4.082328000000004,
          0,
          0,
          0,
          0,
          0.45359200000000044,
          0,
          0,
          0,
          0,
          0,
          0,
          0,
          0,
          0,
          0,
          -2.7215520000000026,
          0,
          0,
          0,
          0,
          0,
          0,
          0,
          0,
          0,
          0,
          0,
          0,
          0,
          0,
          4.535920000000004,
          5.896696000000006,
          3.6287360000000177,
          3.6287359999999893,
          0,
          0,
          -1.3607760000000013,
          0,
          0,
          0,
          0.9071840000000009,
          0,
          0,
          0,
          0,
          0,
          0,
          0,
          0,
          0,
          0,
          0,
          3.175144000000003,
          0,
          0,
          0,
          0,
          0,
          0,
          0,
          0,
          0,
          0,
          0,
          0,
          0,
          0,
          4.53591999999999,
          -2.267960000000002,
          0,
          0,
          0,
          0,
          0,
          -4.535920000000004,
          0,
          0,
          0,
          0,
          0,
          0,
          0,
          0,
          0,
          4.535920000000004,
          0,
          0,
          13.607759999999999,
          0,
          0,
          0,
          0,
          0,
          0,
          0.9071840000000009,
          0,
          0,
          0,
          0,
          9.071839999999995,
          0,
          7.711063999999993,
          0,
          0,
          0,
          0,
          0,
          0,
          0,
          0,
          -1.3607760000000013,
          0,
          0,
          0,
          0,
          0,
          0,
          0,
          0,
          0,
          0,
          0,
          0,
          0,
          0,
          0,
          0,
          0,
          2.267960000000002,
          0,
          0,
          0,
          0,
          0,
          0,
          0,
          0,
          0,
          0,
          0,
          0,
          0,
          0,
          0,
          0,
          0,
          9.071839999999995,
          0,
          0,
          0,
          0,
          0,
          0,
          0,
          1.3607760000000013,
          0,
          0,
          0,
          0,
          0,
          0,
          -1.8143679999999875,
          0.45359200000000044,
          0,
          0,
          -2.267960000000002,
          10.432615999999996,
          0,
          4.53591999999999,
          0,
          0,
          -0.45359200000000044,
          6.803880000000007,
          0,
          0,
          0,
          7.257471999999993,
          0,
          0,
          0,
          0,
          0,
          0,
          0,
          0,
          0,
          0,
          0,
          0,
          0,
          0,
          0,
          0,
          0,
          0,
          0,
          0,
          0,
          0,
          0,
          -8.164656000000008,
          0,
          0,
          2.267960000000002,
          0,
          6.803880000000007,
          0,
          0,
          0,
          2.267960000000002,
          0,
          0,
          0,
          -0.45359200000000044,
          0,
          0,
          0,
          0,
          2.267959999999988,
          0,
          -4.53591999999999,
          0,
          0,
          0,
          4.082328000000004,
          0,
          0,
          0,
          0,
          0,
          0,
          2.267960000000002,
          0,
          0,
          3.6287359999999893,
          0,
          9.071840000000009,
          0,
          3.175144000000003,
          4.53591999999999,
          0,
          0,
          0,
          0,
          0,
          0,
          0,
          0,
          4.535920000000004,
          0,
          3.175144000000003,
          0,
          0,
          0,
          0,
          0,
          0,
          0,
          0,
          0,
          0,
          0,
          0,
          7.711063999999993,
          0,
          0,
          0,
          3.6287360000000035,
          4.989512000000019,
          0,
          -4.53591999999999,
          0,
          0,
          0,
          0,
          0,
          0,
          0,
          0,
          0,
          0,
          0,
          0,
          0,
          0,
          0,
          0,
          0,
          0,
          0,
          0,
          4.535920000000004,
          11.339800000000011,
          0,
          0,
          0,
          -1.3607760000000013,
          0,
          11.793391999999997,
          0,
          8.164655999999994,
          2.7215520000000026,
          0,
          -3.175143999999989,
          0,
          0,
          0,
          0,
          -3.6287360000000035,
          0,
          6.803879999999992,
          2.267960000000002,
          0,
          0,
          0,
          0,
          0,
          0,
          2.267959999999988,
          0,
          -1.3607760000000013,
          7.7110640000000075,
          0,
          0,
          0,
          0.45359200000000044,
          -3.6287359999999893,
          0,
          0,
          0,
          0,
          5.443104000000005,
          0,
          0,
          -1.8143680000000018,
          0,
          0,
          13.607759999999999,
          5.896696000000006,
          0,
          0,
          0,
          5.896696000000006,
          0,
          0,
          0,
          0,
          0,
          -2.267960000000002,
          4.535920000000004,
          0,
          0,
          0,
          0,
          0,
          0,
          0,
          0,
          0,
          -1.8143680000000018,
          0,
          -4.989512000000005,
          0,
          0,
          0,
          0,
          0,
          0,
          2.267960000000002,
          9.071839999999995,
          0,
          2.267960000000002,
          0,
          0,
          0,
          0,
          0,
          0,
          11.339799999999997,
          0.9071840000000009,
          5.8966959999999915,
          0,
          0,
          0,
          0,
          0,
          0,
          0,
          0,
          0,
          0,
          0,
          0,
          0,
          0,
          0,
          0,
          0,
          0,
          0,
          0,
          0,
          4.535920000000004,
          0,
          0,
          0,
          2.267960000000002,
          0,
          0,
          0,
          5.443104000000005,
          3.628735999999975,
          0,
          -0.45359200000000044,
          0,
          0,
          6.350287999999992,
          -0.9071840000000009,
          0,
          0,
          3.175143999999989,
          0,
          0,
          0,
          -0.453591999999972,
          4.53591999999999,
          0,
          0,
          0,
          6.803879999999992,
          0,
          0,
          0,
          4.535920000000004,
          0,
          0,
          0,
          0,
          5.896696000000006,
          0,
          2.267960000000002,
          0,
          0,
          0,
          0,
          0,
          -1.8143680000000018,
          0,
          0,
          0,
          0,
          0,
          4.535920000000004,
          0,
          0,
          0,
          0,
          0.45359200000000044,
          0.45359200000000044,
          2.267960000000002,
          0.9071840000000009,
          7.257472000000007,
          0,
          6.803879999999992,
          0,
          0,
          0,
          0,
          -1.360775999999987,
          0,
          0,
          0,
          0,
          0,
          0,
          0,
          0,
          0,
          11.339800000000011,
          -4.989512000000005,
          0,
          7.7110640000000075,
          0,
          0,
          0,
          0,
          -7.711063999999993,
          2.267960000000002,
          0,
          4.535920000000004,
          0,
          7.257472000000007,
          0,
          0,
          0,
          -2.267960000000002,
          0,
          0,
          0,
          0,
          0,
          0,
          0,
          -2.267960000000002,
          4.535920000000004,
          0,
          0,
          3.175144000000003,
          0,
          2.267960000000002,
          0,
          0,
          0,
          0,
          0.9071840000000009,
          0,
          0,
          -0.9071840000000009,
          0,
          -1.3607760000000013,
          0,
          0,
          0,
          2.7215519999999884,
          0,
          0,
          0,
          0,
          4.989512000000005,
          0,
          0,
          0,
          0,
          0,
          0,
          0,
          0,
          0,
          6.803880000000007,
          0,
          0,
          0,
          0,
          0,
          0,
          0,
          0,
          0,
          0,
          -0.9071840000000009,
          0,
          0,
          0,
          0,
          0,
          0.9071840000000009,
          0,
          0,
          0,
          0,
          0,
          0,
          0,
          0,
          4.535920000000004,
          0,
          0,
          4.53591999999999,
          0,
          0,
          0,
          0,
          0,
          -11.339799999999997,
          0,
          0,
          0,
          0,
          -2.267960000000002,
          0,
          0,
          0,
          0,
          0,
          0,
          0,
          0,
          0,
          -8.618248000000008,
          3.6287360000000177,
          0,
          5.8966959999999915,
          -1.3607760000000013,
          -9.071840000000009,
          0,
          0,
          0,
          6.803879999999992,
          0,
          0,
          -7.257471999999993,
          0.9071840000000009,
          0,
          0,
          0,
          0,
          0,
          -1.3607760000000013,
          0,
          0,
          0,
          0,
          0,
          0,
          0,
          0,
          0,
          12.246983999999998,
          0,
          0,
          0,
          0,
          6.803879999999992,
          -5.443104000000005,
          0,
          0,
          0,
          -2.267960000000002,
          0,
          0,
          0,
          0,
          0,
          0,
          12.246983999999998,
          0,
          0,
          0,
          0,
          0,
          0,
          0,
          0,
          0,
          0,
          0,
          0,
          0,
          0,
          0,
          -1.3607760000000013,
          8.618247999999994,
          0,
          0,
          0,
          0,
          0,
          2.267960000000002,
          4.535920000000004,
          0,
          0,
          0,
          0,
          0,
          0,
          0,
          0,
          0,
          0,
          0,
          4.535920000000004,
          0,
          0,
          0,
          0,
          0.45359200000000044,
          -4.53591999999999,
          0,
          0,
          0,
          0,
          0,
          0,
          0,
          0,
          0,
          0,
          0,
          0,
          -0.9071840000000009,
          3.6287359999999893,
          0,
          2.267960000000002,
          0,
          0,
          0,
          0,
          0,
          0,
          0,
          0,
          2.267960000000002,
          0,
          0,
          0.45359200000000044,
          8.618247999999994,
          0,
          -0.45359200000000044,
          0,
          0,
          -0.9071840000000009,
          0,
          0,
          -1.360775999999987,
          0,
          0,
          0,
          6.803879999999992,
          0,
          0,
          0,
          3.175144000000003,
          0,
          0,
          0,
          6.803880000000007,
          0,
          0,
          0,
          4.53591999999999,
          0,
          0,
          4.989512000000005,
          0,
          0,
          0,
          0,
          0,
          0,
          0,
          7.7110640000000075,
          0,
          0,
          0,
          0,
          0,
          2.267960000000002,
          0,
          0,
          0,
          6.803880000000007,
          0,
          0,
          0,
          0,
          0,
          0,
          0,
          0,
          0,
          0,
          0,
          0,
          6.350287999999978,
          -19.05086399999999,
          5.443103999999991,
          0,
          0,
          0,
          0,
          0,
          0,
          9.071839999999995,
          7.7110640000000075,
          0,
          0,
          -9.071840000000009,
          0,
          -2.267960000000002,
          0,
          13.607759999999999,
          0,
          0,
          0,
          2.7215520000000026,
          0,
          0,
          0,
          0,
          2.267960000000002,
          0,
          0
         ],
         "xaxis": "x",
         "yaxis": "y"
        }
       ],
       "layout": {
        "autosize": true,
        "barmode": "relative",
        "legend": {
         "tracegroupgap": 0
        },
        "margin": {
         "t": 60
        },
        "template": {
         "data": {
          "bar": [
           {
            "error_x": {
             "color": "#2a3f5f"
            },
            "error_y": {
             "color": "#2a3f5f"
            },
            "marker": {
             "line": {
              "color": "#E5ECF6",
              "width": 0.5
             },
             "pattern": {
              "fillmode": "overlay",
              "size": 10,
              "solidity": 0.2
             }
            },
            "type": "bar"
           }
          ],
          "barpolar": [
           {
            "marker": {
             "line": {
              "color": "#E5ECF6",
              "width": 0.5
             },
             "pattern": {
              "fillmode": "overlay",
              "size": 10,
              "solidity": 0.2
             }
            },
            "type": "barpolar"
           }
          ],
          "carpet": [
           {
            "aaxis": {
             "endlinecolor": "#2a3f5f",
             "gridcolor": "white",
             "linecolor": "white",
             "minorgridcolor": "white",
             "startlinecolor": "#2a3f5f"
            },
            "baxis": {
             "endlinecolor": "#2a3f5f",
             "gridcolor": "white",
             "linecolor": "white",
             "minorgridcolor": "white",
             "startlinecolor": "#2a3f5f"
            },
            "type": "carpet"
           }
          ],
          "choropleth": [
           {
            "colorbar": {
             "outlinewidth": 0,
             "ticks": ""
            },
            "type": "choropleth"
           }
          ],
          "contour": [
           {
            "colorbar": {
             "outlinewidth": 0,
             "ticks": ""
            },
            "colorscale": [
             [
              0,
              "#0d0887"
             ],
             [
              0.1111111111111111,
              "#46039f"
             ],
             [
              0.2222222222222222,
              "#7201a8"
             ],
             [
              0.3333333333333333,
              "#9c179e"
             ],
             [
              0.4444444444444444,
              "#bd3786"
             ],
             [
              0.5555555555555556,
              "#d8576b"
             ],
             [
              0.6666666666666666,
              "#ed7953"
             ],
             [
              0.7777777777777778,
              "#fb9f3a"
             ],
             [
              0.8888888888888888,
              "#fdca26"
             ],
             [
              1,
              "#f0f921"
             ]
            ],
            "type": "contour"
           }
          ],
          "contourcarpet": [
           {
            "colorbar": {
             "outlinewidth": 0,
             "ticks": ""
            },
            "type": "contourcarpet"
           }
          ],
          "heatmap": [
           {
            "colorbar": {
             "outlinewidth": 0,
             "ticks": ""
            },
            "colorscale": [
             [
              0,
              "#0d0887"
             ],
             [
              0.1111111111111111,
              "#46039f"
             ],
             [
              0.2222222222222222,
              "#7201a8"
             ],
             [
              0.3333333333333333,
              "#9c179e"
             ],
             [
              0.4444444444444444,
              "#bd3786"
             ],
             [
              0.5555555555555556,
              "#d8576b"
             ],
             [
              0.6666666666666666,
              "#ed7953"
             ],
             [
              0.7777777777777778,
              "#fb9f3a"
             ],
             [
              0.8888888888888888,
              "#fdca26"
             ],
             [
              1,
              "#f0f921"
             ]
            ],
            "type": "heatmap"
           }
          ],
          "heatmapgl": [
           {
            "colorbar": {
             "outlinewidth": 0,
             "ticks": ""
            },
            "colorscale": [
             [
              0,
              "#0d0887"
             ],
             [
              0.1111111111111111,
              "#46039f"
             ],
             [
              0.2222222222222222,
              "#7201a8"
             ],
             [
              0.3333333333333333,
              "#9c179e"
             ],
             [
              0.4444444444444444,
              "#bd3786"
             ],
             [
              0.5555555555555556,
              "#d8576b"
             ],
             [
              0.6666666666666666,
              "#ed7953"
             ],
             [
              0.7777777777777778,
              "#fb9f3a"
             ],
             [
              0.8888888888888888,
              "#fdca26"
             ],
             [
              1,
              "#f0f921"
             ]
            ],
            "type": "heatmapgl"
           }
          ],
          "histogram": [
           {
            "marker": {
             "pattern": {
              "fillmode": "overlay",
              "size": 10,
              "solidity": 0.2
             }
            },
            "type": "histogram"
           }
          ],
          "histogram2d": [
           {
            "colorbar": {
             "outlinewidth": 0,
             "ticks": ""
            },
            "colorscale": [
             [
              0,
              "#0d0887"
             ],
             [
              0.1111111111111111,
              "#46039f"
             ],
             [
              0.2222222222222222,
              "#7201a8"
             ],
             [
              0.3333333333333333,
              "#9c179e"
             ],
             [
              0.4444444444444444,
              "#bd3786"
             ],
             [
              0.5555555555555556,
              "#d8576b"
             ],
             [
              0.6666666666666666,
              "#ed7953"
             ],
             [
              0.7777777777777778,
              "#fb9f3a"
             ],
             [
              0.8888888888888888,
              "#fdca26"
             ],
             [
              1,
              "#f0f921"
             ]
            ],
            "type": "histogram2d"
           }
          ],
          "histogram2dcontour": [
           {
            "colorbar": {
             "outlinewidth": 0,
             "ticks": ""
            },
            "colorscale": [
             [
              0,
              "#0d0887"
             ],
             [
              0.1111111111111111,
              "#46039f"
             ],
             [
              0.2222222222222222,
              "#7201a8"
             ],
             [
              0.3333333333333333,
              "#9c179e"
             ],
             [
              0.4444444444444444,
              "#bd3786"
             ],
             [
              0.5555555555555556,
              "#d8576b"
             ],
             [
              0.6666666666666666,
              "#ed7953"
             ],
             [
              0.7777777777777778,
              "#fb9f3a"
             ],
             [
              0.8888888888888888,
              "#fdca26"
             ],
             [
              1,
              "#f0f921"
             ]
            ],
            "type": "histogram2dcontour"
           }
          ],
          "mesh3d": [
           {
            "colorbar": {
             "outlinewidth": 0,
             "ticks": ""
            },
            "type": "mesh3d"
           }
          ],
          "parcoords": [
           {
            "line": {
             "colorbar": {
              "outlinewidth": 0,
              "ticks": ""
             }
            },
            "type": "parcoords"
           }
          ],
          "pie": [
           {
            "automargin": true,
            "type": "pie"
           }
          ],
          "scatter": [
           {
            "fillpattern": {
             "fillmode": "overlay",
             "size": 10,
             "solidity": 0.2
            },
            "type": "scatter"
           }
          ],
          "scatter3d": [
           {
            "line": {
             "colorbar": {
              "outlinewidth": 0,
              "ticks": ""
             }
            },
            "marker": {
             "colorbar": {
              "outlinewidth": 0,
              "ticks": ""
             }
            },
            "type": "scatter3d"
           }
          ],
          "scattercarpet": [
           {
            "marker": {
             "colorbar": {
              "outlinewidth": 0,
              "ticks": ""
             }
            },
            "type": "scattercarpet"
           }
          ],
          "scattergeo": [
           {
            "marker": {
             "colorbar": {
              "outlinewidth": 0,
              "ticks": ""
             }
            },
            "type": "scattergeo"
           }
          ],
          "scattergl": [
           {
            "marker": {
             "colorbar": {
              "outlinewidth": 0,
              "ticks": ""
             }
            },
            "type": "scattergl"
           }
          ],
          "scattermapbox": [
           {
            "marker": {
             "colorbar": {
              "outlinewidth": 0,
              "ticks": ""
             }
            },
            "type": "scattermapbox"
           }
          ],
          "scatterpolar": [
           {
            "marker": {
             "colorbar": {
              "outlinewidth": 0,
              "ticks": ""
             }
            },
            "type": "scatterpolar"
           }
          ],
          "scatterpolargl": [
           {
            "marker": {
             "colorbar": {
              "outlinewidth": 0,
              "ticks": ""
             }
            },
            "type": "scatterpolargl"
           }
          ],
          "scatterternary": [
           {
            "marker": {
             "colorbar": {
              "outlinewidth": 0,
              "ticks": ""
             }
            },
            "type": "scatterternary"
           }
          ],
          "surface": [
           {
            "colorbar": {
             "outlinewidth": 0,
             "ticks": ""
            },
            "colorscale": [
             [
              0,
              "#0d0887"
             ],
             [
              0.1111111111111111,
              "#46039f"
             ],
             [
              0.2222222222222222,
              "#7201a8"
             ],
             [
              0.3333333333333333,
              "#9c179e"
             ],
             [
              0.4444444444444444,
              "#bd3786"
             ],
             [
              0.5555555555555556,
              "#d8576b"
             ],
             [
              0.6666666666666666,
              "#ed7953"
             ],
             [
              0.7777777777777778,
              "#fb9f3a"
             ],
             [
              0.8888888888888888,
              "#fdca26"
             ],
             [
              1,
              "#f0f921"
             ]
            ],
            "type": "surface"
           }
          ],
          "table": [
           {
            "cells": {
             "fill": {
              "color": "#EBF0F8"
             },
             "line": {
              "color": "white"
             }
            },
            "header": {
             "fill": {
              "color": "#C8D4E3"
             },
             "line": {
              "color": "white"
             }
            },
            "type": "table"
           }
          ]
         },
         "layout": {
          "annotationdefaults": {
           "arrowcolor": "#2a3f5f",
           "arrowhead": 0,
           "arrowwidth": 1
          },
          "autotypenumbers": "strict",
          "coloraxis": {
           "colorbar": {
            "outlinewidth": 0,
            "ticks": ""
           }
          },
          "colorscale": {
           "diverging": [
            [
             0,
             "#8e0152"
            ],
            [
             0.1,
             "#c51b7d"
            ],
            [
             0.2,
             "#de77ae"
            ],
            [
             0.3,
             "#f1b6da"
            ],
            [
             0.4,
             "#fde0ef"
            ],
            [
             0.5,
             "#f7f7f7"
            ],
            [
             0.6,
             "#e6f5d0"
            ],
            [
             0.7,
             "#b8e186"
            ],
            [
             0.8,
             "#7fbc41"
            ],
            [
             0.9,
             "#4d9221"
            ],
            [
             1,
             "#276419"
            ]
           ],
           "sequential": [
            [
             0,
             "#0d0887"
            ],
            [
             0.1111111111111111,
             "#46039f"
            ],
            [
             0.2222222222222222,
             "#7201a8"
            ],
            [
             0.3333333333333333,
             "#9c179e"
            ],
            [
             0.4444444444444444,
             "#bd3786"
            ],
            [
             0.5555555555555556,
             "#d8576b"
            ],
            [
             0.6666666666666666,
             "#ed7953"
            ],
            [
             0.7777777777777778,
             "#fb9f3a"
            ],
            [
             0.8888888888888888,
             "#fdca26"
            ],
            [
             1,
             "#f0f921"
            ]
           ],
           "sequentialminus": [
            [
             0,
             "#0d0887"
            ],
            [
             0.1111111111111111,
             "#46039f"
            ],
            [
             0.2222222222222222,
             "#7201a8"
            ],
            [
             0.3333333333333333,
             "#9c179e"
            ],
            [
             0.4444444444444444,
             "#bd3786"
            ],
            [
             0.5555555555555556,
             "#d8576b"
            ],
            [
             0.6666666666666666,
             "#ed7953"
            ],
            [
             0.7777777777777778,
             "#fb9f3a"
            ],
            [
             0.8888888888888888,
             "#fdca26"
            ],
            [
             1,
             "#f0f921"
            ]
           ]
          },
          "colorway": [
           "#636efa",
           "#EF553B",
           "#00cc96",
           "#ab63fa",
           "#FFA15A",
           "#19d3f3",
           "#FF6692",
           "#B6E880",
           "#FF97FF",
           "#FECB52"
          ],
          "font": {
           "color": "#2a3f5f"
          },
          "geo": {
           "bgcolor": "white",
           "lakecolor": "white",
           "landcolor": "#E5ECF6",
           "showlakes": true,
           "showland": true,
           "subunitcolor": "white"
          },
          "hoverlabel": {
           "align": "left"
          },
          "hovermode": "closest",
          "mapbox": {
           "style": "light"
          },
          "paper_bgcolor": "white",
          "plot_bgcolor": "#E5ECF6",
          "polar": {
           "angularaxis": {
            "gridcolor": "white",
            "linecolor": "white",
            "ticks": ""
           },
           "bgcolor": "#E5ECF6",
           "radialaxis": {
            "gridcolor": "white",
            "linecolor": "white",
            "ticks": ""
           }
          },
          "scene": {
           "xaxis": {
            "backgroundcolor": "#E5ECF6",
            "gridcolor": "white",
            "gridwidth": 2,
            "linecolor": "white",
            "showbackground": true,
            "ticks": "",
            "zerolinecolor": "white"
           },
           "yaxis": {
            "backgroundcolor": "#E5ECF6",
            "gridcolor": "white",
            "gridwidth": 2,
            "linecolor": "white",
            "showbackground": true,
            "ticks": "",
            "zerolinecolor": "white"
           },
           "zaxis": {
            "backgroundcolor": "#E5ECF6",
            "gridcolor": "white",
            "gridwidth": 2,
            "linecolor": "white",
            "showbackground": true,
            "ticks": "",
            "zerolinecolor": "white"
           }
          },
          "shapedefaults": {
           "line": {
            "color": "#2a3f5f"
           }
          },
          "ternary": {
           "aaxis": {
            "gridcolor": "white",
            "linecolor": "white",
            "ticks": ""
           },
           "baxis": {
            "gridcolor": "white",
            "linecolor": "white",
            "ticks": ""
           },
           "bgcolor": "#E5ECF6",
           "caxis": {
            "gridcolor": "white",
            "linecolor": "white",
            "ticks": ""
           }
          },
          "title": {
           "x": 0.05
          },
          "xaxis": {
           "automargin": true,
           "gridcolor": "white",
           "linecolor": "white",
           "ticks": "",
           "title": {
            "standoff": 15
           },
           "zerolinecolor": "white",
           "zerolinewidth": 2
          },
          "yaxis": {
           "automargin": true,
           "gridcolor": "white",
           "linecolor": "white",
           "ticks": "",
           "title": {
            "standoff": 15
           },
           "zerolinecolor": "white",
           "zerolinewidth": 2
          }
         }
        },
        "xaxis": {
         "anchor": "y",
         "autorange": true,
         "domain": [
          0,
          1
         ],
         "range": [
          -19.25,
          22.75
         ],
         "title": {
          "text": "weight_difference"
         },
         "type": "linear"
        },
        "yaxis": {
         "anchor": "x",
         "domain": [
          0,
          1
         ],
         "range": [
          0,
          50
         ],
         "title": {
          "text": "count"
         }
        }
       }
      },
      "image/png": "[encoded data removed]",
      "text/html": [
       "<div>                            <div id=\"c236fd24-a8bb-4922-aea2-5c22ef507b70\" class=\"plotly-graph-div\" style=\"height:525px; width:100%;\"></div>            <script type=\"text/javascript\">                require([\"plotly\"], function(Plotly) {                    window.PLOTLYENV=window.PLOTLYENV || {};                                    if (document.getElementById(\"c236fd24-a8bb-4922-aea2-5c22ef507b70\")) {                    Plotly.newPlot(                        \"c236fd24-a8bb-4922-aea2-5c22ef507b70\",                        [{\"alignmentgroup\":\"True\",\"bingroup\":\"x\",\"hovertemplate\":\"weight_difference=%{x}\\u003cbr\\u003ecount=%{y}\\u003cextra\\u003e\\u003c\\u002fextra\\u003e\",\"legendgroup\":\"\",\"marker\":{\"color\":\"#636efa\",\"pattern\":{\"shape\":\"\"}},\"name\":\"\",\"offsetgroup\":\"\",\"orientation\":\"v\",\"showlegend\":false,\"x\":[0.0,0.0,0.0,0.0,0.0,0.0,0.0,6.350287999999992,0.0,6.803880000000007,0.0,0.0,0.0,0.0,0.0,0.0,0.0,0.0,0.0,0.0,0.0,0.0,3.175144000000003,0.0,0.0,0.0,0.0,0.0,0.0,9.071840000000009,0.0,0.0,-3.6287359999999893,0.0,0.0,0.0,6.803879999999992,-2.267959999999988,6.803879999999992,6.803880000000007,2.267960000000002,0.0,0.0,0.0,0.0,5.443103999999991,0.0,0.0,0.0,0.0,2.267960000000002,9.071840000000009,0.0,0.0,0.0,0.0,0.0,0.0,-2.267960000000002,0.0,0.0,0.0,-4.535920000000004,0.0,12.700575999999998,0.0,0.0,0.0,0.0,0.9071839999999867,0.0,0.0,0.0,0.0,0.0,0.0,2.267960000000002,0.0,0.0,0.0,4.535920000000004,0.0,0.0,0.0,0.0,0.0,13.607759999999999,13.607759999999999,0.0,11.339799999999997,0.0,0.0,0.0,4.08232799999999,0.0,3.6287359999999893,0.0,-1.3607760000000013,0.0,0.0,-2.267960000000002,0.0,0.0,0.0,6.803880000000007,4.535920000000004,0.0,0.0,0.0,0.0,0.0,0.0,0.0,0.0,-0.9071840000000009,4.53591999999999,0.0,0.0,0.0,-1.8143679999999875,0.0,0.0,5.443104000000005,0.0,0.0,-10.886207999999996,0.0,6.350287999999992,0.0,14.968536,0.0,0.0,0.0,0.0,2.267960000000002,0.0,0.0,0.0,0.0,-2.267959999999988,0.0,6.803879999999992,0.0,0.0,0.0,0.0,9.525431999999995,2.267959999999988,0.0,0.0,0.0,4.535920000000004,0.0,0.0,0.0,0.0,0.0,0.0,0.0,3.175144000000003,0.0,0.0,0.0,0.0,-2.267959999999988,0.0,0.0,-2.267959999999988,0.0,0.0,0.0,0.0,0.0,2.267960000000002,9.071839999999995,0.0,0.0,0.0,0.0,0.0,0.0,0.0,0.0,0.0,0.0,0.9071839999999867,0.0,2.267959999999988,2.267960000000002,0.0,0.0,0.0,0.0,0.0,0.0,0.0,0.0,2.267960000000002,0.0,-2.267960000000002,0.0,0.0,0.0,0.0,0.0,0.0,0.0,4.535920000000004,0.0,0.0,0.0,0.0,0.0,0.0,0.0,0.0,0.0,0.0,0.0,0.0,0.0,0.0,9.071839999999995,0.0,0.0,0.0,0.0,0.0,0.0,0.0,0.0,15.875720000000001,0.0,-4.082328000000004,0.0,0.0,0.0,0.0,13.607759999999999,0.0,0.0,-1.3607760000000013,4.53591999999999,0.0,0.0,0.0,0.0,0.0,2.7215520000000026,0.0,0.45359200000000044,-3.175144000000003,0.0,-8.164656000000008,6.803879999999992,0.0,0.0,0.0,-1.3607760000000013,0.0,0.0,0.0,0.0,-3.175144000000003,0.0,-2.267959999999988,7.257471999999993,0.0,0.0,0.0,0.0,-2.267960000000002,0.0,0.0,0.0,0.0,0.0,0.0,9.979023999999995,0.0,0.0,0.0,5.8966959999999915,0.0,18.143680000000003,0.0,0.0,0.0,0.0,-0.45359199999998623,0.0,0.0,0.0,0.0,0.0,0.0,2.7215520000000026,0.0,0.0,0.0,0.0,0.0,-4.535920000000004,4.53591999999999,0.0,0.0,3.6287360000000035,0.0,0.0,0.0,4.535920000000004,-4.989512000000005,-0.45359200000000044,0.0,0.0,0.0,0.0,0.0,-0.9071840000000009,0.0,0.9071840000000009,0.0,0.0,0.0,0.0,0.0,0.0,-9.979023999999995,0.0,0.0,8.164656000000008,4.989512000000005,0.0,0.0,0.0,0.0,0.0,0.0,0.0,0.0,0.0,0.0,0.0,0.0,4.535920000000004,0.0,0.0,0.0,0.0,5.896696000000006,1.3607760000000013,3.175144000000003,0.0,0.0,0.0,-2.267960000000002,0.0,0.0,0.0,0.0,0.0,22.679599999999994,0.0,0.0,-3.6287360000000035,0.0,-4.08232799999999,0.0,3.6287360000000035,0.0,-0.45359200000000044,0.0,0.0,0.0,0.0,0.0,0.0,0.0,0.0,11.339799999999997,0.0,0.0,0.0,0.0,0.0,0.0,0.0,4.535920000000004,0.0,0.0,2.267960000000002,0.0,0.0,0.0,0.0,6.803880000000007,0.0,0.0,-1.3607760000000013,0.0,0.0,6.803879999999992,0.0,0.0,0.0,0.0,0.0,0.0,0.0,0.0,-6.350288000000006,0.0,0.0,-0.9071840000000009,0.0,0.0,0.0,0.0,6.350288000000006,0.0,0.0,0.0,0.0,0.0,0.0,0.0,0.0,0.0,0.0,0.0,0.0,-4.53591999999999,0.0,0.0,0.0,7.257471999999993,0.0,0.0,0.0,0.0,0.0,3.6287360000000035,0.0,0.0,0.0,0.0,0.0,1.3607760000000013,0.0,3.175144000000003,0.0,0.0,0.0,0.0,0.0,0.0,0.0,6.803880000000007,0.0,0.0,0.0,6.803879999999992,0.0,0.0,0.0,-3.175144000000003,0.0,0.0,0.0,0.0,11.339799999999997,-0.9071840000000009,1.3607760000000013,0.0,-2.267960000000002,0.0,0.0,0.0,-0.45359200000000044,0.0,0.0,2.267960000000002,6.803879999999992,0.0,0.0,0.0,0.0,0.0,0.0,0.0,0.0,0.0,5.89669600000002,0.0,0.0,0.0,0.0,2.267960000000002,0.0,0.0,0.0,0.0,0.0,0.0,0.0,-4.535920000000004,0.0,0.0,0.0,0.0,0.0,0.0,0.0,0.0,4.535920000000004,0.0,0.0,0.0,0.0,0.0,0.0,4.989512000000005,0.0,0.0,-2.7215520000000026,2.267959999999988,0.0,0.0,10.886207999999996,0.0,0.0,0.0,0.0,3.6287359999999893,0.0,0.0,0.0,14.968536,-4.535920000000004,2.267960000000002,0.0,0.0,13.607759999999999,0.0,0.0,4.535920000000004,0.0,0.0,0.0,6.803879999999992,0.0,0.0,0.0,0.0,0.0,0.0,0.0,0.0,-1.8143680000000018,0.0,0.0,0.0,0.0,0.0,0.0,0.0,0.0,0.0,4.53591999999999,0.0,0.0,0.0,0.0,-1.8143680000000018,0.0,4.53591999999999,-1.8143680000000018,0.0,6.803880000000007,0.0,0.0,0.0,2.267960000000002,0.0,0.0,0.0,0.0,0.0,1.3607760000000013,0.0,-9.071839999999995,3.6287359999999893,0.0,0.0,0.0,0.0,0.0,0.0,-9.52543200000001,0.0,4.53591999999999,0.0,0.0,-2.267960000000002,0.0,0.0,0.0,0.0,0.0,0.0,0.0,0.0,1.8143680000000018,0.0,4.535920000000004,3.6287360000000035,0.0,4.082328000000004,0.0,4.535920000000004,0.0,0.0,0.0,0.0,0.0,-4.535920000000004,0.0,2.721552000000017,0.0,0.0,0.0,0.0,8.618248000000008,0.0,0.0,4.535920000000004,0.0,0.0,-0.45359200000000044,0.0,0.0,0.0,0.0,3.175144000000003,0.0,0.0,6.803880000000007,0.0,0.0,0.0,0.0,0.0,0.0,0.0,0.0,0.0,0.0,0.0,0.0,4.535920000000004,0.0,0.0,0.0,0.0,-10.432616000000024,-1.3607760000000013,0.0,0.0,0.0,0.0,2.267960000000002,0.0,2.267960000000002,0.0,-1.3607760000000013,-2.267959999999988,0.0,3.6287359999999893,0.0,6.803880000000007,0.0,0.0,0.0,0.0,0.0,0.0,0.0,0.0,0.0,0.0,0.0,0.0,0.0,0.0,0.0,0.0,0.0,0.0,0.0,0.0,0.0,0.0,0.0,0.0,-2.267960000000002,0.0,-4.535920000000004,0.0,0.0,0.0,0.0,10.886207999999996,0.0,0.0,0.0,0.0,9.071839999999995,0.0,0.0,0.0,0.0,0.0,0.0,0.0,0.0,0.0,0.0,0.0,0.0,6.803880000000007,0.0,3.6287360000000035,0.0,0.0,4.08232799999999,0.0,0.0,0.0,4.082328000000004,0.0,4.082328000000004,1.3607760000000013,0.0,0.0,0.0,0.0,0.0,0.0,0.9071840000000009,4.535920000000004,0.0,0.0,0.0,4.535920000000004,3.6287360000000035,0.45359200000000044,0.0,0.0,0.0,0.0,0.0,0.0,4.535920000000004,0.0,0.0,0.0,0.0,0.0,0.0,0.0,0.0,0.0,-2.7215520000000026,0.0,0.0,1.3607760000000013,0.0,0.0,-7.7110640000000075,0.0,8.618247999999994,0.0,-3.175144000000003,0.0,0.0,0.0,0.0,0.0,0.0,0.0,0.0,0.0,0.0,0.0,0.0,0.0,0.0,0.0,0.0,0.0,0.0,0.0,0.0,0.0,0.0,0.0,0.0,0.0,0.0,0.0,0.0,2.267960000000002,0.0,6.803879999999992,0.0,0.0,0.0,0.0,0.0,0.0,0.0,4.535920000000004,4.535920000000004,0.0,9.071839999999995,0.0,0.0,0.0,0.0,4.535920000000004,3.175143999999989,0.0,0.0,0.0,3.175144000000003,0.0,0.0,0.0,0.0,0.0,0.0,0.0,0.0,0.0,0.0,0.0,0.0,0.0,0.0,0.0,0.0,0.0,0.0,0.0,0.0,0.0,0.0,0.0,0.0,0.0,0.0,0.0,0.0,3.6287360000000035,0.0,0.0,0.0,0.0,0.0,0.0,0.0,0.0,0.0,2.267960000000002,0.0,0.0,2.267960000000002,0.0,0.0,0.0,0.0,17.23649599999999,0.0,10.886207999999996,0.0,9.979023999999995,0.0,0.0,0.0,0.0,4.535920000000004,0.0,8.164655999999994,4.53591999999999,0.0,0.0,0.0,0.0,0.0,0.0,0.0,0.0,0.0,0.0,0.0,0.0,0.0,0.0,0.0,0.0,0.0,0.0,0.0,0.0,2.7215520000000026,0.0,0.0,0.0,0.0,0.0,0.0,0.0,0.0,0.0,1.8143680000000018,0.0,0.0,0.0,6.803879999999992,0.0,0.0,-1.8143680000000018,0.0,13.607759999999999,0.0,0.0,0.0,0.0,-2.267959999999988,0.0,0.0,6.803880000000007,0.0,0.0,0.0,0.0,0.0,0.0,0.0,0.0,0.0,0.0,0.0,0.0,0.0,0.0,0.0,0.0,0.0,-5.443104000000005,0.0,-2.267960000000002,0.0,-3.6287360000000035,0.0,0.0,0.0,0.0,0.0,0.0,0.0,0.0,5.443104000000005,0.0,0.0,0.0,0.0,0.0,0.0,0.0,0.0,0.0,0.0,0.0,0.0,0.0,0.0,0.0,0.0,0.0,0.0,0.0,0.0,0.0,0.0,0.0,0.0,0.0,0.0,0.0,0.0,0.0,4.535920000000004,0.0,0.0,0.0,0.0,0.0,0.0,0.0,14.968536,0.0,0.0,2.267959999999988,0.0,0.0,0.0,0.0,0.0,0.0,0.0,0.0,0.0,0.0,0.0,0.0,0.0,0.0,0.0,0.0,0.0,0.0,0.0,0.0,-2.267959999999988,0.0,0.0,0.0,-0.45359200000000044,2.2679600000000164,4.535920000000004,6.803879999999992,0.0,0.0,0.0,0.0,0.0,0.0,0.0,0.0,0.0,0.0,0.0,0.0,0.0,2.267960000000002,-3.175144000000003,0.0,0.0,0.0,3.6287359999999893,0.0,0.0,0.0,0.0,0.0,0.0,0.0,0.0,-0.9071840000000009,0.0,0.0,0.0,0.0,0.0,0.0,-2.267959999999988,1.3607760000000013,0.0,0.0,0.0,0.9071840000000009,0.0,0.0,0.0,0.0,0.0,0.0,6.803879999999992,0.0,0.0,0.0,0.0,0.0,0.0,7.711063999999993,0.0,0.9071840000000009,0.0,0.0,0.0,5.443104000000005,0.0,4.535920000000004,0.0,0.0,0.0,0.0,0.0,0.0,0.0,0.0,-3.6287360000000035,0.0,0.0,0.0,4.08232799999999,0.0,-0.9071840000000009,0.0,-1.3607760000000013,0.0,3.6287360000000035,0.0,0.0,0.0,-2.267960000000002,-0.45359200000001465,0.9071840000000009,0.0,0.0,0.0,0.0,0.0,2.267960000000002,0.0,0.0,5.8966959999999915,0.0,-4.535920000000004,0.0,0.0,0.0,0.0,0.0,0.0,0.0,0.0,0.0,0.0,0.0,-0.9071840000000009,0.0,0.0,0.0,0.0,0.0,2.267960000000002,0.0,0.0,0.0,4.53591999999999,0.0,0.0,0.0,5.443103999999991,0.0,0.0,0.0,0.0,0.0,0.0,6.803880000000007,0.0,-2.267960000000002,0.0,0.0,0.0,0.0,0.0,0.0,0.0,-0.9071840000000009,1.8143680000000018,0.0,0.0,0.0,0.0,0.0,-4.535920000000004,1.3607760000000013,0.0,0.0,13.154167999999999,0.0,0.0,0.0,0.0,0.0,-6.803879999999992,0.0,0.0,12.700575999999998,0.0,0.0,0.0,0.0,0.0,0.0,0.0,1.8143680000000018,0.0,0.0,0.0,4.535920000000004,0.0,0.0,0.0,0.0,0.0,0.0,0.9071840000000009,0.0,0.0,0.0,0.0,0.0,0.0,-2.267960000000002,0.0,6.803880000000007,0.0,0.0,0.0,0.0,0.0,2.267960000000002,0.0,0.0,0.0,0.0,0.0,-4.535920000000004,3.175143999999989,2.267960000000002,0.0,0.0,0.0,0.0,0.0,0.0,-4.082328000000004,0.0,0.0,-0.45359200000000044,0.0,0.0,0.0,0.0,0.0,0.0,0.0,0.0,0.0,0.0,6.803880000000007,0.0,0.0,0.0,0.0,0.0,0.0,-3.6287360000000035,0.0,0.0,0.0,0.0,0.0,0.0,0.0,0.0,12.700575999999998,0.0,9.071839999999995,0.0,0.0,0.0,0.0,0.0,0.0,-3.6287360000000035,0.0,4.082328000000004,0.0,0.0,0.0,0.0,0.0,2.267960000000002,0.0,0.0,0.0,0.0,0.0,0.0,0.0,0.0,0.0,0.0,0.0,0.0,0.0,0.0,0.0,-2.267959999999988,0.0,0.0,0.0,4.989511999999991,0.0,0.0,0.0,0.0,0.0,0.0,0.0,3.175144000000003,0.0,0.0,0.0,0.45359200000000044,0.0,0.0,0.0,0.0,0.0,0.0,11.339800000000011,0.0,0.45359200000000044,0.0,-7.257472000000007,0.0,0.0,0.0,0.0,0.0,4.53591999999999,0.0,0.0,5.443104000000005,0.0,1.3607760000000013,0.0,0.0,0.0,0.0,0.0,4.53591999999999,0.0,0.0,2.267960000000002,0.0,0.0,0.0,0.0,-1.3607760000000013,4.535920000000019,0.0,0.0,0.0,0.0,0.0,0.0,0.0,0.0,0.0,0.0,0.0,1.8143680000000018,0.0,0.0,0.0,0.0,0.0,0.0,0.0,0.0,0.0,0.0,0.0,0.0,0.0,0.0,0.0,0.0,0.0,11.339799999999997,0.0,0.0,0.0,0.0,0.0,0.9071840000000009,-0.9071840000000009,9.071839999999995,0.0,0.0,0.0,0.0,0.0,2.267960000000002,0.0,-4.53591999999999,0.0,-3.6287360000000035,0.0,0.0,-2.721551999999974,0.0,-6.803880000000007,0.0,0.0,-0.45359200000000044,-2.267960000000002,0.0,0.45359200000000044,0.0,0.0,2.7215519999999884,0.0,0.0,0.0,11.339800000000011,0.0,0.0,0.0,0.0,3.6287360000000035,0.0,0.0,0.0,-4.082328000000004,6.350288000000006,0.0,0.0,0.0,0.0,0.0,1.3607760000000013,0.0,0.0,0.0,0.9071840000000009,0.9071840000000009,0.0,0.0,0.0,3.175144000000003,0.0,0.0,0.0,0.0,0.0,0.0,0.0,0.0,0.0,0.0,6.803879999999992,5.443103999999991,0.0,0.0,0.0,-9.071840000000009,0.0,0.0,0.0,0.0,0.0,0.0,0.0,0.0,21.31882400000002,0.0,0.0,0.0,0.0,0.0,0.9071839999999867,0.45359200000000044,9.525431999999995,4.53591999999999,0.0,0.0,0.0,1.8143680000000018,-3.6287359999999893,2.267960000000002,0.0,0.0,0.0,4.535920000000004,0.0,0.0,0.0,0.0,0.0,0.0,2.267959999999988,0.9071840000000009,0.0,-3.6287360000000035,0.0,0.0,0.0,0.0,0.0,6.803879999999992,0.0,0.0,-2.267960000000002,0.0,0.0,4.535920000000004,4.53591999999999,15.875720000000001,0.0,0.0,0.0,0.0,0.0,4.53591999999999,8.164656000000022,0.0,0.0,0.0,0.0,0.0,0.0,0.0,0.0,-4.989511999999991,0.0,0.0,0.0,0.0,0.0,0.0,0.0,0.0,0.0,-0.45359200000000044,0.0,0.0,0.0,6.350288000000006,6.803879999999992,-2.7215520000000026,0.0,0.0,0.0,0.0,0.0,0.0,0.0,0.0,0.0,0.0,0.0,0.0,0.0,0.0,5.443104000000005,0.0,0.0,0.0,-2.7215520000000026,0.0,2.7215520000000026,0.0,0.0,0.0,0.0,0.0,7.7110640000000075,0.0,0.0,0.0,0.0,0.0,0.0,15.875719999999987,0.0,0.0,0.0,0.0,6.350288000000006,0.0,0.0,0.0,0.0,0.0,0.0,-4.082328000000004,0.0,0.0,0.0,0.0,2.267960000000002,0.0,0.0,0.0,0.0,0.0,0.0,0.0,0.0,0.0,0.0,0.0,0.0,12.700575999999998,2.267960000000002,0.0,9.071840000000009,0.0,0.0,-0.9071840000000009,0.0,0.0,0.0,0.0,0.0,0.0,0.0,0.0,0.0,0.0,0.0,0.0,0.0,0.0,0.0,0.0,0.9071840000000009,0.0,0.0,0.0,0.0,0.0,0.0,0.0,0.0,0.0,0.0,0.0,6.803879999999992,0.0,0.0,0.0,0.0,0.0,0.0,4.082328000000004,0.0,0.0,0.0,0.0,0.0,0.0,0.0,0.0,3.175143999999989,0.0,-0.45359200000000044,4.535920000000004,0.0,9.071839999999995,0.0,0.0,0.0,0.0,0.45359200000000044,3.175144000000003,0.0,8.618247999999994,2.267960000000002,0.0,0.0,0.0,0.0,0.0,0.0,0.0,0.0,0.0,-0.45359200000000044,0.0,0.0,0.0,0.0,0.0,0.0,0.0,0.0,0.0,0.0,0.0,0.0,4.53591999999999,0.0,2.267960000000002,0.0,0.0,0.0,0.0,0.0,0.0,0.0,6.803879999999992,0.0,0.0,7.257472000000007,6.803880000000007,0.0,0.0,-4.53591999999999,8.164655999999994,0.0,2.267960000000002,0.0,0.0,0.0,0.0,0.0,0.0,0.0,0.0,0.0,0.0,0.0,0.45359200000000044,0.0,0.45359200000000044,0.9071840000000009,0.0,0.0,4.535920000000004,0.0,0.0,2.267959999999988,0.0,-0.45359200000000044,0.0,2.267960000000002,0.0,-2.267959999999988,4.082328000000004,0.0,0.0,0.0,0.0,0.45359200000000044,0.0,0.0,0.0,0.0,0.0,0.0,0.0,0.0,0.0,0.0,-2.7215520000000026,0.0,0.0,0.0,0.0,0.0,0.0,0.0,0.0,0.0,0.0,0.0,0.0,0.0,0.0,4.535920000000004,5.896696000000006,3.6287360000000177,3.6287359999999893,0.0,0.0,-1.3607760000000013,0.0,0.0,0.0,0.9071840000000009,0.0,0.0,0.0,0.0,0.0,0.0,0.0,0.0,0.0,0.0,0.0,3.175144000000003,0.0,0.0,0.0,0.0,0.0,0.0,0.0,0.0,0.0,0.0,0.0,0.0,0.0,0.0,4.53591999999999,-2.267960000000002,0.0,0.0,0.0,0.0,0.0,-4.535920000000004,0.0,0.0,0.0,0.0,0.0,0.0,0.0,0.0,0.0,4.535920000000004,0.0,0.0,13.607759999999999,0.0,0.0,0.0,0.0,0.0,0.0,0.9071840000000009,0.0,0.0,0.0,0.0,9.071839999999995,0.0,7.711063999999993,0.0,0.0,0.0,0.0,0.0,0.0,0.0,0.0,-1.3607760000000013,0.0,0.0,0.0,0.0,0.0,0.0,0.0,0.0,0.0,0.0,0.0,0.0,0.0,0.0,0.0,0.0,0.0,2.267960000000002,0.0,0.0,0.0,0.0,0.0,0.0,0.0,0.0,0.0,0.0,0.0,0.0,0.0,0.0,0.0,0.0,0.0,9.071839999999995,0.0,0.0,0.0,0.0,0.0,0.0,0.0,1.3607760000000013,0.0,0.0,0.0,0.0,0.0,0.0,-1.8143679999999875,0.45359200000000044,0.0,0.0,-2.267960000000002,10.432615999999996,0.0,4.53591999999999,0.0,0.0,-0.45359200000000044,6.803880000000007,0.0,0.0,0.0,7.257471999999993,0.0,0.0,0.0,0.0,0.0,0.0,0.0,0.0,0.0,0.0,0.0,0.0,0.0,0.0,0.0,0.0,0.0,0.0,0.0,0.0,0.0,0.0,0.0,-8.164656000000008,0.0,0.0,2.267960000000002,0.0,6.803880000000007,0.0,0.0,0.0,2.267960000000002,0.0,0.0,0.0,-0.45359200000000044,0.0,0.0,0.0,0.0,2.267959999999988,0.0,-4.53591999999999,0.0,0.0,0.0,4.082328000000004,0.0,0.0,0.0,0.0,0.0,0.0,2.267960000000002,0.0,0.0,3.6287359999999893,0.0,9.071840000000009,0.0,3.175144000000003,4.53591999999999,0.0,0.0,0.0,0.0,0.0,0.0,0.0,0.0,4.535920000000004,0.0,3.175144000000003,0.0,0.0,0.0,0.0,0.0,0.0,0.0,0.0,0.0,0.0,0.0,0.0,7.711063999999993,0.0,0.0,0.0,3.6287360000000035,4.989512000000019,0.0,-4.53591999999999,0.0,0.0,0.0,0.0,0.0,0.0,0.0,0.0,0.0,0.0,0.0,0.0,0.0,0.0,0.0,0.0,0.0,0.0,0.0,0.0,4.535920000000004,11.339800000000011,0.0,0.0,0.0,-1.3607760000000013,0.0,11.793391999999997,0.0,8.164655999999994,2.7215520000000026,0.0,-3.175143999999989,0.0,0.0,0.0,0.0,-3.6287360000000035,0.0,6.803879999999992,2.267960000000002,0.0,0.0,0.0,0.0,0.0,0.0,2.267959999999988,0.0,-1.3607760000000013,7.7110640000000075,0.0,0.0,0.0,0.45359200000000044,-3.6287359999999893,0.0,0.0,0.0,0.0,5.443104000000005,0.0,0.0,-1.8143680000000018,0.0,0.0,13.607759999999999,5.896696000000006,0.0,0.0,0.0,5.896696000000006,0.0,0.0,0.0,0.0,0.0,-2.267960000000002,4.535920000000004,0.0,0.0,0.0,0.0,0.0,0.0,0.0,0.0,0.0,-1.8143680000000018,0.0,-4.989512000000005,0.0,0.0,0.0,0.0,0.0,0.0,2.267960000000002,9.071839999999995,0.0,2.267960000000002,0.0,0.0,0.0,0.0,0.0,0.0,11.339799999999997,0.9071840000000009,5.8966959999999915,0.0,0.0,0.0,0.0,0.0,0.0,0.0,0.0,0.0,0.0,0.0,0.0,0.0,0.0,0.0,0.0,0.0,0.0,0.0,0.0,0.0,4.535920000000004,0.0,0.0,0.0,2.267960000000002,0.0,0.0,0.0,5.443104000000005,3.628735999999975,0.0,-0.45359200000000044,0.0,0.0,6.350287999999992,-0.9071840000000009,0.0,0.0,3.175143999999989,0.0,0.0,0.0,-0.453591999999972,4.53591999999999,0.0,0.0,0.0,6.803879999999992,0.0,0.0,0.0,4.535920000000004,0.0,0.0,0.0,0.0,5.896696000000006,0.0,2.267960000000002,0.0,0.0,0.0,0.0,0.0,-1.8143680000000018,0.0,0.0,0.0,0.0,0.0,4.535920000000004,0.0,0.0,0.0,0.0,0.45359200000000044,0.45359200000000044,2.267960000000002,0.9071840000000009,7.257472000000007,0.0,6.803879999999992,0.0,0.0,0.0,0.0,-1.360775999999987,0.0,0.0,0.0,0.0,0.0,0.0,0.0,0.0,0.0,11.339800000000011,-4.989512000000005,0.0,7.7110640000000075,0.0,0.0,0.0,0.0,-7.711063999999993,2.267960000000002,0.0,4.535920000000004,0.0,7.257472000000007,0.0,0.0,0.0,-2.267960000000002,0.0,0.0,0.0,0.0,0.0,0.0,0.0,-2.267960000000002,4.535920000000004,0.0,0.0,3.175144000000003,0.0,2.267960000000002,0.0,0.0,0.0,0.0,0.9071840000000009,0.0,0.0,-0.9071840000000009,0.0,-1.3607760000000013,0.0,0.0,0.0,2.7215519999999884,0.0,0.0,0.0,0.0,4.989512000000005,0.0,0.0,0.0,0.0,0.0,0.0,0.0,0.0,0.0,6.803880000000007,0.0,0.0,0.0,0.0,0.0,0.0,0.0,0.0,0.0,0.0,-0.9071840000000009,0.0,0.0,0.0,0.0,0.0,0.9071840000000009,0.0,0.0,0.0,0.0,0.0,0.0,0.0,0.0,4.535920000000004,0.0,0.0,4.53591999999999,0.0,0.0,0.0,0.0,0.0,-11.339799999999997,0.0,0.0,0.0,0.0,-2.267960000000002,0.0,0.0,0.0,0.0,0.0,0.0,0.0,0.0,0.0,-8.618248000000008,3.6287360000000177,0.0,5.8966959999999915,-1.3607760000000013,-9.071840000000009,0.0,0.0,0.0,6.803879999999992,0.0,0.0,-7.257471999999993,0.9071840000000009,0.0,0.0,0.0,0.0,0.0,-1.3607760000000013,0.0,0.0,0.0,0.0,0.0,0.0,0.0,0.0,0.0,12.246983999999998,0.0,0.0,0.0,0.0,6.803879999999992,-5.443104000000005,0.0,0.0,0.0,-2.267960000000002,0.0,0.0,0.0,0.0,0.0,0.0,12.246983999999998,0.0,0.0,0.0,0.0,0.0,0.0,0.0,0.0,0.0,0.0,0.0,0.0,0.0,0.0,0.0,-1.3607760000000013,8.618247999999994,0.0,0.0,0.0,0.0,0.0,2.267960000000002,4.535920000000004,0.0,0.0,0.0,0.0,0.0,0.0,0.0,0.0,0.0,0.0,0.0,4.535920000000004,0.0,0.0,0.0,0.0,0.45359200000000044,-4.53591999999999,0.0,0.0,0.0,0.0,0.0,0.0,0.0,0.0,0.0,0.0,0.0,0.0,-0.9071840000000009,3.6287359999999893,0.0,2.267960000000002,0.0,0.0,0.0,0.0,0.0,0.0,0.0,0.0,2.267960000000002,0.0,0.0,0.45359200000000044,8.618247999999994,0.0,-0.45359200000000044,0.0,0.0,-0.9071840000000009,0.0,0.0,-1.360775999999987,0.0,0.0,0.0,6.803879999999992,0.0,0.0,0.0,3.175144000000003,0.0,0.0,0.0,6.803880000000007,0.0,0.0,0.0,4.53591999999999,0.0,0.0,4.989512000000005,0.0,0.0,0.0,0.0,0.0,0.0,0.0,7.7110640000000075,0.0,0.0,0.0,0.0,0.0,2.267960000000002,0.0,0.0,0.0,6.803880000000007,0.0,0.0,0.0,0.0,0.0,0.0,0.0,0.0,0.0,0.0,0.0,0.0,6.350287999999978,-19.05086399999999,5.443103999999991,0.0,0.0,0.0,0.0,0.0,0.0,9.071839999999995,7.7110640000000075,0.0,0.0,-9.071840000000009,0.0,-2.267960000000002,0.0,13.607759999999999,0.0,0.0,0.0,2.7215520000000026,0.0,0.0,0.0,0.0,2.267960000000002,0.0,0.0],\"xaxis\":\"x\",\"yaxis\":\"y\",\"type\":\"histogram\"}],                        {\"template\":{\"data\":{\"histogram2dcontour\":[{\"type\":\"histogram2dcontour\",\"colorbar\":{\"outlinewidth\":0,\"ticks\":\"\"},\"colorscale\":[[0.0,\"#0d0887\"],[0.1111111111111111,\"#46039f\"],[0.2222222222222222,\"#7201a8\"],[0.3333333333333333,\"#9c179e\"],[0.4444444444444444,\"#bd3786\"],[0.5555555555555556,\"#d8576b\"],[0.6666666666666666,\"#ed7953\"],[0.7777777777777778,\"#fb9f3a\"],[0.8888888888888888,\"#fdca26\"],[1.0,\"#f0f921\"]]}],\"choropleth\":[{\"type\":\"choropleth\",\"colorbar\":{\"outlinewidth\":0,\"ticks\":\"\"}}],\"histogram2d\":[{\"type\":\"histogram2d\",\"colorbar\":{\"outlinewidth\":0,\"ticks\":\"\"},\"colorscale\":[[0.0,\"#0d0887\"],[0.1111111111111111,\"#46039f\"],[0.2222222222222222,\"#7201a8\"],[0.3333333333333333,\"#9c179e\"],[0.4444444444444444,\"#bd3786\"],[0.5555555555555556,\"#d8576b\"],[0.6666666666666666,\"#ed7953\"],[0.7777777777777778,\"#fb9f3a\"],[0.8888888888888888,\"#fdca26\"],[1.0,\"#f0f921\"]]}],\"heatmap\":[{\"type\":\"heatmap\",\"colorbar\":{\"outlinewidth\":0,\"ticks\":\"\"},\"colorscale\":[[0.0,\"#0d0887\"],[0.1111111111111111,\"#46039f\"],[0.2222222222222222,\"#7201a8\"],[0.3333333333333333,\"#9c179e\"],[0.4444444444444444,\"#bd3786\"],[0.5555555555555556,\"#d8576b\"],[0.6666666666666666,\"#ed7953\"],[0.7777777777777778,\"#fb9f3a\"],[0.8888888888888888,\"#fdca26\"],[1.0,\"#f0f921\"]]}],\"heatmapgl\":[{\"type\":\"heatmapgl\",\"colorbar\":{\"outlinewidth\":0,\"ticks\":\"\"},\"colorscale\":[[0.0,\"#0d0887\"],[0.1111111111111111,\"#46039f\"],[0.2222222222222222,\"#7201a8\"],[0.3333333333333333,\"#9c179e\"],[0.4444444444444444,\"#bd3786\"],[0.5555555555555556,\"#d8576b\"],[0.6666666666666666,\"#ed7953\"],[0.7777777777777778,\"#fb9f3a\"],[0.8888888888888888,\"#fdca26\"],[1.0,\"#f0f921\"]]}],\"contourcarpet\":[{\"type\":\"contourcarpet\",\"colorbar\":{\"outlinewidth\":0,\"ticks\":\"\"}}],\"contour\":[{\"type\":\"contour\",\"colorbar\":{\"outlinewidth\":0,\"ticks\":\"\"},\"colorscale\":[[0.0,\"#0d0887\"],[0.1111111111111111,\"#46039f\"],[0.2222222222222222,\"#7201a8\"],[0.3333333333333333,\"#9c179e\"],[0.4444444444444444,\"#bd3786\"],[0.5555555555555556,\"#d8576b\"],[0.6666666666666666,\"#ed7953\"],[0.7777777777777778,\"#fb9f3a\"],[0.8888888888888888,\"#fdca26\"],[1.0,\"#f0f921\"]]}],\"surface\":[{\"type\":\"surface\",\"colorbar\":{\"outlinewidth\":0,\"ticks\":\"\"},\"colorscale\":[[0.0,\"#0d0887\"],[0.1111111111111111,\"#46039f\"],[0.2222222222222222,\"#7201a8\"],[0.3333333333333333,\"#9c179e\"],[0.4444444444444444,\"#bd3786\"],[0.5555555555555556,\"#d8576b\"],[0.6666666666666666,\"#ed7953\"],[0.7777777777777778,\"#fb9f3a\"],[0.8888888888888888,\"#fdca26\"],[1.0,\"#f0f921\"]]}],\"mesh3d\":[{\"type\":\"mesh3d\",\"colorbar\":{\"outlinewidth\":0,\"ticks\":\"\"}}],\"scatter\":[{\"fillpattern\":{\"fillmode\":\"overlay\",\"size\":10,\"solidity\":0.2},\"type\":\"scatter\"}],\"parcoords\":[{\"type\":\"parcoords\",\"line\":{\"colorbar\":{\"outlinewidth\":0,\"ticks\":\"\"}}}],\"scatterpolargl\":[{\"type\":\"scatterpolargl\",\"marker\":{\"colorbar\":{\"outlinewidth\":0,\"ticks\":\"\"}}}],\"bar\":[{\"error_x\":{\"color\":\"#2a3f5f\"},\"error_y\":{\"color\":\"#2a3f5f\"},\"marker\":{\"line\":{\"color\":\"#E5ECF6\",\"width\":0.5},\"pattern\":{\"fillmode\":\"overlay\",\"size\":10,\"solidity\":0.2}},\"type\":\"bar\"}],\"scattergeo\":[{\"type\":\"scattergeo\",\"marker\":{\"colorbar\":{\"outlinewidth\":0,\"ticks\":\"\"}}}],\"scatterpolar\":[{\"type\":\"scatterpolar\",\"marker\":{\"colorbar\":{\"outlinewidth\":0,\"ticks\":\"\"}}}],\"histogram\":[{\"marker\":{\"pattern\":{\"fillmode\":\"overlay\",\"size\":10,\"solidity\":0.2}},\"type\":\"histogram\"}],\"scattergl\":[{\"type\":\"scattergl\",\"marker\":{\"colorbar\":{\"outlinewidth\":0,\"ticks\":\"\"}}}],\"scatter3d\":[{\"type\":\"scatter3d\",\"line\":{\"colorbar\":{\"outlinewidth\":0,\"ticks\":\"\"}},\"marker\":{\"colorbar\":{\"outlinewidth\":0,\"ticks\":\"\"}}}],\"scattermapbox\":[{\"type\":\"scattermapbox\",\"marker\":{\"colorbar\":{\"outlinewidth\":0,\"ticks\":\"\"}}}],\"scatterternary\":[{\"type\":\"scatterternary\",\"marker\":{\"colorbar\":{\"outlinewidth\":0,\"ticks\":\"\"}}}],\"scattercarpet\":[{\"type\":\"scattercarpet\",\"marker\":{\"colorbar\":{\"outlinewidth\":0,\"ticks\":\"\"}}}],\"carpet\":[{\"aaxis\":{\"endlinecolor\":\"#2a3f5f\",\"gridcolor\":\"white\",\"linecolor\":\"white\",\"minorgridcolor\":\"white\",\"startlinecolor\":\"#2a3f5f\"},\"baxis\":{\"endlinecolor\":\"#2a3f5f\",\"gridcolor\":\"white\",\"linecolor\":\"white\",\"minorgridcolor\":\"white\",\"startlinecolor\":\"#2a3f5f\"},\"type\":\"carpet\"}],\"table\":[{\"cells\":{\"fill\":{\"color\":\"#EBF0F8\"},\"line\":{\"color\":\"white\"}},\"header\":{\"fill\":{\"color\":\"#C8D4E3\"},\"line\":{\"color\":\"white\"}},\"type\":\"table\"}],\"barpolar\":[{\"marker\":{\"line\":{\"color\":\"#E5ECF6\",\"width\":0.5},\"pattern\":{\"fillmode\":\"overlay\",\"size\":10,\"solidity\":0.2}},\"type\":\"barpolar\"}],\"pie\":[{\"automargin\":true,\"type\":\"pie\"}]},\"layout\":{\"autotypenumbers\":\"strict\",\"colorway\":[\"#636efa\",\"#EF553B\",\"#00cc96\",\"#ab63fa\",\"#FFA15A\",\"#19d3f3\",\"#FF6692\",\"#B6E880\",\"#FF97FF\",\"#FECB52\"],\"font\":{\"color\":\"#2a3f5f\"},\"hovermode\":\"closest\",\"hoverlabel\":{\"align\":\"left\"},\"paper_bgcolor\":\"white\",\"plot_bgcolor\":\"#E5ECF6\",\"polar\":{\"bgcolor\":\"#E5ECF6\",\"angularaxis\":{\"gridcolor\":\"white\",\"linecolor\":\"white\",\"ticks\":\"\"},\"radialaxis\":{\"gridcolor\":\"white\",\"linecolor\":\"white\",\"ticks\":\"\"}},\"ternary\":{\"bgcolor\":\"#E5ECF6\",\"aaxis\":{\"gridcolor\":\"white\",\"linecolor\":\"white\",\"ticks\":\"\"},\"baxis\":{\"gridcolor\":\"white\",\"linecolor\":\"white\",\"ticks\":\"\"},\"caxis\":{\"gridcolor\":\"white\",\"linecolor\":\"white\",\"ticks\":\"\"}},\"coloraxis\":{\"colorbar\":{\"outlinewidth\":0,\"ticks\":\"\"}},\"colorscale\":{\"sequential\":[[0.0,\"#0d0887\"],[0.1111111111111111,\"#46039f\"],[0.2222222222222222,\"#7201a8\"],[0.3333333333333333,\"#9c179e\"],[0.4444444444444444,\"#bd3786\"],[0.5555555555555556,\"#d8576b\"],[0.6666666666666666,\"#ed7953\"],[0.7777777777777778,\"#fb9f3a\"],[0.8888888888888888,\"#fdca26\"],[1.0,\"#f0f921\"]],\"sequentialminus\":[[0.0,\"#0d0887\"],[0.1111111111111111,\"#46039f\"],[0.2222222222222222,\"#7201a8\"],[0.3333333333333333,\"#9c179e\"],[0.4444444444444444,\"#bd3786\"],[0.5555555555555556,\"#d8576b\"],[0.6666666666666666,\"#ed7953\"],[0.7777777777777778,\"#fb9f3a\"],[0.8888888888888888,\"#fdca26\"],[1.0,\"#f0f921\"]],\"diverging\":[[0,\"#8e0152\"],[0.1,\"#c51b7d\"],[0.2,\"#de77ae\"],[0.3,\"#f1b6da\"],[0.4,\"#fde0ef\"],[0.5,\"#f7f7f7\"],[0.6,\"#e6f5d0\"],[0.7,\"#b8e186\"],[0.8,\"#7fbc41\"],[0.9,\"#4d9221\"],[1,\"#276419\"]]},\"xaxis\":{\"gridcolor\":\"white\",\"linecolor\":\"white\",\"ticks\":\"\",\"title\":{\"standoff\":15},\"zerolinecolor\":\"white\",\"automargin\":true,\"zerolinewidth\":2},\"yaxis\":{\"gridcolor\":\"white\",\"linecolor\":\"white\",\"ticks\":\"\",\"title\":{\"standoff\":15},\"zerolinecolor\":\"white\",\"automargin\":true,\"zerolinewidth\":2},\"scene\":{\"xaxis\":{\"backgroundcolor\":\"#E5ECF6\",\"gridcolor\":\"white\",\"linecolor\":\"white\",\"showbackground\":true,\"ticks\":\"\",\"zerolinecolor\":\"white\",\"gridwidth\":2},\"yaxis\":{\"backgroundcolor\":\"#E5ECF6\",\"gridcolor\":\"white\",\"linecolor\":\"white\",\"showbackground\":true,\"ticks\":\"\",\"zerolinecolor\":\"white\",\"gridwidth\":2},\"zaxis\":{\"backgroundcolor\":\"#E5ECF6\",\"gridcolor\":\"white\",\"linecolor\":\"white\",\"showbackground\":true,\"ticks\":\"\",\"zerolinecolor\":\"white\",\"gridwidth\":2}},\"shapedefaults\":{\"line\":{\"color\":\"#2a3f5f\"}},\"annotationdefaults\":{\"arrowcolor\":\"#2a3f5f\",\"arrowhead\":0,\"arrowwidth\":1},\"geo\":{\"bgcolor\":\"white\",\"landcolor\":\"#E5ECF6\",\"subunitcolor\":\"white\",\"showland\":true,\"showlakes\":true,\"lakecolor\":\"white\"},\"title\":{\"x\":0.05},\"mapbox\":{\"style\":\"light\"}}},\"xaxis\":{\"anchor\":\"y\",\"domain\":[0.0,1.0],\"title\":{\"text\":\"weight_difference\"}},\"yaxis\":{\"anchor\":\"x\",\"domain\":[0.0,1.0],\"title\":{\"text\":\"count\"},\"range\":[0,50]},\"legend\":{\"tracegroupgap\":0},\"margin\":{\"t\":60},\"barmode\":\"relative\"},                        {\"responsive\": true}                    ).then(function(){\n",
       "                            \n",
       "var gd = document.getElementById('c236fd24-a8bb-4922-aea2-5c22ef507b70');\n",
       "var x = new MutationObserver(function (mutations, observer) {{\n",
       "        var display = window.getComputedStyle(gd).display;\n",
       "        if (!display || display === 'none') {{\n",
       "            console.log([gd, 'removed!']);\n",
       "            Plotly.purge(gd);\n",
       "            observer.disconnect();\n",
       "        }}\n",
       "}});\n",
       "\n",
       "// Listen for the removal of the full notebook cells\n",
       "var notebookContainer = gd.closest('#notebook-container');\n",
       "if (notebookContainer) {{\n",
       "    x.observe(notebookContainer, {childList: true});\n",
       "}}\n",
       "\n",
       "// Listen for the clearing of the current output cell\n",
       "var outputEl = gd.closest('.output');\n",
       "if (outputEl) {{\n",
       "    x.observe(outputEl, {childList: true});\n",
       "}}\n",
       "\n",
       "                        })                };                });            </script>        </div>"
      ]
     },
     "metadata": {},
     "output_type": "display_data"
    }
   ],
   "source": [
    "diff = df.groupby('player_name').apply(lambda x: x.loc[x['yearsInLeague'] == x['yearsInLeague'].max(), 'player_weight'].values[0] -\n",
    "        x.loc[x['yearsInLeague'] == 0, 'player_weight'].values[0]\n",
    "        if not x.loc[x['yearsInLeague'] == 0, 'player_weight'].empty and not x.loc[x['yearsInLeague'] == x['yearsInLeague'].max(), 'player_weight'].empty\n",
    "        else 0  # Default value if either condition fails\n",
    "    ).reset_index(name='weight_difference')\n",
    "# diff.sort_values(, ascending = False)\n",
    "diff.sort_values('weight_difference', ascending = False)\n",
    "\n",
    "fig = px.histogram(data_frame=diff, x='weight_difference'\n",
    "        )\n",
    "fig.update_layout(yaxis = dict(range = [0,50]))\n"
   ]
  },
  {
   "cell_type": "code",
   "execution_count": null,
   "id": "e608fb58-e39d-447d-bd75-ee976761e220",
   "metadata": {},
   "outputs": [],
   "source": []
  }
 ],
 "metadata": {
  "kernelspec": {
   "display_name": "Python 3 (ipykernel)",
   "language": "python",
   "name": "python3"
  },
  "language_info": {
   "codemirror_mode": {
    "name": "ipython",
    "version": 3
   },
   "file_extension": ".py",
   "mimetype": "text/x-python",
   "name": "python",
   "nbconvert_exporter": "python",
   "pygments_lexer": "ipython3",
   "version": "3.12.6"
  }
 },
 "nbformat": 4,
 "nbformat_minor": 5
}
